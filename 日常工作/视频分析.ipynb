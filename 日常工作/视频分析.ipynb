{
 "cells": [
  {
   "cell_type": "code",
   "execution_count": 1,
   "id": "21d8cd05",
   "metadata": {},
   "outputs": [],
   "source": [
    "import pandas as pd "
   ]
  },
  {
   "cell_type": "code",
   "execution_count": 2,
   "id": "bb352597",
   "metadata": {},
   "outputs": [],
   "source": [
    "import numpy as np"
   ]
  },
  {
   "cell_type": "code",
   "execution_count": 23,
   "id": "2fd1e805",
   "metadata": {},
   "outputs": [],
   "source": [
    "import matplotlib.pyplot as plt"
   ]
  },
  {
   "cell_type": "code",
   "execution_count": 4,
   "id": "3e8cfd64",
   "metadata": {},
   "outputs": [],
   "source": [
    "road = 'D:\\垃圾桶二号\\\\7月模板日下载.csv'"
   ]
  },
  {
   "cell_type": "code",
   "execution_count": 7,
   "id": "986f5600",
   "metadata": {},
   "outputs": [],
   "source": [
    "df = pd.read_csv(road,encoding='GBK')"
   ]
  },
  {
   "cell_type": "code",
   "execution_count": 18,
   "id": "79429a98",
   "metadata": {},
   "outputs": [],
   "source": [
    "df.fillna('未知',inplace=True)"
   ]
  },
  {
   "cell_type": "code",
   "execution_count": 20,
   "id": "0a33f37b",
   "metadata": {},
   "outputs": [],
   "source": [
    "df_video = df[df.一级分类.str.contains('视频')]"
   ]
  },
  {
   "cell_type": "code",
   "execution_count": 21,
   "id": "f50a8114",
   "metadata": {},
   "outputs": [
    {
     "data": {
      "text/html": [
       "<div>\n",
       "<style scoped>\n",
       "    .dataframe tbody tr th:only-of-type {\n",
       "        vertical-align: middle;\n",
       "    }\n",
       "\n",
       "    .dataframe tbody tr th {\n",
       "        vertical-align: top;\n",
       "    }\n",
       "\n",
       "    .dataframe thead th {\n",
       "        text-align: right;\n",
       "    }\n",
       "</style>\n",
       "<table border=\"1\" class=\"dataframe\">\n",
       "  <thead>\n",
       "    <tr style=\"text-align: right;\">\n",
       "      <th></th>\n",
       "      <th>日期</th>\n",
       "      <th>素材ID</th>\n",
       "      <th>素材标题</th>\n",
       "      <th>兼职ID</th>\n",
       "      <th>兼职昵称</th>\n",
       "      <th>原图id</th>\n",
       "      <th>原图作者</th>\n",
       "      <th>一级分类</th>\n",
       "      <th>二级分类</th>\n",
       "      <th>3D</th>\n",
       "      <th>编辑人数</th>\n",
       "      <th>编辑次数</th>\n",
       "      <th>下载人数</th>\n",
       "      <th>下载次数</th>\n",
       "    </tr>\n",
       "  </thead>\n",
       "  <tbody>\n",
       "    <tr>\n",
       "      <th>28</th>\n",
       "      <td>2022/7/1</td>\n",
       "      <td>706251</td>\n",
       "      <td>卡通流体汇聚小球LOGO片头视频模板</td>\n",
       "      <td>125512</td>\n",
       "      <td>●—●</td>\n",
       "      <td>27047946.0</td>\n",
       "      <td>1812817.0</td>\n",
       "      <td>视频模板</td>\n",
       "      <td>企业宣传</td>\n",
       "      <td>否</td>\n",
       "      <td>2</td>\n",
       "      <td>2</td>\n",
       "      <td>1</td>\n",
       "      <td>1</td>\n",
       "    </tr>\n",
       "    <tr>\n",
       "      <th>36</th>\n",
       "      <td>2022/7/1</td>\n",
       "      <td>684145</td>\n",
       "      <td>MG卡通趣味创意简约321倒计时</td>\n",
       "      <td>1908813</td>\n",
       "      <td>H</td>\n",
       "      <td>27054603.0</td>\n",
       "      <td>2866955.0</td>\n",
       "      <td>视频模板</td>\n",
       "      <td>倒计时</td>\n",
       "      <td>否</td>\n",
       "      <td>1</td>\n",
       "      <td>1</td>\n",
       "      <td>0</td>\n",
       "      <td>0</td>\n",
       "    </tr>\n",
       "    <tr>\n",
       "      <th>37</th>\n",
       "      <td>2022/7/1</td>\n",
       "      <td>706047</td>\n",
       "      <td>网页搜索框效果企业LOGO演绎AE模板</td>\n",
       "      <td>196</td>\n",
       "      <td>未知</td>\n",
       "      <td>27056317.0</td>\n",
       "      <td>2866955.0</td>\n",
       "      <td>视频模板</td>\n",
       "      <td>企业宣传</td>\n",
       "      <td>否</td>\n",
       "      <td>1</td>\n",
       "      <td>3</td>\n",
       "      <td>0</td>\n",
       "      <td>0</td>\n",
       "    </tr>\n",
       "    <tr>\n",
       "      <th>38</th>\n",
       "      <td>2022/7/1</td>\n",
       "      <td>619750</td>\n",
       "      <td>卡通流体MG动画简约LOGO片头</td>\n",
       "      <td>1574414</td>\n",
       "      <td>HANGza_</td>\n",
       "      <td>27040552.0</td>\n",
       "      <td>1812817.0</td>\n",
       "      <td>视频模板</td>\n",
       "      <td>企业宣传</td>\n",
       "      <td>否</td>\n",
       "      <td>1</td>\n",
       "      <td>1</td>\n",
       "      <td>0</td>\n",
       "      <td>0</td>\n",
       "    </tr>\n",
       "    <tr>\n",
       "      <th>47</th>\n",
       "      <td>2022/7/1</td>\n",
       "      <td>729410</td>\n",
       "      <td>横版孟菲斯风格引导关注视频</td>\n",
       "      <td>19857</td>\n",
       "      <td>一抹小机灵</td>\n",
       "      <td>未知</td>\n",
       "      <td>未知</td>\n",
       "      <td>视频模板</td>\n",
       "      <td>片头片尾</td>\n",
       "      <td>否</td>\n",
       "      <td>1</td>\n",
       "      <td>1</td>\n",
       "      <td>1</td>\n",
       "      <td>1</td>\n",
       "    </tr>\n",
       "  </tbody>\n",
       "</table>\n",
       "</div>"
      ],
      "text/plain": [
       "          日期    素材ID                 素材标题     兼职ID     兼职昵称        原图id  \\\n",
       "28  2022/7/1  706251   卡通流体汇聚小球LOGO片头视频模板   125512      ●—●  27047946.0   \n",
       "36  2022/7/1  684145     MG卡通趣味创意简约321倒计时  1908813        H  27054603.0   \n",
       "37  2022/7/1  706047  网页搜索框效果企业LOGO演绎AE模板      196       未知  27056317.0   \n",
       "38  2022/7/1  619750     卡通流体MG动画简约LOGO片头  1574414  HANGza_  27040552.0   \n",
       "47  2022/7/1  729410        横版孟菲斯风格引导关注视频    19857    一抹小机灵          未知   \n",
       "\n",
       "         原图作者  一级分类  二级分类 3D  编辑人数  编辑次数  下载人数  下载次数  \n",
       "28  1812817.0  视频模板  企业宣传  否     2     2     1     1  \n",
       "36  2866955.0  视频模板   倒计时  否     1     1     0     0  \n",
       "37  2866955.0  视频模板  企业宣传  否     1     3     0     0  \n",
       "38  1812817.0  视频模板  企业宣传  否     1     1     0     0  \n",
       "47         未知  视频模板  片头片尾  否     1     1     1     1  "
      ]
     },
     "execution_count": 21,
     "metadata": {},
     "output_type": "execute_result"
    }
   ],
   "source": [
    "df_video.head()"
   ]
  },
  {
   "cell_type": "code",
   "execution_count": 22,
   "id": "f1907754",
   "metadata": {},
   "outputs": [
    {
     "data": {
      "text/html": [
       "<div>\n",
       "<style scoped>\n",
       "    .dataframe tbody tr th:only-of-type {\n",
       "        vertical-align: middle;\n",
       "    }\n",
       "\n",
       "    .dataframe tbody tr th {\n",
       "        vertical-align: top;\n",
       "    }\n",
       "\n",
       "    .dataframe thead th {\n",
       "        text-align: right;\n",
       "    }\n",
       "</style>\n",
       "<table border=\"1\" class=\"dataframe\">\n",
       "  <thead>\n",
       "    <tr style=\"text-align: right;\">\n",
       "      <th></th>\n",
       "      <th>素材ID</th>\n",
       "      <th>兼职ID</th>\n",
       "      <th>编辑人数</th>\n",
       "      <th>编辑次数</th>\n",
       "      <th>下载人数</th>\n",
       "      <th>下载次数</th>\n",
       "    </tr>\n",
       "  </thead>\n",
       "  <tbody>\n",
       "    <tr>\n",
       "      <th>count</th>\n",
       "      <td>6015.000000</td>\n",
       "      <td>6.015000e+03</td>\n",
       "      <td>6015.000000</td>\n",
       "      <td>6015.000000</td>\n",
       "      <td>6015.000000</td>\n",
       "      <td>6015.000000</td>\n",
       "    </tr>\n",
       "    <tr>\n",
       "      <th>mean</th>\n",
       "      <td>710524.641064</td>\n",
       "      <td>5.371817e+05</td>\n",
       "      <td>1.272818</td>\n",
       "      <td>1.469493</td>\n",
       "      <td>0.204489</td>\n",
       "      <td>0.344805</td>\n",
       "    </tr>\n",
       "    <tr>\n",
       "      <th>std</th>\n",
       "      <td>65173.801882</td>\n",
       "      <td>6.923680e+05</td>\n",
       "      <td>0.864373</td>\n",
       "      <td>1.281740</td>\n",
       "      <td>0.446037</td>\n",
       "      <td>1.077545</td>\n",
       "    </tr>\n",
       "    <tr>\n",
       "      <th>min</th>\n",
       "      <td>608872.000000</td>\n",
       "      <td>2.000000e+01</td>\n",
       "      <td>1.000000</td>\n",
       "      <td>1.000000</td>\n",
       "      <td>0.000000</td>\n",
       "      <td>0.000000</td>\n",
       "    </tr>\n",
       "    <tr>\n",
       "      <th>25%</th>\n",
       "      <td>653542.000000</td>\n",
       "      <td>1.985700e+04</td>\n",
       "      <td>1.000000</td>\n",
       "      <td>1.000000</td>\n",
       "      <td>0.000000</td>\n",
       "      <td>0.000000</td>\n",
       "    </tr>\n",
       "    <tr>\n",
       "      <th>50%</th>\n",
       "      <td>702863.000000</td>\n",
       "      <td>1.255120e+05</td>\n",
       "      <td>1.000000</td>\n",
       "      <td>1.000000</td>\n",
       "      <td>0.000000</td>\n",
       "      <td>0.000000</td>\n",
       "    </tr>\n",
       "    <tr>\n",
       "      <th>75%</th>\n",
       "      <td>787849.500000</td>\n",
       "      <td>1.220520e+06</td>\n",
       "      <td>1.000000</td>\n",
       "      <td>1.000000</td>\n",
       "      <td>0.000000</td>\n",
       "      <td>0.000000</td>\n",
       "    </tr>\n",
       "    <tr>\n",
       "      <th>max</th>\n",
       "      <td>806569.000000</td>\n",
       "      <td>2.179233e+06</td>\n",
       "      <td>16.000000</td>\n",
       "      <td>23.000000</td>\n",
       "      <td>4.000000</td>\n",
       "      <td>33.000000</td>\n",
       "    </tr>\n",
       "  </tbody>\n",
       "</table>\n",
       "</div>"
      ],
      "text/plain": [
       "                素材ID          兼职ID         编辑人数         编辑次数         下载人数  \\\n",
       "count    6015.000000  6.015000e+03  6015.000000  6015.000000  6015.000000   \n",
       "mean   710524.641064  5.371817e+05     1.272818     1.469493     0.204489   \n",
       "std     65173.801882  6.923680e+05     0.864373     1.281740     0.446037   \n",
       "min    608872.000000  2.000000e+01     1.000000     1.000000     0.000000   \n",
       "25%    653542.000000  1.985700e+04     1.000000     1.000000     0.000000   \n",
       "50%    702863.000000  1.255120e+05     1.000000     1.000000     0.000000   \n",
       "75%    787849.500000  1.220520e+06     1.000000     1.000000     0.000000   \n",
       "max    806569.000000  2.179233e+06    16.000000    23.000000     4.000000   \n",
       "\n",
       "              下载次数  \n",
       "count  6015.000000  \n",
       "mean      0.344805  \n",
       "std       1.077545  \n",
       "min       0.000000  \n",
       "25%       0.000000  \n",
       "50%       0.000000  \n",
       "75%       0.000000  \n",
       "max      33.000000  "
      ]
     },
     "execution_count": 22,
     "metadata": {},
     "output_type": "execute_result"
    }
   ],
   "source": [
    "df_video.describe()"
   ]
  },
  {
   "cell_type": "code",
   "execution_count": 24,
   "id": "51facc6a",
   "metadata": {},
   "outputs": [],
   "source": [
    "z = df_video['编辑人数']"
   ]
  },
  {
   "cell_type": "code",
   "execution_count": 29,
   "id": "7c75dccc",
   "metadata": {},
   "outputs": [
    {
     "data": {
      "text/plain": [
       "(array([5.04e+03, 6.56e+02, 1.80e+02, 0.00e+00, 6.40e+01, 3.10e+01,\n",
       "        1.80e+01, 0.00e+00, 9.00e+00, 4.00e+00, 4.00e+00, 0.00e+00,\n",
       "        3.00e+00, 0.00e+00, 1.00e+00, 0.00e+00, 1.00e+00, 2.00e+00,\n",
       "        1.00e+00, 1.00e+00]),\n",
       " array([ 1.  ,  1.75,  2.5 ,  3.25,  4.  ,  4.75,  5.5 ,  6.25,  7.  ,\n",
       "         7.75,  8.5 ,  9.25, 10.  , 10.75, 11.5 , 12.25, 13.  , 13.75,\n",
       "        14.5 , 15.25, 16.  ]),\n",
       " <BarContainer object of 20 artists>)"
      ]
     },
     "execution_count": 29,
     "metadata": {},
     "output_type": "execute_result"
    },
    {
     "data": {
      "image/png": "[encoded data removed]",
      "text/plain": [
       "<Figure size 432x288 with 1 Axes>"
      ]
     },
     "metadata": {
      "needs_background": "light"
     },
     "output_type": "display_data"
    }
   ],
   "source": [
    "plt.hist(z,bins=20,density=False,facecolor=\"blue\",edgecolor=\"black\",alpha=0.8)"
   ]
  },
  {
   "cell_type": "markdown",
   "id": "1a8a4104",
   "metadata": {},
   "source": [
    "# 视频分析"
   ]
  },
  {
   "cell_type": "markdown",
   "id": "9f47ca72",
   "metadata": {},
   "source": [
    "## 数据描述\n",
    "受整体IP下降影响，7月份视频编辑人次环比6月下降28.7%,下载人次环比6月下降29.6%;较为核心的视频二级分类下编辑与下载下降明显。\n",
    "7月份热门视频中，排名较高的依然为来自主站的横版视频。其中红金、大气、科技风格较受欢迎。"
   ]
  },
  {
   "cell_type": "markdown",
   "id": "0bf999dc",
   "metadata": {},
   "source": [
    "充值上，视频数据除春节时期，其他时期一直较差。企业内容分级与强推企业充值页上线后，视频企业充值金额显著提升，但对视频会员充值无显著影响。<br>视频企业会员6月份3人，7月份15人。新媒体企业会员6月份19人，7月份20人。<br>用户似乎更愿意因为企业视频而买单。计划提高视频内容中企业素材的占比，尝试最大化充值用户的利润。"
   ]
  },
  {
   "cell_type": "markdown",
   "id": "361f253b",
   "metadata": {},
   "source": [
    "内容上，将继续降低视频海报的产量，从 原创为主转变为$\\Rightarrow$以翻新为主，原创只重点生产提取自高编辑内容标题中频率较高的主题，降低无效内容生产。"
   ]
  },
  {
   "cell_type": "markdown",
   "id": "f8889913",
   "metadata": {},
   "source": [
    "流量上，视频的曝光一直较差，计划在首页高楼层位置添加视频模板，搜索框添加视频关键词，视频企业充值提升，有提高曝光的价值。"
   ]
  }
 ],
 "metadata": {
  "kernelspec": {
   "display_name": "Python 3 (ipykernel)",
   "language": "python",
   "name": "python3"
  },
  "language_info": {
   "codemirror_mode": {
    "name": "ipython",
    "version": 3
   },
   "file_extension": ".py",
   "mimetype": "text/x-python",
   "name": "python",
   "nbconvert_exporter": "python",
   "pygments_lexer": "ipython3",
   "version": "3.9.12"
  },
  "toc": {
   "base_numbering": 1,
   "nav_menu": {},
   "number_sections": true,
   "sideBar": true,
   "skip_h1_title": false,
   "title_cell": "Table of Contents",
   "title_sidebar": "Contents",
   "toc_cell": false,
   "toc_position": {},
   "toc_section_display": true,
   "toc_window_display": false
  }
 },
 "nbformat": 4,
 "nbformat_minor": 5
}
