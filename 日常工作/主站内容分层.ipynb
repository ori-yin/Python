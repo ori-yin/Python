{
 "cells": [
  {
   "cell_type": "markdown",
   "id": "aa13b04f",
   "metadata": {},
   "source": [
    "# 准备工作"
   ]
  },
  {
   "cell_type": "code",
   "execution_count": 1,
   "id": "e1caffab",
   "metadata": {},
   "outputs": [],
   "source": [
    "import pandas as pd \n",
    "import numpy as np\n",
    "from sklearn.preprocessing import MinMaxScaler"
   ]
  },
  {
   "cell_type": "code",
   "execution_count": 2,
   "id": "1086d9de",
   "metadata": {},
   "outputs": [],
   "source": [
    "import matplotlib.pyplot as plt \n",
    "plt.rcParams['font.sans-serif'] = ['Simhei']    # 需要中文时候加"
   ]
  },
  {
   "cell_type": "markdown",
   "id": "13186cb0",
   "metadata": {},
   "source": [
    "## 降维函数"
   ]
  },
  {
   "cell_type": "code",
   "execution_count": 3,
   "id": "f04effad",
   "metadata": {},
   "outputs": [],
   "source": [
    "# 定义降维函数\n",
    "def 降维(x):\n",
    "    if x == 0:\n",
    "        return '0次'\n",
    "    elif x >= 1 and x <= 10:\n",
    "        return '1-10次'\n",
    "    elif x >= 11 and x <= 50:\n",
    "        return '10-50次'\n",
    "    elif x >= 51 and x <= 100:\n",
    "        return '51-100次'\n",
    "    elif x >= 101 and x <= 2000:\n",
    "        return '101-2000次'\n",
    "    elif x >= 2000:\n",
    "        return '2000以上'\n",
    "    else:\n",
    "        return '未知'"
   ]
  },
  {
   "cell_type": "markdown",
   "id": "b1a763c8",
   "metadata": {},
   "source": [
    "# 元素"
   ]
  },
  {
   "cell_type": "code",
   "execution_count": 4,
   "id": "8f8e7e3a",
   "metadata": {
    "scrolled": false
   },
   "outputs": [],
   "source": [
    "df_ys = pd.read_csv('D:\\Ori\\数据处理\\主站内容分层\\\\元素.csv')\n",
    "df_ys = df_ys.drop_duplicates(subset=['素材id'])"
   ]
  },
  {
   "cell_type": "code",
   "execution_count": 219,
   "id": "5d6717cf",
   "metadata": {
    "scrolled": false
   },
   "outputs": [
    {
     "data": {
      "text/html": [
       "<div>\n",
       "<style scoped>\n",
       "    .dataframe tbody tr th:only-of-type {\n",
       "        vertical-align: middle;\n",
       "    }\n",
       "\n",
       "    .dataframe tbody tr th {\n",
       "        vertical-align: top;\n",
       "    }\n",
       "\n",
       "    .dataframe thead th {\n",
       "        text-align: right;\n",
       "    }\n",
       "</style>\n",
       "<table border=\"1\" class=\"dataframe\">\n",
       "  <thead>\n",
       "    <tr style=\"text-align: right;\">\n",
       "      <th></th>\n",
       "      <th>素材id</th>\n",
       "      <th>标题</th>\n",
       "      <th>下载人数</th>\n",
       "      <th>下载次数</th>\n",
       "      <th>浏览数</th>\n",
       "      <th>收藏数</th>\n",
       "      <th>内容下载率</th>\n",
       "      <th>下载区间</th>\n",
       "      <th>下载次数归一</th>\n",
       "      <th>收藏数归一</th>\n",
       "      <th>内容下载率归一</th>\n",
       "      <th>价值</th>\n",
       "      <th>分类</th>\n",
       "    </tr>\n",
       "  </thead>\n",
       "  <tbody>\n",
       "    <tr>\n",
       "      <th>0</th>\n",
       "      <td>12958107</td>\n",
       "      <td>蓝色语文书籍</td>\n",
       "      <td>23</td>\n",
       "      <td>23</td>\n",
       "      <td>43</td>\n",
       "      <td>0</td>\n",
       "      <td>0.534884</td>\n",
       "      <td>10-50次</td>\n",
       "      <td>0.000256</td>\n",
       "      <td>0.000000</td>\n",
       "      <td>0.534884</td>\n",
       "      <td>0.160618</td>\n",
       "      <td>元素</td>\n",
       "    </tr>\n",
       "    <tr>\n",
       "      <th>1</th>\n",
       "      <td>12958108</td>\n",
       "      <td>蓝色语文学习</td>\n",
       "      <td>16</td>\n",
       "      <td>18</td>\n",
       "      <td>109</td>\n",
       "      <td>0</td>\n",
       "      <td>0.165138</td>\n",
       "      <td>10-50次</td>\n",
       "      <td>0.000200</td>\n",
       "      <td>0.000000</td>\n",
       "      <td>0.165138</td>\n",
       "      <td>0.049661</td>\n",
       "      <td>元素</td>\n",
       "    </tr>\n",
       "    <tr>\n",
       "      <th>2</th>\n",
       "      <td>12958109</td>\n",
       "      <td>水龙头饮用水水杯</td>\n",
       "      <td>66</td>\n",
       "      <td>82</td>\n",
       "      <td>113</td>\n",
       "      <td>1</td>\n",
       "      <td>0.725664</td>\n",
       "      <td>51-100次</td>\n",
       "      <td>0.000911</td>\n",
       "      <td>0.001267</td>\n",
       "      <td>0.725664</td>\n",
       "      <td>0.218499</td>\n",
       "      <td>元素</td>\n",
       "    </tr>\n",
       "    <tr>\n",
       "      <th>3</th>\n",
       "      <td>12958110</td>\n",
       "      <td>水龙头水杯饮用水</td>\n",
       "      <td>437</td>\n",
       "      <td>482</td>\n",
       "      <td>524</td>\n",
       "      <td>1</td>\n",
       "      <td>0.919847</td>\n",
       "      <td>101-2000次</td>\n",
       "      <td>0.005355</td>\n",
       "      <td>0.001267</td>\n",
       "      <td>0.919847</td>\n",
       "      <td>0.279420</td>\n",
       "      <td>元素</td>\n",
       "    </tr>\n",
       "    <tr>\n",
       "      <th>4</th>\n",
       "      <td>12958111</td>\n",
       "      <td>水龙头饮用水</td>\n",
       "      <td>18</td>\n",
       "      <td>19</td>\n",
       "      <td>42</td>\n",
       "      <td>0</td>\n",
       "      <td>0.452381</td>\n",
       "      <td>10-50次</td>\n",
       "      <td>0.000211</td>\n",
       "      <td>0.000000</td>\n",
       "      <td>0.452381</td>\n",
       "      <td>0.135841</td>\n",
       "      <td>元素</td>\n",
       "    </tr>\n",
       "  </tbody>\n",
       "</table>\n",
       "</div>"
      ],
      "text/plain": [
       "       素材id        标题  下载人数  下载次数  浏览数  收藏数     内容下载率       下载区间    下载次数归一  \\\n",
       "0  12958107    蓝色语文书籍    23    23   43    0  0.534884     10-50次  0.000256   \n",
       "1  12958108    蓝色语文学习    16    18  109    0  0.165138     10-50次  0.000200   \n",
       "2  12958109  水龙头饮用水水杯    66    82  113    1  0.725664    51-100次  0.000911   \n",
       "3  12958110  水龙头水杯饮用水   437   482  524    1  0.919847  101-2000次  0.005355   \n",
       "4  12958111    水龙头饮用水    18    19   42    0  0.452381     10-50次  0.000211   \n",
       "\n",
       "      收藏数归一   内容下载率归一        价值  分类  \n",
       "0  0.000000  0.534884  0.160618  元素  \n",
       "1  0.000000  0.165138  0.049661  元素  \n",
       "2  0.001267  0.725664  0.218499  元素  \n",
       "3  0.001267  0.919847  0.279420  元素  \n",
       "4  0.000000  0.452381  0.135841  元素  "
      ]
     },
     "execution_count": 219,
     "metadata": {},
     "output_type": "execute_result"
    }
   ],
   "source": [
    "df_ys.head()"
   ]
  },
  {
   "cell_type": "code",
   "execution_count": 218,
   "id": "52d48f86",
   "metadata": {},
   "outputs": [],
   "source": [
    "df_ys['分类'] = '元素'"
   ]
  },
  {
   "cell_type": "code",
   "execution_count": 6,
   "id": "6cc45723",
   "metadata": {},
   "outputs": [],
   "source": [
    "df_ys['内容下载率'] = df_ys['下载次数'] / df_ys['浏览数']\n",
    "df_ys['内容下载率'] = df_ys['内容下载率'].apply(lambda x: 1 if x >= 1 else x)\n",
    "df_ys.fillna(0, inplace=True)"
   ]
  },
  {
   "cell_type": "code",
   "execution_count": 7,
   "id": "7633bb87",
   "metadata": {
    "scrolled": true
   },
   "outputs": [
    {
     "data": {
      "text/plain": [
       "(312547, 7)"
      ]
     },
     "execution_count": 7,
     "metadata": {},
     "output_type": "execute_result"
    }
   ],
   "source": [
    "df_ys.shape"
   ]
  },
  {
   "cell_type": "code",
   "execution_count": 8,
   "id": "928e943a",
   "metadata": {},
   "outputs": [
    {
     "name": "stdout",
     "output_type": "stream",
     "text": [
      "<class 'pandas.core.frame.DataFrame'>\n",
      "Int64Index: 312547 entries, 0 to 312546\n",
      "Data columns (total 7 columns):\n",
      " #   Column  Non-Null Count   Dtype  \n",
      "---  ------  --------------   -----  \n",
      " 0   素材id    312547 non-null  int64  \n",
      " 1   标题      312547 non-null  object \n",
      " 2   下载人数    312547 non-null  int64  \n",
      " 3   下载次数    312547 non-null  int64  \n",
      " 4   浏览数     312547 non-null  int64  \n",
      " 5   收藏数     312547 non-null  int64  \n",
      " 6   内容下载率   312547 non-null  float64\n",
      "dtypes: float64(1), int64(5), object(1)\n",
      "memory usage: 19.1+ MB\n"
     ]
    }
   ],
   "source": [
    "df_ys.info()"
   ]
  },
  {
   "cell_type": "code",
   "execution_count": 9,
   "id": "da438726",
   "metadata": {
    "scrolled": true
   },
   "outputs": [
    {
     "data": {
      "text/html": [
       "<div>\n",
       "<style scoped>\n",
       "    .dataframe tbody tr th:only-of-type {\n",
       "        vertical-align: middle;\n",
       "    }\n",
       "\n",
       "    .dataframe tbody tr th {\n",
       "        vertical-align: top;\n",
       "    }\n",
       "\n",
       "    .dataframe thead th {\n",
       "        text-align: right;\n",
       "    }\n",
       "</style>\n",
       "<table border=\"1\" class=\"dataframe\">\n",
       "  <thead>\n",
       "    <tr style=\"text-align: right;\">\n",
       "      <th></th>\n",
       "      <th>素材id</th>\n",
       "      <th>下载人数</th>\n",
       "      <th>下载次数</th>\n",
       "      <th>浏览数</th>\n",
       "      <th>收藏数</th>\n",
       "      <th>内容下载率</th>\n",
       "    </tr>\n",
       "  </thead>\n",
       "  <tbody>\n",
       "    <tr>\n",
       "      <th>count</th>\n",
       "      <td>3.125470e+05</td>\n",
       "      <td>312547.000000</td>\n",
       "      <td>312547.000000</td>\n",
       "      <td>312547.000000</td>\n",
       "      <td>312547.000000</td>\n",
       "      <td>312547.000000</td>\n",
       "    </tr>\n",
       "    <tr>\n",
       "      <th>mean</th>\n",
       "      <td>1.321534e+07</td>\n",
       "      <td>62.323404</td>\n",
       "      <td>73.020589</td>\n",
       "      <td>110.827968</td>\n",
       "      <td>2.094546</td>\n",
       "      <td>0.320192</td>\n",
       "    </tr>\n",
       "    <tr>\n",
       "      <th>std</th>\n",
       "      <td>1.634958e+05</td>\n",
       "      <td>312.265808</td>\n",
       "      <td>411.446564</td>\n",
       "      <td>495.854530</td>\n",
       "      <td>9.594446</td>\n",
       "      <td>0.286297</td>\n",
       "    </tr>\n",
       "    <tr>\n",
       "      <th>min</th>\n",
       "      <td>1.153149e+07</td>\n",
       "      <td>0.000000</td>\n",
       "      <td>0.000000</td>\n",
       "      <td>0.000000</td>\n",
       "      <td>0.000000</td>\n",
       "      <td>0.000000</td>\n",
       "    </tr>\n",
       "    <tr>\n",
       "      <th>25%</th>\n",
       "      <td>1.307506e+07</td>\n",
       "      <td>1.000000</td>\n",
       "      <td>1.000000</td>\n",
       "      <td>13.000000</td>\n",
       "      <td>0.000000</td>\n",
       "      <td>0.076923</td>\n",
       "    </tr>\n",
       "    <tr>\n",
       "      <th>50%</th>\n",
       "      <td>1.315320e+07</td>\n",
       "      <td>6.000000</td>\n",
       "      <td>7.000000</td>\n",
       "      <td>29.000000</td>\n",
       "      <td>0.000000</td>\n",
       "      <td>0.250000</td>\n",
       "    </tr>\n",
       "    <tr>\n",
       "      <th>75%</th>\n",
       "      <td>1.336548e+07</td>\n",
       "      <td>28.000000</td>\n",
       "      <td>31.000000</td>\n",
       "      <td>76.000000</td>\n",
       "      <td>1.000000</td>\n",
       "      <td>0.500000</td>\n",
       "    </tr>\n",
       "    <tr>\n",
       "      <th>max</th>\n",
       "      <td>1.360369e+07</td>\n",
       "      <td>54302.000000</td>\n",
       "      <td>90016.000000</td>\n",
       "      <td>115892.000000</td>\n",
       "      <td>789.000000</td>\n",
       "      <td>1.000000</td>\n",
       "    </tr>\n",
       "  </tbody>\n",
       "</table>\n",
       "</div>"
      ],
      "text/plain": [
       "               素材id           下载人数           下载次数            浏览数  \\\n",
       "count  3.125470e+05  312547.000000  312547.000000  312547.000000   \n",
       "mean   1.321534e+07      62.323404      73.020589     110.827968   \n",
       "std    1.634958e+05     312.265808     411.446564     495.854530   \n",
       "min    1.153149e+07       0.000000       0.000000       0.000000   \n",
       "25%    1.307506e+07       1.000000       1.000000      13.000000   \n",
       "50%    1.315320e+07       6.000000       7.000000      29.000000   \n",
       "75%    1.336548e+07      28.000000      31.000000      76.000000   \n",
       "max    1.360369e+07   54302.000000   90016.000000  115892.000000   \n",
       "\n",
       "                 收藏数          内容下载率  \n",
       "count  312547.000000  312547.000000  \n",
       "mean        2.094546       0.320192  \n",
       "std         9.594446       0.286297  \n",
       "min         0.000000       0.000000  \n",
       "25%         0.000000       0.076923  \n",
       "50%         0.000000       0.250000  \n",
       "75%         1.000000       0.500000  \n",
       "max       789.000000       1.000000  "
      ]
     },
     "execution_count": 9,
     "metadata": {},
     "output_type": "execute_result"
    }
   ],
   "source": [
    "df_ys.describe()"
   ]
  },
  {
   "cell_type": "code",
   "execution_count": 10,
   "id": "7e5b88cf",
   "metadata": {},
   "outputs": [],
   "source": [
    "# 将时间差转换为文本型函数\n",
    "df_ys['下载区间'] = df_ys['下载次数'].apply(降维)"
   ]
  },
  {
   "cell_type": "markdown",
   "id": "c2797c61",
   "metadata": {},
   "source": [
    "## 分布"
   ]
  },
  {
   "cell_type": "code",
   "execution_count": 11,
   "id": "34536e5f",
   "metadata": {},
   "outputs": [
    {
     "data": {
      "image/png": "[encoded data removed]",
      "text/plain": [
       "<Figure size 640x480 with 1 Axes>"
      ]
     },
     "metadata": {},
     "output_type": "display_data"
    }
   ],
   "source": [
    "# 统计不同字符串类型的出现次数\n",
    "counts = df_ys['下载区间'].value_counts()\n",
    "\n",
    "# 绘制条形图\n",
    "counts.plot(kind='bar')\n",
    "plt.xlabel('元素下载区间')\n",
    "plt.ylabel('Count')\n",
    "plt.show()"
   ]
  },
  {
   "cell_type": "code",
   "execution_count": 12,
   "id": "c4b94b55",
   "metadata": {
    "scrolled": true
   },
   "outputs": [
    {
     "data": {
      "text/plain": [
       "1-10次        126382\n",
       "10-50次        71170\n",
       "0次            55590\n",
       "101-2000次     36534\n",
       "51-100次       21435\n",
       "2000以上         1436\n",
       "Name: 下载区间, dtype: int64"
      ]
     },
     "execution_count": 12,
     "metadata": {},
     "output_type": "execute_result"
    }
   ],
   "source": [
    "df_ys['下载区间'].value_counts()"
   ]
  },
  {
   "cell_type": "markdown",
   "id": "2f7e4151",
   "metadata": {},
   "source": [
    "## 归一算价值"
   ]
  },
  {
   "cell_type": "code",
   "execution_count": 13,
   "id": "77473dad",
   "metadata": {},
   "outputs": [],
   "source": [
    "# 归一化数据列\n",
    "df_ys['下载次数归一'] = (df_ys['下载次数'] - df_ys['下载次数'].min()) / (df_ys['下载次数'].max() - df_ys['下载次数'].min())\n",
    "df_ys['收藏数归一'] = (df_ys['收藏数'] -df_ys['收藏数'].min()) / (df_ys['收藏数'].max() - df_ys['收藏数'].min())\n",
    "df_ys['内容下载率归一'] = (df_ys['内容下载率'] - df_ys['内容下载率'].min()) / (df_ys['内容下载率'].max() - df_ys['内容下载率'].min())\n",
    "df_ys['价值'] = df_ys['下载次数归一'] * 0.6 + df_ys['收藏数归一'] * 0.2 + df_ys['内容下载率归一'] * 0.3"
   ]
  },
  {
   "cell_type": "code",
   "execution_count": 14,
   "id": "a452a3da",
   "metadata": {
    "scrolled": false
   },
   "outputs": [
    {
     "data": {
      "image/png": "[encoded data removed]",
      "text/plain": [
       "<Figure size 800x600 with 1 Axes>"
      ]
     },
     "metadata": {},
     "output_type": "display_data"
    }
   ],
   "source": [
    "df_ys['价值'].hist(bins=50    # 分箱个数\n",
    "             ,figsize=(8,6)    # 可视化大小\n",
    "            )    # hist是直方图，看看数据整体分布\n",
    "plt.show()"
   ]
  },
  {
   "cell_type": "markdown",
   "id": "625fe217",
   "metadata": {},
   "source": [
    "## 保留头部优质内容"
   ]
  },
  {
   "cell_type": "code",
   "execution_count": 232,
   "id": "382a295f",
   "metadata": {},
   "outputs": [],
   "source": [
    "ys_limit = df_ys.sort_values(by='内容下载率归一', ascending=False)\n",
    "# 计算保留的行数\n",
    "num_rows = int(len(ys_limit) * 0.7)\n",
    "\n",
    "# 保留前70%的数据\n",
    "ys_limit = ys_limit.head(num_rows)"
   ]
  },
  {
   "cell_type": "markdown",
   "id": "9065e2cf",
   "metadata": {},
   "source": [
    "## 抽样"
   ]
  },
  {
   "cell_type": "code",
   "execution_count": 233,
   "id": "1bf77880",
   "metadata": {},
   "outputs": [],
   "source": [
    "# 等距抽样\n",
    "ys_sampled = ys_limit.iloc[::3]"
   ]
  },
  {
   "cell_type": "code",
   "execution_count": 234,
   "id": "a7ab4330",
   "metadata": {},
   "outputs": [
    {
     "data": {
      "text/plain": [
       "(72928, 13)"
      ]
     },
     "execution_count": 234,
     "metadata": {},
     "output_type": "execute_result"
    }
   ],
   "source": [
    "ys_sampled.shape"
   ]
  },
  {
   "cell_type": "markdown",
   "id": "e01d3e61",
   "metadata": {},
   "source": [
    "## 随机抽样（被pass了）"
   ]
  },
  {
   "cell_type": "code",
   "execution_count": 149,
   "id": "f4e634c9",
   "metadata": {},
   "outputs": [],
   "source": [
    "# 计算要保留的行数\n",
    "num_rows = int(len(ys_limit) * 0.3)\n",
    "\n",
    "# 随机抽取30%的行数据并保留\n",
    "selected_rows = ys_limit.sample(n=num_rows, random_state=42)"
   ]
  },
  {
   "cell_type": "markdown",
   "id": "3d6b6acc",
   "metadata": {},
   "source": [
    "# 背景"
   ]
  },
  {
   "cell_type": "code",
   "execution_count": 286,
   "id": "ea8205e6",
   "metadata": {},
   "outputs": [],
   "source": [
    "df_bj = pd.read_csv('D:\\Ori\\数据处理\\主站内容分层\\\\背景.csv')\n",
    "df_bj.rename(columns={'背景素材id': '素材id'}, inplace=True)\n",
    "df_bj = df_bj.drop_duplicates(subset=['素材id'])"
   ]
  },
  {
   "cell_type": "code",
   "execution_count": 287,
   "id": "aaa63015",
   "metadata": {},
   "outputs": [],
   "source": [
    "df_bj['分类'] = '背景'"
   ]
  },
  {
   "cell_type": "code",
   "execution_count": 288,
   "id": "447dd237",
   "metadata": {},
   "outputs": [
    {
     "data": {
      "text/html": [
       "<div>\n",
       "<style scoped>\n",
       "    .dataframe tbody tr th:only-of-type {\n",
       "        vertical-align: middle;\n",
       "    }\n",
       "\n",
       "    .dataframe tbody tr th {\n",
       "        vertical-align: top;\n",
       "    }\n",
       "\n",
       "    .dataframe thead th {\n",
       "        text-align: right;\n",
       "    }\n",
       "</style>\n",
       "<table border=\"1\" class=\"dataframe\">\n",
       "  <thead>\n",
       "    <tr style=\"text-align: right;\">\n",
       "      <th></th>\n",
       "      <th>素材id</th>\n",
       "      <th>标题</th>\n",
       "      <th>下载人数</th>\n",
       "      <th>下载次数</th>\n",
       "      <th>浏览数</th>\n",
       "      <th>收藏数</th>\n",
       "      <th>分类</th>\n",
       "    </tr>\n",
       "  </thead>\n",
       "  <tbody>\n",
       "    <tr>\n",
       "      <th>0</th>\n",
       "      <td>6012044</td>\n",
       "      <td>疫苗针管试剂医疗背景</td>\n",
       "      <td>59</td>\n",
       "      <td>67</td>\n",
       "      <td>447</td>\n",
       "      <td>2</td>\n",
       "      <td>背景</td>\n",
       "    </tr>\n",
       "    <tr>\n",
       "      <th>1</th>\n",
       "      <td>6012035</td>\n",
       "      <td>简约植物手绘背景</td>\n",
       "      <td>0</td>\n",
       "      <td>0</td>\n",
       "      <td>186</td>\n",
       "      <td>0</td>\n",
       "      <td>背景</td>\n",
       "    </tr>\n",
       "    <tr>\n",
       "      <th>2</th>\n",
       "      <td>6012033</td>\n",
       "      <td>简约植物分层背景</td>\n",
       "      <td>1</td>\n",
       "      <td>1</td>\n",
       "      <td>109</td>\n",
       "      <td>0</td>\n",
       "      <td>背景</td>\n",
       "    </tr>\n",
       "    <tr>\n",
       "      <th>3</th>\n",
       "      <td>6012022</td>\n",
       "      <td>扁平打疫苗抗疫背景</td>\n",
       "      <td>22</td>\n",
       "      <td>24</td>\n",
       "      <td>253</td>\n",
       "      <td>1</td>\n",
       "      <td>背景</td>\n",
       "    </tr>\n",
       "    <tr>\n",
       "      <th>4</th>\n",
       "      <td>6012021</td>\n",
       "      <td>医疗疫苗抗疫疫苗</td>\n",
       "      <td>31</td>\n",
       "      <td>32</td>\n",
       "      <td>215</td>\n",
       "      <td>1</td>\n",
       "      <td>背景</td>\n",
       "    </tr>\n",
       "  </tbody>\n",
       "</table>\n",
       "</div>"
      ],
      "text/plain": [
       "      素材id          标题  下载人数  下载次数  浏览数  收藏数  分类\n",
       "0  6012044  疫苗针管试剂医疗背景    59    67  447    2  背景\n",
       "1  6012035    简约植物手绘背景     0     0  186    0  背景\n",
       "2  6012033    简约植物分层背景     1     1  109    0  背景\n",
       "3  6012022   扁平打疫苗抗疫背景    22    24  253    1  背景\n",
       "4  6012021    医疗疫苗抗疫疫苗    31    32  215    1  背景"
      ]
     },
     "execution_count": 288,
     "metadata": {},
     "output_type": "execute_result"
    }
   ],
   "source": [
    "df_bj.head()"
   ]
  },
  {
   "cell_type": "code",
   "execution_count": 289,
   "id": "d116c8e0",
   "metadata": {},
   "outputs": [],
   "source": [
    "df_bj['内容下载率'] = df_bj['下载次数'] / df_bj['浏览数']\n",
    "df_bj['内容下载率'] = df_bj['内容下载率'].apply(lambda x: 1 if x >= 1 else x)"
   ]
  },
  {
   "cell_type": "code",
   "execution_count": 290,
   "id": "9f0542a7",
   "metadata": {},
   "outputs": [],
   "source": [
    "df_bj.fillna(0,inplace=True)"
   ]
  },
  {
   "cell_type": "code",
   "execution_count": 291,
   "id": "f4d6cfb0",
   "metadata": {},
   "outputs": [
    {
     "name": "stdout",
     "output_type": "stream",
     "text": [
      "<class 'pandas.core.frame.DataFrame'>\n",
      "Int64Index: 66301 entries, 0 to 66303\n",
      "Data columns (total 8 columns):\n",
      " #   Column  Non-Null Count  Dtype  \n",
      "---  ------  --------------  -----  \n",
      " 0   素材id    66301 non-null  int64  \n",
      " 1   标题      66301 non-null  object \n",
      " 2   下载人数    66301 non-null  int64  \n",
      " 3   下载次数    66301 non-null  int64  \n",
      " 4   浏览数     66301 non-null  int64  \n",
      " 5   收藏数     66301 non-null  int64  \n",
      " 6   分类      66301 non-null  object \n",
      " 7   内容下载率   66301 non-null  float64\n",
      "dtypes: float64(1), int64(5), object(2)\n",
      "memory usage: 4.6+ MB\n"
     ]
    }
   ],
   "source": [
    "df_bj.info()"
   ]
  },
  {
   "cell_type": "code",
   "execution_count": 292,
   "id": "49bc94b9",
   "metadata": {},
   "outputs": [
    {
     "data": {
      "text/html": [
       "<div>\n",
       "<style scoped>\n",
       "    .dataframe tbody tr th:only-of-type {\n",
       "        vertical-align: middle;\n",
       "    }\n",
       "\n",
       "    .dataframe tbody tr th {\n",
       "        vertical-align: top;\n",
       "    }\n",
       "\n",
       "    .dataframe thead th {\n",
       "        text-align: right;\n",
       "    }\n",
       "</style>\n",
       "<table border=\"1\" class=\"dataframe\">\n",
       "  <thead>\n",
       "    <tr style=\"text-align: right;\">\n",
       "      <th></th>\n",
       "      <th>素材id</th>\n",
       "      <th>下载人数</th>\n",
       "      <th>下载次数</th>\n",
       "      <th>浏览数</th>\n",
       "      <th>收藏数</th>\n",
       "      <th>内容下载率</th>\n",
       "    </tr>\n",
       "  </thead>\n",
       "  <tbody>\n",
       "    <tr>\n",
       "      <th>count</th>\n",
       "      <td>6.630100e+04</td>\n",
       "      <td>66301.000000</td>\n",
       "      <td>66301.000000</td>\n",
       "      <td>66301.000000</td>\n",
       "      <td>66301.000000</td>\n",
       "      <td>66301.000000</td>\n",
       "    </tr>\n",
       "    <tr>\n",
       "      <th>mean</th>\n",
       "      <td>6.102185e+06</td>\n",
       "      <td>83.589131</td>\n",
       "      <td>101.935190</td>\n",
       "      <td>262.554637</td>\n",
       "      <td>4.971841</td>\n",
       "      <td>0.186072</td>\n",
       "    </tr>\n",
       "    <tr>\n",
       "      <th>std</th>\n",
       "      <td>5.849404e+04</td>\n",
       "      <td>317.545961</td>\n",
       "      <td>412.500854</td>\n",
       "      <td>1130.210807</td>\n",
       "      <td>17.444928</td>\n",
       "      <td>0.188152</td>\n",
       "    </tr>\n",
       "    <tr>\n",
       "      <th>min</th>\n",
       "      <td>6.002191e+06</td>\n",
       "      <td>0.000000</td>\n",
       "      <td>0.000000</td>\n",
       "      <td>0.000000</td>\n",
       "      <td>0.000000</td>\n",
       "      <td>0.000000</td>\n",
       "    </tr>\n",
       "    <tr>\n",
       "      <th>25%</th>\n",
       "      <td>6.041472e+06</td>\n",
       "      <td>3.000000</td>\n",
       "      <td>3.000000</td>\n",
       "      <td>60.000000</td>\n",
       "      <td>0.000000</td>\n",
       "      <td>0.046875</td>\n",
       "    </tr>\n",
       "    <tr>\n",
       "      <th>50%</th>\n",
       "      <td>6.108615e+06</td>\n",
       "      <td>11.000000</td>\n",
       "      <td>12.000000</td>\n",
       "      <td>107.000000</td>\n",
       "      <td>1.000000</td>\n",
       "      <td>0.125000</td>\n",
       "    </tr>\n",
       "    <tr>\n",
       "      <th>75%</th>\n",
       "      <td>6.130211e+06</td>\n",
       "      <td>39.000000</td>\n",
       "      <td>45.000000</td>\n",
       "      <td>212.000000</td>\n",
       "      <td>3.000000</td>\n",
       "      <td>0.267516</td>\n",
       "    </tr>\n",
       "    <tr>\n",
       "      <th>max</th>\n",
       "      <td>6.380444e+06</td>\n",
       "      <td>9641.000000</td>\n",
       "      <td>14636.000000</td>\n",
       "      <td>226784.000000</td>\n",
       "      <td>572.000000</td>\n",
       "      <td>1.000000</td>\n",
       "    </tr>\n",
       "  </tbody>\n",
       "</table>\n",
       "</div>"
      ],
      "text/plain": [
       "               素材id          下载人数          下载次数            浏览数           收藏数  \\\n",
       "count  6.630100e+04  66301.000000  66301.000000   66301.000000  66301.000000   \n",
       "mean   6.102185e+06     83.589131    101.935190     262.554637      4.971841   \n",
       "std    5.849404e+04    317.545961    412.500854    1130.210807     17.444928   \n",
       "min    6.002191e+06      0.000000      0.000000       0.000000      0.000000   \n",
       "25%    6.041472e+06      3.000000      3.000000      60.000000      0.000000   \n",
       "50%    6.108615e+06     11.000000     12.000000     107.000000      1.000000   \n",
       "75%    6.130211e+06     39.000000     45.000000     212.000000      3.000000   \n",
       "max    6.380444e+06   9641.000000  14636.000000  226784.000000    572.000000   \n",
       "\n",
       "              内容下载率  \n",
       "count  66301.000000  \n",
       "mean       0.186072  \n",
       "std        0.188152  \n",
       "min        0.000000  \n",
       "25%        0.046875  \n",
       "50%        0.125000  \n",
       "75%        0.267516  \n",
       "max        1.000000  "
      ]
     },
     "execution_count": 292,
     "metadata": {},
     "output_type": "execute_result"
    }
   ],
   "source": [
    "df_bj.describe()"
   ]
  },
  {
   "cell_type": "code",
   "execution_count": 293,
   "id": "bd79c889",
   "metadata": {},
   "outputs": [],
   "source": [
    "# 将时间差转换为文本型函数\n",
    "df_bj['下载区间'] = df_bj['下载次数'].apply(降维)"
   ]
  },
  {
   "cell_type": "code",
   "execution_count": 294,
   "id": "364cae84",
   "metadata": {},
   "outputs": [
    {
     "data": {
      "text/plain": [
       "1-10次        23393\n",
       "10-50次       20159\n",
       "101-2000次     9350\n",
       "0次            7371\n",
       "51-100次       5423\n",
       "2000以上         605\n",
       "Name: 下载区间, dtype: int64"
      ]
     },
     "execution_count": 294,
     "metadata": {},
     "output_type": "execute_result"
    }
   ],
   "source": [
    "df_bj['下载区间'].value_counts()"
   ]
  },
  {
   "cell_type": "markdown",
   "id": "87506a79",
   "metadata": {},
   "source": [
    "## 分布"
   ]
  },
  {
   "cell_type": "code",
   "execution_count": 295,
   "id": "17fe5ae1",
   "metadata": {
    "scrolled": false
   },
   "outputs": [
    {
     "data": {
      "image/png": "[encoded data removed]",
      "text/plain": [
       "<Figure size 640x480 with 1 Axes>"
      ]
     },
     "metadata": {},
     "output_type": "display_data"
    }
   ],
   "source": [
    "# 统计不同字符串类型的出现次数\n",
    "counts = df_bj['下载区间'].value_counts()\n",
    "\n",
    "# 绘制条形图\n",
    "counts.plot(kind='bar')\n",
    "plt.xlabel('背景下载区间')\n",
    "plt.ylabel('Count')\n",
    "plt.show()"
   ]
  },
  {
   "cell_type": "markdown",
   "id": "79e66005",
   "metadata": {},
   "source": [
    "## 归一算价值"
   ]
  },
  {
   "cell_type": "code",
   "execution_count": 296,
   "id": "02ce06c3",
   "metadata": {},
   "outputs": [],
   "source": [
    "# 归一化数据列\n",
    "df_bj['下载次数归一'] = (df_bj['下载次数'] - df_bj['下载次数'].min()) / (df_bj['下载次数'].max() - df_bj['下载次数'].min())\n",
    "df_bj['收藏数归一'] = (df_bj['收藏数'] -df_bj['收藏数'].min()) / (df_bj['收藏数'].max() - df_bj['收藏数'].min())\n",
    "df_bj['内容下载率归一'] = (df_bj['内容下载率'] - df_bj['内容下载率'].min()) / (df_bj['内容下载率'].max() - df_bj['内容下载率'].min())\n",
    "df_bj['价值'] = df_bj['下载次数归一'] * 0.6 + df_bj['收藏数归一'] * 0.2 + df_bj['内容下载率归一'] * 0.3"
   ]
  },
  {
   "cell_type": "markdown",
   "id": "35185494",
   "metadata": {},
   "source": [
    "## 抽样"
   ]
  },
  {
   "cell_type": "code",
   "execution_count": 297,
   "id": "11778be0",
   "metadata": {},
   "outputs": [],
   "source": [
    "bj_limit = df_bj.sort_values(by='内容下载率归一', ascending=False)\n",
    "# 计算保留的行数\n",
    "num_rows = int(len(bj_limit) * 0.7)\n",
    "\n",
    "# 保留前70%的数据\n",
    "bj_limit = bj_limit.head(num_rows)"
   ]
  },
  {
   "cell_type": "code",
   "execution_count": 298,
   "id": "04364395",
   "metadata": {},
   "outputs": [],
   "source": [
    "# 等距抽样\n",
    "bj_sampled = bj_limit.iloc[::3]"
   ]
  },
  {
   "cell_type": "code",
   "execution_count": 299,
   "id": "661d5020",
   "metadata": {},
   "outputs": [
    {
     "data": {
      "text/plain": [
       "(15470, 13)"
      ]
     },
     "execution_count": 299,
     "metadata": {},
     "output_type": "execute_result"
    }
   ],
   "source": [
    "bj_sampled.shape"
   ]
  },
  {
   "cell_type": "markdown",
   "id": "ae7df54b",
   "metadata": {},
   "source": [
    "# 广告设计"
   ]
  },
  {
   "cell_type": "code",
   "execution_count": 31,
   "id": "ca9e981e",
   "metadata": {},
   "outputs": [],
   "source": [
    "df_gg = pd.read_csv('D:\\Ori\\数据处理\\主站内容分层\\\\广告设计.csv')\n",
    "df_gg.rename(columns={'广告设计素材id': '素材id'}, inplace=True)\n",
    "df_gg = df_gg.drop_duplicates(subset=['素材id'])"
   ]
  },
  {
   "cell_type": "code",
   "execution_count": 32,
   "id": "4e228660",
   "metadata": {
    "scrolled": true
   },
   "outputs": [
    {
     "data": {
      "text/plain": [
       "(142211, 6)"
      ]
     },
     "execution_count": 32,
     "metadata": {},
     "output_type": "execute_result"
    }
   ],
   "source": [
    "df_gg.shape"
   ]
  },
  {
   "cell_type": "code",
   "execution_count": 222,
   "id": "c5653d55",
   "metadata": {},
   "outputs": [],
   "source": [
    "df_gg['分类'] = '广告设计'"
   ]
  },
  {
   "cell_type": "code",
   "execution_count": 33,
   "id": "045cdce0",
   "metadata": {},
   "outputs": [],
   "source": [
    "df_gg.fillna(0,inplace=True)"
   ]
  },
  {
   "cell_type": "code",
   "execution_count": 34,
   "id": "d7d4ad63",
   "metadata": {},
   "outputs": [],
   "source": [
    "df_gg['内容下载率'] = df_gg['下载次数'] / df_gg['浏览数']\n",
    "df_gg['内容下载率'] = df_gg['内容下载率'].apply(lambda x: 1 if x >= 1 else x)"
   ]
  },
  {
   "cell_type": "code",
   "execution_count": 35,
   "id": "5a703e13",
   "metadata": {},
   "outputs": [
    {
     "name": "stdout",
     "output_type": "stream",
     "text": [
      "<class 'pandas.core.frame.DataFrame'>\n",
      "Int64Index: 142211 entries, 0 to 142239\n",
      "Data columns (total 7 columns):\n",
      " #   Column  Non-Null Count   Dtype  \n",
      "---  ------  --------------   -----  \n",
      " 0   素材id    142211 non-null  int64  \n",
      " 1   标题      142211 non-null  object \n",
      " 2   下载人数    142211 non-null  int64  \n",
      " 3   下载次数    142211 non-null  int64  \n",
      " 4   浏览数     142211 non-null  int64  \n",
      " 5   收藏数     142211 non-null  int64  \n",
      " 6   内容下载率   141829 non-null  float64\n",
      "dtypes: float64(1), int64(5), object(1)\n",
      "memory usage: 8.7+ MB\n"
     ]
    }
   ],
   "source": [
    "df_gg.info()"
   ]
  },
  {
   "cell_type": "code",
   "execution_count": 36,
   "id": "6227c13b",
   "metadata": {},
   "outputs": [
    {
     "data": {
      "text/html": [
       "<div>\n",
       "<style scoped>\n",
       "    .dataframe tbody tr th:only-of-type {\n",
       "        vertical-align: middle;\n",
       "    }\n",
       "\n",
       "    .dataframe tbody tr th {\n",
       "        vertical-align: top;\n",
       "    }\n",
       "\n",
       "    .dataframe thead th {\n",
       "        text-align: right;\n",
       "    }\n",
       "</style>\n",
       "<table border=\"1\" class=\"dataframe\">\n",
       "  <thead>\n",
       "    <tr style=\"text-align: right;\">\n",
       "      <th></th>\n",
       "      <th>素材id</th>\n",
       "      <th>下载人数</th>\n",
       "      <th>下载次数</th>\n",
       "      <th>浏览数</th>\n",
       "      <th>收藏数</th>\n",
       "      <th>内容下载率</th>\n",
       "    </tr>\n",
       "  </thead>\n",
       "  <tbody>\n",
       "    <tr>\n",
       "      <th>count</th>\n",
       "      <td>1.422110e+05</td>\n",
       "      <td>142211.000000</td>\n",
       "      <td>142211.000000</td>\n",
       "      <td>142211.000000</td>\n",
       "      <td>142211.000000</td>\n",
       "      <td>141829.000000</td>\n",
       "    </tr>\n",
       "    <tr>\n",
       "      <th>mean</th>\n",
       "      <td>5.235292e+06</td>\n",
       "      <td>47.676263</td>\n",
       "      <td>70.997370</td>\n",
       "      <td>279.615592</td>\n",
       "      <td>7.838268</td>\n",
       "      <td>0.160172</td>\n",
       "    </tr>\n",
       "    <tr>\n",
       "      <th>std</th>\n",
       "      <td>8.946385e+04</td>\n",
       "      <td>129.617958</td>\n",
       "      <td>189.436156</td>\n",
       "      <td>1325.440128</td>\n",
       "      <td>19.816629</td>\n",
       "      <td>0.178484</td>\n",
       "    </tr>\n",
       "    <tr>\n",
       "      <th>min</th>\n",
       "      <td>5.048032e+06</td>\n",
       "      <td>0.000000</td>\n",
       "      <td>0.000000</td>\n",
       "      <td>0.000000</td>\n",
       "      <td>0.000000</td>\n",
       "      <td>0.000000</td>\n",
       "    </tr>\n",
       "    <tr>\n",
       "      <th>25%</th>\n",
       "      <td>5.155350e+06</td>\n",
       "      <td>2.000000</td>\n",
       "      <td>3.000000</td>\n",
       "      <td>61.000000</td>\n",
       "      <td>0.000000</td>\n",
       "      <td>0.044118</td>\n",
       "    </tr>\n",
       "    <tr>\n",
       "      <th>50%</th>\n",
       "      <td>5.203452e+06</td>\n",
       "      <td>10.000000</td>\n",
       "      <td>14.000000</td>\n",
       "      <td>125.000000</td>\n",
       "      <td>2.000000</td>\n",
       "      <td>0.114286</td>\n",
       "    </tr>\n",
       "    <tr>\n",
       "      <th>75%</th>\n",
       "      <td>5.327118e+06</td>\n",
       "      <td>37.000000</td>\n",
       "      <td>58.000000</td>\n",
       "      <td>288.000000</td>\n",
       "      <td>7.000000</td>\n",
       "      <td>0.215385</td>\n",
       "    </tr>\n",
       "    <tr>\n",
       "      <th>max</th>\n",
       "      <td>5.392978e+06</td>\n",
       "      <td>6246.000000</td>\n",
       "      <td>8841.000000</td>\n",
       "      <td>460059.000000</td>\n",
       "      <td>575.000000</td>\n",
       "      <td>1.000000</td>\n",
       "    </tr>\n",
       "  </tbody>\n",
       "</table>\n",
       "</div>"
      ],
      "text/plain": [
       "               素材id           下载人数           下载次数            浏览数  \\\n",
       "count  1.422110e+05  142211.000000  142211.000000  142211.000000   \n",
       "mean   5.235292e+06      47.676263      70.997370     279.615592   \n",
       "std    8.946385e+04     129.617958     189.436156    1325.440128   \n",
       "min    5.048032e+06       0.000000       0.000000       0.000000   \n",
       "25%    5.155350e+06       2.000000       3.000000      61.000000   \n",
       "50%    5.203452e+06      10.000000      14.000000     125.000000   \n",
       "75%    5.327118e+06      37.000000      58.000000     288.000000   \n",
       "max    5.392978e+06    6246.000000    8841.000000  460059.000000   \n",
       "\n",
       "                 收藏数          内容下载率  \n",
       "count  142211.000000  141829.000000  \n",
       "mean        7.838268       0.160172  \n",
       "std        19.816629       0.178484  \n",
       "min         0.000000       0.000000  \n",
       "25%         0.000000       0.044118  \n",
       "50%         2.000000       0.114286  \n",
       "75%         7.000000       0.215385  \n",
       "max       575.000000       1.000000  "
      ]
     },
     "execution_count": 36,
     "metadata": {},
     "output_type": "execute_result"
    }
   ],
   "source": [
    "df_gg.describe()"
   ]
  },
  {
   "cell_type": "code",
   "execution_count": 37,
   "id": "c940db7e",
   "metadata": {},
   "outputs": [],
   "source": [
    "# 将时间差转换为文本型函数\n",
    "df_gg['下载区间'] = df_gg['下载次数'].apply(降维)"
   ]
  },
  {
   "cell_type": "markdown",
   "id": "67dc3b2b",
   "metadata": {},
   "source": [
    "## 分布"
   ]
  },
  {
   "cell_type": "code",
   "execution_count": 38,
   "id": "668f9464",
   "metadata": {},
   "outputs": [
    {
     "data": {
      "image/png": "[encoded data removed]",
      "text/plain": [
       "<Figure size 640x480 with 1 Axes>"
      ]
     },
     "metadata": {},
     "output_type": "display_data"
    }
   ],
   "source": [
    "# 统计不同字符串类型的出现次数\n",
    "counts = df_gg['下载区间'].value_counts()\n",
    "\n",
    "# 绘制条形图\n",
    "counts.plot(kind='bar')\n",
    "plt.xlabel('广告下载区间')\n",
    "plt.ylabel('Count')\n",
    "plt.show()"
   ]
  },
  {
   "cell_type": "code",
   "execution_count": 39,
   "id": "bd111fbf",
   "metadata": {
    "scrolled": true
   },
   "outputs": [
    {
     "data": {
      "text/plain": [
       "1-10次        48216\n",
       "10-50次       40120\n",
       "101-2000次    24229\n",
       "0次           15427\n",
       "51-100次      14046\n",
       "2000以上         173\n",
       "Name: 下载区间, dtype: int64"
      ]
     },
     "execution_count": 39,
     "metadata": {},
     "output_type": "execute_result"
    }
   ],
   "source": [
    "df_gg['下载区间'].value_counts()"
   ]
  },
  {
   "cell_type": "markdown",
   "id": "7008e80c",
   "metadata": {},
   "source": [
    "## 归一算价值"
   ]
  },
  {
   "cell_type": "code",
   "execution_count": 40,
   "id": "047fec6f",
   "metadata": {},
   "outputs": [],
   "source": [
    "# 归一化数据列\n",
    "df_gg['下载次数归一'] = (df_gg['下载次数'] - df_gg['下载次数'].min()) / (df_gg['下载次数'].max() - df_gg['下载次数'].min())\n",
    "df_gg['收藏数归一'] = (df_gg['收藏数'] -df_gg['收藏数'].min()) / (df_gg['收藏数'].max() - df_gg['收藏数'].min())\n",
    "df_gg['内容下载率归一'] = (df_gg['内容下载率'] - df_gg['内容下载率'].min()) / (df_gg['内容下载率'].max() - df_gg['内容下载率'].min())\n",
    "df_gg['价值'] = df_gg['下载次数归一'] * 0.6 + df_gg['收藏数归一'] * 0.2 + df_gg['内容下载率归一'] * 0.3"
   ]
  },
  {
   "cell_type": "markdown",
   "id": "5ab6a6e5",
   "metadata": {},
   "source": [
    "## 抽样"
   ]
  },
  {
   "cell_type": "code",
   "execution_count": 235,
   "id": "e68c5f1d",
   "metadata": {},
   "outputs": [],
   "source": [
    "gg_limit = df_gg.sort_values(by='内容下载率归一', ascending=False)\n",
    "# 计算保留的行数\n",
    "num_rows = int(len(gg_limit) * 0.7)\n",
    "\n",
    "# 保留前70%的数据\n",
    "gg_limit = gg_limit.head(num_rows)"
   ]
  },
  {
   "cell_type": "code",
   "execution_count": 236,
   "id": "3ed6d442",
   "metadata": {},
   "outputs": [],
   "source": [
    "# 等距抽样\n",
    "gg_sampled = gg_limit.iloc[::3]"
   ]
  },
  {
   "cell_type": "code",
   "execution_count": 237,
   "id": "a6866d54",
   "metadata": {},
   "outputs": [
    {
     "data": {
      "text/plain": [
       "(33183, 13)"
      ]
     },
     "execution_count": 237,
     "metadata": {},
     "output_type": "execute_result"
    }
   ],
   "source": [
    "gg_sampled.shape"
   ]
  },
  {
   "cell_type": "markdown",
   "id": "3d9492ae",
   "metadata": {},
   "source": [
    "# 办公"
   ]
  },
  {
   "cell_type": "code",
   "execution_count": 44,
   "id": "7aa9319c",
   "metadata": {},
   "outputs": [],
   "source": [
    "df_bg = pd.read_csv('D:\\Ori\\数据处理\\主站内容分层\\\\办公.csv')\n",
    "df_bg.rename(columns={'办公文档PPT素材id': '素材id'}, inplace=True)\n",
    "df_bg = df_bg.drop_duplicates(subset=['素材id'])"
   ]
  },
  {
   "cell_type": "code",
   "execution_count": 45,
   "id": "c26febfd",
   "metadata": {},
   "outputs": [],
   "source": [
    "df_bg['内容下载率'] = df_bg['下载次数'] / df_bg['浏览数']\n",
    "df_bg['内容下载率'] = df_bg['内容下载率'].apply(lambda x: 1 if x >= 1 else x)\n",
    "df_bg.fillna(0,inplace=True)"
   ]
  },
  {
   "cell_type": "code",
   "execution_count": 46,
   "id": "e9d0a2eb",
   "metadata": {},
   "outputs": [
    {
     "data": {
      "text/plain": [
       "(42018, 7)"
      ]
     },
     "execution_count": 46,
     "metadata": {},
     "output_type": "execute_result"
    }
   ],
   "source": [
    "df_bg.shape"
   ]
  },
  {
   "cell_type": "code",
   "execution_count": 223,
   "id": "c3fb6355",
   "metadata": {},
   "outputs": [],
   "source": [
    "df_bg['分类'] = '办公'"
   ]
  },
  {
   "cell_type": "code",
   "execution_count": 47,
   "id": "7fbd6702",
   "metadata": {},
   "outputs": [
    {
     "name": "stdout",
     "output_type": "stream",
     "text": [
      "<class 'pandas.core.frame.DataFrame'>\n",
      "Int64Index: 42018 entries, 0 to 42056\n",
      "Data columns (total 7 columns):\n",
      " #   Column  Non-Null Count  Dtype  \n",
      "---  ------  --------------  -----  \n",
      " 0   素材id    42018 non-null  int64  \n",
      " 1   标题      42018 non-null  object \n",
      " 2   下载人数    42018 non-null  int64  \n",
      " 3   下载次数    42018 non-null  int64  \n",
      " 4   浏览数     42018 non-null  int64  \n",
      " 5   收藏数     42018 non-null  int64  \n",
      " 6   内容下载率   42018 non-null  float64\n",
      "dtypes: float64(1), int64(5), object(1)\n",
      "memory usage: 2.6+ MB\n"
     ]
    }
   ],
   "source": [
    "df_bg.info()"
   ]
  },
  {
   "cell_type": "code",
   "execution_count": 48,
   "id": "41f5c9f9",
   "metadata": {
    "scrolled": true
   },
   "outputs": [
    {
     "data": {
      "text/html": [
       "<div>\n",
       "<style scoped>\n",
       "    .dataframe tbody tr th:only-of-type {\n",
       "        vertical-align: middle;\n",
       "    }\n",
       "\n",
       "    .dataframe tbody tr th {\n",
       "        vertical-align: top;\n",
       "    }\n",
       "\n",
       "    .dataframe thead th {\n",
       "        text-align: right;\n",
       "    }\n",
       "</style>\n",
       "<table border=\"1\" class=\"dataframe\">\n",
       "  <thead>\n",
       "    <tr style=\"text-align: right;\">\n",
       "      <th></th>\n",
       "      <th>素材id</th>\n",
       "      <th>下载人数</th>\n",
       "      <th>下载次数</th>\n",
       "      <th>浏览数</th>\n",
       "      <th>收藏数</th>\n",
       "      <th>内容下载率</th>\n",
       "    </tr>\n",
       "  </thead>\n",
       "  <tbody>\n",
       "    <tr>\n",
       "      <th>count</th>\n",
       "      <td>42018.000000</td>\n",
       "      <td>42018.000000</td>\n",
       "      <td>42018.000000</td>\n",
       "      <td>42018.00000</td>\n",
       "      <td>42018.000000</td>\n",
       "      <td>42018.000000</td>\n",
       "    </tr>\n",
       "    <tr>\n",
       "      <th>mean</th>\n",
       "      <td>160396.162549</td>\n",
       "      <td>90.638702</td>\n",
       "      <td>104.971941</td>\n",
       "      <td>283.00050</td>\n",
       "      <td>5.863320</td>\n",
       "      <td>0.441324</td>\n",
       "    </tr>\n",
       "    <tr>\n",
       "      <th>std</th>\n",
       "      <td>13047.652972</td>\n",
       "      <td>277.492255</td>\n",
       "      <td>351.794290</td>\n",
       "      <td>1527.85492</td>\n",
       "      <td>20.746633</td>\n",
       "      <td>0.217252</td>\n",
       "    </tr>\n",
       "    <tr>\n",
       "      <th>min</th>\n",
       "      <td>128654.000000</td>\n",
       "      <td>0.000000</td>\n",
       "      <td>0.000000</td>\n",
       "      <td>0.00000</td>\n",
       "      <td>0.000000</td>\n",
       "      <td>0.000000</td>\n",
       "    </tr>\n",
       "    <tr>\n",
       "      <th>25%</th>\n",
       "      <td>149052.250000</td>\n",
       "      <td>6.000000</td>\n",
       "      <td>6.000000</td>\n",
       "      <td>16.00000</td>\n",
       "      <td>0.000000</td>\n",
       "      <td>0.307692</td>\n",
       "    </tr>\n",
       "    <tr>\n",
       "      <th>50%</th>\n",
       "      <td>160527.500000</td>\n",
       "      <td>20.000000</td>\n",
       "      <td>22.000000</td>\n",
       "      <td>53.00000</td>\n",
       "      <td>1.000000</td>\n",
       "      <td>0.424658</td>\n",
       "    </tr>\n",
       "    <tr>\n",
       "      <th>75%</th>\n",
       "      <td>171608.750000</td>\n",
       "      <td>85.000000</td>\n",
       "      <td>94.000000</td>\n",
       "      <td>232.00000</td>\n",
       "      <td>5.000000</td>\n",
       "      <td>0.536527</td>\n",
       "    </tr>\n",
       "    <tr>\n",
       "      <th>max</th>\n",
       "      <td>182901.000000</td>\n",
       "      <td>23078.000000</td>\n",
       "      <td>33147.000000</td>\n",
       "      <td>174195.00000</td>\n",
       "      <td>2048.000000</td>\n",
       "      <td>1.000000</td>\n",
       "    </tr>\n",
       "  </tbody>\n",
       "</table>\n",
       "</div>"
      ],
      "text/plain": [
       "                素材id          下载人数          下载次数           浏览数           收藏数  \\\n",
       "count   42018.000000  42018.000000  42018.000000   42018.00000  42018.000000   \n",
       "mean   160396.162549     90.638702    104.971941     283.00050      5.863320   \n",
       "std     13047.652972    277.492255    351.794290    1527.85492     20.746633   \n",
       "min    128654.000000      0.000000      0.000000       0.00000      0.000000   \n",
       "25%    149052.250000      6.000000      6.000000      16.00000      0.000000   \n",
       "50%    160527.500000     20.000000     22.000000      53.00000      1.000000   \n",
       "75%    171608.750000     85.000000     94.000000     232.00000      5.000000   \n",
       "max    182901.000000  23078.000000  33147.000000  174195.00000   2048.000000   \n",
       "\n",
       "              内容下载率  \n",
       "count  42018.000000  \n",
       "mean       0.441324  \n",
       "std        0.217252  \n",
       "min        0.000000  \n",
       "25%        0.307692  \n",
       "50%        0.424658  \n",
       "75%        0.536527  \n",
       "max        1.000000  "
      ]
     },
     "execution_count": 48,
     "metadata": {},
     "output_type": "execute_result"
    }
   ],
   "source": [
    "df_bg.describe()"
   ]
  },
  {
   "cell_type": "code",
   "execution_count": 49,
   "id": "f188c2f4",
   "metadata": {},
   "outputs": [],
   "source": [
    "df_bg['下载区间'] = df_bg['下载次数'].apply(降维)"
   ]
  },
  {
   "cell_type": "markdown",
   "id": "301a63b8",
   "metadata": {},
   "source": [
    "## 分布"
   ]
  },
  {
   "cell_type": "code",
   "execution_count": 50,
   "id": "d45f0227",
   "metadata": {},
   "outputs": [
    {
     "data": {
      "image/png": "[encoded data removed]",
      "text/plain": [
       "<Figure size 640x480 with 1 Axes>"
      ]
     },
     "metadata": {},
     "output_type": "display_data"
    }
   ],
   "source": [
    "# 统计不同字符串类型的出现次数\n",
    "counts = df_bg['下载区间'].value_counts()\n",
    "\n",
    "# 绘制条形图\n",
    "counts.plot(kind='bar')\n",
    "plt.xlabel('办公下载区间')\n",
    "plt.ylabel('Count')\n",
    "plt.show()"
   ]
  },
  {
   "cell_type": "code",
   "execution_count": 51,
   "id": "2d928795",
   "metadata": {
    "scrolled": true
   },
   "outputs": [
    {
     "data": {
      "text/plain": [
       "1-10次        14855\n",
       "10-50次       11488\n",
       "101-2000次     9900\n",
       "51-100次       5274\n",
       "0次             345\n",
       "2000以上         156\n",
       "Name: 下载区间, dtype: int64"
      ]
     },
     "execution_count": 51,
     "metadata": {},
     "output_type": "execute_result"
    }
   ],
   "source": [
    "df_bg['下载区间'].value_counts()"
   ]
  },
  {
   "cell_type": "markdown",
   "id": "68c4e640",
   "metadata": {},
   "source": [
    "## 归一算价值"
   ]
  },
  {
   "cell_type": "code",
   "execution_count": 52,
   "id": "09721465",
   "metadata": {},
   "outputs": [],
   "source": [
    "# 归一化数据列\n",
    "df_bg['下载次数归一'] = (df_bg['下载次数'] - df_bg['下载次数'].min()) / (df_bg['下载次数'].max() - df_bg['下载次数'].min())\n",
    "df_bg['收藏数归一'] = (df_bg['收藏数'] -df_bg['收藏数'].min()) / (df_bg['收藏数'].max() - df_bg['收藏数'].min())\n",
    "df_bg['内容下载率归一'] = (df_bg['内容下载率'] - df_bg['内容下载率'].min()) / (df_bg['内容下载率'].max() - df_bg['内容下载率'].min())\n",
    "df_bg['价值'] = df_bg['下载次数归一'] * 0.6 + df_bg['收藏数归一'] * 0.2 + df_bg['内容下载率归一'] * 0.3"
   ]
  },
  {
   "cell_type": "markdown",
   "id": "17fdf793",
   "metadata": {},
   "source": [
    "## 抽样"
   ]
  },
  {
   "cell_type": "code",
   "execution_count": 238,
   "id": "466bdbfc",
   "metadata": {},
   "outputs": [],
   "source": [
    "bg_limit = df_bg.sort_values(by='内容下载率归一', ascending=False)\n",
    "# 计算保留的行数\n",
    "num_rows = int(len(bg_limit) * 0.7)\n",
    "\n",
    "# 保留前70%的数据\n",
    "bg_limit = bg_limit.head(num_rows)"
   ]
  },
  {
   "cell_type": "code",
   "execution_count": 239,
   "id": "c9f4c274",
   "metadata": {},
   "outputs": [],
   "source": [
    "# 等距抽样\n",
    "bg_sampled = bg_limit.iloc[::3]"
   ]
  },
  {
   "cell_type": "code",
   "execution_count": 240,
   "id": "9c31388c",
   "metadata": {},
   "outputs": [
    {
     "data": {
      "text/plain": [
       "(9804, 13)"
      ]
     },
     "execution_count": 240,
     "metadata": {},
     "output_type": "execute_result"
    }
   ],
   "source": [
    "bg_sampled.shape"
   ]
  },
  {
   "cell_type": "markdown",
   "id": "cb7d46ef",
   "metadata": {},
   "source": [
    "# 视频"
   ]
  },
  {
   "cell_type": "code",
   "execution_count": 57,
   "id": "08183689",
   "metadata": {},
   "outputs": [],
   "source": [
    "df_sp = pd.read_csv('D:\\Ori\\数据处理\\主站内容分层\\\\视频.csv')\n",
    "df_sp.rename(columns={'视频素材id': '素材id'}, inplace=True)\n",
    "df_sp = df_sp.drop_duplicates(subset=['素材id'])"
   ]
  },
  {
   "cell_type": "code",
   "execution_count": 58,
   "id": "b849ca9e",
   "metadata": {},
   "outputs": [],
   "source": [
    "df_sp['内容下载率'] = df_sp['下载次数'] / df_sp['浏览数']\n",
    "df_sp['内容下载率'] = df_sp['内容下载率'].apply(lambda x: 1 if x >= 1 else x)\n",
    "df_sp.fillna(0,inplace=True)"
   ]
  },
  {
   "cell_type": "code",
   "execution_count": 271,
   "id": "b4aa7063",
   "metadata": {},
   "outputs": [
    {
     "name": "stdout",
     "output_type": "stream",
     "text": [
      "<class 'pandas.core.frame.DataFrame'>\n",
      "Int64Index: 39302 entries, 0 to 39301\n",
      "Data columns (total 13 columns):\n",
      " #   Column   Non-Null Count  Dtype  \n",
      "---  ------   --------------  -----  \n",
      " 0   素材id     39302 non-null  int64  \n",
      " 1   标题       39302 non-null  object \n",
      " 2   下载人数     39302 non-null  int64  \n",
      " 3   下载次数     39302 non-null  int64  \n",
      " 4   浏览数      39302 non-null  int64  \n",
      " 5   收藏数      39302 non-null  int64  \n",
      " 6   内容下载率    39302 non-null  float64\n",
      " 7   下载区间     39302 non-null  object \n",
      " 8   下载次数归一   39302 non-null  float64\n",
      " 9   收藏数归一    39302 non-null  float64\n",
      " 10  内容下载率归一  39302 non-null  float64\n",
      " 11  价值       39302 non-null  float64\n",
      " 12  分类       39302 non-null  object \n",
      "dtypes: float64(5), int64(5), object(3)\n",
      "memory usage: 4.2+ MB\n"
     ]
    }
   ],
   "source": [
    "df_sp.info()"
   ]
  },
  {
   "cell_type": "code",
   "execution_count": 224,
   "id": "4f57ca1b",
   "metadata": {},
   "outputs": [],
   "source": [
    "df_sp['分类'] = '视频'"
   ]
  },
  {
   "cell_type": "code",
   "execution_count": 60,
   "id": "f74c5fad",
   "metadata": {},
   "outputs": [
    {
     "data": {
      "text/html": [
       "<div>\n",
       "<style scoped>\n",
       "    .dataframe tbody tr th:only-of-type {\n",
       "        vertical-align: middle;\n",
       "    }\n",
       "\n",
       "    .dataframe tbody tr th {\n",
       "        vertical-align: top;\n",
       "    }\n",
       "\n",
       "    .dataframe thead th {\n",
       "        text-align: right;\n",
       "    }\n",
       "</style>\n",
       "<table border=\"1\" class=\"dataframe\">\n",
       "  <thead>\n",
       "    <tr style=\"text-align: right;\">\n",
       "      <th></th>\n",
       "      <th>素材id</th>\n",
       "      <th>下载人数</th>\n",
       "      <th>下载次数</th>\n",
       "      <th>浏览数</th>\n",
       "      <th>收藏数</th>\n",
       "      <th>内容下载率</th>\n",
       "    </tr>\n",
       "  </thead>\n",
       "  <tbody>\n",
       "    <tr>\n",
       "      <th>count</th>\n",
       "      <td>3.930200e+04</td>\n",
       "      <td>39302.000000</td>\n",
       "      <td>39302.00000</td>\n",
       "      <td>39302.000000</td>\n",
       "      <td>39302.000000</td>\n",
       "      <td>39302.000000</td>\n",
       "    </tr>\n",
       "    <tr>\n",
       "      <th>mean</th>\n",
       "      <td>2.715965e+07</td>\n",
       "      <td>80.168261</td>\n",
       "      <td>105.79141</td>\n",
       "      <td>491.759936</td>\n",
       "      <td>7.672968</td>\n",
       "      <td>0.155174</td>\n",
       "    </tr>\n",
       "    <tr>\n",
       "      <th>std</th>\n",
       "      <td>2.972757e+05</td>\n",
       "      <td>162.190930</td>\n",
       "      <td>247.67394</td>\n",
       "      <td>867.731372</td>\n",
       "      <td>19.977109</td>\n",
       "      <td>0.116613</td>\n",
       "    </tr>\n",
       "    <tr>\n",
       "      <th>min</th>\n",
       "      <td>2.703905e+07</td>\n",
       "      <td>0.000000</td>\n",
       "      <td>0.00000</td>\n",
       "      <td>0.000000</td>\n",
       "      <td>0.000000</td>\n",
       "      <td>0.000000</td>\n",
       "    </tr>\n",
       "    <tr>\n",
       "      <th>25%</th>\n",
       "      <td>2.704915e+07</td>\n",
       "      <td>12.000000</td>\n",
       "      <td>13.00000</td>\n",
       "      <td>146.000000</td>\n",
       "      <td>1.000000</td>\n",
       "      <td>0.080694</td>\n",
       "    </tr>\n",
       "    <tr>\n",
       "      <th>50%</th>\n",
       "      <td>2.705899e+07</td>\n",
       "      <td>29.000000</td>\n",
       "      <td>33.00000</td>\n",
       "      <td>260.000000</td>\n",
       "      <td>2.000000</td>\n",
       "      <td>0.133858</td>\n",
       "    </tr>\n",
       "    <tr>\n",
       "      <th>75%</th>\n",
       "      <td>2.707061e+07</td>\n",
       "      <td>78.000000</td>\n",
       "      <td>94.00000</td>\n",
       "      <td>505.000000</td>\n",
       "      <td>7.000000</td>\n",
       "      <td>0.204412</td>\n",
       "    </tr>\n",
       "    <tr>\n",
       "      <th>max</th>\n",
       "      <td>2.803014e+07</td>\n",
       "      <td>4776.000000</td>\n",
       "      <td>7423.00000</td>\n",
       "      <td>32828.000000</td>\n",
       "      <td>562.000000</td>\n",
       "      <td>1.000000</td>\n",
       "    </tr>\n",
       "  </tbody>\n",
       "</table>\n",
       "</div>"
      ],
      "text/plain": [
       "               素材id          下载人数         下载次数           浏览数           收藏数  \\\n",
       "count  3.930200e+04  39302.000000  39302.00000  39302.000000  39302.000000   \n",
       "mean   2.715965e+07     80.168261    105.79141    491.759936      7.672968   \n",
       "std    2.972757e+05    162.190930    247.67394    867.731372     19.977109   \n",
       "min    2.703905e+07      0.000000      0.00000      0.000000      0.000000   \n",
       "25%    2.704915e+07     12.000000     13.00000    146.000000      1.000000   \n",
       "50%    2.705899e+07     29.000000     33.00000    260.000000      2.000000   \n",
       "75%    2.707061e+07     78.000000     94.00000    505.000000      7.000000   \n",
       "max    2.803014e+07   4776.000000   7423.00000  32828.000000    562.000000   \n",
       "\n",
       "              内容下载率  \n",
       "count  39302.000000  \n",
       "mean       0.155174  \n",
       "std        0.116613  \n",
       "min        0.000000  \n",
       "25%        0.080694  \n",
       "50%        0.133858  \n",
       "75%        0.204412  \n",
       "max        1.000000  "
      ]
     },
     "execution_count": 60,
     "metadata": {},
     "output_type": "execute_result"
    }
   ],
   "source": [
    "df_sp.describe()"
   ]
  },
  {
   "cell_type": "code",
   "execution_count": 61,
   "id": "5dbeb51b",
   "metadata": {},
   "outputs": [],
   "source": [
    "df_sp['下载区间'] = df_sp['下载次数'].apply(降维)"
   ]
  },
  {
   "cell_type": "markdown",
   "id": "1cc6f4b9",
   "metadata": {},
   "source": [
    "## 分布"
   ]
  },
  {
   "cell_type": "code",
   "execution_count": 62,
   "id": "ed1a812b",
   "metadata": {
    "scrolled": false
   },
   "outputs": [
    {
     "data": {
      "image/png": "[encoded data removed]",
      "text/plain": [
       "<Figure size 640x480 with 1 Axes>"
      ]
     },
     "metadata": {},
     "output_type": "display_data"
    }
   ],
   "source": [
    "# 统计不同字符串类型的出现次数\n",
    "counts = df_sp['下载区间'].value_counts()\n",
    "\n",
    "# 绘制条形图\n",
    "counts.plot(kind='bar')\n",
    "plt.xlabel('视频下载区间')\n",
    "plt.ylabel('Count')\n",
    "plt.show()"
   ]
  },
  {
   "cell_type": "code",
   "execution_count": 63,
   "id": "06b76c9a",
   "metadata": {
    "scrolled": true
   },
   "outputs": [
    {
     "data": {
      "text/plain": [
       "10-50次       16045\n",
       "101-2000次     9220\n",
       "1-10次         7424\n",
       "51-100次       5952\n",
       "0次             563\n",
       "2000以上          98\n",
       "Name: 下载区间, dtype: int64"
      ]
     },
     "execution_count": 63,
     "metadata": {},
     "output_type": "execute_result"
    }
   ],
   "source": [
    "df_sp['下载区间'].value_counts()"
   ]
  },
  {
   "cell_type": "markdown",
   "id": "f538b69d",
   "metadata": {},
   "source": [
    "## 归一算价值"
   ]
  },
  {
   "cell_type": "code",
   "execution_count": 64,
   "id": "944a8a7d",
   "metadata": {},
   "outputs": [],
   "source": [
    "# 归一化数据列\n",
    "df_sp['下载次数归一'] = (df_sp['下载次数'] - df_sp['下载次数'].min()) / (df_sp['下载次数'].max() - df_sp['下载次数'].min())\n",
    "df_sp['收藏数归一'] = (df_sp['收藏数'] -df_sp['收藏数'].min()) / (df_sp['收藏数'].max() - df_sp['收藏数'].min())\n",
    "df_sp['内容下载率归一'] = (df_sp['内容下载率'] - df_sp['内容下载率'].min()) / (df_sp['内容下载率'].max() - df_sp['内容下载率'].min())\n",
    "df_sp['价值'] = df_sp['下载次数归一'] * 0.6 + df_sp['收藏数归一'] * 0.2 + df_sp['内容下载率归一'] * 0.3"
   ]
  },
  {
   "cell_type": "markdown",
   "id": "cb98d37c",
   "metadata": {},
   "source": [
    "## 抽样"
   ]
  },
  {
   "cell_type": "code",
   "execution_count": 241,
   "id": "1977aff4",
   "metadata": {},
   "outputs": [],
   "source": [
    "sp_limit = df_sp.sort_values(by='内容下载率归一', ascending=False)\n",
    "# 计算保留的行数\n",
    "num_rows = int(len(sp_limit) * 0.7)\n",
    "\n",
    "# 保留前70%的数据\n",
    "sp_limit = sp_limit.head(num_rows)"
   ]
  },
  {
   "cell_type": "code",
   "execution_count": 242,
   "id": "a5a16a58",
   "metadata": {},
   "outputs": [],
   "source": [
    "# 等距抽样\n",
    "sp_sampled = sp_limit.iloc[::3]"
   ]
  },
  {
   "cell_type": "code",
   "execution_count": 273,
   "id": "dcd09745",
   "metadata": {
    "scrolled": true
   },
   "outputs": [
    {
     "data": {
      "text/plain": [
       "(9171, 13)"
      ]
     },
     "execution_count": 273,
     "metadata": {},
     "output_type": "execute_result"
    }
   ],
   "source": [
    "sp_sampled.shape"
   ]
  },
  {
   "cell_type": "markdown",
   "id": "83c7feec",
   "metadata": {},
   "source": [
    "# 艺术字"
   ]
  },
  {
   "cell_type": "code",
   "execution_count": 346,
   "id": "50629cd2",
   "metadata": {},
   "outputs": [],
   "source": [
    "df_ysz = pd.read_csv('D:\\Ori\\数据处理\\主站内容分层\\\\艺术字.csv')\n",
    "df_ysz.rename(columns={'艺术字素材id': '素材id'}, inplace=True)\n",
    "df_ysz = df_ysz.drop_duplicates(subset=['素材id'])"
   ]
  },
  {
   "cell_type": "code",
   "execution_count": 347,
   "id": "103f1f86",
   "metadata": {},
   "outputs": [],
   "source": [
    "df_ysz['内容下载率'] = df_ysz['下载次数'] / df_ysz['浏览数']\n",
    "df_ysz['内容下载率'] = df_ysz['内容下载率'].apply(lambda x: 1 if x >= 1 else x)\n",
    "df_ysz.fillna(0,inplace=True)"
   ]
  },
  {
   "cell_type": "code",
   "execution_count": 348,
   "id": "6fef5fc5",
   "metadata": {},
   "outputs": [],
   "source": [
    "df_ysz['分类'] = '艺术字'"
   ]
  },
  {
   "cell_type": "code",
   "execution_count": 349,
   "id": "834e3907",
   "metadata": {},
   "outputs": [
    {
     "name": "stdout",
     "output_type": "stream",
     "text": [
      "<class 'pandas.core.frame.DataFrame'>\n",
      "Int64Index: 47635 entries, 0 to 47644\n",
      "Data columns (total 8 columns):\n",
      " #   Column  Non-Null Count  Dtype  \n",
      "---  ------  --------------  -----  \n",
      " 0   素材id    47635 non-null  int64  \n",
      " 1   标题      47635 non-null  object \n",
      " 2   下载人数    47635 non-null  int64  \n",
      " 3   下载次数    47635 non-null  int64  \n",
      " 4   浏览数     47635 non-null  int64  \n",
      " 5   收藏数     47635 non-null  int64  \n",
      " 6   内容下载率   47635 non-null  float64\n",
      " 7   分类      47635 non-null  object \n",
      "dtypes: float64(1), int64(5), object(2)\n",
      "memory usage: 3.3+ MB\n"
     ]
    }
   ],
   "source": [
    "df_ysz.info()"
   ]
  },
  {
   "cell_type": "code",
   "execution_count": 329,
   "id": "53e60310",
   "metadata": {},
   "outputs": [
    {
     "data": {
      "text/html": [
       "<div>\n",
       "<style scoped>\n",
       "    .dataframe tbody tr th:only-of-type {\n",
       "        vertical-align: middle;\n",
       "    }\n",
       "\n",
       "    .dataframe tbody tr th {\n",
       "        vertical-align: top;\n",
       "    }\n",
       "\n",
       "    .dataframe thead th {\n",
       "        text-align: right;\n",
       "    }\n",
       "</style>\n",
       "<table border=\"1\" class=\"dataframe\">\n",
       "  <thead>\n",
       "    <tr style=\"text-align: right;\">\n",
       "      <th></th>\n",
       "      <th>素材id</th>\n",
       "      <th>下载人数</th>\n",
       "      <th>下载次数</th>\n",
       "      <th>浏览数</th>\n",
       "      <th>收藏数</th>\n",
       "      <th>内容下载率</th>\n",
       "      <th>下载次数归一</th>\n",
       "      <th>收藏数归一</th>\n",
       "      <th>内容下载率归一</th>\n",
       "      <th>价值</th>\n",
       "    </tr>\n",
       "  </thead>\n",
       "  <tbody>\n",
       "    <tr>\n",
       "      <th>count</th>\n",
       "      <td>3.930200e+04</td>\n",
       "      <td>39302.000000</td>\n",
       "      <td>39302.00000</td>\n",
       "      <td>39302.000000</td>\n",
       "      <td>39302.000000</td>\n",
       "      <td>39302.000000</td>\n",
       "      <td>39302.000000</td>\n",
       "      <td>39302.000000</td>\n",
       "      <td>39302.000000</td>\n",
       "      <td>39302.000000</td>\n",
       "    </tr>\n",
       "    <tr>\n",
       "      <th>mean</th>\n",
       "      <td>2.715965e+07</td>\n",
       "      <td>80.168261</td>\n",
       "      <td>105.79141</td>\n",
       "      <td>491.759936</td>\n",
       "      <td>7.672968</td>\n",
       "      <td>0.155174</td>\n",
       "      <td>0.014252</td>\n",
       "      <td>0.013653</td>\n",
       "      <td>0.155174</td>\n",
       "      <td>0.057834</td>\n",
       "    </tr>\n",
       "    <tr>\n",
       "      <th>std</th>\n",
       "      <td>2.972757e+05</td>\n",
       "      <td>162.190930</td>\n",
       "      <td>247.67394</td>\n",
       "      <td>867.731372</td>\n",
       "      <td>19.977109</td>\n",
       "      <td>0.116613</td>\n",
       "      <td>0.033366</td>\n",
       "      <td>0.035546</td>\n",
       "      <td>0.116613</td>\n",
       "      <td>0.052431</td>\n",
       "    </tr>\n",
       "    <tr>\n",
       "      <th>min</th>\n",
       "      <td>2.703905e+07</td>\n",
       "      <td>0.000000</td>\n",
       "      <td>0.00000</td>\n",
       "      <td>0.000000</td>\n",
       "      <td>0.000000</td>\n",
       "      <td>0.000000</td>\n",
       "      <td>0.000000</td>\n",
       "      <td>0.000000</td>\n",
       "      <td>0.000000</td>\n",
       "      <td>0.000000</td>\n",
       "    </tr>\n",
       "    <tr>\n",
       "      <th>25%</th>\n",
       "      <td>2.704915e+07</td>\n",
       "      <td>12.000000</td>\n",
       "      <td>13.00000</td>\n",
       "      <td>146.000000</td>\n",
       "      <td>1.000000</td>\n",
       "      <td>0.080694</td>\n",
       "      <td>0.001751</td>\n",
       "      <td>0.001779</td>\n",
       "      <td>0.080694</td>\n",
       "      <td>0.026421</td>\n",
       "    </tr>\n",
       "    <tr>\n",
       "      <th>50%</th>\n",
       "      <td>2.705899e+07</td>\n",
       "      <td>29.000000</td>\n",
       "      <td>33.00000</td>\n",
       "      <td>260.000000</td>\n",
       "      <td>2.000000</td>\n",
       "      <td>0.133858</td>\n",
       "      <td>0.004446</td>\n",
       "      <td>0.003559</td>\n",
       "      <td>0.133858</td>\n",
       "      <td>0.045095</td>\n",
       "    </tr>\n",
       "    <tr>\n",
       "      <th>75%</th>\n",
       "      <td>2.707061e+07</td>\n",
       "      <td>78.000000</td>\n",
       "      <td>94.00000</td>\n",
       "      <td>505.000000</td>\n",
       "      <td>7.000000</td>\n",
       "      <td>0.204412</td>\n",
       "      <td>0.012663</td>\n",
       "      <td>0.012456</td>\n",
       "      <td>0.204412</td>\n",
       "      <td>0.073541</td>\n",
       "    </tr>\n",
       "    <tr>\n",
       "      <th>max</th>\n",
       "      <td>2.803014e+07</td>\n",
       "      <td>4776.000000</td>\n",
       "      <td>7423.00000</td>\n",
       "      <td>32828.000000</td>\n",
       "      <td>562.000000</td>\n",
       "      <td>1.000000</td>\n",
       "      <td>1.000000</td>\n",
       "      <td>1.000000</td>\n",
       "      <td>1.000000</td>\n",
       "      <td>0.914947</td>\n",
       "    </tr>\n",
       "  </tbody>\n",
       "</table>\n",
       "</div>"
      ],
      "text/plain": [
       "               素材id          下载人数         下载次数           浏览数           收藏数  \\\n",
       "count  3.930200e+04  39302.000000  39302.00000  39302.000000  39302.000000   \n",
       "mean   2.715965e+07     80.168261    105.79141    491.759936      7.672968   \n",
       "std    2.972757e+05    162.190930    247.67394    867.731372     19.977109   \n",
       "min    2.703905e+07      0.000000      0.00000      0.000000      0.000000   \n",
       "25%    2.704915e+07     12.000000     13.00000    146.000000      1.000000   \n",
       "50%    2.705899e+07     29.000000     33.00000    260.000000      2.000000   \n",
       "75%    2.707061e+07     78.000000     94.00000    505.000000      7.000000   \n",
       "max    2.803014e+07   4776.000000   7423.00000  32828.000000    562.000000   \n",
       "\n",
       "              内容下载率        下载次数归一         收藏数归一       内容下载率归一            价值  \n",
       "count  39302.000000  39302.000000  39302.000000  39302.000000  39302.000000  \n",
       "mean       0.155174      0.014252      0.013653      0.155174      0.057834  \n",
       "std        0.116613      0.033366      0.035546      0.116613      0.052431  \n",
       "min        0.000000      0.000000      0.000000      0.000000      0.000000  \n",
       "25%        0.080694      0.001751      0.001779      0.080694      0.026421  \n",
       "50%        0.133858      0.004446      0.003559      0.133858      0.045095  \n",
       "75%        0.204412      0.012663      0.012456      0.204412      0.073541  \n",
       "max        1.000000      1.000000      1.000000      1.000000      0.914947  "
      ]
     },
     "execution_count": 329,
     "metadata": {},
     "output_type": "execute_result"
    }
   ],
   "source": [
    "df_ysz.describe()"
   ]
  },
  {
   "cell_type": "code",
   "execution_count": 350,
   "id": "ac106ba5",
   "metadata": {},
   "outputs": [],
   "source": [
    "df_ysz['下载区间'] = df_ysz['下载次数'].apply(降维)"
   ]
  },
  {
   "cell_type": "markdown",
   "id": "dea0578a",
   "metadata": {},
   "source": [
    "## 分布"
   ]
  },
  {
   "cell_type": "code",
   "execution_count": 351,
   "id": "40b6a49c",
   "metadata": {
    "scrolled": false
   },
   "outputs": [
    {
     "data": {
      "image/png": "[encoded data removed]",
      "text/plain": [
       "<Figure size 640x480 with 1 Axes>"
      ]
     },
     "metadata": {},
     "output_type": "display_data"
    }
   ],
   "source": [
    "# 统计不同字符串类型的出现次数\n",
    "counts = df_ysz['下载区间'].value_counts()\n",
    "\n",
    "# 绘制条形图\n",
    "counts.plot(kind='bar')\n",
    "plt.xlabel('艺术字下载区间')\n",
    "plt.ylabel('Count')\n",
    "plt.show()"
   ]
  },
  {
   "cell_type": "code",
   "execution_count": 352,
   "id": "08465afa",
   "metadata": {},
   "outputs": [
    {
     "data": {
      "text/plain": [
       "1-10次        22311\n",
       "10-50次       12738\n",
       "0次            4932\n",
       "101-2000次     4208\n",
       "51-100次       3390\n",
       "2000以上          56\n",
       "Name: 下载区间, dtype: int64"
      ]
     },
     "execution_count": 352,
     "metadata": {},
     "output_type": "execute_result"
    }
   ],
   "source": [
    "df_ysz['下载区间'].value_counts()"
   ]
  },
  {
   "cell_type": "markdown",
   "id": "e4f0ca5c",
   "metadata": {},
   "source": [
    "## 归一算价值"
   ]
  },
  {
   "cell_type": "code",
   "execution_count": 353,
   "id": "792d6f07",
   "metadata": {},
   "outputs": [],
   "source": [
    "# 归一化数据列\n",
    "df_ysz['下载次数归一'] = (df_ysz['下载次数'] - df_ysz['下载次数'].min()) / (df_ysz['下载次数'].max() - df_ysz['下载次数'].min())\n",
    "df_ysz['收藏数归一'] = (df_ysz['收藏数'] -df_ysz['收藏数'].min()) / (df_ysz['收藏数'].max() - df_ysz['收藏数'].min())\n",
    "df_ysz['内容下载率归一'] = (df_ysz['内容下载率'] - df_ysz['内容下载率'].min()) / (df_ysz['内容下载率'].max() - df_ysz['内容下载率'].min())\n",
    "df_ysz['价值'] = df_ysz['下载次数归一'] * 0.6 + df_ysz['收藏数归一'] * 0.2 + df_ysz['内容下载率归一'] * 0.3"
   ]
  },
  {
   "cell_type": "markdown",
   "id": "d1966a92",
   "metadata": {},
   "source": [
    "## 抽样"
   ]
  },
  {
   "cell_type": "code",
   "execution_count": 354,
   "id": "0229f758",
   "metadata": {},
   "outputs": [],
   "source": [
    "ysz_limit = df_ysz.sort_values(by='内容下载率归一', ascending=False)\n",
    "# 计算保留的行数\n",
    "num_rows = int(len(ysz_limit) * 0.7)\n",
    "\n",
    "# 保留前70%的数据\n",
    "ysz_limit = ysz_limit.head(num_rows)"
   ]
  },
  {
   "cell_type": "code",
   "execution_count": 355,
   "id": "2c671a6b",
   "metadata": {},
   "outputs": [],
   "source": [
    "# 等距抽样\n",
    "ysz_sampled = ysz_limit.iloc[::3]"
   ]
  },
  {
   "cell_type": "code",
   "execution_count": 356,
   "id": "48bf19b5",
   "metadata": {},
   "outputs": [
    {
     "data": {
      "text/plain": [
       "(11115, 13)"
      ]
     },
     "execution_count": 356,
     "metadata": {},
     "output_type": "execute_result"
    }
   ],
   "source": [
    "ysz_sampled.shape"
   ]
  },
  {
   "cell_type": "markdown",
   "id": "ea9cbfbf",
   "metadata": {},
   "source": [
    "# UI"
   ]
  },
  {
   "cell_type": "code",
   "execution_count": 79,
   "id": "6e67d932",
   "metadata": {},
   "outputs": [],
   "source": [
    "df_ui = pd.read_csv('D:\\Ori\\数据处理\\主站内容分层\\\\UI.csv')\n",
    "df_ui.rename(columns={'UI素材id': '素材id'}, inplace=True)\n",
    "df_ui = df_ui.drop_duplicates(subset=['素材id'])"
   ]
  },
  {
   "cell_type": "code",
   "execution_count": 80,
   "id": "9d96f916",
   "metadata": {},
   "outputs": [],
   "source": [
    "df_ui['内容下载率'] = df_ui['下载次数'] / df_ui['浏览数']\n",
    "df_ui['内容下载率'] = df_ui['内容下载率'].apply(lambda x: 1 if x >= 1 else x)\n",
    "df_ui.fillna(0,inplace=True)"
   ]
  },
  {
   "cell_type": "code",
   "execution_count": 226,
   "id": "6413be37",
   "metadata": {},
   "outputs": [],
   "source": [
    "df_ui['分类'] = 'UI'"
   ]
  },
  {
   "cell_type": "code",
   "execution_count": 81,
   "id": "c8d7e00a",
   "metadata": {},
   "outputs": [
    {
     "name": "stdout",
     "output_type": "stream",
     "text": [
      "<class 'pandas.core.frame.DataFrame'>\n",
      "Int64Index: 8519 entries, 0 to 8518\n",
      "Data columns (total 7 columns):\n",
      " #   Column  Non-Null Count  Dtype  \n",
      "---  ------  --------------  -----  \n",
      " 0   素材id    8519 non-null   int64  \n",
      " 1   标题      8519 non-null   object \n",
      " 2   下载人数    8519 non-null   int64  \n",
      " 3   下载次数    8519 non-null   int64  \n",
      " 4   浏览数     8519 non-null   int64  \n",
      " 5   收藏数     8519 non-null   int64  \n",
      " 6   内容下载率   8519 non-null   float64\n",
      "dtypes: float64(1), int64(5), object(1)\n",
      "memory usage: 532.4+ KB\n"
     ]
    }
   ],
   "source": [
    "df_ui.info()"
   ]
  },
  {
   "cell_type": "code",
   "execution_count": 82,
   "id": "153ede67",
   "metadata": {},
   "outputs": [
    {
     "data": {
      "text/html": [
       "<div>\n",
       "<style scoped>\n",
       "    .dataframe tbody tr th:only-of-type {\n",
       "        vertical-align: middle;\n",
       "    }\n",
       "\n",
       "    .dataframe tbody tr th {\n",
       "        vertical-align: top;\n",
       "    }\n",
       "\n",
       "    .dataframe thead th {\n",
       "        text-align: right;\n",
       "    }\n",
       "</style>\n",
       "<table border=\"1\" class=\"dataframe\">\n",
       "  <thead>\n",
       "    <tr style=\"text-align: right;\">\n",
       "      <th></th>\n",
       "      <th>素材id</th>\n",
       "      <th>下载人数</th>\n",
       "      <th>下载次数</th>\n",
       "      <th>浏览数</th>\n",
       "      <th>收藏数</th>\n",
       "      <th>内容下载率</th>\n",
       "    </tr>\n",
       "  </thead>\n",
       "  <tbody>\n",
       "    <tr>\n",
       "      <th>count</th>\n",
       "      <td>8519.000000</td>\n",
       "      <td>8519.000000</td>\n",
       "      <td>8519.000000</td>\n",
       "      <td>8519.000000</td>\n",
       "      <td>8519.000000</td>\n",
       "      <td>8519.000000</td>\n",
       "    </tr>\n",
       "    <tr>\n",
       "      <th>mean</th>\n",
       "      <td>61984.013851</td>\n",
       "      <td>43.339359</td>\n",
       "      <td>49.712290</td>\n",
       "      <td>517.893297</td>\n",
       "      <td>10.049419</td>\n",
       "      <td>0.064359</td>\n",
       "    </tr>\n",
       "    <tr>\n",
       "      <th>std</th>\n",
       "      <td>3933.557783</td>\n",
       "      <td>120.197640</td>\n",
       "      <td>147.074824</td>\n",
       "      <td>1019.292792</td>\n",
       "      <td>27.083728</td>\n",
       "      <td>0.061968</td>\n",
       "    </tr>\n",
       "    <tr>\n",
       "      <th>min</th>\n",
       "      <td>54599.000000</td>\n",
       "      <td>0.000000</td>\n",
       "      <td>0.000000</td>\n",
       "      <td>0.000000</td>\n",
       "      <td>0.000000</td>\n",
       "      <td>0.000000</td>\n",
       "    </tr>\n",
       "    <tr>\n",
       "      <th>25%</th>\n",
       "      <td>58640.000000</td>\n",
       "      <td>3.000000</td>\n",
       "      <td>3.000000</td>\n",
       "      <td>177.000000</td>\n",
       "      <td>1.000000</td>\n",
       "      <td>0.017045</td>\n",
       "    </tr>\n",
       "    <tr>\n",
       "      <th>50%</th>\n",
       "      <td>61743.000000</td>\n",
       "      <td>11.000000</td>\n",
       "      <td>12.000000</td>\n",
       "      <td>267.000000</td>\n",
       "      <td>3.000000</td>\n",
       "      <td>0.045198</td>\n",
       "    </tr>\n",
       "    <tr>\n",
       "      <th>75%</th>\n",
       "      <td>65405.500000</td>\n",
       "      <td>33.000000</td>\n",
       "      <td>37.000000</td>\n",
       "      <td>463.500000</td>\n",
       "      <td>8.000000</td>\n",
       "      <td>0.094021</td>\n",
       "    </tr>\n",
       "    <tr>\n",
       "      <th>max</th>\n",
       "      <td>68859.000000</td>\n",
       "      <td>2353.000000</td>\n",
       "      <td>3226.000000</td>\n",
       "      <td>27180.000000</td>\n",
       "      <td>691.000000</td>\n",
       "      <td>0.500000</td>\n",
       "    </tr>\n",
       "  </tbody>\n",
       "</table>\n",
       "</div>"
      ],
      "text/plain": [
       "               素材id         下载人数         下载次数           浏览数          收藏数  \\\n",
       "count   8519.000000  8519.000000  8519.000000   8519.000000  8519.000000   \n",
       "mean   61984.013851    43.339359    49.712290    517.893297    10.049419   \n",
       "std     3933.557783   120.197640   147.074824   1019.292792    27.083728   \n",
       "min    54599.000000     0.000000     0.000000      0.000000     0.000000   \n",
       "25%    58640.000000     3.000000     3.000000    177.000000     1.000000   \n",
       "50%    61743.000000    11.000000    12.000000    267.000000     3.000000   \n",
       "75%    65405.500000    33.000000    37.000000    463.500000     8.000000   \n",
       "max    68859.000000  2353.000000  3226.000000  27180.000000   691.000000   \n",
       "\n",
       "             内容下载率  \n",
       "count  8519.000000  \n",
       "mean      0.064359  \n",
       "std       0.061968  \n",
       "min       0.000000  \n",
       "25%       0.017045  \n",
       "50%       0.045198  \n",
       "75%       0.094021  \n",
       "max       0.500000  "
      ]
     },
     "execution_count": 82,
     "metadata": {},
     "output_type": "execute_result"
    }
   ],
   "source": [
    "df_ui.describe()"
   ]
  },
  {
   "cell_type": "code",
   "execution_count": 83,
   "id": "97c909d3",
   "metadata": {},
   "outputs": [],
   "source": [
    "df_ui['下载区间'] = df_ui['下载次数'].apply(降维)"
   ]
  },
  {
   "cell_type": "markdown",
   "id": "b2370175",
   "metadata": {},
   "source": [
    "## 分布"
   ]
  },
  {
   "cell_type": "code",
   "execution_count": 84,
   "id": "c71aae8d",
   "metadata": {},
   "outputs": [
    {
     "data": {
      "image/png": "[encoded data removed]",
      "text/plain": [
       "<Figure size 640x480 with 1 Axes>"
      ]
     },
     "metadata": {},
     "output_type": "display_data"
    }
   ],
   "source": [
    "# 统计不同字符串类型的出现次数\n",
    "counts = df_ui['下载区间'].value_counts()\n",
    "\n",
    "# 绘制条形图\n",
    "counts.plot(kind='bar')\n",
    "plt.xlabel('UI下载区间')\n",
    "plt.ylabel('Count')\n",
    "plt.show()"
   ]
  },
  {
   "cell_type": "code",
   "execution_count": 85,
   "id": "b8b9c802",
   "metadata": {
    "scrolled": true
   },
   "outputs": [
    {
     "data": {
      "text/plain": [
       "1-10次        3297\n",
       "10-50次       2801\n",
       "101-2000次     907\n",
       "51-100次       767\n",
       "0次            739\n",
       "2000以上          8\n",
       "Name: 下载区间, dtype: int64"
      ]
     },
     "execution_count": 85,
     "metadata": {},
     "output_type": "execute_result"
    }
   ],
   "source": [
    "df_ui['下载区间'].value_counts()"
   ]
  },
  {
   "cell_type": "markdown",
   "id": "0aec0891",
   "metadata": {},
   "source": [
    "## 归一算价值"
   ]
  },
  {
   "cell_type": "code",
   "execution_count": 86,
   "id": "e3ed0540",
   "metadata": {},
   "outputs": [],
   "source": [
    "# 归一化数据列\n",
    "df_ui['下载次数归一'] = (df_ui['下载次数'] - df_ui['下载次数'].min()) / (df_ui['下载次数'].max() - df_ui['下载次数'].min())\n",
    "df_ui['收藏数归一'] = (df_ui['收藏数'] -df_ui['收藏数'].min()) / (df_ui['收藏数'].max() - df_ui['收藏数'].min())\n",
    "df_ui['内容下载率归一'] = (df_ui['内容下载率'] - df_ui['内容下载率'].min()) / (df_ui['内容下载率'].max() - df_ui['内容下载率'].min())\n",
    "df_ui['价值'] = df_ui['下载次数归一'] * 0.6 + df_ui['收藏数归一'] * 0.2 + df_ui['内容下载率归一'] * 0.3"
   ]
  },
  {
   "cell_type": "markdown",
   "id": "2fd0a2a6",
   "metadata": {},
   "source": [
    "## 抽样"
   ]
  },
  {
   "cell_type": "code",
   "execution_count": 247,
   "id": "d181a01c",
   "metadata": {},
   "outputs": [],
   "source": [
    "ui_limit = df_ui.sort_values(by='内容下载率归一', ascending=False)\n",
    "# 计算保留的行数\n",
    "num_rows = int(len(ui_limit) * 0.7)\n",
    "\n",
    "# 保留前70%的数据\n",
    "ui_limit = ui_limit.head(num_rows)"
   ]
  },
  {
   "cell_type": "code",
   "execution_count": 248,
   "id": "94164cd4",
   "metadata": {},
   "outputs": [],
   "source": [
    "# 等距抽样\n",
    "ui_sampled = ui_limit.iloc[::3]"
   ]
  },
  {
   "cell_type": "code",
   "execution_count": 249,
   "id": "7a01c7d5",
   "metadata": {},
   "outputs": [
    {
     "data": {
      "text/plain": [
       "(1988, 13)"
      ]
     },
     "execution_count": 249,
     "metadata": {},
     "output_type": "execute_result"
    }
   ],
   "source": [
    "ui_sampled.shape"
   ]
  },
  {
   "cell_type": "markdown",
   "id": "c90689a2",
   "metadata": {},
   "source": [
    "# 插画"
   ]
  },
  {
   "cell_type": "code",
   "execution_count": 90,
   "id": "a101d3e7",
   "metadata": {},
   "outputs": [],
   "source": [
    "df_ch = pd.read_csv('D:\\Ori\\数据处理\\主站内容分层\\\\插画.csv')\n",
    "df_ch.rename(columns={'插画素材id': '素材id'}, inplace=True)\n",
    "df_ch = df_ch.drop_duplicates(subset=['素材id'])"
   ]
  },
  {
   "cell_type": "code",
   "execution_count": 91,
   "id": "92c953f1",
   "metadata": {},
   "outputs": [],
   "source": [
    "df_ch['内容下载率'] = df_ch['下载次数'] / df_ch['浏览数']\n",
    "df_ch['内容下载率'] = df_ch['内容下载率'].apply(lambda x: 1 if x >= 1 else x)\n",
    "df_ch.fillna(0,inplace=True)"
   ]
  },
  {
   "cell_type": "code",
   "execution_count": 227,
   "id": "1acce273",
   "metadata": {},
   "outputs": [],
   "source": [
    "df_ch['分类'] = '插画'"
   ]
  },
  {
   "cell_type": "code",
   "execution_count": 92,
   "id": "fa7157a3",
   "metadata": {},
   "outputs": [
    {
     "name": "stdout",
     "output_type": "stream",
     "text": [
      "<class 'pandas.core.frame.DataFrame'>\n",
      "Int64Index: 28459 entries, 0 to 28459\n",
      "Data columns (total 7 columns):\n",
      " #   Column  Non-Null Count  Dtype  \n",
      "---  ------  --------------  -----  \n",
      " 0   素材id    28459 non-null  int64  \n",
      " 1   标题      28459 non-null  object \n",
      " 2   下载人数    28459 non-null  int64  \n",
      " 3   下载次数    28459 non-null  int64  \n",
      " 4   浏览数     28459 non-null  int64  \n",
      " 5   收藏数     28459 non-null  int64  \n",
      " 6   内容下载率   28459 non-null  float64\n",
      "dtypes: float64(1), int64(5), object(1)\n",
      "memory usage: 1.7+ MB\n"
     ]
    }
   ],
   "source": [
    "df_ch.info()"
   ]
  },
  {
   "cell_type": "code",
   "execution_count": 93,
   "id": "e1d14368",
   "metadata": {},
   "outputs": [],
   "source": [
    "df_ch['下载区间'] = df_ch['下载次数'].apply(降维)"
   ]
  },
  {
   "cell_type": "code",
   "execution_count": 94,
   "id": "4a539277",
   "metadata": {},
   "outputs": [
    {
     "data": {
      "text/html": [
       "<div>\n",
       "<style scoped>\n",
       "    .dataframe tbody tr th:only-of-type {\n",
       "        vertical-align: middle;\n",
       "    }\n",
       "\n",
       "    .dataframe tbody tr th {\n",
       "        vertical-align: top;\n",
       "    }\n",
       "\n",
       "    .dataframe thead th {\n",
       "        text-align: right;\n",
       "    }\n",
       "</style>\n",
       "<table border=\"1\" class=\"dataframe\">\n",
       "  <thead>\n",
       "    <tr style=\"text-align: right;\">\n",
       "      <th></th>\n",
       "      <th>素材id</th>\n",
       "      <th>下载人数</th>\n",
       "      <th>下载次数</th>\n",
       "      <th>浏览数</th>\n",
       "      <th>收藏数</th>\n",
       "      <th>内容下载率</th>\n",
       "    </tr>\n",
       "  </thead>\n",
       "  <tbody>\n",
       "    <tr>\n",
       "      <th>count</th>\n",
       "      <td>28459.000000</td>\n",
       "      <td>28459.000000</td>\n",
       "      <td>28459.000000</td>\n",
       "      <td>28459.000000</td>\n",
       "      <td>28459.000000</td>\n",
       "      <td>28459.000000</td>\n",
       "    </tr>\n",
       "    <tr>\n",
       "      <th>mean</th>\n",
       "      <td>89002.067465</td>\n",
       "      <td>52.125900</td>\n",
       "      <td>62.695913</td>\n",
       "      <td>322.544222</td>\n",
       "      <td>7.534488</td>\n",
       "      <td>0.118662</td>\n",
       "    </tr>\n",
       "    <tr>\n",
       "      <th>std</th>\n",
       "      <td>9532.501561</td>\n",
       "      <td>115.307819</td>\n",
       "      <td>144.321298</td>\n",
       "      <td>432.749889</td>\n",
       "      <td>16.530342</td>\n",
       "      <td>0.103249</td>\n",
       "    </tr>\n",
       "    <tr>\n",
       "      <th>min</th>\n",
       "      <td>64952.000000</td>\n",
       "      <td>0.000000</td>\n",
       "      <td>0.000000</td>\n",
       "      <td>0.000000</td>\n",
       "      <td>0.000000</td>\n",
       "      <td>0.000000</td>\n",
       "    </tr>\n",
       "    <tr>\n",
       "      <th>25%</th>\n",
       "      <td>80754.500000</td>\n",
       "      <td>5.000000</td>\n",
       "      <td>5.000000</td>\n",
       "      <td>120.000000</td>\n",
       "      <td>1.000000</td>\n",
       "      <td>0.039326</td>\n",
       "    </tr>\n",
       "    <tr>\n",
       "      <th>50%</th>\n",
       "      <td>88806.000000</td>\n",
       "      <td>13.000000</td>\n",
       "      <td>15.000000</td>\n",
       "      <td>192.000000</td>\n",
       "      <td>2.000000</td>\n",
       "      <td>0.087719</td>\n",
       "    </tr>\n",
       "    <tr>\n",
       "      <th>75%</th>\n",
       "      <td>97233.500000</td>\n",
       "      <td>46.000000</td>\n",
       "      <td>54.000000</td>\n",
       "      <td>341.000000</td>\n",
       "      <td>7.000000</td>\n",
       "      <td>0.173913</td>\n",
       "    </tr>\n",
       "    <tr>\n",
       "      <th>max</th>\n",
       "      <td>106180.000000</td>\n",
       "      <td>2389.000000</td>\n",
       "      <td>3218.000000</td>\n",
       "      <td>11178.000000</td>\n",
       "      <td>346.000000</td>\n",
       "      <td>1.000000</td>\n",
       "    </tr>\n",
       "  </tbody>\n",
       "</table>\n",
       "</div>"
      ],
      "text/plain": [
       "                素材id          下载人数          下载次数           浏览数           收藏数  \\\n",
       "count   28459.000000  28459.000000  28459.000000  28459.000000  28459.000000   \n",
       "mean    89002.067465     52.125900     62.695913    322.544222      7.534488   \n",
       "std      9532.501561    115.307819    144.321298    432.749889     16.530342   \n",
       "min     64952.000000      0.000000      0.000000      0.000000      0.000000   \n",
       "25%     80754.500000      5.000000      5.000000    120.000000      1.000000   \n",
       "50%     88806.000000     13.000000     15.000000    192.000000      2.000000   \n",
       "75%     97233.500000     46.000000     54.000000    341.000000      7.000000   \n",
       "max    106180.000000   2389.000000   3218.000000  11178.000000    346.000000   \n",
       "\n",
       "              内容下载率  \n",
       "count  28459.000000  \n",
       "mean       0.118662  \n",
       "std        0.103249  \n",
       "min        0.000000  \n",
       "25%        0.039326  \n",
       "50%        0.087719  \n",
       "75%        0.173913  \n",
       "max        1.000000  "
      ]
     },
     "execution_count": 94,
     "metadata": {},
     "output_type": "execute_result"
    }
   ],
   "source": [
    "df_ch.describe()"
   ]
  },
  {
   "cell_type": "markdown",
   "id": "f4c4015b",
   "metadata": {},
   "source": [
    "## 分布"
   ]
  },
  {
   "cell_type": "code",
   "execution_count": 95,
   "id": "4c095b77",
   "metadata": {
    "scrolled": false
   },
   "outputs": [
    {
     "data": {
      "image/png": "[encoded data removed]",
      "text/plain": [
       "<Figure size 640x480 with 1 Axes>"
      ]
     },
     "metadata": {},
     "output_type": "display_data"
    }
   ],
   "source": [
    "# 统计不同字符串类型的出现次数\n",
    "counts = df_ch['下载区间'].value_counts()\n",
    "\n",
    "# 绘制条形图\n",
    "counts.plot(kind='bar')\n",
    "plt.xlabel('插画下载区间')\n",
    "plt.ylabel('Count')\n",
    "plt.show()"
   ]
  },
  {
   "cell_type": "code",
   "execution_count": 96,
   "id": "899af419",
   "metadata": {},
   "outputs": [
    {
     "data": {
      "text/plain": [
       "1-10次        10471\n",
       "10-50次        9351\n",
       "101-2000次     4488\n",
       "51-100次       2913\n",
       "0次            1228\n",
       "2000以上           8\n",
       "Name: 下载区间, dtype: int64"
      ]
     },
     "execution_count": 96,
     "metadata": {},
     "output_type": "execute_result"
    }
   ],
   "source": [
    "df_ch['下载区间'].value_counts()"
   ]
  },
  {
   "cell_type": "markdown",
   "id": "63563333",
   "metadata": {},
   "source": [
    "## 归一算价值"
   ]
  },
  {
   "cell_type": "code",
   "execution_count": 97,
   "id": "e103f759",
   "metadata": {},
   "outputs": [],
   "source": [
    "# 归一化数据列\n",
    "df_ch['下载次数归一'] = (df_ch['下载次数'] - df_ch['下载次数'].min()) / (df_ch['下载次数'].max() - df_ch['下载次数'].min())\n",
    "df_ch['收藏数归一'] = (df_ch['收藏数'] -df_ch['收藏数'].min()) / (df_ch['收藏数'].max() - df_ch['收藏数'].min())\n",
    "df_ch['内容下载率归一'] = (df_ch['内容下载率'] - df_ch['内容下载率'].min()) / (df_ch['内容下载率'].max() - df_ch['内容下载率'].min())\n",
    "df_ch['价值'] = df_ch['下载次数归一'] * 0.6 + df_ch['收藏数归一'] * 0.2 + df_ch['内容下载率归一'] * 0.3"
   ]
  },
  {
   "cell_type": "markdown",
   "id": "0d604685",
   "metadata": {},
   "source": [
    "## 抽样"
   ]
  },
  {
   "cell_type": "code",
   "execution_count": 250,
   "id": "1ff27be4",
   "metadata": {},
   "outputs": [],
   "source": [
    "ch_limit = df_ch.sort_values(by='内容下载率归一', ascending=False)\n",
    "# 计算保留的行数\n",
    "num_rows = int(len(ch_limit) * 0.6)\n",
    "\n",
    "# 保留前70%的数据\n",
    "ch_limit = ch_limit.head(num_rows)"
   ]
  },
  {
   "cell_type": "code",
   "execution_count": 251,
   "id": "515cafff",
   "metadata": {},
   "outputs": [],
   "source": [
    "# 等距抽样\n",
    "ch_sampled = ch_limit.iloc[::2]"
   ]
  },
  {
   "cell_type": "code",
   "execution_count": 252,
   "id": "78c9011d",
   "metadata": {},
   "outputs": [
    {
     "data": {
      "text/plain": [
       "(8538, 13)"
      ]
     },
     "execution_count": 252,
     "metadata": {},
     "output_type": "execute_result"
    }
   ],
   "source": [
    "ch_sampled.shape"
   ]
  },
  {
   "cell_type": "markdown",
   "id": "81eb78fd",
   "metadata": {},
   "source": [
    "# 摄影图"
   ]
  },
  {
   "cell_type": "code",
   "execution_count": 102,
   "id": "5ae653c8",
   "metadata": {},
   "outputs": [],
   "source": [
    "df_syt = pd.read_csv('D:\\Ori\\数据处理\\主站内容分层\\\\摄影图.csv')\n",
    "df_syt.rename(columns={'摄影图素材id': '素材id'}, inplace=True)\n",
    "df_syt = df_syt.drop_duplicates(subset=['素材id'])"
   ]
  },
  {
   "cell_type": "code",
   "execution_count": 103,
   "id": "c709a27f",
   "metadata": {},
   "outputs": [],
   "source": [
    "df_syt['内容下载率'] = df_syt['下载次数'] / df_syt['浏览数']\n",
    "df_syt['内容下载率'] = df_syt['内容下载率'].apply(lambda x: 1 if x >= 1 else x)\n",
    "df_syt.fillna(0,inplace=True)"
   ]
  },
  {
   "cell_type": "code",
   "execution_count": 228,
   "id": "319a66f4",
   "metadata": {},
   "outputs": [],
   "source": [
    "df_syt['分类'] = '摄影图'"
   ]
  },
  {
   "cell_type": "code",
   "execution_count": 104,
   "id": "67867563",
   "metadata": {
    "scrolled": true
   },
   "outputs": [
    {
     "name": "stdout",
     "output_type": "stream",
     "text": [
      "<class 'pandas.core.frame.DataFrame'>\n",
      "Int64Index: 119203 entries, 0 to 119202\n",
      "Data columns (total 7 columns):\n",
      " #   Column  Non-Null Count   Dtype  \n",
      "---  ------  --------------   -----  \n",
      " 0   素材id    119203 non-null  int64  \n",
      " 1   标题      119203 non-null  object \n",
      " 2   下载人数    119203 non-null  int64  \n",
      " 3   下载次数    119203 non-null  int64  \n",
      " 4   浏览数     119203 non-null  int64  \n",
      " 5   收藏数     119203 non-null  int64  \n",
      " 6   内容下载率   119203 non-null  float64\n",
      "dtypes: float64(1), int64(5), object(1)\n",
      "memory usage: 7.3+ MB\n"
     ]
    }
   ],
   "source": [
    "df_syt.info()"
   ]
  },
  {
   "cell_type": "code",
   "execution_count": 105,
   "id": "91bb957d",
   "metadata": {},
   "outputs": [],
   "source": [
    "df_syt['下载区间'] = df_syt['下载次数'].apply(降维)"
   ]
  },
  {
   "cell_type": "code",
   "execution_count": 106,
   "id": "adf55dd8",
   "metadata": {},
   "outputs": [
    {
     "data": {
      "text/html": [
       "<div>\n",
       "<style scoped>\n",
       "    .dataframe tbody tr th:only-of-type {\n",
       "        vertical-align: middle;\n",
       "    }\n",
       "\n",
       "    .dataframe tbody tr th {\n",
       "        vertical-align: top;\n",
       "    }\n",
       "\n",
       "    .dataframe thead th {\n",
       "        text-align: right;\n",
       "    }\n",
       "</style>\n",
       "<table border=\"1\" class=\"dataframe\">\n",
       "  <thead>\n",
       "    <tr style=\"text-align: right;\">\n",
       "      <th></th>\n",
       "      <th>素材id</th>\n",
       "      <th>下载人数</th>\n",
       "      <th>下载次数</th>\n",
       "      <th>浏览数</th>\n",
       "      <th>收藏数</th>\n",
       "      <th>内容下载率</th>\n",
       "    </tr>\n",
       "  </thead>\n",
       "  <tbody>\n",
       "    <tr>\n",
       "      <th>count</th>\n",
       "      <td>1.192030e+05</td>\n",
       "      <td>119203.000000</td>\n",
       "      <td>119203.000000</td>\n",
       "      <td>119203.000000</td>\n",
       "      <td>119203.000000</td>\n",
       "      <td>119203.000000</td>\n",
       "    </tr>\n",
       "    <tr>\n",
       "      <th>mean</th>\n",
       "      <td>2.462539e+05</td>\n",
       "      <td>14.875121</td>\n",
       "      <td>16.607300</td>\n",
       "      <td>109.679320</td>\n",
       "      <td>0.587510</td>\n",
       "      <td>0.080143</td>\n",
       "    </tr>\n",
       "    <tr>\n",
       "      <th>std</th>\n",
       "      <td>2.150990e+05</td>\n",
       "      <td>59.635052</td>\n",
       "      <td>69.334733</td>\n",
       "      <td>167.886729</td>\n",
       "      <td>2.234003</td>\n",
       "      <td>0.098328</td>\n",
       "    </tr>\n",
       "    <tr>\n",
       "      <th>min</th>\n",
       "      <td>3.745100e+04</td>\n",
       "      <td>0.000000</td>\n",
       "      <td>0.000000</td>\n",
       "      <td>1.000000</td>\n",
       "      <td>0.000000</td>\n",
       "      <td>0.000000</td>\n",
       "    </tr>\n",
       "    <tr>\n",
       "      <th>25%</th>\n",
       "      <td>1.795155e+05</td>\n",
       "      <td>1.000000</td>\n",
       "      <td>1.000000</td>\n",
       "      <td>44.000000</td>\n",
       "      <td>0.000000</td>\n",
       "      <td>0.016586</td>\n",
       "    </tr>\n",
       "    <tr>\n",
       "      <th>50%</th>\n",
       "      <td>2.123960e+05</td>\n",
       "      <td>3.000000</td>\n",
       "      <td>3.000000</td>\n",
       "      <td>73.000000</td>\n",
       "      <td>0.000000</td>\n",
       "      <td>0.048387</td>\n",
       "    </tr>\n",
       "    <tr>\n",
       "      <th>75%</th>\n",
       "      <td>2.445655e+05</td>\n",
       "      <td>9.000000</td>\n",
       "      <td>10.000000</td>\n",
       "      <td>126.000000</td>\n",
       "      <td>1.000000</td>\n",
       "      <td>0.105691</td>\n",
       "    </tr>\n",
       "    <tr>\n",
       "      <th>max</th>\n",
       "      <td>1.864860e+06</td>\n",
       "      <td>3566.000000</td>\n",
       "      <td>4470.000000</td>\n",
       "      <td>10135.000000</td>\n",
       "      <td>150.000000</td>\n",
       "      <td>1.000000</td>\n",
       "    </tr>\n",
       "  </tbody>\n",
       "</table>\n",
       "</div>"
      ],
      "text/plain": [
       "               素材id           下载人数           下载次数            浏览数  \\\n",
       "count  1.192030e+05  119203.000000  119203.000000  119203.000000   \n",
       "mean   2.462539e+05      14.875121      16.607300     109.679320   \n",
       "std    2.150990e+05      59.635052      69.334733     167.886729   \n",
       "min    3.745100e+04       0.000000       0.000000       1.000000   \n",
       "25%    1.795155e+05       1.000000       1.000000      44.000000   \n",
       "50%    2.123960e+05       3.000000       3.000000      73.000000   \n",
       "75%    2.445655e+05       9.000000      10.000000     126.000000   \n",
       "max    1.864860e+06    3566.000000    4470.000000   10135.000000   \n",
       "\n",
       "                 收藏数          内容下载率  \n",
       "count  119203.000000  119203.000000  \n",
       "mean        0.587510       0.080143  \n",
       "std         2.234003       0.098328  \n",
       "min         0.000000       0.000000  \n",
       "25%         0.000000       0.016586  \n",
       "50%         0.000000       0.048387  \n",
       "75%         1.000000       0.105691  \n",
       "max       150.000000       1.000000  "
      ]
     },
     "execution_count": 106,
     "metadata": {},
     "output_type": "execute_result"
    }
   ],
   "source": [
    "df_syt.describe()"
   ]
  },
  {
   "cell_type": "markdown",
   "id": "28ba04ac",
   "metadata": {},
   "source": [
    "## 分布"
   ]
  },
  {
   "cell_type": "code",
   "execution_count": 107,
   "id": "08080a76",
   "metadata": {},
   "outputs": [
    {
     "data": {
      "image/png": "[encoded data removed]",
      "text/plain": [
       "<Figure size 640x480 with 1 Axes>"
      ]
     },
     "metadata": {},
     "output_type": "display_data"
    }
   ],
   "source": [
    "# 统计不同字符串类型的出现次数\n",
    "counts = df_syt['下载区间'].value_counts()\n",
    "\n",
    "# 绘制条形图\n",
    "counts.plot(kind='bar')\n",
    "plt.xlabel('摄影图下载区间')\n",
    "plt.ylabel('Count')\n",
    "plt.show()"
   ]
  },
  {
   "cell_type": "code",
   "execution_count": 108,
   "id": "2a62e026",
   "metadata": {
    "scrolled": true
   },
   "outputs": [
    {
     "data": {
      "text/plain": [
       "1-10次        68012\n",
       "0次           22433\n",
       "10-50次       21910\n",
       "51-100次       3424\n",
       "101-2000次     3414\n",
       "2000以上          10\n",
       "Name: 下载区间, dtype: int64"
      ]
     },
     "execution_count": 108,
     "metadata": {},
     "output_type": "execute_result"
    }
   ],
   "source": [
    "df_syt['下载区间'].value_counts()"
   ]
  },
  {
   "cell_type": "markdown",
   "id": "0bd65660",
   "metadata": {},
   "source": [
    "## 归一算价值"
   ]
  },
  {
   "cell_type": "code",
   "execution_count": 109,
   "id": "12925e06",
   "metadata": {},
   "outputs": [],
   "source": [
    "# 归一化数据列\n",
    "df_syt['下载次数归一'] = (df_syt['下载次数'] - df_syt['下载次数'].min()) / (df_syt['下载次数'].max() - df_syt['下载次数'].min())\n",
    "df_syt['收藏数归一'] = (df_syt['收藏数'] -df_syt['收藏数'].min()) / (df_syt['收藏数'].max() - df_syt['收藏数'].min())\n",
    "df_syt['内容下载率归一'] = (df_syt['内容下载率'] - df_syt['内容下载率'].min()) / (df_syt['内容下载率'].max() - df_syt['内容下载率'].min())\n",
    "df_syt['价值'] = df_syt['下载次数归一'] * 0.6 + df_syt['收藏数归一'] * 0.2 + df_syt['内容下载率归一'] * 0.3"
   ]
  },
  {
   "cell_type": "markdown",
   "id": "ed5a472c",
   "metadata": {},
   "source": [
    "## 抽样"
   ]
  },
  {
   "cell_type": "code",
   "execution_count": 253,
   "id": "ceb7b4b6",
   "metadata": {},
   "outputs": [],
   "source": [
    "syt_limit = df_syt.sort_values(by='内容下载率归一', ascending=False)\n",
    "# 计算保留的行数\n",
    "num_rows = int(len(syt_limit) * 0.6)\n",
    "\n",
    "# 保留前70%的数据\n",
    "syt_limit = syt_limit.head(num_rows)"
   ]
  },
  {
   "cell_type": "code",
   "execution_count": 254,
   "id": "dfd5c710",
   "metadata": {},
   "outputs": [],
   "source": [
    "# 等距抽样\n",
    "syt_sampled = syt_limit.iloc[::3]"
   ]
  },
  {
   "cell_type": "code",
   "execution_count": 255,
   "id": "981c6096",
   "metadata": {},
   "outputs": [
    {
     "data": {
      "text/plain": [
       "(23841, 13)"
      ]
     },
     "execution_count": 255,
     "metadata": {},
     "output_type": "execute_result"
    }
   ],
   "source": [
    "syt_sampled.shape"
   ]
  },
  {
   "cell_type": "markdown",
   "id": "43cb323f",
   "metadata": {},
   "source": [
    "# GIF"
   ]
  },
  {
   "cell_type": "code",
   "execution_count": 119,
   "id": "5c750d58",
   "metadata": {},
   "outputs": [],
   "source": [
    "df_gif = pd.read_csv('D:\\Ori\\数据处理\\主站内容分层\\\\GIF.csv')\n",
    "df_gif.rename(columns={'GIF素材id': '素材id'}, inplace=True)\n",
    "df_gif = df_gif.drop_duplicates(subset=['素材id'])"
   ]
  },
  {
   "cell_type": "code",
   "execution_count": 120,
   "id": "95762ec8",
   "metadata": {},
   "outputs": [],
   "source": [
    "df_gif['内容下载率'] = df_gif['下载次数'] / df_gif['浏览数']\n",
    "df_gif['内容下载率'] = df_gif['内容下载率'].apply(lambda x: 1 if x >= 1 else x)\n",
    "df_gif.fillna(0,inplace=True)"
   ]
  },
  {
   "cell_type": "code",
   "execution_count": 229,
   "id": "fad02246",
   "metadata": {},
   "outputs": [],
   "source": [
    "df_gif['分类'] = 'GIF'"
   ]
  },
  {
   "cell_type": "code",
   "execution_count": 121,
   "id": "2425a434",
   "metadata": {},
   "outputs": [
    {
     "name": "stdout",
     "output_type": "stream",
     "text": [
      "<class 'pandas.core.frame.DataFrame'>\n",
      "Int64Index: 56112 entries, 0 to 56111\n",
      "Data columns (total 7 columns):\n",
      " #   Column  Non-Null Count  Dtype  \n",
      "---  ------  --------------  -----  \n",
      " 0   素材id    56112 non-null  int64  \n",
      " 1   标题      56112 non-null  object \n",
      " 2   下载人数    56112 non-null  int64  \n",
      " 3   下载次数    56112 non-null  int64  \n",
      " 4   浏览数     56112 non-null  int64  \n",
      " 5   收藏数     56112 non-null  int64  \n",
      " 6   内容下载率   56112 non-null  float64\n",
      "dtypes: float64(1), int64(5), object(1)\n",
      "memory usage: 3.4+ MB\n"
     ]
    }
   ],
   "source": [
    "df_gif.info()"
   ]
  },
  {
   "cell_type": "code",
   "execution_count": 122,
   "id": "9cabf7c3",
   "metadata": {},
   "outputs": [],
   "source": [
    "df_gif['下载区间'] = df_gif['下载次数'].apply(降维)"
   ]
  },
  {
   "cell_type": "code",
   "execution_count": 123,
   "id": "b4201212",
   "metadata": {},
   "outputs": [
    {
     "data": {
      "text/html": [
       "<div>\n",
       "<style scoped>\n",
       "    .dataframe tbody tr th:only-of-type {\n",
       "        vertical-align: middle;\n",
       "    }\n",
       "\n",
       "    .dataframe tbody tr th {\n",
       "        vertical-align: top;\n",
       "    }\n",
       "\n",
       "    .dataframe thead th {\n",
       "        text-align: right;\n",
       "    }\n",
       "</style>\n",
       "<table border=\"1\" class=\"dataframe\">\n",
       "  <thead>\n",
       "    <tr style=\"text-align: right;\">\n",
       "      <th></th>\n",
       "      <th>素材id</th>\n",
       "      <th>下载人数</th>\n",
       "      <th>下载次数</th>\n",
       "      <th>浏览数</th>\n",
       "      <th>收藏数</th>\n",
       "      <th>内容下载率</th>\n",
       "    </tr>\n",
       "  </thead>\n",
       "  <tbody>\n",
       "    <tr>\n",
       "      <th>count</th>\n",
       "      <td>56112.000000</td>\n",
       "      <td>56112.000000</td>\n",
       "      <td>56112.000000</td>\n",
       "      <td>56112.000000</td>\n",
       "      <td>56112.000000</td>\n",
       "      <td>56112.000000</td>\n",
       "    </tr>\n",
       "    <tr>\n",
       "      <th>mean</th>\n",
       "      <td>78641.314033</td>\n",
       "      <td>71.956747</td>\n",
       "      <td>88.263651</td>\n",
       "      <td>193.932742</td>\n",
       "      <td>2.976796</td>\n",
       "      <td>0.331391</td>\n",
       "    </tr>\n",
       "    <tr>\n",
       "      <th>std</th>\n",
       "      <td>19676.137289</td>\n",
       "      <td>180.176482</td>\n",
       "      <td>242.784646</td>\n",
       "      <td>393.394071</td>\n",
       "      <td>7.555914</td>\n",
       "      <td>0.225783</td>\n",
       "    </tr>\n",
       "    <tr>\n",
       "      <th>min</th>\n",
       "      <td>18234.000000</td>\n",
       "      <td>0.000000</td>\n",
       "      <td>0.000000</td>\n",
       "      <td>1.000000</td>\n",
       "      <td>-5.000000</td>\n",
       "      <td>0.000000</td>\n",
       "    </tr>\n",
       "    <tr>\n",
       "      <th>25%</th>\n",
       "      <td>61553.750000</td>\n",
       "      <td>8.000000</td>\n",
       "      <td>9.000000</td>\n",
       "      <td>53.000000</td>\n",
       "      <td>0.000000</td>\n",
       "      <td>0.152542</td>\n",
       "    </tr>\n",
       "    <tr>\n",
       "      <th>50%</th>\n",
       "      <td>79336.500000</td>\n",
       "      <td>22.000000</td>\n",
       "      <td>25.000000</td>\n",
       "      <td>95.000000</td>\n",
       "      <td>1.000000</td>\n",
       "      <td>0.290113</td>\n",
       "    </tr>\n",
       "    <tr>\n",
       "      <th>75%</th>\n",
       "      <td>95738.250000</td>\n",
       "      <td>63.000000</td>\n",
       "      <td>74.000000</td>\n",
       "      <td>196.000000</td>\n",
       "      <td>3.000000</td>\n",
       "      <td>0.473214</td>\n",
       "    </tr>\n",
       "    <tr>\n",
       "      <th>max</th>\n",
       "      <td>111849.000000</td>\n",
       "      <td>5462.000000</td>\n",
       "      <td>8607.000000</td>\n",
       "      <td>19892.000000</td>\n",
       "      <td>379.000000</td>\n",
       "      <td>1.000000</td>\n",
       "    </tr>\n",
       "  </tbody>\n",
       "</table>\n",
       "</div>"
      ],
      "text/plain": [
       "                素材id          下载人数          下载次数           浏览数           收藏数  \\\n",
       "count   56112.000000  56112.000000  56112.000000  56112.000000  56112.000000   \n",
       "mean    78641.314033     71.956747     88.263651    193.932742      2.976796   \n",
       "std     19676.137289    180.176482    242.784646    393.394071      7.555914   \n",
       "min     18234.000000      0.000000      0.000000      1.000000     -5.000000   \n",
       "25%     61553.750000      8.000000      9.000000     53.000000      0.000000   \n",
       "50%     79336.500000     22.000000     25.000000     95.000000      1.000000   \n",
       "75%     95738.250000     63.000000     74.000000    196.000000      3.000000   \n",
       "max    111849.000000   5462.000000   8607.000000  19892.000000    379.000000   \n",
       "\n",
       "              内容下载率  \n",
       "count  56112.000000  \n",
       "mean       0.331391  \n",
       "std        0.225783  \n",
       "min        0.000000  \n",
       "25%        0.152542  \n",
       "50%        0.290113  \n",
       "75%        0.473214  \n",
       "max        1.000000  "
      ]
     },
     "execution_count": 123,
     "metadata": {},
     "output_type": "execute_result"
    }
   ],
   "source": [
    "df_gif.describe()"
   ]
  },
  {
   "cell_type": "markdown",
   "id": "7ee07a3d",
   "metadata": {},
   "source": [
    "## 分布"
   ]
  },
  {
   "cell_type": "code",
   "execution_count": 124,
   "id": "224b17eb",
   "metadata": {},
   "outputs": [
    {
     "data": {
      "image/png": "[encoded data removed]",
      "text/plain": [
       "<Figure size 640x480 with 1 Axes>"
      ]
     },
     "metadata": {},
     "output_type": "display_data"
    }
   ],
   "source": [
    "# 统计不同字符串类型的出现次数\n",
    "counts = df_gif['下载区间'].value_counts()\n",
    "\n",
    "# 绘制条形图\n",
    "counts.plot(kind='bar')\n",
    "plt.xlabel('摄影图下载区间')\n",
    "plt.ylabel('Count')\n",
    "plt.show()"
   ]
  },
  {
   "cell_type": "code",
   "execution_count": 125,
   "id": "35a84409",
   "metadata": {},
   "outputs": [
    {
     "data": {
      "text/plain": [
       "10-50次       21817\n",
       "1-10次        14681\n",
       "101-2000次    10625\n",
       "51-100次       7803\n",
       "0次            1037\n",
       "2000以上         149\n",
       "Name: 下载区间, dtype: int64"
      ]
     },
     "execution_count": 125,
     "metadata": {},
     "output_type": "execute_result"
    }
   ],
   "source": [
    "df_gif['下载区间'].value_counts()"
   ]
  },
  {
   "cell_type": "markdown",
   "id": "a448a7d1",
   "metadata": {},
   "source": [
    "## 归一算价值"
   ]
  },
  {
   "cell_type": "code",
   "execution_count": 126,
   "id": "34d91850",
   "metadata": {},
   "outputs": [],
   "source": [
    "# 归一化数据列\n",
    "df_gif['下载次数归一'] = (df_gif['下载次数'] - df_gif['下载次数'].min()) / (df_gif['下载次数'].max() - df_gif['下载次数'].min())\n",
    "df_gif['收藏数归一'] = (df_gif['收藏数'] -df_gif['收藏数'].min()) / (df_gif['收藏数'].max() - df_gif['收藏数'].min())\n",
    "df_gif['内容下载率归一'] = (df_gif['内容下载率'] - df_gif['内容下载率'].min()) / (df_gif['内容下载率'].max() - df_gif['内容下载率'].min())\n",
    "df_gif['价值'] = df_gif['下载次数归一'] * 0.6 + df_gif['收藏数归一'] * 0.2 + df_gif['内容下载率归一'] * 0.3"
   ]
  },
  {
   "cell_type": "markdown",
   "id": "c82041b3",
   "metadata": {},
   "source": [
    "## 抽样"
   ]
  },
  {
   "cell_type": "code",
   "execution_count": 256,
   "id": "904a876f",
   "metadata": {},
   "outputs": [],
   "source": [
    "gif_limit = df_gif.sort_values(by='内容下载率归一', ascending=False)\n",
    "# 计算保留的行数\n",
    "num_rows = int(len(gif_limit) * 0.7)\n",
    "\n",
    "# 保留前70%的数据\n",
    "gif_limit = gif_limit.head(num_rows)"
   ]
  },
  {
   "cell_type": "code",
   "execution_count": 257,
   "id": "97329441",
   "metadata": {},
   "outputs": [],
   "source": [
    "# 等距抽样\n",
    "gif_sampled = gif_limit.iloc[::3]"
   ]
  },
  {
   "cell_type": "code",
   "execution_count": 258,
   "id": "59ada281",
   "metadata": {},
   "outputs": [
    {
     "data": {
      "text/plain": [
       "(13093, 13)"
      ]
     },
     "execution_count": 258,
     "metadata": {},
     "output_type": "execute_result"
    }
   ],
   "source": [
    "gif_sampled.shape"
   ]
  },
  {
   "cell_type": "markdown",
   "id": "12384147",
   "metadata": {},
   "source": [
    "# 所有内容汇总"
   ]
  },
  {
   "cell_type": "code",
   "execution_count": 358,
   "id": "1efcefbc",
   "metadata": {},
   "outputs": [],
   "source": [
    "# 将多个DataFrame纵向合并\n",
    "df_total = pd.concat([df_ys, df_bj, df_gg,df_bg,df_sp,df_ysz,df_ui,df_ch,df_syt,df_gif], axis=0)"
   ]
  },
  {
   "cell_type": "code",
   "execution_count": 359,
   "id": "46c9c4cb",
   "metadata": {
    "scrolled": false
   },
   "outputs": [
    {
     "data": {
      "text/html": [
       "<div>\n",
       "<style scoped>\n",
       "    .dataframe tbody tr th:only-of-type {\n",
       "        vertical-align: middle;\n",
       "    }\n",
       "\n",
       "    .dataframe tbody tr th {\n",
       "        vertical-align: top;\n",
       "    }\n",
       "\n",
       "    .dataframe thead th {\n",
       "        text-align: right;\n",
       "    }\n",
       "</style>\n",
       "<table border=\"1\" class=\"dataframe\">\n",
       "  <thead>\n",
       "    <tr style=\"text-align: right;\">\n",
       "      <th></th>\n",
       "      <th>素材id</th>\n",
       "      <th>标题</th>\n",
       "      <th>下载人数</th>\n",
       "      <th>下载次数</th>\n",
       "      <th>浏览数</th>\n",
       "      <th>收藏数</th>\n",
       "      <th>内容下载率</th>\n",
       "      <th>下载区间</th>\n",
       "      <th>下载次数归一</th>\n",
       "      <th>收藏数归一</th>\n",
       "      <th>内容下载率归一</th>\n",
       "      <th>价值</th>\n",
       "      <th>分类</th>\n",
       "    </tr>\n",
       "  </thead>\n",
       "  <tbody>\n",
       "    <tr>\n",
       "      <th>0</th>\n",
       "      <td>12958107</td>\n",
       "      <td>蓝色语文书籍</td>\n",
       "      <td>23</td>\n",
       "      <td>23</td>\n",
       "      <td>43</td>\n",
       "      <td>0</td>\n",
       "      <td>0.534884</td>\n",
       "      <td>10-50次</td>\n",
       "      <td>0.000256</td>\n",
       "      <td>0.000000</td>\n",
       "      <td>0.534884</td>\n",
       "      <td>0.160618</td>\n",
       "      <td>元素</td>\n",
       "    </tr>\n",
       "    <tr>\n",
       "      <th>1</th>\n",
       "      <td>12958108</td>\n",
       "      <td>蓝色语文学习</td>\n",
       "      <td>16</td>\n",
       "      <td>18</td>\n",
       "      <td>109</td>\n",
       "      <td>0</td>\n",
       "      <td>0.165138</td>\n",
       "      <td>10-50次</td>\n",
       "      <td>0.000200</td>\n",
       "      <td>0.000000</td>\n",
       "      <td>0.165138</td>\n",
       "      <td>0.049661</td>\n",
       "      <td>元素</td>\n",
       "    </tr>\n",
       "    <tr>\n",
       "      <th>2</th>\n",
       "      <td>12958109</td>\n",
       "      <td>水龙头饮用水水杯</td>\n",
       "      <td>66</td>\n",
       "      <td>82</td>\n",
       "      <td>113</td>\n",
       "      <td>1</td>\n",
       "      <td>0.725664</td>\n",
       "      <td>51-100次</td>\n",
       "      <td>0.000911</td>\n",
       "      <td>0.001267</td>\n",
       "      <td>0.725664</td>\n",
       "      <td>0.218499</td>\n",
       "      <td>元素</td>\n",
       "    </tr>\n",
       "    <tr>\n",
       "      <th>3</th>\n",
       "      <td>12958110</td>\n",
       "      <td>水龙头水杯饮用水</td>\n",
       "      <td>437</td>\n",
       "      <td>482</td>\n",
       "      <td>524</td>\n",
       "      <td>1</td>\n",
       "      <td>0.919847</td>\n",
       "      <td>101-2000次</td>\n",
       "      <td>0.005355</td>\n",
       "      <td>0.001267</td>\n",
       "      <td>0.919847</td>\n",
       "      <td>0.279420</td>\n",
       "      <td>元素</td>\n",
       "    </tr>\n",
       "    <tr>\n",
       "      <th>4</th>\n",
       "      <td>12958111</td>\n",
       "      <td>水龙头饮用水</td>\n",
       "      <td>18</td>\n",
       "      <td>19</td>\n",
       "      <td>42</td>\n",
       "      <td>0</td>\n",
       "      <td>0.452381</td>\n",
       "      <td>10-50次</td>\n",
       "      <td>0.000211</td>\n",
       "      <td>0.000000</td>\n",
       "      <td>0.452381</td>\n",
       "      <td>0.135841</td>\n",
       "      <td>元素</td>\n",
       "    </tr>\n",
       "    <tr>\n",
       "      <th>...</th>\n",
       "      <td>...</td>\n",
       "      <td>...</td>\n",
       "      <td>...</td>\n",
       "      <td>...</td>\n",
       "      <td>...</td>\n",
       "      <td>...</td>\n",
       "      <td>...</td>\n",
       "      <td>...</td>\n",
       "      <td>...</td>\n",
       "      <td>...</td>\n",
       "      <td>...</td>\n",
       "      <td>...</td>\n",
       "      <td>...</td>\n",
       "    </tr>\n",
       "    <tr>\n",
       "      <th>56107</th>\n",
       "      <td>111815</td>\n",
       "      <td>2023新年快乐兔年贴纸卡通动图gif</td>\n",
       "      <td>98</td>\n",
       "      <td>115</td>\n",
       "      <td>114</td>\n",
       "      <td>1</td>\n",
       "      <td>1.000000</td>\n",
       "      <td>101-2000次</td>\n",
       "      <td>0.013361</td>\n",
       "      <td>0.015625</td>\n",
       "      <td>1.000000</td>\n",
       "      <td>0.311142</td>\n",
       "      <td>GIF</td>\n",
       "    </tr>\n",
       "    <tr>\n",
       "      <th>56108</th>\n",
       "      <td>111783</td>\n",
       "      <td>新年春节卡通小女孩吃饺子动图gif</td>\n",
       "      <td>0</td>\n",
       "      <td>0</td>\n",
       "      <td>8</td>\n",
       "      <td>0</td>\n",
       "      <td>0.000000</td>\n",
       "      <td>0次</td>\n",
       "      <td>0.000000</td>\n",
       "      <td>0.013021</td>\n",
       "      <td>0.000000</td>\n",
       "      <td>0.002604</td>\n",
       "      <td>GIF</td>\n",
       "    </tr>\n",
       "    <tr>\n",
       "      <th>56109</th>\n",
       "      <td>111834</td>\n",
       "      <td>极简卡通图形加载动画</td>\n",
       "      <td>19</td>\n",
       "      <td>26</td>\n",
       "      <td>62</td>\n",
       "      <td>1</td>\n",
       "      <td>0.419355</td>\n",
       "      <td>10-50次</td>\n",
       "      <td>0.003021</td>\n",
       "      <td>0.015625</td>\n",
       "      <td>0.419355</td>\n",
       "      <td>0.130744</td>\n",
       "      <td>GIF</td>\n",
       "    </tr>\n",
       "    <tr>\n",
       "      <th>56110</th>\n",
       "      <td>111764</td>\n",
       "      <td>春节庆祝新年金色烟花</td>\n",
       "      <td>36</td>\n",
       "      <td>43</td>\n",
       "      <td>93</td>\n",
       "      <td>1</td>\n",
       "      <td>0.462366</td>\n",
       "      <td>10-50次</td>\n",
       "      <td>0.004996</td>\n",
       "      <td>0.015625</td>\n",
       "      <td>0.462366</td>\n",
       "      <td>0.144832</td>\n",
       "      <td>GIF</td>\n",
       "    </tr>\n",
       "    <tr>\n",
       "      <th>56111</th>\n",
       "      <td>111832</td>\n",
       "      <td>兔年新年瑞兔纳福烟花文字</td>\n",
       "      <td>31</td>\n",
       "      <td>34</td>\n",
       "      <td>52</td>\n",
       "      <td>0</td>\n",
       "      <td>0.653846</td>\n",
       "      <td>10-50次</td>\n",
       "      <td>0.003950</td>\n",
       "      <td>0.013021</td>\n",
       "      <td>0.653846</td>\n",
       "      <td>0.201128</td>\n",
       "      <td>GIF</td>\n",
       "    </tr>\n",
       "  </tbody>\n",
       "</table>\n",
       "<p>862307 rows × 13 columns</p>\n",
       "</div>"
      ],
      "text/plain": [
       "           素材id                   标题  下载人数  下载次数  浏览数  收藏数     内容下载率  \\\n",
       "0      12958107               蓝色语文书籍    23    23   43    0  0.534884   \n",
       "1      12958108               蓝色语文学习    16    18  109    0  0.165138   \n",
       "2      12958109             水龙头饮用水水杯    66    82  113    1  0.725664   \n",
       "3      12958110             水龙头水杯饮用水   437   482  524    1  0.919847   \n",
       "4      12958111               水龙头饮用水    18    19   42    0  0.452381   \n",
       "...         ...                  ...   ...   ...  ...  ...       ...   \n",
       "56107    111815  2023新年快乐兔年贴纸卡通动图gif    98   115  114    1  1.000000   \n",
       "56108    111783    新年春节卡通小女孩吃饺子动图gif     0     0    8    0  0.000000   \n",
       "56109    111834           极简卡通图形加载动画    19    26   62    1  0.419355   \n",
       "56110    111764           春节庆祝新年金色烟花    36    43   93    1  0.462366   \n",
       "56111    111832         兔年新年瑞兔纳福烟花文字    31    34   52    0  0.653846   \n",
       "\n",
       "            下载区间    下载次数归一     收藏数归一   内容下载率归一        价值   分类  \n",
       "0         10-50次  0.000256  0.000000  0.534884  0.160618   元素  \n",
       "1         10-50次  0.000200  0.000000  0.165138  0.049661   元素  \n",
       "2        51-100次  0.000911  0.001267  0.725664  0.218499   元素  \n",
       "3      101-2000次  0.005355  0.001267  0.919847  0.279420   元素  \n",
       "4         10-50次  0.000211  0.000000  0.452381  0.135841   元素  \n",
       "...          ...       ...       ...       ...       ...  ...  \n",
       "56107  101-2000次  0.013361  0.015625  1.000000  0.311142  GIF  \n",
       "56108         0次  0.000000  0.013021  0.000000  0.002604  GIF  \n",
       "56109     10-50次  0.003021  0.015625  0.419355  0.130744  GIF  \n",
       "56110     10-50次  0.004996  0.015625  0.462366  0.144832  GIF  \n",
       "56111     10-50次  0.003950  0.013021  0.653846  0.201128  GIF  \n",
       "\n",
       "[862307 rows x 13 columns]"
      ]
     },
     "execution_count": 359,
     "metadata": {},
     "output_type": "execute_result"
    }
   ],
   "source": [
    "df_total"
   ]
  },
  {
   "cell_type": "code",
   "execution_count": 360,
   "id": "556787a0",
   "metadata": {},
   "outputs": [],
   "source": [
    "df_total['内容下载率'] = df_total['下载次数'] / df_total['浏览数']\n",
    "df_total['内容下载率'] = df_total['内容下载率'].apply(lambda x: 1 if x >= 1 else x)\n",
    "df_total.fillna(0,inplace=True)"
   ]
  },
  {
   "cell_type": "code",
   "execution_count": 361,
   "id": "aecdc67c",
   "metadata": {},
   "outputs": [],
   "source": [
    "df_total = df_total.drop_duplicates(subset=['素材id','浏览数'])"
   ]
  },
  {
   "cell_type": "code",
   "execution_count": 362,
   "id": "22b25a62",
   "metadata": {
    "scrolled": true
   },
   "outputs": [
    {
     "name": "stdout",
     "output_type": "stream",
     "text": [
      "<class 'pandas.core.frame.DataFrame'>\n",
      "Int64Index: 862155 entries, 0 to 56111\n",
      "Data columns (total 13 columns):\n",
      " #   Column   Non-Null Count   Dtype  \n",
      "---  ------   --------------   -----  \n",
      " 0   素材id     862155 non-null  int64  \n",
      " 1   标题       862155 non-null  object \n",
      " 2   下载人数     862155 non-null  int64  \n",
      " 3   下载次数     862155 non-null  int64  \n",
      " 4   浏览数      862155 non-null  int64  \n",
      " 5   收藏数      862155 non-null  int64  \n",
      " 6   内容下载率    862155 non-null  float64\n",
      " 7   下载区间     862155 non-null  object \n",
      " 8   下载次数归一   862155 non-null  float64\n",
      " 9   收藏数归一    862155 non-null  float64\n",
      " 10  内容下载率归一  862155 non-null  float64\n",
      " 11  价值       862155 non-null  float64\n",
      " 12  分类       862155 non-null  object \n",
      "dtypes: float64(5), int64(5), object(3)\n",
      "memory usage: 92.1+ MB\n"
     ]
    }
   ],
   "source": [
    "df_total.info()"
   ]
  },
  {
   "cell_type": "code",
   "execution_count": 363,
   "id": "b910baa7",
   "metadata": {},
   "outputs": [
    {
     "data": {
      "text/plain": [
       "(862155, 13)"
      ]
     },
     "execution_count": 363,
     "metadata": {},
     "output_type": "execute_result"
    }
   ],
   "source": [
    "df_total.shape"
   ]
  },
  {
   "cell_type": "code",
   "execution_count": 307,
   "id": "904aaef3",
   "metadata": {},
   "outputs": [
    {
     "name": "stderr",
     "output_type": "stream",
     "text": [
      "C:\\Users\\HCKJ\\AppData\\Local\\Temp\\ipykernel_19264\\4031219677.py:1: SettingWithCopyWarning: \n",
      "A value is trying to be set on a copy of a slice from a DataFrame.\n",
      "Try using .loc[row_indexer,col_indexer] = value instead\n",
      "\n",
      "See the caveats in the documentation: https://pandas.pydata.org/pandas-docs/stable/user_guide/indexing.html#returning-a-view-versus-a-copy\n",
      "  df_total['下载区间'] = df_total['下载次数'].apply(降维)\n"
     ]
    }
   ],
   "source": [
    "df_total['下载区间'] = df_total['下载次数'].apply(降维)"
   ]
  },
  {
   "cell_type": "code",
   "execution_count": 364,
   "id": "0b2246c1",
   "metadata": {
    "scrolled": false
   },
   "outputs": [
    {
     "data": {
      "text/html": [
       "<div>\n",
       "<style scoped>\n",
       "    .dataframe tbody tr th:only-of-type {\n",
       "        vertical-align: middle;\n",
       "    }\n",
       "\n",
       "    .dataframe tbody tr th {\n",
       "        vertical-align: top;\n",
       "    }\n",
       "\n",
       "    .dataframe thead th {\n",
       "        text-align: right;\n",
       "    }\n",
       "</style>\n",
       "<table border=\"1\" class=\"dataframe\">\n",
       "  <thead>\n",
       "    <tr style=\"text-align: right;\">\n",
       "      <th></th>\n",
       "      <th>素材id</th>\n",
       "      <th>下载人数</th>\n",
       "      <th>下载次数</th>\n",
       "      <th>浏览数</th>\n",
       "      <th>收藏数</th>\n",
       "      <th>内容下载率</th>\n",
       "      <th>下载次数归一</th>\n",
       "      <th>收藏数归一</th>\n",
       "      <th>内容下载率归一</th>\n",
       "      <th>价值</th>\n",
       "    </tr>\n",
       "  </thead>\n",
       "  <tbody>\n",
       "    <tr>\n",
       "      <th>count</th>\n",
       "      <td>8.621550e+05</td>\n",
       "      <td>862155.000000</td>\n",
       "      <td>862155.000000</td>\n",
       "      <td>862155.000000</td>\n",
       "      <td>862155.000000</td>\n",
       "      <td>862155.000000</td>\n",
       "      <td>862155.000000</td>\n",
       "      <td>862155.000000</td>\n",
       "      <td>862155.000000</td>\n",
       "      <td>862155.000000</td>\n",
       "    </tr>\n",
       "    <tr>\n",
       "      <th>mean</th>\n",
       "      <td>7.999319e+06</td>\n",
       "      <td>55.918395</td>\n",
       "      <td>69.009687</td>\n",
       "      <td>197.578286</td>\n",
       "      <td>3.772043</td>\n",
       "      <td>0.229439</td>\n",
       "      <td>0.005283</td>\n",
       "      <td>0.007654</td>\n",
       "      <td>0.230075</td>\n",
       "      <td>0.073723</td>\n",
       "    </tr>\n",
       "    <tr>\n",
       "      <th>std</th>\n",
       "      <td>6.826730e+06</td>\n",
       "      <td>235.294999</td>\n",
       "      <td>310.904151</td>\n",
       "      <td>823.057748</td>\n",
       "      <td>13.802832</td>\n",
       "      <td>0.241312</td>\n",
       "      <td>0.020572</td>\n",
       "      <td>0.024232</td>\n",
       "      <td>0.241197</td>\n",
       "      <td>0.077250</td>\n",
       "    </tr>\n",
       "    <tr>\n",
       "      <th>min</th>\n",
       "      <td>1.823400e+04</td>\n",
       "      <td>0.000000</td>\n",
       "      <td>0.000000</td>\n",
       "      <td>0.000000</td>\n",
       "      <td>-5.000000</td>\n",
       "      <td>0.000000</td>\n",
       "      <td>0.000000</td>\n",
       "      <td>0.000000</td>\n",
       "      <td>0.000000</td>\n",
       "      <td>0.000000</td>\n",
       "    </tr>\n",
       "    <tr>\n",
       "      <th>25%</th>\n",
       "      <td>2.350335e+05</td>\n",
       "      <td>2.000000</td>\n",
       "      <td>2.000000</td>\n",
       "      <td>31.000000</td>\n",
       "      <td>0.000000</td>\n",
       "      <td>0.046512</td>\n",
       "      <td>0.000068</td>\n",
       "      <td>0.000000</td>\n",
       "      <td>0.047619</td>\n",
       "      <td>0.015018</td>\n",
       "    </tr>\n",
       "    <tr>\n",
       "      <th>50%</th>\n",
       "      <td>6.110501e+06</td>\n",
       "      <td>8.000000</td>\n",
       "      <td>9.000000</td>\n",
       "      <td>76.000000</td>\n",
       "      <td>0.000000</td>\n",
       "      <td>0.145669</td>\n",
       "      <td>0.000567</td>\n",
       "      <td>0.000977</td>\n",
       "      <td>0.147059</td>\n",
       "      <td>0.047187</td>\n",
       "    </tr>\n",
       "    <tr>\n",
       "      <th>75%</th>\n",
       "      <td>1.313323e+07</td>\n",
       "      <td>33.000000</td>\n",
       "      <td>40.000000</td>\n",
       "      <td>180.000000</td>\n",
       "      <td>2.000000</td>\n",
       "      <td>0.333333</td>\n",
       "      <td>0.002829</td>\n",
       "      <td>0.006667</td>\n",
       "      <td>0.334887</td>\n",
       "      <td>0.109856</td>\n",
       "    </tr>\n",
       "    <tr>\n",
       "      <th>max</th>\n",
       "      <td>2.803014e+07</td>\n",
       "      <td>54302.000000</td>\n",
       "      <td>90016.000000</td>\n",
       "      <td>460059.000000</td>\n",
       "      <td>2048.000000</td>\n",
       "      <td>1.000000</td>\n",
       "      <td>1.000000</td>\n",
       "      <td>1.000000</td>\n",
       "      <td>1.000000</td>\n",
       "      <td>1.033017</td>\n",
       "    </tr>\n",
       "  </tbody>\n",
       "</table>\n",
       "</div>"
      ],
      "text/plain": [
       "               素材id           下载人数           下载次数            浏览数  \\\n",
       "count  8.621550e+05  862155.000000  862155.000000  862155.000000   \n",
       "mean   7.999319e+06      55.918395      69.009687     197.578286   \n",
       "std    6.826730e+06     235.294999     310.904151     823.057748   \n",
       "min    1.823400e+04       0.000000       0.000000       0.000000   \n",
       "25%    2.350335e+05       2.000000       2.000000      31.000000   \n",
       "50%    6.110501e+06       8.000000       9.000000      76.000000   \n",
       "75%    1.313323e+07      33.000000      40.000000     180.000000   \n",
       "max    2.803014e+07   54302.000000   90016.000000  460059.000000   \n",
       "\n",
       "                 收藏数          内容下载率         下载次数归一          收藏数归一  \\\n",
       "count  862155.000000  862155.000000  862155.000000  862155.000000   \n",
       "mean        3.772043       0.229439       0.005283       0.007654   \n",
       "std        13.802832       0.241312       0.020572       0.024232   \n",
       "min        -5.000000       0.000000       0.000000       0.000000   \n",
       "25%         0.000000       0.046512       0.000068       0.000000   \n",
       "50%         0.000000       0.145669       0.000567       0.000977   \n",
       "75%         2.000000       0.333333       0.002829       0.006667   \n",
       "max      2048.000000       1.000000       1.000000       1.000000   \n",
       "\n",
       "             内容下载率归一             价值  \n",
       "count  862155.000000  862155.000000  \n",
       "mean        0.230075       0.073723  \n",
       "std         0.241197       0.077250  \n",
       "min         0.000000       0.000000  \n",
       "25%         0.047619       0.015018  \n",
       "50%         0.147059       0.047187  \n",
       "75%         0.334887       0.109856  \n",
       "max         1.000000       1.033017  "
      ]
     },
     "execution_count": 364,
     "metadata": {},
     "output_type": "execute_result"
    }
   ],
   "source": [
    "df_total.describe()"
   ]
  },
  {
   "cell_type": "code",
   "execution_count": 365,
   "id": "bd109f4e",
   "metadata": {},
   "outputs": [],
   "source": [
    "df_total.to_csv('D:\\Ori\\数据处理\\主站内容分层\\\\所有结果.csv')"
   ]
  },
  {
   "cell_type": "markdown",
   "id": "9b59dc1c",
   "metadata": {},
   "source": [
    "# 抽样内容汇总"
   ]
  },
  {
   "cell_type": "code",
   "execution_count": 366,
   "id": "c49f7629",
   "metadata": {},
   "outputs": [],
   "source": [
    "# 将多个DataFrame纵向合并\n",
    "sampled_total = pd.concat(\n",
    "    [ys_sampled,bj_sampled,gg_sampled,bg_sampled,sp_sampled,ysz_sampled,ui_sampled,ch_sampled,syt_sampled,gif_sampled]\n",
    "    , axis=0)"
   ]
  },
  {
   "cell_type": "code",
   "execution_count": 367,
   "id": "b60025ad",
   "metadata": {},
   "outputs": [],
   "source": [
    "sampled_total = sampled_total.drop_duplicates(subset=['素材id','浏览数'])"
   ]
  },
  {
   "cell_type": "code",
   "execution_count": 368,
   "id": "33a8f9b1",
   "metadata": {},
   "outputs": [
    {
     "data": {
      "text/plain": [
       "(199127, 13)"
      ]
     },
     "execution_count": 368,
     "metadata": {},
     "output_type": "execute_result"
    }
   ],
   "source": [
    "sampled_total.shape"
   ]
  },
  {
   "cell_type": "code",
   "execution_count": 369,
   "id": "af43dcd2",
   "metadata": {},
   "outputs": [
    {
     "data": {
      "text/html": [
       "<div>\n",
       "<style scoped>\n",
       "    .dataframe tbody tr th:only-of-type {\n",
       "        vertical-align: middle;\n",
       "    }\n",
       "\n",
       "    .dataframe tbody tr th {\n",
       "        vertical-align: top;\n",
       "    }\n",
       "\n",
       "    .dataframe thead th {\n",
       "        text-align: right;\n",
       "    }\n",
       "</style>\n",
       "<table border=\"1\" class=\"dataframe\">\n",
       "  <thead>\n",
       "    <tr style=\"text-align: right;\">\n",
       "      <th></th>\n",
       "      <th>素材id</th>\n",
       "      <th>标题</th>\n",
       "      <th>下载人数</th>\n",
       "      <th>下载次数</th>\n",
       "      <th>浏览数</th>\n",
       "      <th>收藏数</th>\n",
       "      <th>内容下载率</th>\n",
       "      <th>下载区间</th>\n",
       "      <th>下载次数归一</th>\n",
       "      <th>收藏数归一</th>\n",
       "      <th>内容下载率归一</th>\n",
       "      <th>价值</th>\n",
       "      <th>分类</th>\n",
       "    </tr>\n",
       "  </thead>\n",
       "  <tbody>\n",
       "    <tr>\n",
       "      <th>135670</th>\n",
       "      <td>13132598</td>\n",
       "      <td>中国风古风祥云</td>\n",
       "      <td>207</td>\n",
       "      <td>231</td>\n",
       "      <td>227</td>\n",
       "      <td>11</td>\n",
       "      <td>1.000000</td>\n",
       "      <td>101-2000次</td>\n",
       "      <td>0.002566</td>\n",
       "      <td>0.013942</td>\n",
       "      <td>1.000000</td>\n",
       "      <td>0.304328</td>\n",
       "      <td>元素</td>\n",
       "    </tr>\n",
       "    <tr>\n",
       "      <th>225117</th>\n",
       "      <td>13356165</td>\n",
       "      <td>干辣椒香叶草果</td>\n",
       "      <td>59</td>\n",
       "      <td>69</td>\n",
       "      <td>69</td>\n",
       "      <td>0</td>\n",
       "      <td>1.000000</td>\n",
       "      <td>51-100次</td>\n",
       "      <td>0.000767</td>\n",
       "      <td>0.000000</td>\n",
       "      <td>1.000000</td>\n",
       "      <td>0.300460</td>\n",
       "      <td>元素</td>\n",
       "    </tr>\n",
       "    <tr>\n",
       "      <th>291467</th>\n",
       "      <td>13452679</td>\n",
       "      <td>云彩云朵朝霞</td>\n",
       "      <td>46</td>\n",
       "      <td>54</td>\n",
       "      <td>45</td>\n",
       "      <td>0</td>\n",
       "      <td>1.000000</td>\n",
       "      <td>51-100次</td>\n",
       "      <td>0.000600</td>\n",
       "      <td>0.000000</td>\n",
       "      <td>1.000000</td>\n",
       "      <td>0.300360</td>\n",
       "      <td>元素</td>\n",
       "    </tr>\n",
       "    <tr>\n",
       "      <th>255776</th>\n",
       "      <td>13386865</td>\n",
       "      <td>新年立体锦囊福袋春节红色喜庆</td>\n",
       "      <td>173</td>\n",
       "      <td>186</td>\n",
       "      <td>175</td>\n",
       "      <td>2</td>\n",
       "      <td>1.000000</td>\n",
       "      <td>101-2000次</td>\n",
       "      <td>0.002066</td>\n",
       "      <td>0.002535</td>\n",
       "      <td>1.000000</td>\n",
       "      <td>0.301747</td>\n",
       "      <td>元素</td>\n",
       "    </tr>\n",
       "    <tr>\n",
       "      <th>255773</th>\n",
       "      <td>13386862</td>\n",
       "      <td>锦囊立体福袋</td>\n",
       "      <td>97</td>\n",
       "      <td>111</td>\n",
       "      <td>103</td>\n",
       "      <td>2</td>\n",
       "      <td>1.000000</td>\n",
       "      <td>101-2000次</td>\n",
       "      <td>0.001233</td>\n",
       "      <td>0.002535</td>\n",
       "      <td>1.000000</td>\n",
       "      <td>0.301247</td>\n",
       "      <td>元素</td>\n",
       "    </tr>\n",
       "    <tr>\n",
       "      <th>...</th>\n",
       "      <td>...</td>\n",
       "      <td>...</td>\n",
       "      <td>...</td>\n",
       "      <td>...</td>\n",
       "      <td>...</td>\n",
       "      <td>...</td>\n",
       "      <td>...</td>\n",
       "      <td>...</td>\n",
       "      <td>...</td>\n",
       "      <td>...</td>\n",
       "      <td>...</td>\n",
       "      <td>...</td>\n",
       "      <td>...</td>\n",
       "    </tr>\n",
       "    <tr>\n",
       "      <th>48296</th>\n",
       "      <td>103051</td>\n",
       "      <td>新年新春宇航员拜年新年大吉动图gif</td>\n",
       "      <td>4</td>\n",
       "      <td>5</td>\n",
       "      <td>28</td>\n",
       "      <td>0</td>\n",
       "      <td>0.178571</td>\n",
       "      <td>1-10次</td>\n",
       "      <td>0.000581</td>\n",
       "      <td>0.013021</td>\n",
       "      <td>0.178571</td>\n",
       "      <td>0.056524</td>\n",
       "      <td>GIF</td>\n",
       "    </tr>\n",
       "    <tr>\n",
       "      <th>12753</th>\n",
       "      <td>60019</td>\n",
       "      <td>敦煌文化古文化竖版背景H5海报沙漠中国风动图gif</td>\n",
       "      <td>24</td>\n",
       "      <td>25</td>\n",
       "      <td>140</td>\n",
       "      <td>0</td>\n",
       "      <td>0.178571</td>\n",
       "      <td>10-50次</td>\n",
       "      <td>0.002905</td>\n",
       "      <td>0.013021</td>\n",
       "      <td>0.178571</td>\n",
       "      <td>0.057918</td>\n",
       "      <td>GIF</td>\n",
       "    </tr>\n",
       "    <tr>\n",
       "      <th>34025</th>\n",
       "      <td>86226</td>\n",
       "      <td>城市建筑剪影蓝色动图gif</td>\n",
       "      <td>4</td>\n",
       "      <td>5</td>\n",
       "      <td>28</td>\n",
       "      <td>0</td>\n",
       "      <td>0.178571</td>\n",
       "      <td>1-10次</td>\n",
       "      <td>0.000581</td>\n",
       "      <td>0.013021</td>\n",
       "      <td>0.178571</td>\n",
       "      <td>0.056524</td>\n",
       "      <td>GIF</td>\n",
       "    </tr>\n",
       "    <tr>\n",
       "      <th>24457</th>\n",
       "      <td>75184</td>\n",
       "      <td>中秋节中秋放假很开心休息表情包卡通动图gif</td>\n",
       "      <td>7</td>\n",
       "      <td>10</td>\n",
       "      <td>56</td>\n",
       "      <td>1</td>\n",
       "      <td>0.178571</td>\n",
       "      <td>1-10次</td>\n",
       "      <td>0.001162</td>\n",
       "      <td>0.015625</td>\n",
       "      <td>0.178571</td>\n",
       "      <td>0.057394</td>\n",
       "      <td>GIF</td>\n",
       "    </tr>\n",
       "    <tr>\n",
       "      <th>30499</th>\n",
       "      <td>82095</td>\n",
       "      <td>刮风天气标识云朵吹风动图gif</td>\n",
       "      <td>8</td>\n",
       "      <td>10</td>\n",
       "      <td>56</td>\n",
       "      <td>1</td>\n",
       "      <td>0.178571</td>\n",
       "      <td>1-10次</td>\n",
       "      <td>0.001162</td>\n",
       "      <td>0.015625</td>\n",
       "      <td>0.178571</td>\n",
       "      <td>0.057394</td>\n",
       "      <td>GIF</td>\n",
       "    </tr>\n",
       "  </tbody>\n",
       "</table>\n",
       "<p>199127 rows × 13 columns</p>\n",
       "</div>"
      ],
      "text/plain": [
       "            素材id                         标题  下载人数  下载次数  浏览数  收藏数     内容下载率  \\\n",
       "135670  13132598                    中国风古风祥云   207   231  227   11  1.000000   \n",
       "225117  13356165                    干辣椒香叶草果    59    69   69    0  1.000000   \n",
       "291467  13452679                     云彩云朵朝霞    46    54   45    0  1.000000   \n",
       "255776  13386865             新年立体锦囊福袋春节红色喜庆   173   186  175    2  1.000000   \n",
       "255773  13386862                     锦囊立体福袋    97   111  103    2  1.000000   \n",
       "...          ...                        ...   ...   ...  ...  ...       ...   \n",
       "48296     103051         新年新春宇航员拜年新年大吉动图gif     4     5   28    0  0.178571   \n",
       "12753      60019  敦煌文化古文化竖版背景H5海报沙漠中国风动图gif    24    25  140    0  0.178571   \n",
       "34025      86226              城市建筑剪影蓝色动图gif     4     5   28    0  0.178571   \n",
       "24457      75184     中秋节中秋放假很开心休息表情包卡通动图gif     7    10   56    1  0.178571   \n",
       "30499      82095            刮风天气标识云朵吹风动图gif     8    10   56    1  0.178571   \n",
       "\n",
       "             下载区间    下载次数归一     收藏数归一   内容下载率归一        价值   分类  \n",
       "135670  101-2000次  0.002566  0.013942  1.000000  0.304328   元素  \n",
       "225117    51-100次  0.000767  0.000000  1.000000  0.300460   元素  \n",
       "291467    51-100次  0.000600  0.000000  1.000000  0.300360   元素  \n",
       "255776  101-2000次  0.002066  0.002535  1.000000  0.301747   元素  \n",
       "255773  101-2000次  0.001233  0.002535  1.000000  0.301247   元素  \n",
       "...           ...       ...       ...       ...       ...  ...  \n",
       "48296       1-10次  0.000581  0.013021  0.178571  0.056524  GIF  \n",
       "12753      10-50次  0.002905  0.013021  0.178571  0.057918  GIF  \n",
       "34025       1-10次  0.000581  0.013021  0.178571  0.056524  GIF  \n",
       "24457       1-10次  0.001162  0.015625  0.178571  0.057394  GIF  \n",
       "30499       1-10次  0.001162  0.015625  0.178571  0.057394  GIF  \n",
       "\n",
       "[199127 rows x 13 columns]"
      ]
     },
     "execution_count": 369,
     "metadata": {},
     "output_type": "execute_result"
    }
   ],
   "source": [
    "sampled_total"
   ]
  },
  {
   "cell_type": "code",
   "execution_count": 370,
   "id": "f4ce5f5e",
   "metadata": {},
   "outputs": [],
   "source": [
    "sampled_total.to_csv('D:\\Ori\\数据处理\\主站内容分层\\\\所有类目抽样结果.csv')"
   ]
  },
  {
   "cell_type": "markdown",
   "id": "f56b791b",
   "metadata": {},
   "source": [
    "# 样本与总体对比"
   ]
  },
  {
   "cell_type": "code",
   "execution_count": 371,
   "id": "78cebb54",
   "metadata": {},
   "outputs": [
    {
     "data": {
      "text/plain": [
       "(862155, 13)"
      ]
     },
     "execution_count": 371,
     "metadata": {},
     "output_type": "execute_result"
    }
   ],
   "source": [
    "df_total.shape"
   ]
  },
  {
   "cell_type": "code",
   "execution_count": 372,
   "id": "721f5203",
   "metadata": {},
   "outputs": [
    {
     "data": {
      "text/plain": [
       "(199127, 13)"
      ]
     },
     "execution_count": 372,
     "metadata": {},
     "output_type": "execute_result"
    }
   ],
   "source": [
    "sampled_total.shape"
   ]
  },
  {
   "cell_type": "code",
   "execution_count": 144,
   "id": "509b2850",
   "metadata": {
    "scrolled": false
   },
   "outputs": [
    {
     "data": {
      "text/plain": [
       "(18953, 12)"
      ]
     },
     "execution_count": 144,
     "metadata": {},
     "output_type": "execute_result"
    }
   ],
   "source": [
    "# 使用 str.contains() 方法筛选包含\"节\"字符的列\n",
    "总体 = df_total[df_total['标题'].str.contains('科技',na=False)]\n",
    "总体.shape"
   ]
  },
  {
   "cell_type": "code",
   "execution_count": 145,
   "id": "3f5c5e82",
   "metadata": {},
   "outputs": [
    {
     "data": {
      "text/plain": [
       "(4599, 12)"
      ]
     },
     "execution_count": 145,
     "metadata": {},
     "output_type": "execute_result"
    }
   ],
   "source": [
    "# 使用 str.contains() 方法筛选包含\"节\"字符的列\n",
    "样本 = sampled_total[sampled_total['标题'].str.contains('科技',na=False)]\n",
    "样本.shape"
   ]
  },
  {
   "cell_type": "markdown",
   "id": "8296e807",
   "metadata": {},
   "source": [
    "# 未被抽样的内容抽选节日"
   ]
  },
  {
   "cell_type": "code",
   "execution_count": 373,
   "id": "5ba74071",
   "metadata": {},
   "outputs": [
    {
     "data": {
      "text/html": [
       "<div>\n",
       "<style scoped>\n",
       "    .dataframe tbody tr th:only-of-type {\n",
       "        vertical-align: middle;\n",
       "    }\n",
       "\n",
       "    .dataframe tbody tr th {\n",
       "        vertical-align: top;\n",
       "    }\n",
       "\n",
       "    .dataframe thead th {\n",
       "        text-align: right;\n",
       "    }\n",
       "</style>\n",
       "<table border=\"1\" class=\"dataframe\">\n",
       "  <thead>\n",
       "    <tr style=\"text-align: right;\">\n",
       "      <th></th>\n",
       "      <th>素材id</th>\n",
       "      <th>标题</th>\n",
       "      <th>下载人数</th>\n",
       "      <th>下载次数</th>\n",
       "      <th>浏览数</th>\n",
       "      <th>收藏数</th>\n",
       "      <th>内容下载率</th>\n",
       "      <th>下载区间</th>\n",
       "      <th>下载次数归一</th>\n",
       "      <th>收藏数归一</th>\n",
       "      <th>内容下载率归一</th>\n",
       "      <th>价值</th>\n",
       "      <th>分类</th>\n",
       "      <th>_merge</th>\n",
       "    </tr>\n",
       "  </thead>\n",
       "  <tbody>\n",
       "    <tr>\n",
       "      <th>0</th>\n",
       "      <td>12958107</td>\n",
       "      <td>蓝色语文书籍</td>\n",
       "      <td>23</td>\n",
       "      <td>23</td>\n",
       "      <td>43</td>\n",
       "      <td>0</td>\n",
       "      <td>0.534884</td>\n",
       "      <td>10-50次</td>\n",
       "      <td>0.000256</td>\n",
       "      <td>0.000000</td>\n",
       "      <td>0.534884</td>\n",
       "      <td>0.160618</td>\n",
       "      <td>元素</td>\n",
       "      <td>left_only</td>\n",
       "    </tr>\n",
       "    <tr>\n",
       "      <th>1</th>\n",
       "      <td>12958108</td>\n",
       "      <td>蓝色语文学习</td>\n",
       "      <td>16</td>\n",
       "      <td>18</td>\n",
       "      <td>109</td>\n",
       "      <td>0</td>\n",
       "      <td>0.165138</td>\n",
       "      <td>10-50次</td>\n",
       "      <td>0.000200</td>\n",
       "      <td>0.000000</td>\n",
       "      <td>0.165138</td>\n",
       "      <td>0.049661</td>\n",
       "      <td>元素</td>\n",
       "      <td>left_only</td>\n",
       "    </tr>\n",
       "    <tr>\n",
       "      <th>2</th>\n",
       "      <td>12958109</td>\n",
       "      <td>水龙头饮用水水杯</td>\n",
       "      <td>66</td>\n",
       "      <td>82</td>\n",
       "      <td>113</td>\n",
       "      <td>1</td>\n",
       "      <td>0.725664</td>\n",
       "      <td>51-100次</td>\n",
       "      <td>0.000911</td>\n",
       "      <td>0.001267</td>\n",
       "      <td>0.725664</td>\n",
       "      <td>0.218499</td>\n",
       "      <td>元素</td>\n",
       "      <td>left_only</td>\n",
       "    </tr>\n",
       "    <tr>\n",
       "      <th>4</th>\n",
       "      <td>12958111</td>\n",
       "      <td>水龙头饮用水</td>\n",
       "      <td>18</td>\n",
       "      <td>19</td>\n",
       "      <td>42</td>\n",
       "      <td>0</td>\n",
       "      <td>0.452381</td>\n",
       "      <td>10-50次</td>\n",
       "      <td>0.000211</td>\n",
       "      <td>0.000000</td>\n",
       "      <td>0.452381</td>\n",
       "      <td>0.135841</td>\n",
       "      <td>元素</td>\n",
       "      <td>left_only</td>\n",
       "    </tr>\n",
       "    <tr>\n",
       "      <th>6</th>\n",
       "      <td>12958113</td>\n",
       "      <td>水龙头饮用水水滴</td>\n",
       "      <td>5</td>\n",
       "      <td>5</td>\n",
       "      <td>22</td>\n",
       "      <td>0</td>\n",
       "      <td>0.227273</td>\n",
       "      <td>1-10次</td>\n",
       "      <td>0.000056</td>\n",
       "      <td>0.000000</td>\n",
       "      <td>0.227273</td>\n",
       "      <td>0.068215</td>\n",
       "      <td>元素</td>\n",
       "      <td>left_only</td>\n",
       "    </tr>\n",
       "    <tr>\n",
       "      <th>...</th>\n",
       "      <td>...</td>\n",
       "      <td>...</td>\n",
       "      <td>...</td>\n",
       "      <td>...</td>\n",
       "      <td>...</td>\n",
       "      <td>...</td>\n",
       "      <td>...</td>\n",
       "      <td>...</td>\n",
       "      <td>...</td>\n",
       "      <td>...</td>\n",
       "      <td>...</td>\n",
       "      <td>...</td>\n",
       "      <td>...</td>\n",
       "      <td>...</td>\n",
       "    </tr>\n",
       "    <tr>\n",
       "      <th>862150</th>\n",
       "      <td>111815</td>\n",
       "      <td>2023新年快乐兔年贴纸卡通动图gif</td>\n",
       "      <td>98</td>\n",
       "      <td>115</td>\n",
       "      <td>114</td>\n",
       "      <td>1</td>\n",
       "      <td>1.000000</td>\n",
       "      <td>101-2000次</td>\n",
       "      <td>0.013361</td>\n",
       "      <td>0.015625</td>\n",
       "      <td>1.000000</td>\n",
       "      <td>0.311142</td>\n",
       "      <td>GIF</td>\n",
       "      <td>left_only</td>\n",
       "    </tr>\n",
       "    <tr>\n",
       "      <th>862151</th>\n",
       "      <td>111783</td>\n",
       "      <td>新年春节卡通小女孩吃饺子动图gif</td>\n",
       "      <td>0</td>\n",
       "      <td>0</td>\n",
       "      <td>8</td>\n",
       "      <td>0</td>\n",
       "      <td>0.000000</td>\n",
       "      <td>0次</td>\n",
       "      <td>0.000000</td>\n",
       "      <td>0.013021</td>\n",
       "      <td>0.000000</td>\n",
       "      <td>0.002604</td>\n",
       "      <td>GIF</td>\n",
       "      <td>left_only</td>\n",
       "    </tr>\n",
       "    <tr>\n",
       "      <th>862152</th>\n",
       "      <td>111834</td>\n",
       "      <td>极简卡通图形加载动画</td>\n",
       "      <td>19</td>\n",
       "      <td>26</td>\n",
       "      <td>62</td>\n",
       "      <td>1</td>\n",
       "      <td>0.419355</td>\n",
       "      <td>10-50次</td>\n",
       "      <td>0.003021</td>\n",
       "      <td>0.015625</td>\n",
       "      <td>0.419355</td>\n",
       "      <td>0.130744</td>\n",
       "      <td>GIF</td>\n",
       "      <td>left_only</td>\n",
       "    </tr>\n",
       "    <tr>\n",
       "      <th>862153</th>\n",
       "      <td>111764</td>\n",
       "      <td>春节庆祝新年金色烟花</td>\n",
       "      <td>36</td>\n",
       "      <td>43</td>\n",
       "      <td>93</td>\n",
       "      <td>1</td>\n",
       "      <td>0.462366</td>\n",
       "      <td>10-50次</td>\n",
       "      <td>0.004996</td>\n",
       "      <td>0.015625</td>\n",
       "      <td>0.462366</td>\n",
       "      <td>0.144832</td>\n",
       "      <td>GIF</td>\n",
       "      <td>left_only</td>\n",
       "    </tr>\n",
       "    <tr>\n",
       "      <th>862154</th>\n",
       "      <td>111832</td>\n",
       "      <td>兔年新年瑞兔纳福烟花文字</td>\n",
       "      <td>31</td>\n",
       "      <td>34</td>\n",
       "      <td>52</td>\n",
       "      <td>0</td>\n",
       "      <td>0.653846</td>\n",
       "      <td>10-50次</td>\n",
       "      <td>0.003950</td>\n",
       "      <td>0.013021</td>\n",
       "      <td>0.653846</td>\n",
       "      <td>0.201128</td>\n",
       "      <td>GIF</td>\n",
       "      <td>left_only</td>\n",
       "    </tr>\n",
       "  </tbody>\n",
       "</table>\n",
       "<p>663045 rows × 14 columns</p>\n",
       "</div>"
      ],
      "text/plain": [
       "            素材id                   标题  下载人数  下载次数  浏览数  收藏数     内容下载率  \\\n",
       "0       12958107               蓝色语文书籍    23    23   43    0  0.534884   \n",
       "1       12958108               蓝色语文学习    16    18  109    0  0.165138   \n",
       "2       12958109             水龙头饮用水水杯    66    82  113    1  0.725664   \n",
       "4       12958111               水龙头饮用水    18    19   42    0  0.452381   \n",
       "6       12958113             水龙头饮用水水滴     5     5   22    0  0.227273   \n",
       "...          ...                  ...   ...   ...  ...  ...       ...   \n",
       "862150    111815  2023新年快乐兔年贴纸卡通动图gif    98   115  114    1  1.000000   \n",
       "862151    111783    新年春节卡通小女孩吃饺子动图gif     0     0    8    0  0.000000   \n",
       "862152    111834           极简卡通图形加载动画    19    26   62    1  0.419355   \n",
       "862153    111764           春节庆祝新年金色烟花    36    43   93    1  0.462366   \n",
       "862154    111832         兔年新年瑞兔纳福烟花文字    31    34   52    0  0.653846   \n",
       "\n",
       "             下载区间    下载次数归一     收藏数归一   内容下载率归一        价值   分类     _merge  \n",
       "0          10-50次  0.000256  0.000000  0.534884  0.160618   元素  left_only  \n",
       "1          10-50次  0.000200  0.000000  0.165138  0.049661   元素  left_only  \n",
       "2         51-100次  0.000911  0.001267  0.725664  0.218499   元素  left_only  \n",
       "4          10-50次  0.000211  0.000000  0.452381  0.135841   元素  left_only  \n",
       "6           1-10次  0.000056  0.000000  0.227273  0.068215   元素  left_only  \n",
       "...           ...       ...       ...       ...       ...  ...        ...  \n",
       "862150  101-2000次  0.013361  0.015625  1.000000  0.311142  GIF  left_only  \n",
       "862151         0次  0.000000  0.013021  0.000000  0.002604  GIF  left_only  \n",
       "862152     10-50次  0.003021  0.015625  0.419355  0.130744  GIF  left_only  \n",
       "862153     10-50次  0.004996  0.015625  0.462366  0.144832  GIF  left_only  \n",
       "862154     10-50次  0.003950  0.013021  0.653846  0.201128  GIF  left_only  \n",
       "\n",
       "[663045 rows x 14 columns]"
      ]
     },
     "execution_count": 373,
     "metadata": {},
     "output_type": "execute_result"
    }
   ],
   "source": [
    "diff_rows = df_total.merge(sampled_total, indicator=True, how='left').loc[lambda x: x['_merge'] == 'left_only']\n",
    "diff_rows"
   ]
  },
  {
   "cell_type": "code",
   "execution_count": 378,
   "id": "342f3c6c",
   "metadata": {},
   "outputs": [],
   "source": [
    "diff_rows.to_csv('D:\\Ori\\数据处理\\主站内容分层\\\\未被抽样结果.csv')"
   ]
  },
  {
   "cell_type": "code",
   "execution_count": 379,
   "id": "3c5864a8",
   "metadata": {},
   "outputs": [
    {
     "data": {
      "text/plain": [
       "(663045, 14)"
      ]
     },
     "execution_count": 379,
     "metadata": {},
     "output_type": "execute_result"
    }
   ],
   "source": [
    "diff_rows.shape"
   ]
  },
  {
   "cell_type": "code",
   "execution_count": 380,
   "id": "0bc48d1c",
   "metadata": {},
   "outputs": [
    {
     "data": {
      "text/plain": [
       "(102430, 14)"
      ]
     },
     "execution_count": 380,
     "metadata": {},
     "output_type": "execute_result"
    }
   ],
   "source": [
    "diff_rows_fe = diff_rows[diff_rows['标题'].str.contains('节',na=False)]\n",
    "diff_rows_fe.shape"
   ]
  },
  {
   "cell_type": "code",
   "execution_count": 381,
   "id": "a5e6a362",
   "metadata": {},
   "outputs": [],
   "source": [
    "# 等距抽样\n",
    "diff_rows_fe_sampled = diff_rows_fe.iloc[::3]"
   ]
  },
  {
   "cell_type": "code",
   "execution_count": 382,
   "id": "3555ae1c",
   "metadata": {},
   "outputs": [
    {
     "data": {
      "text/plain": [
       "(34144, 14)"
      ]
     },
     "execution_count": 382,
     "metadata": {},
     "output_type": "execute_result"
    }
   ],
   "source": [
    "diff_rows_fe_sampled.shape"
   ]
  },
  {
   "cell_type": "code",
   "execution_count": 383,
   "id": "7811b141",
   "metadata": {},
   "outputs": [],
   "source": [
    "diff_rows_fe_sampled.to_csv('D:\\Ori\\数据处理\\主站内容分层\\\\未被抽样结果2.csv')"
   ]
  },
  {
   "cell_type": "markdown",
   "id": "cdec9fe3",
   "metadata": {},
   "source": [
    "# 合并节日和之前抽选的素材"
   ]
  },
  {
   "cell_type": "code",
   "execution_count": 384,
   "id": "6ccf9817",
   "metadata": {},
   "outputs": [
    {
     "data": {
      "text/plain": [
       "(233271, 14)"
      ]
     },
     "execution_count": 384,
     "metadata": {},
     "output_type": "execute_result"
    }
   ],
   "source": [
    "sampled_total_2 = pd.concat([sampled_total, diff_rows_fe_sampled], axis=0)\n",
    "sampled_total_2.shape"
   ]
  },
  {
   "cell_type": "code",
   "execution_count": 424,
   "id": "73e046ec",
   "metadata": {},
   "outputs": [
    {
     "data": {
      "text/plain": [
       "(5667, 14)"
      ]
     },
     "execution_count": 424,
     "metadata": {},
     "output_type": "execute_result"
    }
   ],
   "source": [
    "查询 = sampled_total_2[sampled_total_2['标题'].str.contains('国潮',na=False)]\n",
    "查询.shape"
   ]
  },
  {
   "cell_type": "code",
   "execution_count": 425,
   "id": "81ac6225",
   "metadata": {},
   "outputs": [
    {
     "data": {
      "text/plain": [
       "(17533, 13)"
      ]
     },
     "execution_count": 425,
     "metadata": {},
     "output_type": "execute_result"
    }
   ],
   "source": [
    "# 使用 str.contains() 方法筛选包含\"节\"字符的列\n",
    "总体 = df_total[df_total['标题'].str.contains('国潮',na=False)]\n",
    "总体.shape"
   ]
  },
  {
   "cell_type": "code",
   "execution_count": 385,
   "id": "49eafa96",
   "metadata": {},
   "outputs": [],
   "source": [
    "sampled_total_2.to_csv('D:\\Ori\\数据处理\\主站内容分层\\\\企业素材.csv')"
   ]
  },
  {
   "cell_type": "code",
   "execution_count": null,
   "id": "7ef78b57",
   "metadata": {},
   "outputs": [],
   "source": []
  }
 ],
 "metadata": {
  "kernelspec": {
   "display_name": "Python 3 (ipykernel)",
   "language": "python",
   "name": "python3"
  },
  "language_info": {
   "codemirror_mode": {
    "name": "ipython",
    "version": 3
   },
   "file_extension": ".py",
   "mimetype": "text/x-python",
   "name": "python",
   "nbconvert_exporter": "python",
   "pygments_lexer": "ipython3",
   "version": "3.9.16"
  },
  "toc": {
   "base_numbering": 1,
   "nav_menu": {},
   "number_sections": true,
   "sideBar": true,
   "skip_h1_title": false,
   "title_cell": "Table of Contents",
   "title_sidebar": "Contents",
   "toc_cell": false,
   "toc_position": {
    "height": "calc(100% - 180px)",
    "left": "10px",
    "top": "150px",
    "width": "406.225px"
   },
   "toc_section_display": true,
   "toc_window_display": true
  }
 },
 "nbformat": 4,
 "nbformat_minor": 5
}
