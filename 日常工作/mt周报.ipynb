{
 "cells": [
  {
   "cell_type": "markdown",
   "id": "6650001a-1fd0-4729-97bf-db2ba949d1db",
   "metadata": {},
   "source": [
    "# 前置"
   ]
  },
  {
   "cell_type": "code",
   "execution_count": 1,
   "id": "7e2c946b-d92c-436a-aea8-960ff2a08677",
   "metadata": {},
   "outputs": [],
   "source": [
    "import pandas as pd\n",
    "from openpyxl import Workbook\n",
    "from openpyxl.utils.dataframe import dataframe_to_rows\n",
    "import numpy as np"
   ]
  },
  {
   "cell_type": "code",
   "execution_count": 2,
   "id": "93ea3e3a-9225-458d-ad12-ab044ecf2edd",
   "metadata": {},
   "outputs": [],
   "source": [
    "# 读取日报数据\n",
    "file_path = r'D:\\Ori\\日报.xlsx'\n",
    "sheet_name = '日报by渠道'\n",
    "df = pd.read_excel(file_path, sheet_name=sheet_name)\n",
    "# 读取第二个Sheet\n",
    "sheet_name2 = '日报by优惠券'\n",
    "df2 = pd.read_excel(file_path, sheet_name=sheet_name2)"
   ]
  },
  {
   "cell_type": "markdown",
   "id": "bcab3bb6-8e7d-4996-aa34-51756c56ff83",
   "metadata": {},
   "source": [
    "# 时期定义"
   ]
  },
  {
   "cell_type": "code",
   "execution_count": 3,
   "id": "d584e1c1-ca31-4a81-954f-e2728e5bbbc4",
   "metadata": {},
   "outputs": [],
   "source": [
    "# 定义一个函数来计算每周的开始和结束日期\n",
    "def get_custom_week_period(date):\n",
    "    # 自定义的周期起始日期\n",
    "    start_date = pd.Timestamp('2025-01-02')\n",
    "    \n",
    "    # 计算当前日期距离起始日期的天数\n",
    "    delta_days = (date - start_date).days\n",
    "    \n",
    "    # 计算当前日期属于第几个周期\n",
    "    week_number = delta_days // 7\n",
    "    \n",
    "    # 计算周期的开始和结束日期\n",
    "    period_start = start_date + pd.Timedelta(days=week_number * 7)\n",
    "    period_end = period_start + pd.Timedelta(days=6)\n",
    "    \n",
    "    return f\"{period_start.strftime('%Y-%m-%d')}至{period_end.strftime('%Y-%m-%d')}\""
   ]
  },
  {
   "cell_type": "code",
   "execution_count": 4,
   "id": "a752d706-60f2-4cdb-aa41-a1fd264fd946",
   "metadata": {},
   "outputs": [],
   "source": [
    "#### 新增一列时期，代表每周的周期\n",
    "df['时期'] = df['日期'].apply(get_custom_week_period)"
   ]
  },
  {
   "cell_type": "markdown",
   "id": "7bd48d27-6eff-4905-952c-6d12bdb5aa3a",
   "metadata": {},
   "source": [
    "# 第一个sheet"
   ]
  },
  {
   "cell_type": "code",
   "execution_count": 5,
   "id": "37060279-4e2e-42c8-9830-2136e54684b5",
   "metadata": {},
   "outputs": [],
   "source": [
    "# 按周周期进行groupby汇总\n",
    "weekly_report = df.groupby(['时期','城市']).agg({\n",
    "    '触达用户数': 'sum',\n",
    "    '点击用户数': 'sum',\n",
    "    '领券用户数': 'sum',\n",
    "    '交易用户数': 'sum',\n",
    "    '交易订单量': 'sum',\n",
    "    '核销用户数': 'sum',\n",
    "    '交易新用户数': 'sum',\n",
    "    '券补金额': 'sum',\n",
    "    '渠道成本': 'sum'\n",
    "}).reset_index()"
   ]
  },
  {
   "cell_type": "code",
   "execution_count": 6,
   "id": "e35fb6b0-a1ff-4042-9de1-e6e241458b5b",
   "metadata": {},
   "outputs": [],
   "source": [
    "weekly_report['未核销用户数'] = weekly_report['交易用户数'] - weekly_report['核销用户数']\n",
    "weekly_report['触达点击率'] = weekly_report['点击用户数'] / weekly_report['触达用户数']\n",
    "weekly_report['点击转化率'] = weekly_report['交易用户数'] / weekly_report['点击用户数']\n",
    "weekly_report['支付核销率'] = weekly_report['核销用户数'] / weekly_report['交易用户数']\n",
    "weekly_report['日均交易订单量'] = weekly_report['交易订单量'] / 7\n",
    "weekly_report['团单CAC'] = (weekly_report['券补金额'] + weekly_report['渠道成本']) / weekly_report['交易用户数']\n",
    "\n",
    "# 转换前三个率为百分比格式\n",
    "rate_columns = ['触达点击率', '点击转化率', '支付核销率']\n",
    "weekly_report[rate_columns] = weekly_report[rate_columns].apply(lambda x: (x * 100).round(2).astype(str) + '%')\n",
    "\n",
    "# 保留后两列为两位小数\n",
    "decimal_columns = ['日均交易订单量', '团单CAC']\n",
    "weekly_report[decimal_columns] = weekly_report[decimal_columns].round(2)"
   ]
  },
  {
   "cell_type": "code",
   "execution_count": 7,
   "id": "d246d15c-e4da-41f4-9cc5-c05685778aa8",
   "metadata": {},
   "outputs": [],
   "source": [
    "# 创建一个新的Excel工作簿\n",
    "wb = Workbook()\n",
    "\n",
    "ws1 = wb.active\n",
    "ws1.title = '线上获客概览'\n",
    "\n",
    "# 写入数据到新的Sheet\n",
    "for r in dataframe_to_rows(weekly_report, index=False, header=True):\n",
    "    ws1.append(r)"
   ]
  },
  {
   "cell_type": "markdown",
   "id": "b656dff5-494f-4dbc-8c67-74385dfa368d",
   "metadata": {},
   "source": [
    "# 第二个sheet"
   ]
  },
  {
   "cell_type": "code",
   "execution_count": 8,
   "id": "35c38f0a-f2bb-4e5b-96fa-b17b754dacc3",
   "metadata": {},
   "outputs": [],
   "source": [
    "# 计算渠道获客CAC核算\n",
    "cac_report = df.groupby(['时期', '城市','渠道']).agg({\n",
    "    '渠道成本': 'sum',\n",
    "    '券补金额': 'sum',\n",
    "    '交易用户数': 'sum',\n",
    "    '核销用户数': 'sum'\n",
    "}).reset_index()\n",
    "cac_report['总花费'] = cac_report['渠道成本'] + cac_report['券补金额']\n",
    "cac_report['团单CAC'] = cac_report['总花费'] / cac_report['交易用户数']\n",
    "cac_report['核销CAC'] = cac_report['总花费'] / cac_report['核销用户数']"
   ]
  },
  {
   "cell_type": "code",
   "execution_count": 9,
   "id": "860fc564-ae4c-4fbb-9823-340e47e103ab",
   "metadata": {},
   "outputs": [],
   "source": [
    "# 保留两位小数\n",
    "decimal_columns2 = ['总花费', '团单CAC', '核销CAC']\n",
    "cac_report[decimal_columns2] = cac_report[decimal_columns2].round(2)"
   ]
  },
  {
   "cell_type": "code",
   "execution_count": null,
   "id": "ddbacfb6-2083-4076-bbe4-ec5f715830d0",
   "metadata": {},
   "outputs": [],
   "source": [
    "# 创建第二个Sheet用于保存渠道获客CAC核算数据\n",
    "ws2 = wb.create_sheet(title='CAC')\n",
    "for r in dataframe_to_rows(cac_report, index=False, header=True):\n",
    "    ws2.append(r)"
   ]
  },
  {
   "cell_type": "markdown",
   "id": "ee3eac5f-6b3f-4631-9332-9a85dbe17546",
   "metadata": {},
   "source": [
    "# 第三个sheet"
   ]
  },
  {
   "cell_type": "code",
   "execution_count": 10,
   "id": "8570e856-a240-4f11-8bcd-41fba0c47c2f",
   "metadata": {},
   "outputs": [],
   "source": [
    "# 按周周期和渠道进行groupby汇总，用于渠道获客转化by周\n",
    "conversion_report = df.groupby(['时期','城市', '渠道']).agg({\n",
    "    '触达用户数': 'sum',\n",
    "    '点击用户数': 'sum',\n",
    "    '领券用户数': 'sum',\n",
    "    '交易用户数': 'sum',\n",
    "    '交易订单量': 'sum',\n",
    "    '核销用户数': 'sum',\n",
    "    '交易新用户数': 'sum',\n",
    "    '券补金额': 'sum',\n",
    "    '渠道成本': 'sum'\n",
    "}).reset_index()\n",
    "\n",
    "conversion_report['触达点击率'] = conversion_report['点击用户数'] / conversion_report['触达用户数']\n",
    "conversion_report['点击转化率'] = conversion_report['交易用户数'] / conversion_report['点击用户数']\n",
    "conversion_report['新用户占比'] = conversion_report['交易新用户数'] / conversion_report['交易用户数']"
   ]
  },
  {
   "cell_type": "code",
   "execution_count": 11,
   "id": "f8d7ac90-ae55-4f4d-95c8-3d90e5f4a5cd",
   "metadata": {},
   "outputs": [],
   "source": [
    "# 转换前三个率为百分比格式\n",
    "rate_columns2 = ['触达点击率', '点击转化率', '新用户占比']\n",
    "conversion_report[rate_columns2] = conversion_report[rate_columns2].apply(lambda x: (x * 100).round(2).astype(str) + '%')\n",
    "\n",
    "# 创建第三个Sheet用于保存渠道获客转化by周数据\n",
    "ws3 = wb.create_sheet(title='线上获客细则')\n",
    "for r in dataframe_to_rows(conversion_report, index=False, header=True):\n",
    "    ws3.append(r)"
   ]
  },
  {
   "cell_type": "markdown",
   "id": "be5dce75-b5ae-44e1-94b6-723e0103ab5f",
   "metadata": {},
   "source": [
    "# 第四个sheet"
   ]
  },
  {
   "cell_type": "code",
   "execution_count": 12,
   "id": "8ce27afd-1636-4f21-ae58-951c16e0ea1e",
   "metadata": {},
   "outputs": [],
   "source": [
    "df2['日期'] = pd.to_datetime(df2['日期'])\n",
    "df2['时期'] = df2['日期'].apply(get_custom_week_period)\n",
    "df2['是否门店新用户'] = df2['是否新客']\n",
    "# 按时期、优惠券ID、面额、渠道和人群进行groupby汇总，用于人群转化by周\n",
    "crowd_conversion_report = df2.groupby(['时期', '人群','是否新客','优惠券ID', '面额', '渠道','人群ID','城市']).agg({\n",
    "    '领券用户数': 'sum',\n",
    "    '交易用户数': 'sum',\n",
    "    '交易订单量': 'sum',\n",
    "    '交易新用户数': 'sum',\n",
    "    '核销用户数': 'sum',\n",
    "    '券补金额': 'sum'\n",
    "}).reset_index()"
   ]
  },
  {
   "cell_type": "code",
   "execution_count": 13,
   "id": "bdfc92dd-f9eb-4ea7-b7a6-8c565066785d",
   "metadata": {},
   "outputs": [],
   "source": [
    "# 创建第四个Sheet用于保存人群转化by周数据\n",
    "ws4 = wb.create_sheet(title='人群漏斗')\n",
    "for r in dataframe_to_rows(crowd_conversion_report, index=False, header=True):\n",
    "    ws4.append(r)"
   ]
  },
  {
   "cell_type": "markdown",
   "id": "83a72c79-4261-43c8-94f1-1d89b78f5a53",
   "metadata": {},
   "source": [
    "# 第五个sheet"
   ]
  },
  {
   "cell_type": "code",
   "execution_count": 14,
   "id": "9d6b1d25-3647-4549-a1e8-bf307263674e",
   "metadata": {},
   "outputs": [],
   "source": [
    "# 按周周期和渠道进行groupby汇总，用于新老客分渠道\n",
    "channel_user = df2.groupby(['时期','城市', '是否新客', '渠道']).agg({\n",
    "    '领券用户数': 'sum',\n",
    "    '交易用户数': 'sum',\n",
    "    '核销用户数': 'sum',\n",
    "    '交易订单量': 'sum',\n",
    "    '交易新用户数': 'sum'\n",
    "}).reset_index()"
   ]
  },
  {
   "cell_type": "code",
   "execution_count": 15,
   "id": "0e76b47c-d1bb-4ef4-a85f-6eeabe562995",
   "metadata": {},
   "outputs": [],
   "source": [
    "# 创建第五个Sheet用于保存人群转化by周数据\n",
    "ws5 = wb.create_sheet(title='渠道分新老')\n",
    "for r in dataframe_to_rows(channel_user, index=False, header=True):\n",
    "    ws5.append(r)"
   ]
  },
  {
   "cell_type": "markdown",
   "id": "c2317060-ae02-43f0-bcaa-d4ba55f2e41a",
   "metadata": {},
   "source": [
    "# 导出"
   ]
  },
  {
   "cell_type": "code",
   "execution_count": 16,
   "id": "46cc05c6-234c-4674-be00-12f3fb4f628a",
   "metadata": {},
   "outputs": [],
   "source": [
    "# 保存新的Excel文件\n",
    "output_file_path = r'C:\\Users\\1\\Desktop\\周报.xlsx'\n",
    "wb.save(output_file_path)"
   ]
  },
  {
   "cell_type": "code",
   "execution_count": null,
   "id": "bfb8ba92-a0d3-4d80-bbe1-761ac8835c0e",
   "metadata": {},
   "outputs": [],
   "source": []
  }
 ],
 "metadata": {
  "kernelspec": {
   "display_name": "Python 3 (ipykernel)",
   "language": "python",
   "name": "python3"
  },
  "language_info": {
   "codemirror_mode": {
    "name": "ipython",
    "version": 3
   },
   "file_extension": ".py",
   "mimetype": "text/x-python",
   "name": "python",
   "nbconvert_exporter": "python",
   "pygments_lexer": "ipython3",
   "version": "3.13.1"
  }
 },
 "nbformat": 4,
 "nbformat_minor": 5
}
