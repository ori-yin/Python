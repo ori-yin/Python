{
 "cells": [
  {
   "cell_type": "code",
   "execution_count": 1,
   "id": "cc8962bf",
   "metadata": {},
   "outputs": [],
   "source": [
    "import pandas as pd \n",
    "import numpy as np"
   ]
  },
  {
   "cell_type": "code",
   "execution_count": 2,
   "id": "ae2864d0",
   "metadata": {},
   "outputs": [],
   "source": [
    "road = 'D:\\ori-learn\\用户数据.csv'"
   ]
  },
  {
   "cell_type": "code",
   "execution_count": 3,
   "id": "31a3b64e",
   "metadata": {},
   "outputs": [],
   "source": [
    "df = pd.read_csv(road)"
   ]
  },
  {
   "cell_type": "code",
   "execution_count": 4,
   "id": "4ee138d0",
   "metadata": {
    "scrolled": true
   },
   "outputs": [
    {
     "data": {
      "text/html": [
       "<div>\n",
       "<style scoped>\n",
       "    .dataframe tbody tr th:only-of-type {\n",
       "        vertical-align: middle;\n",
       "    }\n",
       "\n",
       "    .dataframe tbody tr th {\n",
       "        vertical-align: top;\n",
       "    }\n",
       "\n",
       "    .dataframe thead th {\n",
       "        text-align: right;\n",
       "    }\n",
       "</style>\n",
       "<table border=\"1\" class=\"dataframe\">\n",
       "  <thead>\n",
       "    <tr style=\"text-align: right;\">\n",
       "      <th></th>\n",
       "      <th>用户id</th>\n",
       "      <th>近30天下载次数</th>\n",
       "      <th>近30天登录次数</th>\n",
       "      <th>累计下载次数</th>\n",
       "      <th>最后一次登录时间</th>\n",
       "    </tr>\n",
       "  </thead>\n",
       "  <tbody>\n",
       "    <tr>\n",
       "      <th>0</th>\n",
       "      <td>101</td>\n",
       "      <td>0</td>\n",
       "      <td>0</td>\n",
       "      <td>0</td>\n",
       "      <td>2022/4/1 11:21</td>\n",
       "    </tr>\n",
       "    <tr>\n",
       "      <th>1</th>\n",
       "      <td>102</td>\n",
       "      <td>0</td>\n",
       "      <td>0</td>\n",
       "      <td>0</td>\n",
       "      <td>2022/3/1 13:38</td>\n",
       "    </tr>\n",
       "    <tr>\n",
       "      <th>2</th>\n",
       "      <td>103</td>\n",
       "      <td>0</td>\n",
       "      <td>0</td>\n",
       "      <td>0</td>\n",
       "      <td>NaN</td>\n",
       "    </tr>\n",
       "  </tbody>\n",
       "</table>\n",
       "</div>"
      ],
      "text/plain": [
       "   用户id  近30天下载次数  近30天登录次数  累计下载次数        最后一次登录时间\n",
       "0   101         0         0       0  2022/4/1 11:21\n",
       "1   102         0         0       0  2022/3/1 13:38\n",
       "2   103         0         0       0             NaN"
      ]
     },
     "execution_count": 4,
     "metadata": {},
     "output_type": "execute_result"
    }
   ],
   "source": [
    "df.head(3)"
   ]
  },
  {
   "cell_type": "markdown",
   "id": "393ba833",
   "metadata": {},
   "source": [
    "# 数据清洗"
   ]
  },
  {
   "cell_type": "code",
   "execution_count": 5,
   "id": "46036138",
   "metadata": {},
   "outputs": [],
   "source": [
    "df = df.dropna(subset=['最后一次登录时间'])    # 删除有缺失值的行"
   ]
  },
  {
   "cell_type": "code",
   "execution_count": 6,
   "id": "12fb345a",
   "metadata": {},
   "outputs": [],
   "source": [
    "df.drop(df[df['最后一次登录时间'].str.contains('1900')].index,inplace=True)    # 删除登录时间为1900年的行"
   ]
  },
  {
   "cell_type": "code",
   "execution_count": 7,
   "id": "043c7a46",
   "metadata": {},
   "outputs": [],
   "source": [
    "df['最后一次登录时间'] = pd.to_datetime(df['最后一次登录时间'])"
   ]
  },
  {
   "cell_type": "code",
   "execution_count": 8,
   "id": "068d36bd",
   "metadata": {},
   "outputs": [],
   "source": [
    "import datetime as dt\n",
    "end_time = dt.datetime.today()    # 获取今天的时间"
   ]
  },
  {
   "cell_type": "code",
   "execution_count": 10,
   "id": "8e0ac681",
   "metadata": {},
   "outputs": [],
   "source": [
    "end_time = pd.to_datetime('2022-8-24')"
   ]
  },
  {
   "cell_type": "code",
   "execution_count": 12,
   "id": "948bb478",
   "metadata": {},
   "outputs": [],
   "source": [
    "df['今天'] = end_time\n",
    "df['今天'] = pd.to_datetime(df['今天'])    # 今天时间转化成pandas的时间"
   ]
  },
  {
   "cell_type": "code",
   "execution_count": 13,
   "id": "17e60ee2",
   "metadata": {},
   "outputs": [],
   "source": [
    "df['最后一次登录距离今日'] = df['今天'] - df['最后一次登录时间']    # 时间差\n",
    "df['最后一次登录距离今日'] = df['最后一次登录距离今日'].dt.days    # 时间差格式转int"
   ]
  },
  {
   "cell_type": "code",
   "execution_count": 14,
   "id": "b8f4f90d",
   "metadata": {
    "scrolled": true
   },
   "outputs": [
    {
     "data": {
      "text/html": [
       "<div>\n",
       "<style scoped>\n",
       "    .dataframe tbody tr th:only-of-type {\n",
       "        vertical-align: middle;\n",
       "    }\n",
       "\n",
       "    .dataframe tbody tr th {\n",
       "        vertical-align: top;\n",
       "    }\n",
       "\n",
       "    .dataframe thead th {\n",
       "        text-align: right;\n",
       "    }\n",
       "</style>\n",
       "<table border=\"1\" class=\"dataframe\">\n",
       "  <thead>\n",
       "    <tr style=\"text-align: right;\">\n",
       "      <th></th>\n",
       "      <th>用户id</th>\n",
       "      <th>近30天下载次数</th>\n",
       "      <th>近30天登录次数</th>\n",
       "      <th>累计下载次数</th>\n",
       "      <th>最后一次登录时间</th>\n",
       "      <th>今天</th>\n",
       "      <th>最后一次登录距离今日</th>\n",
       "    </tr>\n",
       "  </thead>\n",
       "  <tbody>\n",
       "    <tr>\n",
       "      <th>0</th>\n",
       "      <td>101</td>\n",
       "      <td>0</td>\n",
       "      <td>0</td>\n",
       "      <td>0</td>\n",
       "      <td>2022-04-01 11:21:00</td>\n",
       "      <td>2022-08-24</td>\n",
       "      <td>144</td>\n",
       "    </tr>\n",
       "    <tr>\n",
       "      <th>1</th>\n",
       "      <td>102</td>\n",
       "      <td>0</td>\n",
       "      <td>0</td>\n",
       "      <td>0</td>\n",
       "      <td>2022-03-01 13:38:00</td>\n",
       "      <td>2022-08-24</td>\n",
       "      <td>175</td>\n",
       "    </tr>\n",
       "    <tr>\n",
       "      <th>3</th>\n",
       "      <td>106</td>\n",
       "      <td>0</td>\n",
       "      <td>0</td>\n",
       "      <td>0</td>\n",
       "      <td>2022-05-18 10:40:00</td>\n",
       "      <td>2022-08-24</td>\n",
       "      <td>97</td>\n",
       "    </tr>\n",
       "  </tbody>\n",
       "</table>\n",
       "</div>"
      ],
      "text/plain": [
       "   用户id  近30天下载次数  近30天登录次数  累计下载次数            最后一次登录时间         今天  最后一次登录距离今日\n",
       "0   101         0         0       0 2022-04-01 11:21:00 2022-08-24         144\n",
       "1   102         0         0       0 2022-03-01 13:38:00 2022-08-24         175\n",
       "3   106         0         0       0 2022-05-18 10:40:00 2022-08-24          97"
      ]
     },
     "execution_count": 14,
     "metadata": {},
     "output_type": "execute_result"
    }
   ],
   "source": [
    "df.head(3)"
   ]
  },
  {
   "cell_type": "code",
   "execution_count": 15,
   "id": "0668932e",
   "metadata": {
    "scrolled": true
   },
   "outputs": [
    {
     "name": "stdout",
     "output_type": "stream",
     "text": [
      "<class 'pandas.core.frame.DataFrame'>\n",
      "Int64Index: 613708 entries, 0 to 726027\n",
      "Data columns (total 7 columns):\n",
      " #   Column      Non-Null Count   Dtype         \n",
      "---  ------      --------------   -----         \n",
      " 0   用户id        613708 non-null  int64         \n",
      " 1   近30天下载次数    613708 non-null  int64         \n",
      " 2   近30天登录次数    613708 non-null  int64         \n",
      " 3   累计下载次数      613708 non-null  int64         \n",
      " 4   最后一次登录时间    613708 non-null  datetime64[ns]\n",
      " 5   今天          613708 non-null  datetime64[ns]\n",
      " 6   最后一次登录距离今日  613708 non-null  int64         \n",
      "dtypes: datetime64[ns](2), int64(5)\n",
      "memory usage: 37.5 MB\n"
     ]
    }
   ],
   "source": [
    "df.info()"
   ]
  },
  {
   "cell_type": "code",
   "execution_count": 16,
   "id": "72a444b6",
   "metadata": {},
   "outputs": [],
   "source": [
    "data = df.copy()    # 拷贝一份，数据源保障"
   ]
  },
  {
   "cell_type": "code",
   "execution_count": 17,
   "id": "41949e5e",
   "metadata": {},
   "outputs": [
    {
     "data": {
      "text/html": [
       "<div>\n",
       "<style scoped>\n",
       "    .dataframe tbody tr th:only-of-type {\n",
       "        vertical-align: middle;\n",
       "    }\n",
       "\n",
       "    .dataframe tbody tr th {\n",
       "        vertical-align: top;\n",
       "    }\n",
       "\n",
       "    .dataframe thead th {\n",
       "        text-align: right;\n",
       "    }\n",
       "</style>\n",
       "<table border=\"1\" class=\"dataframe\">\n",
       "  <thead>\n",
       "    <tr style=\"text-align: right;\">\n",
       "      <th></th>\n",
       "      <th>用户id</th>\n",
       "      <th>近30天下载次数</th>\n",
       "      <th>近30天登录次数</th>\n",
       "      <th>累计下载次数</th>\n",
       "      <th>最后一次登录距离今日</th>\n",
       "    </tr>\n",
       "  </thead>\n",
       "  <tbody>\n",
       "    <tr>\n",
       "      <th>0</th>\n",
       "      <td>101</td>\n",
       "      <td>0</td>\n",
       "      <td>0</td>\n",
       "      <td>0</td>\n",
       "      <td>144</td>\n",
       "    </tr>\n",
       "    <tr>\n",
       "      <th>1</th>\n",
       "      <td>102</td>\n",
       "      <td>0</td>\n",
       "      <td>0</td>\n",
       "      <td>0</td>\n",
       "      <td>175</td>\n",
       "    </tr>\n",
       "    <tr>\n",
       "      <th>3</th>\n",
       "      <td>106</td>\n",
       "      <td>0</td>\n",
       "      <td>0</td>\n",
       "      <td>0</td>\n",
       "      <td>97</td>\n",
       "    </tr>\n",
       "  </tbody>\n",
       "</table>\n",
       "</div>"
      ],
      "text/plain": [
       "   用户id  近30天下载次数  近30天登录次数  累计下载次数  最后一次登录距离今日\n",
       "0   101         0         0       0         144\n",
       "1   102         0         0       0         175\n",
       "3   106         0         0       0          97"
      ]
     },
     "execution_count": 17,
     "metadata": {},
     "output_type": "execute_result"
    }
   ],
   "source": [
    "data.drop(['最后一次登录时间','今天'],axis=1,inplace=True)\n",
    "data.head(3)"
   ]
  },
  {
   "cell_type": "markdown",
   "id": "98d632d1",
   "metadata": {},
   "source": [
    "# 数据探索"
   ]
  },
  {
   "cell_type": "code",
   "execution_count": 18,
   "id": "da0d62d8",
   "metadata": {},
   "outputs": [
    {
     "data": {
      "text/html": [
       "<div>\n",
       "<style scoped>\n",
       "    .dataframe tbody tr th:only-of-type {\n",
       "        vertical-align: middle;\n",
       "    }\n",
       "\n",
       "    .dataframe tbody tr th {\n",
       "        vertical-align: top;\n",
       "    }\n",
       "\n",
       "    .dataframe thead th {\n",
       "        text-align: right;\n",
       "    }\n",
       "</style>\n",
       "<table border=\"1\" class=\"dataframe\">\n",
       "  <thead>\n",
       "    <tr style=\"text-align: right;\">\n",
       "      <th></th>\n",
       "      <th>用户id</th>\n",
       "      <th>近30天下载次数</th>\n",
       "      <th>近30天登录次数</th>\n",
       "      <th>累计下载次数</th>\n",
       "      <th>最后一次登录距离今日</th>\n",
       "    </tr>\n",
       "  </thead>\n",
       "  <tbody>\n",
       "    <tr>\n",
       "      <th>count</th>\n",
       "      <td>6.137080e+05</td>\n",
       "      <td>613708.000000</td>\n",
       "      <td>613708.000000</td>\n",
       "      <td>613708.000000</td>\n",
       "      <td>613708.000000</td>\n",
       "    </tr>\n",
       "    <tr>\n",
       "      <th>mean</th>\n",
       "      <td>1.728959e+06</td>\n",
       "      <td>0.198992</td>\n",
       "      <td>0.143819</td>\n",
       "      <td>3.830732</td>\n",
       "      <td>282.385864</td>\n",
       "    </tr>\n",
       "    <tr>\n",
       "      <th>std</th>\n",
       "      <td>1.255527e+06</td>\n",
       "      <td>3.661494</td>\n",
       "      <td>1.048191</td>\n",
       "      <td>47.208921</td>\n",
       "      <td>178.555546</td>\n",
       "    </tr>\n",
       "    <tr>\n",
       "      <th>min</th>\n",
       "      <td>1.010000e+02</td>\n",
       "      <td>0.000000</td>\n",
       "      <td>0.000000</td>\n",
       "      <td>0.000000</td>\n",
       "      <td>0.000000</td>\n",
       "    </tr>\n",
       "    <tr>\n",
       "      <th>25%</th>\n",
       "      <td>4.170632e+05</td>\n",
       "      <td>0.000000</td>\n",
       "      <td>0.000000</td>\n",
       "      <td>0.000000</td>\n",
       "      <td>128.000000</td>\n",
       "    </tr>\n",
       "    <tr>\n",
       "      <th>50%</th>\n",
       "      <td>1.745480e+06</td>\n",
       "      <td>0.000000</td>\n",
       "      <td>0.000000</td>\n",
       "      <td>0.000000</td>\n",
       "      <td>259.000000</td>\n",
       "    </tr>\n",
       "    <tr>\n",
       "      <th>75%</th>\n",
       "      <td>2.876911e+06</td>\n",
       "      <td>0.000000</td>\n",
       "      <td>0.000000</td>\n",
       "      <td>1.000000</td>\n",
       "      <td>438.000000</td>\n",
       "    </tr>\n",
       "    <tr>\n",
       "      <th>max</th>\n",
       "      <td>3.822961e+06</td>\n",
       "      <td>791.000000</td>\n",
       "      <td>159.000000</td>\n",
       "      <td>15995.000000</td>\n",
       "      <td>712.000000</td>\n",
       "    </tr>\n",
       "  </tbody>\n",
       "</table>\n",
       "</div>"
      ],
      "text/plain": [
       "               用户id       近30天下载次数       近30天登录次数         累计下载次数  \\\n",
       "count  6.137080e+05  613708.000000  613708.000000  613708.000000   \n",
       "mean   1.728959e+06       0.198992       0.143819       3.830732   \n",
       "std    1.255527e+06       3.661494       1.048191      47.208921   \n",
       "min    1.010000e+02       0.000000       0.000000       0.000000   \n",
       "25%    4.170632e+05       0.000000       0.000000       0.000000   \n",
       "50%    1.745480e+06       0.000000       0.000000       0.000000   \n",
       "75%    2.876911e+06       0.000000       0.000000       1.000000   \n",
       "max    3.822961e+06     791.000000     159.000000   15995.000000   \n",
       "\n",
       "          最后一次登录距离今日  \n",
       "count  613708.000000  \n",
       "mean      282.385864  \n",
       "std       178.555546  \n",
       "min         0.000000  \n",
       "25%       128.000000  \n",
       "50%       259.000000  \n",
       "75%       438.000000  \n",
       "max       712.000000  "
      ]
     },
     "execution_count": 18,
     "metadata": {},
     "output_type": "execute_result"
    }
   ],
   "source": [
    "data.describe()"
   ]
  },
  {
   "cell_type": "code",
   "execution_count": 19,
   "id": "7f34eb97",
   "metadata": {},
   "outputs": [],
   "source": [
    "import matplotlib.pyplot as plt \n",
    "plt.rcParams['font.sans-serif'] = ['Simhei']"
   ]
  },
  {
   "cell_type": "code",
   "execution_count": 20,
   "id": "4ad44e00",
   "metadata": {
    "scrolled": false
   },
   "outputs": [
    {
     "data": {
      "image/png": "[encoded data removed]",
      "text/plain": [
       "<Figure size 1440x1080 with 6 Axes>"
      ]
     },
     "metadata": {
      "needs_background": "light"
     },
     "output_type": "display_data"
    }
   ],
   "source": [
    "data.hist(bins=50\n",
    "         ,figsize=(20,15)\n",
    "         )\n",
    "plt.show()"
   ]
  },
  {
   "cell_type": "markdown",
   "id": "79ab0986",
   "metadata": {},
   "source": [
    "上面唯一能分析的图，只有最近登录的距离，其他的数据偏态严重，需要进一步处理数据后分析\\\n",
    "可以看到最近一百天内，用户流失明显提高。可能原因是\n",
    "1. 内容分层导致 \n",
    "2. 暑假淡季\n",
    "\n",
    "我们可以用短信召回用户\n",
    "1. 针对非终身VIP到期用户，在发生90天未登录情况的时候，发短信：提醒有优惠券领取，以提高促费\n",
    "2. 针对其他非VIP用户，90天未登录情况下，发短信：赠送3天VIP，挽回流失用户"
   ]
  },
  {
   "cell_type": "markdown",
   "id": "c53e4c24",
   "metadata": {},
   "source": [
    "## 最后一次登录距离今日-探索"
   ]
  },
  {
   "cell_type": "code",
   "execution_count": 18,
   "id": "66fce2ec",
   "metadata": {},
   "outputs": [],
   "source": [
    "data_reg = data[['用户id','最后一次登录距离今日']]"
   ]
  },
  {
   "cell_type": "code",
   "execution_count": 19,
   "id": "77487624",
   "metadata": {},
   "outputs": [
    {
     "name": "stderr",
     "output_type": "stream",
     "text": [
      "C:\\Users\\HCKJ\\AppData\\Local\\Temp\\ipykernel_6212\\1654319544.py:1: SettingWithCopyWarning: \n",
      "A value is trying to be set on a copy of a slice from a DataFrame.\n",
      "Try using .loc[row_indexer,col_indexer] = value instead\n",
      "\n",
      "See the caveats in the documentation: https://pandas.pydata.org/pandas-docs/stable/user_guide/indexing.html#returning-a-view-versus-a-copy\n",
      "  data_reg['最后登录分箱'] = pd.cut(data_reg['最后一次登录距离今日']\n"
     ]
    }
   ],
   "source": [
    "data_reg['最后登录分箱'] = pd.cut(data_reg['最后一次登录距离今日']\n",
    "                               ,bins = [0,3,7,14,30,np.inf]    # np.inf意思为正无穷\n",
    "                            #   ,labels= [1,2,3,4,5]\n",
    "                              )    # 降维，数值型数据降成分类数据"
   ]
  },
  {
   "cell_type": "code",
   "execution_count": 20,
   "id": "e6f47a5f",
   "metadata": {
    "collapsed": true
   },
   "outputs": [
    {
     "ename": "AttributeError",
     "evalue": "'Series' object has no attribute 'value_count'",
     "output_type": "error",
     "traceback": [
      "\u001b[1;31m---------------------------------------\u001b[0m",
      "\u001b[1;31mAttributeError\u001b[0mTraceback (most recent call last)",
      "Input \u001b[1;32mIn [20]\u001b[0m, in \u001b[0;36m<cell line: 1>\u001b[1;34m()\u001b[0m\n\u001b[1;32m----> 1\u001b[0m \u001b[43mdata_reg\u001b[49m\u001b[43m[\u001b[49m\u001b[38;5;124;43m'\u001b[39;49m\u001b[38;5;124;43m最后登录分箱\u001b[39;49m\u001b[38;5;124;43m'\u001b[39;49m\u001b[43m]\u001b[49m\u001b[38;5;241;43m.\u001b[39;49m\u001b[43mvalue_count\u001b[49m()\n",
      "File \u001b[1;32m~\\anaconda3\\lib\\site-packages\\pandas\\core\\generic.py:5575\u001b[0m, in \u001b[0;36mNDFrame.__getattr__\u001b[1;34m(self, name)\u001b[0m\n\u001b[0;32m   5568\u001b[0m \u001b[38;5;28;01mif\u001b[39;00m (\n\u001b[0;32m   5569\u001b[0m     name \u001b[38;5;129;01mnot\u001b[39;00m \u001b[38;5;129;01min\u001b[39;00m \u001b[38;5;28mself\u001b[39m\u001b[38;5;241m.\u001b[39m_internal_names_set\n\u001b[0;32m   5570\u001b[0m     \u001b[38;5;129;01mand\u001b[39;00m name \u001b[38;5;129;01mnot\u001b[39;00m \u001b[38;5;129;01min\u001b[39;00m \u001b[38;5;28mself\u001b[39m\u001b[38;5;241m.\u001b[39m_metadata\n\u001b[0;32m   5571\u001b[0m     \u001b[38;5;129;01mand\u001b[39;00m name \u001b[38;5;129;01mnot\u001b[39;00m \u001b[38;5;129;01min\u001b[39;00m \u001b[38;5;28mself\u001b[39m\u001b[38;5;241m.\u001b[39m_accessors\n\u001b[0;32m   5572\u001b[0m     \u001b[38;5;129;01mand\u001b[39;00m \u001b[38;5;28mself\u001b[39m\u001b[38;5;241m.\u001b[39m_info_axis\u001b[38;5;241m.\u001b[39m_can_hold_identifiers_and_holds_name(name)\n\u001b[0;32m   5573\u001b[0m ):\n\u001b[0;32m   5574\u001b[0m     \u001b[38;5;28;01mreturn\u001b[39;00m \u001b[38;5;28mself\u001b[39m[name]\n\u001b[1;32m-> 5575\u001b[0m \u001b[38;5;28;01mreturn\u001b[39;00m \u001b[38;5;28;43mobject\u001b[39;49m\u001b[38;5;241;43m.\u001b[39;49m\u001b[38;5;21;43m__getattribute__\u001b[39;49m\u001b[43m(\u001b[49m\u001b[38;5;28;43mself\u001b[39;49m\u001b[43m,\u001b[49m\u001b[43m \u001b[49m\u001b[43mname\u001b[49m\u001b[43m)\u001b[49m\n",
      "\u001b[1;31mAttributeError\u001b[0m: 'Series' object has no attribute 'value_count'"
     ]
    }
   ],
   "source": [
    "data_reg['最后登录分箱'].value_count()"
   ]
  },
  {
   "cell_type": "markdown",
   "id": "8d5efa11",
   "metadata": {},
   "source": [
    "## 近30天登录-探索"
   ]
  },
  {
   "cell_type": "code",
   "execution_count": 21,
   "id": "afc8c01a",
   "metadata": {},
   "outputs": [],
   "source": [
    "data_30day = data[['用户id','近30天登录次数']]"
   ]
  },
  {
   "cell_type": "code",
   "execution_count": 22,
   "id": "269017aa",
   "metadata": {},
   "outputs": [
    {
     "data": {
      "text/plain": [
       "用户id        574707\n",
       "近30天登录次数    574707\n",
       "dtype: int64"
      ]
     },
     "execution_count": 22,
     "metadata": {},
     "output_type": "execute_result"
    }
   ],
   "source": [
    "data_0day = data_30day.query('近30天登录次数==0')\n",
    "data_0day.count()"
   ]
  },
  {
   "cell_type": "code",
   "execution_count": 23,
   "id": "a062fb44",
   "metadata": {
    "scrolled": true
   },
   "outputs": [
    {
     "data": {
      "text/plain": [
       "用户id        39001\n",
       "近30天登录次数    39001\n",
       "dtype: int64"
      ]
     },
     "execution_count": 23,
     "metadata": {},
     "output_type": "execute_result"
    }
   ],
   "source": [
    "data_no0day = data_30day.query('近30天登录次数!=0')\n",
    "data_no0day.count()"
   ]
  },
  {
   "cell_type": "code",
   "execution_count": 24,
   "id": "4d94707b",
   "metadata": {},
   "outputs": [
    {
     "name": "stderr",
     "output_type": "stream",
     "text": [
      "C:\\Users\\HCKJ\\AppData\\Local\\Temp\\ipykernel_6212\\1196378962.py:1: SettingWithCopyWarning: \n",
      "A value is trying to be set on a copy of a slice from a DataFrame.\n",
      "Try using .loc[row_indexer,col_indexer] = value instead\n",
      "\n",
      "See the caveats in the documentation: https://pandas.pydata.org/pandas-docs/stable/user_guide/indexing.html#returning-a-view-versus-a-copy\n",
      "  data_no0day['最近登录天数分箱'] = pd.cut(data_30day['近30天登录次数']\n"
     ]
    }
   ],
   "source": [
    "data_no0day['最近登录天数分箱'] = pd.cut(data_30day['近30天登录次数']\n",
    "                               ,bins = [0,1,3,7,14,np.inf]    # np.inf意思为正无穷\n",
    "                            #   ,labels= [1,2,3,4,5]\n",
    "                              )    # 降维，数值型数据降成分类数据"
   ]
  },
  {
   "cell_type": "code",
   "execution_count": 25,
   "id": "ae76b9f1",
   "metadata": {
    "scrolled": false
   },
   "outputs": [
    {
     "data": {
      "text/plain": [
       "(0.0, 1.0]     26250\n",
       "(1.0, 3.0]      7520\n",
       "(3.0, 7.0]      3198\n",
       "(7.0, 14.0]     1375\n",
       "(14.0, inf]      658\n",
       "Name: 最近登录天数分箱, dtype: int64"
      ]
     },
     "execution_count": 25,
     "metadata": {},
     "output_type": "execute_result"
    }
   ],
   "source": [
    "data_no0day['最近登录天数分箱'].value_counts()    # 看分箱结果是否合理"
   ]
  },
  {
   "cell_type": "code",
   "execution_count": 26,
   "id": "1df738ea",
   "metadata": {},
   "outputs": [],
   "source": [
    "a = data_no0day['最近登录天数分箱'].value_counts()"
   ]
  },
  {
   "cell_type": "code",
   "execution_count": 27,
   "id": "ec175f96",
   "metadata": {},
   "outputs": [
    {
     "data": {
      "image/png": "[encoded data removed]",
      "text/plain": [
       "<Figure size 432x288 with 1 Axes>"
      ]
     },
     "metadata": {
      "needs_background": "light"
     },
     "output_type": "display_data"
    }
   ],
   "source": [
    "a.plot(kind='bar')\n",
    "plt.show()    # 看看图"
   ]
  },
  {
   "cell_type": "markdown",
   "id": "7a55696f",
   "metadata": {},
   "source": [
    "到这里，可以基本了解用户登录的分布了。\n",
    "1. 574707个用户近30天无登录行为\n",
    "2. 39001个用户近30天有登录行为\n",
    "3. 近30天IP接近26万+，实际上却只有3.9万人登录，大部分流量为用户频繁登录\n",
    "4. RFM的F(频率)打分可以定义为\n",
    ">(0.0, 1.0]   =   1分\\\n",
    ">(1.0, 3.0]    =   2分\\\n",
    ">(3.0, 7.0]    =   3分\\\n",
    ">(7.0, 14.0]  = 4分\\\n",
    ">(14.0, inf]   =   5分"
   ]
  },
  {
   "cell_type": "markdown",
   "id": "b32324a8",
   "metadata": {},
   "source": [
    "## 累计下载-探索"
   ]
  },
  {
   "cell_type": "code",
   "execution_count": 28,
   "id": "60adb7c7",
   "metadata": {},
   "outputs": [
    {
     "data": {
      "text/html": [
       "<div>\n",
       "<style scoped>\n",
       "    .dataframe tbody tr th:only-of-type {\n",
       "        vertical-align: middle;\n",
       "    }\n",
       "\n",
       "    .dataframe tbody tr th {\n",
       "        vertical-align: top;\n",
       "    }\n",
       "\n",
       "    .dataframe thead th {\n",
       "        text-align: right;\n",
       "    }\n",
       "</style>\n",
       "<table border=\"1\" class=\"dataframe\">\n",
       "  <thead>\n",
       "    <tr style=\"text-align: right;\">\n",
       "      <th></th>\n",
       "      <th>用户id</th>\n",
       "      <th>累计下载次数</th>\n",
       "    </tr>\n",
       "  </thead>\n",
       "  <tbody>\n",
       "    <tr>\n",
       "      <th>0</th>\n",
       "      <td>101</td>\n",
       "      <td>0</td>\n",
       "    </tr>\n",
       "    <tr>\n",
       "      <th>1</th>\n",
       "      <td>102</td>\n",
       "      <td>0</td>\n",
       "    </tr>\n",
       "    <tr>\n",
       "      <th>3</th>\n",
       "      <td>106</td>\n",
       "      <td>0</td>\n",
       "    </tr>\n",
       "  </tbody>\n",
       "</table>\n",
       "</div>"
      ],
      "text/plain": [
       "   用户id  累计下载次数\n",
       "0   101       0\n",
       "1   102       0\n",
       "3   106       0"
      ]
     },
     "execution_count": 28,
     "metadata": {},
     "output_type": "execute_result"
    }
   ],
   "source": [
    "data_down_all = data[['用户id','累计下载次数']]\n",
    "data_down_all.head(3)"
   ]
  },
  {
   "cell_type": "code",
   "execution_count": 29,
   "id": "ef3c29b2",
   "metadata": {},
   "outputs": [
    {
     "data": {
      "text/plain": [
       "用户id      420999\n",
       "累计下载次数    420999\n",
       "dtype: int64"
      ]
     },
     "execution_count": 29,
     "metadata": {},
     "output_type": "execute_result"
    }
   ],
   "source": [
    "data_down_0 = data_down_all.query('累计下载次数==0')\n",
    "data_down_0.count()"
   ]
  },
  {
   "cell_type": "code",
   "execution_count": 30,
   "id": "25c69f41",
   "metadata": {
    "scrolled": true
   },
   "outputs": [
    {
     "data": {
      "text/plain": [
       "用户id      192709\n",
       "累计下载次数    192709\n",
       "dtype: int64"
      ]
     },
     "execution_count": 30,
     "metadata": {},
     "output_type": "execute_result"
    }
   ],
   "source": [
    "data_down_0 = data_down_all.query('累计下载次数!=0')\n",
    "data_down_0.count()"
   ]
  },
  {
   "cell_type": "code",
   "execution_count": 31,
   "id": "561cefdd",
   "metadata": {},
   "outputs": [
    {
     "name": "stderr",
     "output_type": "stream",
     "text": [
      "C:\\Users\\HCKJ\\AppData\\Local\\Temp\\ipykernel_6212\\2243696408.py:1: SettingWithCopyWarning: \n",
      "A value is trying to be set on a copy of a slice from a DataFrame.\n",
      "Try using .loc[row_indexer,col_indexer] = value instead\n",
      "\n",
      "See the caveats in the documentation: https://pandas.pydata.org/pandas-docs/stable/user_guide/indexing.html#returning-a-view-versus-a-copy\n",
      "  data_down_0['累计下载分箱'] = pd.cut(data_down_0['累计下载次数']\n"
     ]
    }
   ],
   "source": [
    "data_down_0['累计下载分箱'] = pd.cut(data_down_0['累计下载次数']\n",
    "                               ,bins = [0,1,3,10,100,np.inf]    # np.inf意思为正无穷\n",
    "                            #   ,labels= [1,2,3,4,5]\n",
    "                              )    # 降维，数值型数据降成分类数据"
   ]
  },
  {
   "cell_type": "code",
   "execution_count": 32,
   "id": "d191b231",
   "metadata": {},
   "outputs": [
    {
     "data": {
      "text/plain": [
       "(0.0, 1.0]       108523\n",
       "(1.0, 3.0]        35270\n",
       "(3.0, 10.0]       23080\n",
       "(10.0, 100.0]     21196\n",
       "(100.0, inf]       4640\n",
       "Name: 累计下载分箱, dtype: int64"
      ]
     },
     "execution_count": 32,
     "metadata": {},
     "output_type": "execute_result"
    }
   ],
   "source": [
    "data_down_0['累计下载分箱'].value_counts()"
   ]
  },
  {
   "cell_type": "code",
   "execution_count": 33,
   "id": "b5aedd29",
   "metadata": {},
   "outputs": [],
   "source": [
    "b = data_down_0['累计下载分箱'].value_counts()"
   ]
  },
  {
   "cell_type": "code",
   "execution_count": 34,
   "id": "502b5f70",
   "metadata": {},
   "outputs": [
    {
     "data": {
      "image/png": "[encoded data removed]",
      "text/plain": [
       "<Figure size 720x360 with 1 Axes>"
      ]
     },
     "metadata": {
      "needs_background": "light"
     },
     "output_type": "display_data"
    }
   ],
   "source": [
    "b.plot(kind='bar',title='累计下载分布',figsize=(10,5))\n",
    "plt.show()    # 看看图"
   ]
  },
  {
   "cell_type": "markdown",
   "id": "30a6b2a8",
   "metadata": {},
   "source": [
    "## 近30天下载-探索"
   ]
  },
  {
   "cell_type": "code",
   "execution_count": 35,
   "id": "bae66b8c",
   "metadata": {},
   "outputs": [
    {
     "data": {
      "text/html": [
       "<div>\n",
       "<style scoped>\n",
       "    .dataframe tbody tr th:only-of-type {\n",
       "        vertical-align: middle;\n",
       "    }\n",
       "\n",
       "    .dataframe tbody tr th {\n",
       "        vertical-align: top;\n",
       "    }\n",
       "\n",
       "    .dataframe thead th {\n",
       "        text-align: right;\n",
       "    }\n",
       "</style>\n",
       "<table border=\"1\" class=\"dataframe\">\n",
       "  <thead>\n",
       "    <tr style=\"text-align: right;\">\n",
       "      <th></th>\n",
       "      <th>用户id</th>\n",
       "      <th>近30天下载次数</th>\n",
       "    </tr>\n",
       "  </thead>\n",
       "  <tbody>\n",
       "    <tr>\n",
       "      <th>0</th>\n",
       "      <td>101</td>\n",
       "      <td>0</td>\n",
       "    </tr>\n",
       "    <tr>\n",
       "      <th>1</th>\n",
       "      <td>102</td>\n",
       "      <td>0</td>\n",
       "    </tr>\n",
       "    <tr>\n",
       "      <th>3</th>\n",
       "      <td>106</td>\n",
       "      <td>0</td>\n",
       "    </tr>\n",
       "  </tbody>\n",
       "</table>\n",
       "</div>"
      ],
      "text/plain": [
       "   用户id  近30天下载次数\n",
       "0   101         0\n",
       "1   102         0\n",
       "3   106         0"
      ]
     },
     "execution_count": 35,
     "metadata": {},
     "output_type": "execute_result"
    }
   ],
   "source": [
    "data_down_30 = data[['用户id','近30天下载次数']]\n",
    "data_down_30.head(3)"
   ]
  },
  {
   "cell_type": "code",
   "execution_count": 36,
   "id": "d6ca2cf3",
   "metadata": {},
   "outputs": [
    {
     "data": {
      "text/plain": [
       "用户id        602863\n",
       "近30天下载次数    602863\n",
       "dtype: int64"
      ]
     },
     "execution_count": 36,
     "metadata": {},
     "output_type": "execute_result"
    }
   ],
   "source": [
    "data_30_0 = data_down_30.query('近30天下载次数==0')\n",
    "data_30_0.count()"
   ]
  },
  {
   "cell_type": "code",
   "execution_count": 37,
   "id": "54cc3385",
   "metadata": {},
   "outputs": [
    {
     "data": {
      "text/plain": [
       "用户id        10845\n",
       "近30天下载次数    10845\n",
       "dtype: int64"
      ]
     },
     "execution_count": 37,
     "metadata": {},
     "output_type": "execute_result"
    }
   ],
   "source": [
    "data_30_not0 = data_down_30.query('近30天下载次数!=0')\n",
    "data_30_not0.count()"
   ]
  },
  {
   "cell_type": "code",
   "execution_count": 38,
   "id": "7b4754db",
   "metadata": {},
   "outputs": [
    {
     "data": {
      "text/plain": [
       "array([[<AxesSubplot:title={'center':'用户id'}>,\n",
       "        <AxesSubplot:title={'center':'近30天下载次数'}>]], dtype=object)"
      ]
     },
     "execution_count": 38,
     "metadata": {},
     "output_type": "execute_result"
    },
    {
     "data": {
      "image/png": "[encoded data removed]",
      "text/plain": [
       "<Figure size 1440x360 with 2 Axes>"
      ]
     },
     "metadata": {
      "needs_background": "light"
     },
     "output_type": "display_data"
    }
   ],
   "source": [
    "data_30_not0.hist(figsize=(20,5))"
   ]
  },
  {
   "cell_type": "code",
   "execution_count": 39,
   "id": "7fb0a32e",
   "metadata": {},
   "outputs": [
    {
     "name": "stderr",
     "output_type": "stream",
     "text": [
      "C:\\Users\\HCKJ\\AppData\\Local\\Temp\\ipykernel_6212\\2529567062.py:1: SettingWithCopyWarning: \n",
      "A value is trying to be set on a copy of a slice from a DataFrame.\n",
      "Try using .loc[row_indexer,col_indexer] = value instead\n",
      "\n",
      "See the caveats in the documentation: https://pandas.pydata.org/pandas-docs/stable/user_guide/indexing.html#returning-a-view-versus-a-copy\n",
      "  data_30_not0['30天下载分箱'] = pd.cut(data_30_not0['近30天下载次数']\n"
     ]
    }
   ],
   "source": [
    "data_30_not0['30天下载分箱'] = pd.cut(data_30_not0['近30天下载次数']\n",
    "                               ,bins = [0,1,3,10,100,np.inf]    # np.inf意思为正无穷\n",
    "                            #   ,labels= [1,2,3,4,5]\n",
    "                              )    # 降维，数值型数据降成分类数据"
   ]
  },
  {
   "cell_type": "code",
   "execution_count": 40,
   "id": "c39eb8ff",
   "metadata": {},
   "outputs": [
    {
     "data": {
      "text/plain": [
       "(0.0, 1.0]       2956\n",
       "(3.0, 10.0]      2799\n",
       "(10.0, 100.0]    2627\n",
       "(1.0, 3.0]       2328\n",
       "(100.0, inf]      135\n",
       "Name: 30天下载分箱, dtype: int64"
      ]
     },
     "execution_count": 40,
     "metadata": {},
     "output_type": "execute_result"
    }
   ],
   "source": [
    "data_30_not0['30天下载分箱'].value_counts()"
   ]
  },
  {
   "cell_type": "code",
   "execution_count": 41,
   "id": "09acb0bf",
   "metadata": {},
   "outputs": [],
   "source": [
    "c = data_30_not0['30天下载分箱'].value_counts()"
   ]
  },
  {
   "cell_type": "code",
   "execution_count": 42,
   "id": "84aced8b",
   "metadata": {},
   "outputs": [
    {
     "data": {
      "image/png": "[encoded data removed]",
      "text/plain": [
       "<Figure size 720x360 with 1 Axes>"
      ]
     },
     "metadata": {
      "needs_background": "light"
     },
     "output_type": "display_data"
    }
   ],
   "source": [
    "c.plot(kind='bar',title='近30天下载次数',figsize=(10,5))\n",
    "plt.show()    # 看看图"
   ]
  },
  {
   "cell_type": "markdown",
   "id": "adcfdb68",
   "metadata": {},
   "source": [
    "# 充值数据"
   ]
  },
  {
   "cell_type": "code",
   "execution_count": 43,
   "id": "ce8378e1",
   "metadata": {
    "collapsed": true
   },
   "outputs": [
    {
     "ename": "FileNotFoundError",
     "evalue": "[Errno 2] No such file or directory: 'D:\\\\ori-learn\\\\充值流水.csv'",
     "output_type": "error",
     "traceback": [
      "\u001b[1;31m---------------------------------------\u001b[0m",
      "\u001b[1;31mFileNotFoundError\u001b[0mTraceback (most recent call last)",
      "Input \u001b[1;32mIn [43]\u001b[0m, in \u001b[0;36m<cell line: 1>\u001b[1;34m()\u001b[0m\n\u001b[1;32m----> 1\u001b[0m road2 \u001b[38;5;241m=\u001b[39m \u001b[43mpd\u001b[49m\u001b[38;5;241;43m.\u001b[39;49m\u001b[43mread_csv\u001b[49m\u001b[43m(\u001b[49m\u001b[38;5;124;43m'\u001b[39;49m\u001b[38;5;124;43mD:\u001b[39;49m\u001b[38;5;124;43m\\\u001b[39;49m\u001b[38;5;124;43mori-learn\u001b[39;49m\u001b[38;5;124;43m\\\u001b[39;49m\u001b[38;5;124;43m充值流水.csv\u001b[39;49m\u001b[38;5;124;43m'\u001b[39;49m\u001b[43m)\u001b[49m\n",
      "File \u001b[1;32m~\\anaconda3\\lib\\site-packages\\pandas\\util\\_decorators.py:311\u001b[0m, in \u001b[0;36mdeprecate_nonkeyword_arguments.<locals>.decorate.<locals>.wrapper\u001b[1;34m(*args, **kwargs)\u001b[0m\n\u001b[0;32m    305\u001b[0m \u001b[38;5;28;01mif\u001b[39;00m \u001b[38;5;28mlen\u001b[39m(args) \u001b[38;5;241m>\u001b[39m num_allow_args:\n\u001b[0;32m    306\u001b[0m     warnings\u001b[38;5;241m.\u001b[39mwarn(\n\u001b[0;32m    307\u001b[0m         msg\u001b[38;5;241m.\u001b[39mformat(arguments\u001b[38;5;241m=\u001b[39marguments),\n\u001b[0;32m    308\u001b[0m         \u001b[38;5;167;01mFutureWarning\u001b[39;00m,\n\u001b[0;32m    309\u001b[0m         stacklevel\u001b[38;5;241m=\u001b[39mstacklevel,\n\u001b[0;32m    310\u001b[0m     )\n\u001b[1;32m--> 311\u001b[0m \u001b[38;5;28;01mreturn\u001b[39;00m func(\u001b[38;5;241m*\u001b[39margs, \u001b[38;5;241m*\u001b[39m\u001b[38;5;241m*\u001b[39mkwargs)\n",
      "File \u001b[1;32m~\\anaconda3\\lib\\site-packages\\pandas\\io\\parsers\\readers.py:680\u001b[0m, in \u001b[0;36mread_csv\u001b[1;34m(filepath_or_buffer, sep, delimiter, header, names, index_col, usecols, squeeze, prefix, mangle_dupe_cols, dtype, engine, converters, true_values, false_values, skipinitialspace, skiprows, skipfooter, nrows, na_values, keep_default_na, na_filter, verbose, skip_blank_lines, parse_dates, infer_datetime_format, keep_date_col, date_parser, dayfirst, cache_dates, iterator, chunksize, compression, thousands, decimal, lineterminator, quotechar, quoting, doublequote, escapechar, comment, encoding, encoding_errors, dialect, error_bad_lines, warn_bad_lines, on_bad_lines, delim_whitespace, low_memory, memory_map, float_precision, storage_options)\u001b[0m\n\u001b[0;32m    665\u001b[0m kwds_defaults \u001b[38;5;241m=\u001b[39m _refine_defaults_read(\n\u001b[0;32m    666\u001b[0m     dialect,\n\u001b[0;32m    667\u001b[0m     delimiter,\n\u001b[1;32m   (...)\u001b[0m\n\u001b[0;32m    676\u001b[0m     defaults\u001b[38;5;241m=\u001b[39m{\u001b[38;5;124m\"\u001b[39m\u001b[38;5;124mdelimiter\u001b[39m\u001b[38;5;124m\"\u001b[39m: \u001b[38;5;124m\"\u001b[39m\u001b[38;5;124m,\u001b[39m\u001b[38;5;124m\"\u001b[39m},\n\u001b[0;32m    677\u001b[0m )\n\u001b[0;32m    678\u001b[0m kwds\u001b[38;5;241m.\u001b[39mupdate(kwds_defaults)\n\u001b[1;32m--> 680\u001b[0m \u001b[38;5;28;01mreturn\u001b[39;00m \u001b[43m_read\u001b[49m\u001b[43m(\u001b[49m\u001b[43mfilepath_or_buffer\u001b[49m\u001b[43m,\u001b[49m\u001b[43m \u001b[49m\u001b[43mkwds\u001b[49m\u001b[43m)\u001b[49m\n",
      "File \u001b[1;32m~\\anaconda3\\lib\\site-packages\\pandas\\io\\parsers\\readers.py:575\u001b[0m, in \u001b[0;36m_read\u001b[1;34m(filepath_or_buffer, kwds)\u001b[0m\n\u001b[0;32m    572\u001b[0m _validate_names(kwds\u001b[38;5;241m.\u001b[39mget(\u001b[38;5;124m\"\u001b[39m\u001b[38;5;124mnames\u001b[39m\u001b[38;5;124m\"\u001b[39m, \u001b[38;5;28;01mNone\u001b[39;00m))\n\u001b[0;32m    574\u001b[0m \u001b[38;5;66;03m# Create the parser.\u001b[39;00m\n\u001b[1;32m--> 575\u001b[0m parser \u001b[38;5;241m=\u001b[39m TextFileReader(filepath_or_buffer, \u001b[38;5;241m*\u001b[39m\u001b[38;5;241m*\u001b[39mkwds)\n\u001b[0;32m    577\u001b[0m \u001b[38;5;28;01mif\u001b[39;00m chunksize \u001b[38;5;129;01mor\u001b[39;00m iterator:\n\u001b[0;32m    578\u001b[0m     \u001b[38;5;28;01mreturn\u001b[39;00m parser\n",
      "File \u001b[1;32m~\\anaconda3\\lib\\site-packages\\pandas\\io\\parsers\\readers.py:933\u001b[0m, in \u001b[0;36mTextFileReader.__init__\u001b[1;34m(self, f, engine, **kwds)\u001b[0m\n\u001b[0;32m    930\u001b[0m     \u001b[38;5;28mself\u001b[39m\u001b[38;5;241m.\u001b[39moptions[\u001b[38;5;124m\"\u001b[39m\u001b[38;5;124mhas_index_names\u001b[39m\u001b[38;5;124m\"\u001b[39m] \u001b[38;5;241m=\u001b[39m kwds[\u001b[38;5;124m\"\u001b[39m\u001b[38;5;124mhas_index_names\u001b[39m\u001b[38;5;124m\"\u001b[39m]\n\u001b[0;32m    932\u001b[0m \u001b[38;5;28mself\u001b[39m\u001b[38;5;241m.\u001b[39mhandles: IOHandles \u001b[38;5;241m|\u001b[39m \u001b[38;5;28;01mNone\u001b[39;00m \u001b[38;5;241m=\u001b[39m \u001b[38;5;28;01mNone\u001b[39;00m\n\u001b[1;32m--> 933\u001b[0m \u001b[38;5;28mself\u001b[39m\u001b[38;5;241m.\u001b[39m_engine \u001b[38;5;241m=\u001b[39m \u001b[38;5;28;43mself\u001b[39;49m\u001b[38;5;241;43m.\u001b[39;49m\u001b[43m_make_engine\u001b[49m\u001b[43m(\u001b[49m\u001b[43mf\u001b[49m\u001b[43m,\u001b[49m\u001b[43m \u001b[49m\u001b[38;5;28;43mself\u001b[39;49m\u001b[38;5;241;43m.\u001b[39;49m\u001b[43mengine\u001b[49m\u001b[43m)\u001b[49m\n",
      "File \u001b[1;32m~\\anaconda3\\lib\\site-packages\\pandas\\io\\parsers\\readers.py:1217\u001b[0m, in \u001b[0;36mTextFileReader._make_engine\u001b[1;34m(self, f, engine)\u001b[0m\n\u001b[0;32m   1213\u001b[0m     mode \u001b[38;5;241m=\u001b[39m \u001b[38;5;124m\"\u001b[39m\u001b[38;5;124mrb\u001b[39m\u001b[38;5;124m\"\u001b[39m\n\u001b[0;32m   1214\u001b[0m \u001b[38;5;66;03m# error: No overload variant of \"get_handle\" matches argument types\u001b[39;00m\n\u001b[0;32m   1215\u001b[0m \u001b[38;5;66;03m# \"Union[str, PathLike[str], ReadCsvBuffer[bytes], ReadCsvBuffer[str]]\"\u001b[39;00m\n\u001b[0;32m   1216\u001b[0m \u001b[38;5;66;03m# , \"str\", \"bool\", \"Any\", \"Any\", \"Any\", \"Any\", \"Any\"\u001b[39;00m\n\u001b[1;32m-> 1217\u001b[0m \u001b[38;5;28mself\u001b[39m\u001b[38;5;241m.\u001b[39mhandles \u001b[38;5;241m=\u001b[39m \u001b[43mget_handle\u001b[49m\u001b[43m(\u001b[49m\u001b[43m  \u001b[49m\u001b[38;5;66;43;03m# type: ignore[call-overload]\u001b[39;49;00m\n\u001b[0;32m   1218\u001b[0m \u001b[43m    \u001b[49m\u001b[43mf\u001b[49m\u001b[43m,\u001b[49m\n\u001b[0;32m   1219\u001b[0m \u001b[43m    \u001b[49m\u001b[43mmode\u001b[49m\u001b[43m,\u001b[49m\n\u001b[0;32m   1220\u001b[0m \u001b[43m    \u001b[49m\u001b[43mencoding\u001b[49m\u001b[38;5;241;43m=\u001b[39;49m\u001b[38;5;28;43mself\u001b[39;49m\u001b[38;5;241;43m.\u001b[39;49m\u001b[43moptions\u001b[49m\u001b[38;5;241;43m.\u001b[39;49m\u001b[43mget\u001b[49m\u001b[43m(\u001b[49m\u001b[38;5;124;43m\"\u001b[39;49m\u001b[38;5;124;43mencoding\u001b[39;49m\u001b[38;5;124;43m\"\u001b[39;49m\u001b[43m,\u001b[49m\u001b[43m \u001b[49m\u001b[38;5;28;43;01mNone\u001b[39;49;00m\u001b[43m)\u001b[49m\u001b[43m,\u001b[49m\n\u001b[0;32m   1221\u001b[0m \u001b[43m    \u001b[49m\u001b[43mcompression\u001b[49m\u001b[38;5;241;43m=\u001b[39;49m\u001b[38;5;28;43mself\u001b[39;49m\u001b[38;5;241;43m.\u001b[39;49m\u001b[43moptions\u001b[49m\u001b[38;5;241;43m.\u001b[39;49m\u001b[43mget\u001b[49m\u001b[43m(\u001b[49m\u001b[38;5;124;43m\"\u001b[39;49m\u001b[38;5;124;43mcompression\u001b[39;49m\u001b[38;5;124;43m\"\u001b[39;49m\u001b[43m,\u001b[49m\u001b[43m \u001b[49m\u001b[38;5;28;43;01mNone\u001b[39;49;00m\u001b[43m)\u001b[49m\u001b[43m,\u001b[49m\n\u001b[0;32m   1222\u001b[0m \u001b[43m    \u001b[49m\u001b[43mmemory_map\u001b[49m\u001b[38;5;241;43m=\u001b[39;49m\u001b[38;5;28;43mself\u001b[39;49m\u001b[38;5;241;43m.\u001b[39;49m\u001b[43moptions\u001b[49m\u001b[38;5;241;43m.\u001b[39;49m\u001b[43mget\u001b[49m\u001b[43m(\u001b[49m\u001b[38;5;124;43m\"\u001b[39;49m\u001b[38;5;124;43mmemory_map\u001b[39;49m\u001b[38;5;124;43m\"\u001b[39;49m\u001b[43m,\u001b[49m\u001b[43m \u001b[49m\u001b[38;5;28;43;01mFalse\u001b[39;49;00m\u001b[43m)\u001b[49m\u001b[43m,\u001b[49m\n\u001b[0;32m   1223\u001b[0m \u001b[43m    \u001b[49m\u001b[43mis_text\u001b[49m\u001b[38;5;241;43m=\u001b[39;49m\u001b[43mis_text\u001b[49m\u001b[43m,\u001b[49m\n\u001b[0;32m   1224\u001b[0m \u001b[43m    \u001b[49m\u001b[43merrors\u001b[49m\u001b[38;5;241;43m=\u001b[39;49m\u001b[38;5;28;43mself\u001b[39;49m\u001b[38;5;241;43m.\u001b[39;49m\u001b[43moptions\u001b[49m\u001b[38;5;241;43m.\u001b[39;49m\u001b[43mget\u001b[49m\u001b[43m(\u001b[49m\u001b[38;5;124;43m\"\u001b[39;49m\u001b[38;5;124;43mencoding_errors\u001b[39;49m\u001b[38;5;124;43m\"\u001b[39;49m\u001b[43m,\u001b[49m\u001b[43m \u001b[49m\u001b[38;5;124;43m\"\u001b[39;49m\u001b[38;5;124;43mstrict\u001b[39;49m\u001b[38;5;124;43m\"\u001b[39;49m\u001b[43m)\u001b[49m\u001b[43m,\u001b[49m\n\u001b[0;32m   1225\u001b[0m \u001b[43m    \u001b[49m\u001b[43mstorage_options\u001b[49m\u001b[38;5;241;43m=\u001b[39;49m\u001b[38;5;28;43mself\u001b[39;49m\u001b[38;5;241;43m.\u001b[39;49m\u001b[43moptions\u001b[49m\u001b[38;5;241;43m.\u001b[39;49m\u001b[43mget\u001b[49m\u001b[43m(\u001b[49m\u001b[38;5;124;43m\"\u001b[39;49m\u001b[38;5;124;43mstorage_options\u001b[39;49m\u001b[38;5;124;43m\"\u001b[39;49m\u001b[43m,\u001b[49m\u001b[43m \u001b[49m\u001b[38;5;28;43;01mNone\u001b[39;49;00m\u001b[43m)\u001b[49m\u001b[43m,\u001b[49m\n\u001b[0;32m   1226\u001b[0m \u001b[43m\u001b[49m\u001b[43m)\u001b[49m\n\u001b[0;32m   1227\u001b[0m \u001b[38;5;28;01massert\u001b[39;00m \u001b[38;5;28mself\u001b[39m\u001b[38;5;241m.\u001b[39mhandles \u001b[38;5;129;01mis\u001b[39;00m \u001b[38;5;129;01mnot\u001b[39;00m \u001b[38;5;28;01mNone\u001b[39;00m\n\u001b[0;32m   1228\u001b[0m f \u001b[38;5;241m=\u001b[39m \u001b[38;5;28mself\u001b[39m\u001b[38;5;241m.\u001b[39mhandles\u001b[38;5;241m.\u001b[39mhandle\n",
      "File \u001b[1;32m~\\anaconda3\\lib\\site-packages\\pandas\\io\\common.py:789\u001b[0m, in \u001b[0;36mget_handle\u001b[1;34m(path_or_buf, mode, encoding, compression, memory_map, is_text, errors, storage_options)\u001b[0m\n\u001b[0;32m    784\u001b[0m \u001b[38;5;28;01melif\u001b[39;00m \u001b[38;5;28misinstance\u001b[39m(handle, \u001b[38;5;28mstr\u001b[39m):\n\u001b[0;32m    785\u001b[0m     \u001b[38;5;66;03m# Check whether the filename is to be opened in binary mode.\u001b[39;00m\n\u001b[0;32m    786\u001b[0m     \u001b[38;5;66;03m# Binary mode does not support 'encoding' and 'newline'.\u001b[39;00m\n\u001b[0;32m    787\u001b[0m     \u001b[38;5;28;01mif\u001b[39;00m ioargs\u001b[38;5;241m.\u001b[39mencoding \u001b[38;5;129;01mand\u001b[39;00m \u001b[38;5;124m\"\u001b[39m\u001b[38;5;124mb\u001b[39m\u001b[38;5;124m\"\u001b[39m \u001b[38;5;129;01mnot\u001b[39;00m \u001b[38;5;129;01min\u001b[39;00m ioargs\u001b[38;5;241m.\u001b[39mmode:\n\u001b[0;32m    788\u001b[0m         \u001b[38;5;66;03m# Encoding\u001b[39;00m\n\u001b[1;32m--> 789\u001b[0m         handle \u001b[38;5;241m=\u001b[39m \u001b[38;5;28;43mopen\u001b[39;49m\u001b[43m(\u001b[49m\n\u001b[0;32m    790\u001b[0m \u001b[43m            \u001b[49m\u001b[43mhandle\u001b[49m\u001b[43m,\u001b[49m\n\u001b[0;32m    791\u001b[0m \u001b[43m            \u001b[49m\u001b[43mioargs\u001b[49m\u001b[38;5;241;43m.\u001b[39;49m\u001b[43mmode\u001b[49m\u001b[43m,\u001b[49m\n\u001b[0;32m    792\u001b[0m \u001b[43m            \u001b[49m\u001b[43mencoding\u001b[49m\u001b[38;5;241;43m=\u001b[39;49m\u001b[43mioargs\u001b[49m\u001b[38;5;241;43m.\u001b[39;49m\u001b[43mencoding\u001b[49m\u001b[43m,\u001b[49m\n\u001b[0;32m    793\u001b[0m \u001b[43m            \u001b[49m\u001b[43merrors\u001b[49m\u001b[38;5;241;43m=\u001b[39;49m\u001b[43merrors\u001b[49m\u001b[43m,\u001b[49m\n\u001b[0;32m    794\u001b[0m \u001b[43m            \u001b[49m\u001b[43mnewline\u001b[49m\u001b[38;5;241;43m=\u001b[39;49m\u001b[38;5;124;43m\"\u001b[39;49m\u001b[38;5;124;43m\"\u001b[39;49m\u001b[43m,\u001b[49m\n\u001b[0;32m    795\u001b[0m \u001b[43m        \u001b[49m\u001b[43m)\u001b[49m\n\u001b[0;32m    796\u001b[0m     \u001b[38;5;28;01melse\u001b[39;00m:\n\u001b[0;32m    797\u001b[0m         \u001b[38;5;66;03m# Binary mode\u001b[39;00m\n\u001b[0;32m    798\u001b[0m         handle \u001b[38;5;241m=\u001b[39m \u001b[38;5;28mopen\u001b[39m(handle, ioargs\u001b[38;5;241m.\u001b[39mmode)\n",
      "\u001b[1;31mFileNotFoundError\u001b[0m: [Errno 2] No such file or directory: 'D:\\\\ori-learn\\\\充值流水.csv'"
     ]
    }
   ],
   "source": [
    "road2 = pd.read_csv('D:\\ori-learn\\充值流水.csv')"
   ]
  },
  {
   "cell_type": "code",
   "execution_count": 44,
   "id": "328eef00",
   "metadata": {
    "collapsed": true
   },
   "outputs": [
    {
     "ename": "NameError",
     "evalue": "name 'road2' is not defined",
     "output_type": "error",
     "traceback": [
      "\u001b[1;31m---------------------------------------\u001b[0m",
      "\u001b[1;31mNameError\u001b[0mTraceback (most recent call last)",
      "Input \u001b[1;32mIn [44]\u001b[0m, in \u001b[0;36m<cell line: 1>\u001b[1;34m()\u001b[0m\n\u001b[1;32m----> 1\u001b[0m \u001b[43mroad2\u001b[49m\u001b[38;5;241m.\u001b[39mhead()\n",
      "\u001b[1;31mNameError\u001b[0m: name 'road2' is not defined"
     ]
    }
   ],
   "source": [
    "road2.head()"
   ]
  },
  {
   "cell_type": "code",
   "execution_count": 63,
   "id": "90349a04",
   "metadata": {},
   "outputs": [],
   "source": [
    "df2 = road2.groupby(by='UID',as_index=False).count()"
   ]
  },
  {
   "cell_type": "code",
   "execution_count": 67,
   "id": "11b4824d",
   "metadata": {},
   "outputs": [],
   "source": [
    "df3 = df2[['UID','充值金额']]"
   ]
  },
  {
   "cell_type": "code",
   "execution_count": 76,
   "id": "77a68694",
   "metadata": {},
   "outputs": [
    {
     "data": {
      "text/html": [
       "<div>\n",
       "<style scoped>\n",
       "    .dataframe tbody tr th:only-of-type {\n",
       "        vertical-align: middle;\n",
       "    }\n",
       "\n",
       "    .dataframe tbody tr th {\n",
       "        vertical-align: top;\n",
       "    }\n",
       "\n",
       "    .dataframe thead th {\n",
       "        text-align: right;\n",
       "    }\n",
       "</style>\n",
       "<table border=\"1\" class=\"dataframe\">\n",
       "  <thead>\n",
       "    <tr style=\"text-align: right;\">\n",
       "      <th></th>\n",
       "      <th>用户id</th>\n",
       "      <th>近30天下载次数</th>\n",
       "      <th>近30天登录次数</th>\n",
       "      <th>累计下载次数</th>\n",
       "      <th>最后一次登录距离今日</th>\n",
       "      <th>UID</th>\n",
       "      <th>充值金额</th>\n",
       "    </tr>\n",
       "  </thead>\n",
       "  <tbody>\n",
       "    <tr>\n",
       "      <th>0</th>\n",
       "      <td>149</td>\n",
       "      <td>0</td>\n",
       "      <td>19</td>\n",
       "      <td>19</td>\n",
       "      <td>2</td>\n",
       "      <td>149</td>\n",
       "      <td>2</td>\n",
       "    </tr>\n",
       "    <tr>\n",
       "      <th>1</th>\n",
       "      <td>158</td>\n",
       "      <td>0</td>\n",
       "      <td>0</td>\n",
       "      <td>29</td>\n",
       "      <td>80</td>\n",
       "      <td>158</td>\n",
       "      <td>1</td>\n",
       "    </tr>\n",
       "    <tr>\n",
       "      <th>2</th>\n",
       "      <td>191</td>\n",
       "      <td>0</td>\n",
       "      <td>0</td>\n",
       "      <td>41</td>\n",
       "      <td>40</td>\n",
       "      <td>191</td>\n",
       "      <td>3</td>\n",
       "    </tr>\n",
       "  </tbody>\n",
       "</table>\n",
       "</div>"
      ],
      "text/plain": [
       "   用户id  近30天下载次数  近30天登录次数  累计下载次数  最后一次登录距离今日  UID  充值金额\n",
       "0   149         0        19      19           2  149     2\n",
       "1   158         0         0      29          80  158     1\n",
       "2   191         0         0      41          40  191     3"
      ]
     },
     "execution_count": 76,
     "metadata": {},
     "output_type": "execute_result"
    }
   ],
   "source": [
    "money = data.merge(df3,left_on='用户id',right_on='UID')\n",
    "money.head(3)"
   ]
  },
  {
   "cell_type": "code",
   "execution_count": 112,
   "id": "fba2d94d",
   "metadata": {},
   "outputs": [
    {
     "data": {
      "text/html": [
       "<div>\n",
       "<style scoped>\n",
       "    .dataframe tbody tr th:only-of-type {\n",
       "        vertical-align: middle;\n",
       "    }\n",
       "\n",
       "    .dataframe tbody tr th {\n",
       "        vertical-align: top;\n",
       "    }\n",
       "\n",
       "    .dataframe thead th {\n",
       "        text-align: right;\n",
       "    }\n",
       "</style>\n",
       "<table border=\"1\" class=\"dataframe\">\n",
       "  <thead>\n",
       "    <tr style=\"text-align: right;\">\n",
       "      <th></th>\n",
       "      <th>用户id</th>\n",
       "      <th>近30天下载次数</th>\n",
       "      <th>近30天登录次数</th>\n",
       "      <th>累计下载次数</th>\n",
       "      <th>最后一次登录距离今日</th>\n",
       "      <th>UID</th>\n",
       "      <th>充值金额</th>\n",
       "    </tr>\n",
       "  </thead>\n",
       "  <tbody>\n",
       "    <tr>\n",
       "      <th>0</th>\n",
       "      <td>101</td>\n",
       "      <td>0</td>\n",
       "      <td>0</td>\n",
       "      <td>0</td>\n",
       "      <td>146</td>\n",
       "      <td>NaN</td>\n",
       "      <td>NaN</td>\n",
       "    </tr>\n",
       "    <tr>\n",
       "      <th>1</th>\n",
       "      <td>102</td>\n",
       "      <td>0</td>\n",
       "      <td>0</td>\n",
       "      <td>0</td>\n",
       "      <td>177</td>\n",
       "      <td>NaN</td>\n",
       "      <td>NaN</td>\n",
       "    </tr>\n",
       "    <tr>\n",
       "      <th>2</th>\n",
       "      <td>106</td>\n",
       "      <td>0</td>\n",
       "      <td>0</td>\n",
       "      <td>0</td>\n",
       "      <td>99</td>\n",
       "      <td>NaN</td>\n",
       "      <td>NaN</td>\n",
       "    </tr>\n",
       "  </tbody>\n",
       "</table>\n",
       "</div>"
      ],
      "text/plain": [
       "   用户id  近30天下载次数  近30天登录次数  累计下载次数  最后一次登录距离今日  UID  充值金额\n",
       "0   101         0         0       0         146  NaN   NaN\n",
       "1   102         0         0       0         177  NaN   NaN\n",
       "2   106         0         0       0          99  NaN   NaN"
      ]
     },
     "execution_count": 112,
     "metadata": {},
     "output_type": "execute_result"
    }
   ],
   "source": [
    "money_all = data.merge(df3,how='left',left_on='用户id',right_on='UID')\n",
    "money_all.head(3)"
   ]
  },
  {
   "cell_type": "code",
   "execution_count": 85,
   "id": "6922bdf6",
   "metadata": {},
   "outputs": [],
   "source": [
    "d = money['充值金额']"
   ]
  },
  {
   "cell_type": "code",
   "execution_count": 83,
   "id": "f918d985",
   "metadata": {},
   "outputs": [],
   "source": [
    "money['充值金额'] = pd.cut(money['充值金额']\n",
    "                               ,bins = [0,1,2,3,4,np.inf]    # np.inf意思为正无穷\n",
    "                            #   ,labels= [1,2,3,4,5]\n",
    "                              )    # 降维，数值型数据降成分类数据"
   ]
  },
  {
   "cell_type": "code",
   "execution_count": 92,
   "id": "f6059a0d",
   "metadata": {},
   "outputs": [],
   "source": [
    "d = money['充值金额'].value_counts()"
   ]
  },
  {
   "cell_type": "code",
   "execution_count": 93,
   "id": "6961eaae",
   "metadata": {},
   "outputs": [
    {
     "data": {
      "image/png": "[encoded data removed]",
      "text/plain": [
       "<Figure size 720x360 with 1 Axes>"
      ]
     },
     "metadata": {
      "needs_background": "light"
     },
     "output_type": "display_data"
    }
   ],
   "source": [
    "d.plot(kind='bar',title='充值频率分布',figsize=(10,5))\n",
    "plt.show()    # 看看图"
   ]
  },
  {
   "cell_type": "code",
   "execution_count": 121,
   "id": "2af65f66",
   "metadata": {
    "scrolled": false
   },
   "outputs": [
    {
     "data": {
      "text/html": [
       "<div>\n",
       "<style scoped>\n",
       "    .dataframe tbody tr th:only-of-type {\n",
       "        vertical-align: middle;\n",
       "    }\n",
       "\n",
       "    .dataframe tbody tr th {\n",
       "        vertical-align: top;\n",
       "    }\n",
       "\n",
       "    .dataframe thead th {\n",
       "        text-align: right;\n",
       "    }\n",
       "</style>\n",
       "<table border=\"1\" class=\"dataframe\">\n",
       "  <thead>\n",
       "    <tr style=\"text-align: right;\">\n",
       "      <th></th>\n",
       "      <th>用户id</th>\n",
       "      <th>近30天下载次数</th>\n",
       "      <th>近30天登录次数</th>\n",
       "      <th>累计下载次数</th>\n",
       "      <th>最后一次登录距离今日</th>\n",
       "      <th>UID</th>\n",
       "      <th>充值金额</th>\n",
       "    </tr>\n",
       "  </thead>\n",
       "  <tbody>\n",
       "    <tr>\n",
       "      <th>0</th>\n",
       "      <td>101</td>\n",
       "      <td>0</td>\n",
       "      <td>0</td>\n",
       "      <td>0</td>\n",
       "      <td>146</td>\n",
       "      <td>0.0</td>\n",
       "      <td>0.0</td>\n",
       "    </tr>\n",
       "    <tr>\n",
       "      <th>1</th>\n",
       "      <td>102</td>\n",
       "      <td>0</td>\n",
       "      <td>0</td>\n",
       "      <td>0</td>\n",
       "      <td>177</td>\n",
       "      <td>0.0</td>\n",
       "      <td>0.0</td>\n",
       "    </tr>\n",
       "    <tr>\n",
       "      <th>2</th>\n",
       "      <td>106</td>\n",
       "      <td>0</td>\n",
       "      <td>0</td>\n",
       "      <td>0</td>\n",
       "      <td>99</td>\n",
       "      <td>0.0</td>\n",
       "      <td>0.0</td>\n",
       "    </tr>\n",
       "  </tbody>\n",
       "</table>\n",
       "</div>"
      ],
      "text/plain": [
       "   用户id  近30天下载次数  近30天登录次数  累计下载次数  最后一次登录距离今日  UID  充值金额\n",
       "0   101         0         0       0         146  0.0   0.0\n",
       "1   102         0         0       0         177  0.0   0.0\n",
       "2   106         0         0       0          99  0.0   0.0"
      ]
     },
     "execution_count": 121,
     "metadata": {},
     "output_type": "execute_result"
    }
   ],
   "source": [
    "money_all.fillna(0,inplace=True)    # 缺失值填充为0\n",
    "money_all.head(3)"
   ]
  },
  {
   "cell_type": "code",
   "execution_count": 126,
   "id": "88cbca8e",
   "metadata": {},
   "outputs": [],
   "source": [
    "money_all['充值金额'] = money_all['充值金额'].apply(lambda x: 1 if x!=0 else 0)    # 不等于0的填充为1，否则依然是0"
   ]
  },
  {
   "cell_type": "code",
   "execution_count": 130,
   "id": "e196d686",
   "metadata": {},
   "outputs": [
    {
     "data": {
      "text/html": [
       "<div>\n",
       "<style scoped>\n",
       "    .dataframe tbody tr th:only-of-type {\n",
       "        vertical-align: middle;\n",
       "    }\n",
       "\n",
       "    .dataframe tbody tr th {\n",
       "        vertical-align: top;\n",
       "    }\n",
       "\n",
       "    .dataframe thead th {\n",
       "        text-align: right;\n",
       "    }\n",
       "</style>\n",
       "<table border=\"1\" class=\"dataframe\">\n",
       "  <thead>\n",
       "    <tr style=\"text-align: right;\">\n",
       "      <th></th>\n",
       "      <th>用户id</th>\n",
       "      <th>近30天下载次数</th>\n",
       "      <th>近30天登录次数</th>\n",
       "      <th>累计下载次数</th>\n",
       "      <th>最后一次登录距离今日</th>\n",
       "      <th>UID</th>\n",
       "      <th>充值金额</th>\n",
       "    </tr>\n",
       "  </thead>\n",
       "  <tbody>\n",
       "    <tr>\n",
       "      <th>0</th>\n",
       "      <td>101</td>\n",
       "      <td>0</td>\n",
       "      <td>0</td>\n",
       "      <td>0</td>\n",
       "      <td>146</td>\n",
       "      <td>0.0</td>\n",
       "      <td>0</td>\n",
       "    </tr>\n",
       "    <tr>\n",
       "      <th>1</th>\n",
       "      <td>102</td>\n",
       "      <td>0</td>\n",
       "      <td>0</td>\n",
       "      <td>0</td>\n",
       "      <td>177</td>\n",
       "      <td>0.0</td>\n",
       "      <td>0</td>\n",
       "    </tr>\n",
       "    <tr>\n",
       "      <th>2</th>\n",
       "      <td>106</td>\n",
       "      <td>0</td>\n",
       "      <td>0</td>\n",
       "      <td>0</td>\n",
       "      <td>99</td>\n",
       "      <td>0.0</td>\n",
       "      <td>0</td>\n",
       "    </tr>\n",
       "    <tr>\n",
       "      <th>3</th>\n",
       "      <td>107</td>\n",
       "      <td>0</td>\n",
       "      <td>0</td>\n",
       "      <td>1</td>\n",
       "      <td>45</td>\n",
       "      <td>0.0</td>\n",
       "      <td>0</td>\n",
       "    </tr>\n",
       "    <tr>\n",
       "      <th>4</th>\n",
       "      <td>108</td>\n",
       "      <td>0</td>\n",
       "      <td>8</td>\n",
       "      <td>0</td>\n",
       "      <td>16</td>\n",
       "      <td>0.0</td>\n",
       "      <td>0</td>\n",
       "    </tr>\n",
       "  </tbody>\n",
       "</table>\n",
       "</div>"
      ],
      "text/plain": [
       "   用户id  近30天下载次数  近30天登录次数  累计下载次数  最后一次登录距离今日  UID  充值金额\n",
       "0   101         0         0       0         146  0.0     0\n",
       "1   102         0         0       0         177  0.0     0\n",
       "2   106         0         0       0          99  0.0     0\n",
       "3   107         0         0       1          45  0.0     0\n",
       "4   108         0         8       0          16  0.0     0"
      ]
     },
     "execution_count": 130,
     "metadata": {},
     "output_type": "execute_result"
    }
   ],
   "source": [
    "money_all.head()"
   ]
  },
  {
   "cell_type": "code",
   "execution_count": 134,
   "id": "bb761362",
   "metadata": {},
   "outputs": [
    {
     "data": {
      "text/html": [
       "<div>\n",
       "<style scoped>\n",
       "    .dataframe tbody tr th:only-of-type {\n",
       "        vertical-align: middle;\n",
       "    }\n",
       "\n",
       "    .dataframe tbody tr th {\n",
       "        vertical-align: top;\n",
       "    }\n",
       "\n",
       "    .dataframe thead th {\n",
       "        text-align: right;\n",
       "    }\n",
       "</style>\n",
       "<table border=\"1\" class=\"dataframe\">\n",
       "  <thead>\n",
       "    <tr style=\"text-align: right;\">\n",
       "      <th></th>\n",
       "      <th>近30天下载次数</th>\n",
       "      <th>近30天登录次数</th>\n",
       "      <th>累计下载次数</th>\n",
       "      <th>最后一次登录距离今日</th>\n",
       "      <th>充值金额</th>\n",
       "    </tr>\n",
       "  </thead>\n",
       "  <tbody>\n",
       "    <tr>\n",
       "      <th>0</th>\n",
       "      <td>0</td>\n",
       "      <td>0</td>\n",
       "      <td>0</td>\n",
       "      <td>146</td>\n",
       "      <td>0</td>\n",
       "    </tr>\n",
       "    <tr>\n",
       "      <th>1</th>\n",
       "      <td>0</td>\n",
       "      <td>0</td>\n",
       "      <td>0</td>\n",
       "      <td>177</td>\n",
       "      <td>0</td>\n",
       "    </tr>\n",
       "    <tr>\n",
       "      <th>2</th>\n",
       "      <td>0</td>\n",
       "      <td>0</td>\n",
       "      <td>0</td>\n",
       "      <td>99</td>\n",
       "      <td>0</td>\n",
       "    </tr>\n",
       "    <tr>\n",
       "      <th>3</th>\n",
       "      <td>0</td>\n",
       "      <td>0</td>\n",
       "      <td>1</td>\n",
       "      <td>45</td>\n",
       "      <td>0</td>\n",
       "    </tr>\n",
       "    <tr>\n",
       "      <th>4</th>\n",
       "      <td>0</td>\n",
       "      <td>8</td>\n",
       "      <td>0</td>\n",
       "      <td>16</td>\n",
       "      <td>0</td>\n",
       "    </tr>\n",
       "  </tbody>\n",
       "</table>\n",
       "</div>"
      ],
      "text/plain": [
       "   近30天下载次数  近30天登录次数  累计下载次数  最后一次登录距离今日  充值金额\n",
       "0         0         0       0         146     0\n",
       "1         0         0       0         177     0\n",
       "2         0         0       0          99     0\n",
       "3         0         0       1          45     0\n",
       "4         0         8       0          16     0"
      ]
     },
     "execution_count": 134,
     "metadata": {},
     "output_type": "execute_result"
    }
   ],
   "source": [
    "money_all_clear = money_all[['近30天下载次数','近30天登录次数','累计下载次数','最后一次登录距离今日','充值金额']]\n",
    "money_all_clear.head()"
   ]
  },
  {
   "cell_type": "markdown",
   "id": "bbba943c",
   "metadata": {},
   "source": [
    "## 充值数据决策树"
   ]
  },
  {
   "cell_type": "code",
   "execution_count": 131,
   "id": "8255fd6e",
   "metadata": {},
   "outputs": [],
   "source": [
    "from sklearn import tree\n",
    "from sklearn.model_selection import train_test_split\n",
    "import graphviz"
   ]
  },
  {
   "cell_type": "code",
   "execution_count": 141,
   "id": "81a023d2",
   "metadata": {},
   "outputs": [],
   "source": [
    "data_train = money_all_clear.iloc[:,:4]\n",
    "data_target = money_all_clear.iloc[:,-1:]"
   ]
  },
  {
   "cell_type": "code",
   "execution_count": 190,
   "id": "c0c0e4b0",
   "metadata": {},
   "outputs": [],
   "source": [
    "x_train,x_test,y_train,y_test = train_test_split(data_train,data_target,test_size=0.2,shuffle=True)"
   ]
  },
  {
   "cell_type": "code",
   "execution_count": 255,
   "id": "4c8cf03c",
   "metadata": {},
   "outputs": [],
   "source": [
    "clf = tree.DecisionTreeClassifier(criterion='gini'\n",
    "                                  ,max_depth=3\n",
    "                                  ,min_samples_leaf=5\n",
    "                                  ,min_samples_split=10\n",
    "                                 )"
   ]
  },
  {
   "cell_type": "code",
   "execution_count": 256,
   "id": "0312ebe1",
   "metadata": {},
   "outputs": [],
   "source": [
    "clf = clf.fit(x_train,y_train)"
   ]
  },
  {
   "cell_type": "code",
   "execution_count": 257,
   "id": "3ede2d3e",
   "metadata": {},
   "outputs": [
    {
     "data": {
      "text/plain": [
       "0.9598263023252025"
      ]
     },
     "execution_count": 257,
     "metadata": {},
     "output_type": "execute_result"
    }
   ],
   "source": [
    "score = clf.score(x_test,y_test)\n",
    "score"
   ]
  },
  {
   "cell_type": "code",
   "execution_count": 258,
   "id": "96f6342f",
   "metadata": {},
   "outputs": [],
   "source": [
    "photo_ini = tree.export_graphviz(clf\n",
    "                             ,feature_names=['近30天下载次数','近30天登录次数','累计下载次数','最后一次登录距离今日']    # 列名\n",
    "                             ,class_names=['未充值','充值']    # target名字\n",
    "                            ,filled=True    # 上颜色\n",
    "                            ,rounded=True)    # 圆角\n",
    "photo_vis = graphviz.Source(photo_ini)    # 可视化"
   ]
  },
  {
   "cell_type": "code",
   "execution_count": 259,
   "id": "3834a3fa",
   "metadata": {
    "scrolled": true
   },
   "outputs": [
    {
     "data": {
      "image/svg+xml": [
       "<?xml version=\"1.0\" encoding=\"UTF-8\" standalone=\"no\"?>\n",
       "<!DOCTYPE svg PUBLIC \"-//W3C//DTD SVG 1.1//EN\"\n",
       " \"http://www.w3.org/Graphics/SVG/1.1/DTD/svg11.dtd\">\n",
       "<!-- Generated by graphviz version 2.47.1 (0)\n",
       " -->\n",
       "<!-- Title: Tree Pages: 1 -->\n",
       "<svg width=\"1347pt\" height=\"433pt\"\n",
       " viewBox=\"0.00 0.00 1346.50 433.00\" xmlns=\"http://www.w3.org/2000/svg\" xmlns:xlink=\"http://www.w3.org/1999/xlink\">\n",
       "<g id=\"graph0\" class=\"graph\" transform=\"scale(1 1) rotate(0) translate(4 429)\">\n",
       "<title>Tree</title>\n",
       "<polygon fill=\"white\" stroke=\"transparent\" points=\"-4,4 -4,-429 1342.5,-429 1342.5,4 -4,4\"/>\n",
       "<!-- 0 -->\n",
       "<g id=\"node1\" class=\"node\">\n",
       "<title>0</title>\n",
       "<path fill=\"#e68743\" stroke=\"black\" d=\"M753,-425C753,-425 606,-425 606,-425 600,-425 594,-419 594,-413 594,-413 594,-354 594,-354 594,-348 600,-342 606,-342 606,-342 753,-342 753,-342 759,-342 765,-348 765,-354 765,-354 765,-413 765,-413 765,-419 759,-425 753,-425\"/>\n",
       "<text text-anchor=\"middle\" x=\"679.5\" y=\"-409.8\" font-family=\"Helvetica,sans-Serif\" font-size=\"14.00\">累计下载次数 &lt;= 4.5</text>\n",
       "<text text-anchor=\"middle\" x=\"679.5\" y=\"-394.8\" font-family=\"Helvetica,sans-Serif\" font-size=\"14.00\">gini = 0.09</text>\n",
       "<text text-anchor=\"middle\" x=\"679.5\" y=\"-379.8\" font-family=\"Helvetica,sans-Serif\" font-size=\"14.00\">samples = 490966</text>\n",
       "<text text-anchor=\"middle\" x=\"679.5\" y=\"-364.8\" font-family=\"Helvetica,sans-Serif\" font-size=\"14.00\">value = [467767, 23199]</text>\n",
       "<text text-anchor=\"middle\" x=\"679.5\" y=\"-349.8\" font-family=\"Helvetica,sans-Serif\" font-size=\"14.00\">class = 未充值</text>\n",
       "</g>\n",
       "<!-- 1 -->\n",
       "<g id=\"node2\" class=\"node\">\n",
       "<title>1</title>\n",
       "<path fill=\"#e5833c\" stroke=\"black\" d=\"M583.5,-306C583.5,-306 443.5,-306 443.5,-306 437.5,-306 431.5,-300 431.5,-294 431.5,-294 431.5,-235 431.5,-235 431.5,-229 437.5,-223 443.5,-223 443.5,-223 583.5,-223 583.5,-223 589.5,-223 595.5,-229 595.5,-235 595.5,-235 595.5,-294 595.5,-294 595.5,-300 589.5,-306 583.5,-306\"/>\n",
       "<text text-anchor=\"middle\" x=\"513.5\" y=\"-290.8\" font-family=\"Helvetica,sans-Serif\" font-size=\"14.00\">累计下载次数 &lt;= 1.5</text>\n",
       "<text text-anchor=\"middle\" x=\"513.5\" y=\"-275.8\" font-family=\"Helvetica,sans-Serif\" font-size=\"14.00\">gini = 0.031</text>\n",
       "<text text-anchor=\"middle\" x=\"513.5\" y=\"-260.8\" font-family=\"Helvetica,sans-Serif\" font-size=\"14.00\">samples = 457085</text>\n",
       "<text text-anchor=\"middle\" x=\"513.5\" y=\"-245.8\" font-family=\"Helvetica,sans-Serif\" font-size=\"14.00\">value = [449955, 7130]</text>\n",
       "<text text-anchor=\"middle\" x=\"513.5\" y=\"-230.8\" font-family=\"Helvetica,sans-Serif\" font-size=\"14.00\">class = 未充值</text>\n",
       "</g>\n",
       "<!-- 0&#45;&gt;1 -->\n",
       "<g id=\"edge1\" class=\"edge\">\n",
       "<title>0&#45;&gt;1</title>\n",
       "<path fill=\"none\" stroke=\"black\" d=\"M621.91,-341.91C608.13,-332.2 593.32,-321.76 579.21,-311.81\"/>\n",
       "<polygon fill=\"black\" stroke=\"black\" points=\"581.18,-308.92 570.99,-306.02 577.15,-314.64 581.18,-308.92\"/>\n",
       "<text text-anchor=\"middle\" x=\"575.26\" y=\"-326.95\" font-family=\"Helvetica,sans-Serif\" font-size=\"14.00\">True</text>\n",
       "</g>\n",
       "<!-- 8 -->\n",
       "<g id=\"node9\" class=\"node\">\n",
       "<title>8</title>\n",
       "<path fill=\"#fcf3ec\" stroke=\"black\" d=\"M918,-306C918,-306 769,-306 769,-306 763,-306 757,-300 757,-294 757,-294 757,-235 757,-235 757,-229 763,-223 769,-223 769,-223 918,-223 918,-223 924,-223 930,-229 930,-235 930,-235 930,-294 930,-294 930,-300 924,-306 918,-306\"/>\n",
       "<text text-anchor=\"middle\" x=\"843.5\" y=\"-290.8\" font-family=\"Helvetica,sans-Serif\" font-size=\"14.00\">累计下载次数 &lt;= 19.5</text>\n",
       "<text text-anchor=\"middle\" x=\"843.5\" y=\"-275.8\" font-family=\"Helvetica,sans-Serif\" font-size=\"14.00\">gini = 0.499</text>\n",
       "<text text-anchor=\"middle\" x=\"843.5\" y=\"-260.8\" font-family=\"Helvetica,sans-Serif\" font-size=\"14.00\">samples = 33881</text>\n",
       "<text text-anchor=\"middle\" x=\"843.5\" y=\"-245.8\" font-family=\"Helvetica,sans-Serif\" font-size=\"14.00\">value = [17812, 16069]</text>\n",
       "<text text-anchor=\"middle\" x=\"843.5\" y=\"-230.8\" font-family=\"Helvetica,sans-Serif\" font-size=\"14.00\">class = 未充值</text>\n",
       "</g>\n",
       "<!-- 0&#45;&gt;8 -->\n",
       "<g id=\"edge8\" class=\"edge\">\n",
       "<title>0&#45;&gt;8</title>\n",
       "<path fill=\"none\" stroke=\"black\" d=\"M736.4,-341.91C749.88,-332.29 764.37,-321.95 778.19,-312.09\"/>\n",
       "<polygon fill=\"black\" stroke=\"black\" points=\"780.59,-314.68 786.7,-306.02 776.53,-308.98 780.59,-314.68\"/>\n",
       "<text text-anchor=\"middle\" x=\"782.58\" y=\"-326.98\" font-family=\"Helvetica,sans-Serif\" font-size=\"14.00\">False</text>\n",
       "</g>\n",
       "<!-- 2 -->\n",
       "<g id=\"node3\" class=\"node\">\n",
       "<title>2</title>\n",
       "<path fill=\"#e5823a\" stroke=\"black\" d=\"M328.5,-187C328.5,-187 188.5,-187 188.5,-187 182.5,-187 176.5,-181 176.5,-175 176.5,-175 176.5,-116 176.5,-116 176.5,-110 182.5,-104 188.5,-104 188.5,-104 328.5,-104 328.5,-104 334.5,-104 340.5,-110 340.5,-116 340.5,-116 340.5,-175 340.5,-175 340.5,-181 334.5,-187 328.5,-187\"/>\n",
       "<text text-anchor=\"middle\" x=\"258.5\" y=\"-171.8\" font-family=\"Helvetica,sans-Serif\" font-size=\"14.00\">累计下载次数 &lt;= 0.5</text>\n",
       "<text text-anchor=\"middle\" x=\"258.5\" y=\"-156.8\" font-family=\"Helvetica,sans-Serif\" font-size=\"14.00\">gini = 0.013</text>\n",
       "<text text-anchor=\"middle\" x=\"258.5\" y=\"-141.8\" font-family=\"Helvetica,sans-Serif\" font-size=\"14.00\">samples = 423594</text>\n",
       "<text text-anchor=\"middle\" x=\"258.5\" y=\"-126.8\" font-family=\"Helvetica,sans-Serif\" font-size=\"14.00\">value = [420891, 2703]</text>\n",
       "<text text-anchor=\"middle\" x=\"258.5\" y=\"-111.8\" font-family=\"Helvetica,sans-Serif\" font-size=\"14.00\">class = 未充值</text>\n",
       "</g>\n",
       "<!-- 1&#45;&gt;2 -->\n",
       "<g id=\"edge2\" class=\"edge\">\n",
       "<title>1&#45;&gt;2</title>\n",
       "<path fill=\"none\" stroke=\"black\" d=\"M431.41,-225.84C405.5,-213.94 376.7,-200.73 350.16,-188.55\"/>\n",
       "<polygon fill=\"black\" stroke=\"black\" points=\"351.42,-185.28 340.87,-184.29 348.5,-191.64 351.42,-185.28\"/>\n",
       "</g>\n",
       "<!-- 5 -->\n",
       "<g id=\"node6\" class=\"node\">\n",
       "<title>5</title>\n",
       "<path fill=\"#e99457\" stroke=\"black\" d=\"M583.5,-187C583.5,-187 443.5,-187 443.5,-187 437.5,-187 431.5,-181 431.5,-175 431.5,-175 431.5,-116 431.5,-116 431.5,-110 437.5,-104 443.5,-104 443.5,-104 583.5,-104 583.5,-104 589.5,-104 595.5,-110 595.5,-116 595.5,-116 595.5,-175 595.5,-175 595.5,-181 589.5,-187 583.5,-187\"/>\n",
       "<text text-anchor=\"middle\" x=\"513.5\" y=\"-171.8\" font-family=\"Helvetica,sans-Serif\" font-size=\"14.00\">累计下载次数 &lt;= 2.5</text>\n",
       "<text text-anchor=\"middle\" x=\"513.5\" y=\"-156.8\" font-family=\"Helvetica,sans-Serif\" font-size=\"14.00\">gini = 0.229</text>\n",
       "<text text-anchor=\"middle\" x=\"513.5\" y=\"-141.8\" font-family=\"Helvetica,sans-Serif\" font-size=\"14.00\">samples = 33491</text>\n",
       "<text text-anchor=\"middle\" x=\"513.5\" y=\"-126.8\" font-family=\"Helvetica,sans-Serif\" font-size=\"14.00\">value = [29064, 4427]</text>\n",
       "<text text-anchor=\"middle\" x=\"513.5\" y=\"-111.8\" font-family=\"Helvetica,sans-Serif\" font-size=\"14.00\">class = 未充值</text>\n",
       "</g>\n",
       "<!-- 1&#45;&gt;5 -->\n",
       "<g id=\"edge5\" class=\"edge\">\n",
       "<title>1&#45;&gt;5</title>\n",
       "<path fill=\"none\" stroke=\"black\" d=\"M513.5,-222.91C513.5,-214.65 513.5,-205.86 513.5,-197.3\"/>\n",
       "<polygon fill=\"black\" stroke=\"black\" points=\"517,-197.02 513.5,-187.02 510,-197.02 517,-197.02\"/>\n",
       "</g>\n",
       "<!-- 3 -->\n",
       "<g id=\"node4\" class=\"node\">\n",
       "<title>3</title>\n",
       "<path fill=\"#e5813a\" stroke=\"black\" d=\"M151,-68C151,-68 12,-68 12,-68 6,-68 0,-62 0,-56 0,-56 0,-12 0,-12 0,-6 6,0 12,0 12,0 151,0 151,0 157,0 163,-6 163,-12 163,-12 163,-56 163,-56 163,-62 157,-68 151,-68\"/>\n",
       "<text text-anchor=\"middle\" x=\"81.5\" y=\"-52.8\" font-family=\"Helvetica,sans-Serif\" font-size=\"14.00\">gini = 0.006</text>\n",
       "<text text-anchor=\"middle\" x=\"81.5\" y=\"-37.8\" font-family=\"Helvetica,sans-Serif\" font-size=\"14.00\">samples = 336861</text>\n",
       "<text text-anchor=\"middle\" x=\"81.5\" y=\"-22.8\" font-family=\"Helvetica,sans-Serif\" font-size=\"14.00\">value = [335857, 1004]</text>\n",
       "<text text-anchor=\"middle\" x=\"81.5\" y=\"-7.8\" font-family=\"Helvetica,sans-Serif\" font-size=\"14.00\">class = 未充值</text>\n",
       "</g>\n",
       "<!-- 2&#45;&gt;3 -->\n",
       "<g id=\"edge3\" class=\"edge\">\n",
       "<title>2&#45;&gt;3</title>\n",
       "<path fill=\"none\" stroke=\"black\" d=\"M192.84,-103.88C176.74,-93.92 159.55,-83.29 143.62,-73.43\"/>\n",
       "<polygon fill=\"black\" stroke=\"black\" points=\"145.26,-70.33 134.91,-68.04 141.58,-76.28 145.26,-70.33\"/>\n",
       "</g>\n",
       "<!-- 4 -->\n",
       "<g id=\"node5\" class=\"node\">\n",
       "<title>4</title>\n",
       "<path fill=\"#e6843d\" stroke=\"black\" d=\"M324,-68C324,-68 193,-68 193,-68 187,-68 181,-62 181,-56 181,-56 181,-12 181,-12 181,-6 187,0 193,0 193,0 324,0 324,0 330,0 336,-6 336,-12 336,-12 336,-56 336,-56 336,-62 330,-68 324,-68\"/>\n",
       "<text text-anchor=\"middle\" x=\"258.5\" y=\"-52.8\" font-family=\"Helvetica,sans-Serif\" font-size=\"14.00\">gini = 0.038</text>\n",
       "<text text-anchor=\"middle\" x=\"258.5\" y=\"-37.8\" font-family=\"Helvetica,sans-Serif\" font-size=\"14.00\">samples = 86733</text>\n",
       "<text text-anchor=\"middle\" x=\"258.5\" y=\"-22.8\" font-family=\"Helvetica,sans-Serif\" font-size=\"14.00\">value = [85034, 1699]</text>\n",
       "<text text-anchor=\"middle\" x=\"258.5\" y=\"-7.8\" font-family=\"Helvetica,sans-Serif\" font-size=\"14.00\">class = 未充值</text>\n",
       "</g>\n",
       "<!-- 2&#45;&gt;4 -->\n",
       "<g id=\"edge4\" class=\"edge\">\n",
       "<title>2&#45;&gt;4</title>\n",
       "<path fill=\"none\" stroke=\"black\" d=\"M258.5,-103.73C258.5,-95.52 258.5,-86.86 258.5,-78.56\"/>\n",
       "<polygon fill=\"black\" stroke=\"black\" points=\"262,-78.3 258.5,-68.3 255,-78.3 262,-78.3\"/>\n",
       "</g>\n",
       "<!-- 6 -->\n",
       "<g id=\"node7\" class=\"node\">\n",
       "<title>6</title>\n",
       "<path fill=\"#e88d4d\" stroke=\"black\" d=\"M497,-68C497,-68 366,-68 366,-68 360,-68 354,-62 354,-56 354,-56 354,-12 354,-12 354,-6 360,0 366,0 366,0 497,0 497,0 503,0 509,-6 509,-12 509,-12 509,-56 509,-56 509,-62 503,-68 497,-68\"/>\n",
       "<text text-anchor=\"middle\" x=\"431.5\" y=\"-52.8\" font-family=\"Helvetica,sans-Serif\" font-size=\"14.00\">gini = 0.164</text>\n",
       "<text text-anchor=\"middle\" x=\"431.5\" y=\"-37.8\" font-family=\"Helvetica,sans-Serif\" font-size=\"14.00\">samples = 19077</text>\n",
       "<text text-anchor=\"middle\" x=\"431.5\" y=\"-22.8\" font-family=\"Helvetica,sans-Serif\" font-size=\"14.00\">value = [17361, 1716]</text>\n",
       "<text text-anchor=\"middle\" x=\"431.5\" y=\"-7.8\" font-family=\"Helvetica,sans-Serif\" font-size=\"14.00\">class = 未充值</text>\n",
       "</g>\n",
       "<!-- 5&#45;&gt;6 -->\n",
       "<g id=\"edge6\" class=\"edge\">\n",
       "<title>5&#45;&gt;6</title>\n",
       "<path fill=\"none\" stroke=\"black\" d=\"M482.97,-103.73C476.27,-94.79 469.18,-85.32 462.47,-76.36\"/>\n",
       "<polygon fill=\"black\" stroke=\"black\" points=\"465.23,-74.21 456.44,-68.3 459.63,-78.4 465.23,-74.21\"/>\n",
       "</g>\n",
       "<!-- 7 -->\n",
       "<g id=\"node8\" class=\"node\">\n",
       "<title>7</title>\n",
       "<path fill=\"#eb9e67\" stroke=\"black\" d=\"M670,-68C670,-68 539,-68 539,-68 533,-68 527,-62 527,-56 527,-56 527,-12 527,-12 527,-6 533,0 539,0 539,0 670,0 670,0 676,0 682,-6 682,-12 682,-12 682,-56 682,-56 682,-62 676,-68 670,-68\"/>\n",
       "<text text-anchor=\"middle\" x=\"604.5\" y=\"-52.8\" font-family=\"Helvetica,sans-Serif\" font-size=\"14.00\">gini = 0.305</text>\n",
       "<text text-anchor=\"middle\" x=\"604.5\" y=\"-37.8\" font-family=\"Helvetica,sans-Serif\" font-size=\"14.00\">samples = 14414</text>\n",
       "<text text-anchor=\"middle\" x=\"604.5\" y=\"-22.8\" font-family=\"Helvetica,sans-Serif\" font-size=\"14.00\">value = [11703, 2711]</text>\n",
       "<text text-anchor=\"middle\" x=\"604.5\" y=\"-7.8\" font-family=\"Helvetica,sans-Serif\" font-size=\"14.00\">class = 未充值</text>\n",
       "</g>\n",
       "<!-- 5&#45;&gt;7 -->\n",
       "<g id=\"edge7\" class=\"edge\">\n",
       "<title>5&#45;&gt;7</title>\n",
       "<path fill=\"none\" stroke=\"black\" d=\"M547.39,-103.73C554.89,-94.7 562.84,-85.12 570.36,-76.08\"/>\n",
       "<polygon fill=\"black\" stroke=\"black\" points=\"573.13,-78.23 576.83,-68.3 567.74,-73.75 573.13,-78.23\"/>\n",
       "</g>\n",
       "<!-- 9 -->\n",
       "<g id=\"node10\" class=\"node\">\n",
       "<title>9</title>\n",
       "<path fill=\"#f4c9ab\" stroke=\"black\" d=\"M913.5,-187C913.5,-187 773.5,-187 773.5,-187 767.5,-187 761.5,-181 761.5,-175 761.5,-175 761.5,-116 761.5,-116 761.5,-110 767.5,-104 773.5,-104 773.5,-104 913.5,-104 913.5,-104 919.5,-104 925.5,-110 925.5,-116 925.5,-116 925.5,-175 925.5,-175 925.5,-181 919.5,-187 913.5,-187\"/>\n",
       "<text text-anchor=\"middle\" x=\"843.5\" y=\"-171.8\" font-family=\"Helvetica,sans-Serif\" font-size=\"14.00\">累计下载次数 &lt;= 7.5</text>\n",
       "<text text-anchor=\"middle\" x=\"843.5\" y=\"-156.8\" font-family=\"Helvetica,sans-Serif\" font-size=\"14.00\">gini = 0.463</text>\n",
       "<text text-anchor=\"middle\" x=\"843.5\" y=\"-141.8\" font-family=\"Helvetica,sans-Serif\" font-size=\"14.00\">samples = 19974</text>\n",
       "<text text-anchor=\"middle\" x=\"843.5\" y=\"-126.8\" font-family=\"Helvetica,sans-Serif\" font-size=\"14.00\">value = [12689, 7285]</text>\n",
       "<text text-anchor=\"middle\" x=\"843.5\" y=\"-111.8\" font-family=\"Helvetica,sans-Serif\" font-size=\"14.00\">class = 未充值</text>\n",
       "</g>\n",
       "<!-- 8&#45;&gt;9 -->\n",
       "<g id=\"edge9\" class=\"edge\">\n",
       "<title>8&#45;&gt;9</title>\n",
       "<path fill=\"none\" stroke=\"black\" d=\"M843.5,-222.91C843.5,-214.65 843.5,-205.86 843.5,-197.3\"/>\n",
       "<polygon fill=\"black\" stroke=\"black\" points=\"847,-197.02 843.5,-187.02 840,-197.02 847,-197.02\"/>\n",
       "</g>\n",
       "<!-- 12 -->\n",
       "<g id=\"node13\" class=\"node\">\n",
       "<title>12</title>\n",
       "<path fill=\"#acd6f4\" stroke=\"black\" d=\"M1176,-187C1176,-187 1027,-187 1027,-187 1021,-187 1015,-181 1015,-175 1015,-175 1015,-116 1015,-116 1015,-110 1021,-104 1027,-104 1027,-104 1176,-104 1176,-104 1182,-104 1188,-110 1188,-116 1188,-116 1188,-175 1188,-175 1188,-181 1182,-187 1176,-187\"/>\n",
       "<text text-anchor=\"middle\" x=\"1101.5\" y=\"-171.8\" font-family=\"Helvetica,sans-Serif\" font-size=\"14.00\">累计下载次数 &lt;= 72.5</text>\n",
       "<text text-anchor=\"middle\" x=\"1101.5\" y=\"-156.8\" font-family=\"Helvetica,sans-Serif\" font-size=\"14.00\">gini = 0.465</text>\n",
       "<text text-anchor=\"middle\" x=\"1101.5\" y=\"-141.8\" font-family=\"Helvetica,sans-Serif\" font-size=\"14.00\">samples = 13907</text>\n",
       "<text text-anchor=\"middle\" x=\"1101.5\" y=\"-126.8\" font-family=\"Helvetica,sans-Serif\" font-size=\"14.00\">value = [5123, 8784]</text>\n",
       "<text text-anchor=\"middle\" x=\"1101.5\" y=\"-111.8\" font-family=\"Helvetica,sans-Serif\" font-size=\"14.00\">class = 充值</text>\n",
       "</g>\n",
       "<!-- 8&#45;&gt;12 -->\n",
       "<g id=\"edge12\" class=\"edge\">\n",
       "<title>8&#45;&gt;12</title>\n",
       "<path fill=\"none\" stroke=\"black\" d=\"M930.13,-224.22C954.27,-213.27 980.64,-201.31 1005.3,-190.12\"/>\n",
       "<polygon fill=\"black\" stroke=\"black\" points=\"1007,-193.2 1014.66,-185.88 1004.11,-186.82 1007,-193.2\"/>\n",
       "</g>\n",
       "<!-- 10 -->\n",
       "<g id=\"node11\" class=\"node\">\n",
       "<title>10</title>\n",
       "<path fill=\"#f0b890\" stroke=\"black\" d=\"M834.5,-68C834.5,-68 712.5,-68 712.5,-68 706.5,-68 700.5,-62 700.5,-56 700.5,-56 700.5,-12 700.5,-12 700.5,-6 706.5,0 712.5,0 712.5,0 834.5,0 834.5,0 840.5,0 846.5,-6 846.5,-12 846.5,-12 846.5,-56 846.5,-56 846.5,-62 840.5,-68 834.5,-68\"/>\n",
       "<text text-anchor=\"middle\" x=\"773.5\" y=\"-52.8\" font-family=\"Helvetica,sans-Serif\" font-size=\"14.00\">gini = 0.424</text>\n",
       "<text text-anchor=\"middle\" x=\"773.5\" y=\"-37.8\" font-family=\"Helvetica,sans-Serif\" font-size=\"14.00\">samples = 8711</text>\n",
       "<text text-anchor=\"middle\" x=\"773.5\" y=\"-22.8\" font-family=\"Helvetica,sans-Serif\" font-size=\"14.00\">value = [6054, 2657]</text>\n",
       "<text text-anchor=\"middle\" x=\"773.5\" y=\"-7.8\" font-family=\"Helvetica,sans-Serif\" font-size=\"14.00\">class = 未充值</text>\n",
       "</g>\n",
       "<!-- 9&#45;&gt;10 -->\n",
       "<g id=\"edge10\" class=\"edge\">\n",
       "<title>9&#45;&gt;10</title>\n",
       "<path fill=\"none\" stroke=\"black\" d=\"M817.43,-103.73C811.84,-94.97 805.91,-85.7 800.29,-76.91\"/>\n",
       "<polygon fill=\"black\" stroke=\"black\" points=\"803.12,-74.84 794.79,-68.3 797.22,-78.61 803.12,-74.84\"/>\n",
       "</g>\n",
       "<!-- 11 -->\n",
       "<g id=\"node12\" class=\"node\">\n",
       "<title>11</title>\n",
       "<path fill=\"#f7d9c3\" stroke=\"black\" d=\"M998.5,-68C998.5,-68 876.5,-68 876.5,-68 870.5,-68 864.5,-62 864.5,-56 864.5,-56 864.5,-12 864.5,-12 864.5,-6 870.5,0 876.5,0 876.5,0 998.5,0 998.5,0 1004.5,0 1010.5,-6 1010.5,-12 1010.5,-12 1010.5,-56 1010.5,-56 1010.5,-62 1004.5,-68 998.5,-68\"/>\n",
       "<text text-anchor=\"middle\" x=\"937.5\" y=\"-52.8\" font-family=\"Helvetica,sans-Serif\" font-size=\"14.00\">gini = 0.484</text>\n",
       "<text text-anchor=\"middle\" x=\"937.5\" y=\"-37.8\" font-family=\"Helvetica,sans-Serif\" font-size=\"14.00\">samples = 11263</text>\n",
       "<text text-anchor=\"middle\" x=\"937.5\" y=\"-22.8\" font-family=\"Helvetica,sans-Serif\" font-size=\"14.00\">value = [6635, 4628]</text>\n",
       "<text text-anchor=\"middle\" x=\"937.5\" y=\"-7.8\" font-family=\"Helvetica,sans-Serif\" font-size=\"14.00\">class = 未充值</text>\n",
       "</g>\n",
       "<!-- 9&#45;&gt;11 -->\n",
       "<g id=\"edge11\" class=\"edge\">\n",
       "<title>9&#45;&gt;11</title>\n",
       "<path fill=\"none\" stroke=\"black\" d=\"M878.5,-103.73C886.25,-94.7 894.47,-85.12 902.23,-76.08\"/>\n",
       "<polygon fill=\"black\" stroke=\"black\" points=\"905.06,-78.17 908.91,-68.3 899.74,-73.61 905.06,-78.17\"/>\n",
       "</g>\n",
       "<!-- 13 -->\n",
       "<g id=\"node14\" class=\"node\">\n",
       "<title>13</title>\n",
       "<path fill=\"#d0e8f9\" stroke=\"black\" d=\"M1162.5,-68C1162.5,-68 1040.5,-68 1040.5,-68 1034.5,-68 1028.5,-62 1028.5,-56 1028.5,-56 1028.5,-12 1028.5,-12 1028.5,-6 1034.5,0 1040.5,0 1040.5,0 1162.5,0 1162.5,0 1168.5,0 1174.5,-6 1174.5,-12 1174.5,-12 1174.5,-56 1174.5,-56 1174.5,-62 1168.5,-68 1162.5,-68\"/>\n",
       "<text text-anchor=\"middle\" x=\"1101.5\" y=\"-52.8\" font-family=\"Helvetica,sans-Serif\" font-size=\"14.00\">gini = 0.491</text>\n",
       "<text text-anchor=\"middle\" x=\"1101.5\" y=\"-37.8\" font-family=\"Helvetica,sans-Serif\" font-size=\"14.00\">samples = 8793</text>\n",
       "<text text-anchor=\"middle\" x=\"1101.5\" y=\"-22.8\" font-family=\"Helvetica,sans-Serif\" font-size=\"14.00\">value = [3809, 4984]</text>\n",
       "<text text-anchor=\"middle\" x=\"1101.5\" y=\"-7.8\" font-family=\"Helvetica,sans-Serif\" font-size=\"14.00\">class = 充值</text>\n",
       "</g>\n",
       "<!-- 12&#45;&gt;13 -->\n",
       "<g id=\"edge13\" class=\"edge\">\n",
       "<title>12&#45;&gt;13</title>\n",
       "<path fill=\"none\" stroke=\"black\" d=\"M1101.5,-103.73C1101.5,-95.52 1101.5,-86.86 1101.5,-78.56\"/>\n",
       "<polygon fill=\"black\" stroke=\"black\" points=\"1105,-78.3 1101.5,-68.3 1098,-78.3 1105,-78.3\"/>\n",
       "</g>\n",
       "<!-- 14 -->\n",
       "<g id=\"node15\" class=\"node\">\n",
       "<title>14</title>\n",
       "<path fill=\"#7dbfee\" stroke=\"black\" d=\"M1326.5,-68C1326.5,-68 1204.5,-68 1204.5,-68 1198.5,-68 1192.5,-62 1192.5,-56 1192.5,-56 1192.5,-12 1192.5,-12 1192.5,-6 1198.5,0 1204.5,0 1204.5,0 1326.5,0 1326.5,0 1332.5,0 1338.5,-6 1338.5,-12 1338.5,-12 1338.5,-56 1338.5,-56 1338.5,-62 1332.5,-68 1326.5,-68\"/>\n",
       "<text text-anchor=\"middle\" x=\"1265.5\" y=\"-52.8\" font-family=\"Helvetica,sans-Serif\" font-size=\"14.00\">gini = 0.382</text>\n",
       "<text text-anchor=\"middle\" x=\"1265.5\" y=\"-37.8\" font-family=\"Helvetica,sans-Serif\" font-size=\"14.00\">samples = 5114</text>\n",
       "<text text-anchor=\"middle\" x=\"1265.5\" y=\"-22.8\" font-family=\"Helvetica,sans-Serif\" font-size=\"14.00\">value = [1314, 3800]</text>\n",
       "<text text-anchor=\"middle\" x=\"1265.5\" y=\"-7.8\" font-family=\"Helvetica,sans-Serif\" font-size=\"14.00\">class = 充值</text>\n",
       "</g>\n",
       "<!-- 12&#45;&gt;14 -->\n",
       "<g id=\"edge14\" class=\"edge\">\n",
       "<title>12&#45;&gt;14</title>\n",
       "<path fill=\"none\" stroke=\"black\" d=\"M1162.57,-103.73C1177.26,-93.92 1192.91,-83.46 1207.46,-73.75\"/>\n",
       "<polygon fill=\"black\" stroke=\"black\" points=\"1209.51,-76.59 1215.89,-68.13 1205.63,-70.77 1209.51,-76.59\"/>\n",
       "</g>\n",
       "</g>\n",
       "</svg>\n"
      ],
      "text/plain": [
       "<graphviz.sources.Source at 0x1f5834e94c0>"
      ]
     },
     "execution_count": 259,
     "metadata": {},
     "output_type": "execute_result"
    }
   ],
   "source": [
    "photo_vis"
   ]
  },
  {
   "cell_type": "markdown",
   "id": "64f79ff9",
   "metadata": {},
   "source": [
    "# 用户分层"
   ]
  },
  {
   "cell_type": "code",
   "execution_count": 21,
   "id": "6d1d8957",
   "metadata": {
    "scrolled": true
   },
   "outputs": [
    {
     "data": {
      "text/html": [
       "<div>\n",
       "<style scoped>\n",
       "    .dataframe tbody tr th:only-of-type {\n",
       "        vertical-align: middle;\n",
       "    }\n",
       "\n",
       "    .dataframe tbody tr th {\n",
       "        vertical-align: top;\n",
       "    }\n",
       "\n",
       "    .dataframe thead th {\n",
       "        text-align: right;\n",
       "    }\n",
       "</style>\n",
       "<table border=\"1\" class=\"dataframe\">\n",
       "  <thead>\n",
       "    <tr style=\"text-align: right;\">\n",
       "      <th></th>\n",
       "      <th>用户id</th>\n",
       "      <th>近30天下载次数</th>\n",
       "      <th>近30天登录次数</th>\n",
       "      <th>累计下载次数</th>\n",
       "      <th>最后一次登录距离今日</th>\n",
       "    </tr>\n",
       "  </thead>\n",
       "  <tbody>\n",
       "    <tr>\n",
       "      <th>0</th>\n",
       "      <td>101</td>\n",
       "      <td>0</td>\n",
       "      <td>0</td>\n",
       "      <td>0</td>\n",
       "      <td>144</td>\n",
       "    </tr>\n",
       "    <tr>\n",
       "      <th>1</th>\n",
       "      <td>102</td>\n",
       "      <td>0</td>\n",
       "      <td>0</td>\n",
       "      <td>0</td>\n",
       "      <td>175</td>\n",
       "    </tr>\n",
       "    <tr>\n",
       "      <th>3</th>\n",
       "      <td>106</td>\n",
       "      <td>0</td>\n",
       "      <td>0</td>\n",
       "      <td>0</td>\n",
       "      <td>97</td>\n",
       "    </tr>\n",
       "  </tbody>\n",
       "</table>\n",
       "</div>"
      ],
      "text/plain": [
       "   用户id  近30天下载次数  近30天登录次数  累计下载次数  最后一次登录距离今日\n",
       "0   101         0         0       0         144\n",
       "1   102         0         0       0         175\n",
       "3   106         0         0       0          97"
      ]
     },
     "execution_count": 21,
     "metadata": {},
     "output_type": "execute_result"
    }
   ],
   "source": [
    "data.head(3)"
   ]
  },
  {
   "cell_type": "markdown",
   "id": "e0608426",
   "metadata": {},
   "source": [
    "M：近30天下载次数>=7 == 高,10>近30天下载次数>=3 == 中，近30天下载次数<1 ==低\\\n",
    "F：近30天登录次数>=3 == 高，3>近30天登录次数>=1 == 中，近30天登录次数<1 == 低\\\n",
    "R：最后一次登录距离今日<=7 == 高，7<最后一次登录距离今日<=30 == 中，最后一次登录距离今日>30 == 低"
   ]
  },
  {
   "cell_type": "markdown",
   "id": "0c61e628",
   "metadata": {},
   "source": [
    "## M评分"
   ]
  },
  {
   "cell_type": "code",
   "execution_count": 22,
   "id": "3010516b",
   "metadata": {},
   "outputs": [],
   "source": [
    "def M(c):\n",
    "    if c>=7:\n",
    "        return '高'\n",
    "    elif c<1:\n",
    "        return '低'\n",
    "    else:\n",
    "        return '中'"
   ]
  },
  {
   "cell_type": "code",
   "execution_count": 23,
   "id": "2e069d87",
   "metadata": {},
   "outputs": [],
   "source": [
    "data['M评分'] = data.apply(lambda x:M(x['近30天下载次数']),axis=1)    # 条件判断后，新增分类列"
   ]
  },
  {
   "cell_type": "code",
   "execution_count": 24,
   "id": "d56e18b0",
   "metadata": {},
   "outputs": [
    {
     "data": {
      "text/plain": [
       "低    602863\n",
       "中      6945\n",
       "高      3900\n",
       "Name: M评分, dtype: int64"
      ]
     },
     "execution_count": 24,
     "metadata": {},
     "output_type": "execute_result"
    }
   ],
   "source": [
    "data['M评分'].value_counts()"
   ]
  },
  {
   "cell_type": "markdown",
   "id": "acf335c3",
   "metadata": {},
   "source": [
    "## F评分"
   ]
  },
  {
   "cell_type": "code",
   "execution_count": 25,
   "id": "67702cdc",
   "metadata": {},
   "outputs": [],
   "source": [
    "def F(d):\n",
    "    if d>=3:\n",
    "        return '高'\n",
    "    elif d<1:\n",
    "        return '低'\n",
    "    else:\n",
    "        return '中'"
   ]
  },
  {
   "cell_type": "code",
   "execution_count": 26,
   "id": "0549a310",
   "metadata": {},
   "outputs": [],
   "source": [
    "data['F评分'] = data.apply(lambda x:F(x['近30天登录次数']),axis=1)"
   ]
  },
  {
   "cell_type": "code",
   "execution_count": 27,
   "id": "97c6825a",
   "metadata": {
    "scrolled": false
   },
   "outputs": [
    {
     "data": {
      "text/plain": [
       "低    574707\n",
       "中     31501\n",
       "高      7500\n",
       "Name: F评分, dtype: int64"
      ]
     },
     "execution_count": 27,
     "metadata": {},
     "output_type": "execute_result"
    }
   ],
   "source": [
    "data['F评分'].value_counts()"
   ]
  },
  {
   "cell_type": "markdown",
   "id": "02cfc212",
   "metadata": {},
   "source": [
    "## R评分"
   ]
  },
  {
   "cell_type": "code",
   "execution_count": 28,
   "id": "51da9241",
   "metadata": {},
   "outputs": [],
   "source": [
    "def R(e):\n",
    "    if e<=7:\n",
    "        return '高'\n",
    "    elif e>30:\n",
    "        return '低'\n",
    "    else:\n",
    "        return '中'"
   ]
  },
  {
   "cell_type": "code",
   "execution_count": 29,
   "id": "2e1f9486",
   "metadata": {},
   "outputs": [],
   "source": [
    "data['R评分'] = data.apply(lambda x:R(x['最后一次登录距离今日']),axis=1)"
   ]
  },
  {
   "cell_type": "code",
   "execution_count": 30,
   "id": "b6d48033",
   "metadata": {},
   "outputs": [
    {
     "data": {
      "text/plain": [
       "低    575411\n",
       "中     24489\n",
       "高     13808\n",
       "Name: R评分, dtype: int64"
      ]
     },
     "execution_count": 30,
     "metadata": {},
     "output_type": "execute_result"
    }
   ],
   "source": [
    "data['R评分'].value_counts()"
   ]
  },
  {
   "cell_type": "code",
   "execution_count": 39,
   "id": "51833d32",
   "metadata": {
    "scrolled": false
   },
   "outputs": [
    {
     "data": {
      "text/html": [
       "<div>\n",
       "<style scoped>\n",
       "    .dataframe tbody tr th:only-of-type {\n",
       "        vertical-align: middle;\n",
       "    }\n",
       "\n",
       "    .dataframe tbody tr th {\n",
       "        vertical-align: top;\n",
       "    }\n",
       "\n",
       "    .dataframe thead th {\n",
       "        text-align: right;\n",
       "    }\n",
       "</style>\n",
       "<table border=\"1\" class=\"dataframe\">\n",
       "  <thead>\n",
       "    <tr style=\"text-align: right;\">\n",
       "      <th></th>\n",
       "      <th>用户id</th>\n",
       "      <th>近30天下载次数</th>\n",
       "      <th>近30天登录次数</th>\n",
       "      <th>累计下载次数</th>\n",
       "      <th>最后一次登录距离今日</th>\n",
       "      <th>M评分</th>\n",
       "      <th>F评分</th>\n",
       "      <th>R评分</th>\n",
       "    </tr>\n",
       "  </thead>\n",
       "  <tbody>\n",
       "    <tr>\n",
       "      <th>0</th>\n",
       "      <td>101</td>\n",
       "      <td>0</td>\n",
       "      <td>0</td>\n",
       "      <td>0</td>\n",
       "      <td>144</td>\n",
       "      <td>低</td>\n",
       "      <td>低</td>\n",
       "      <td>低</td>\n",
       "    </tr>\n",
       "    <tr>\n",
       "      <th>1</th>\n",
       "      <td>102</td>\n",
       "      <td>0</td>\n",
       "      <td>0</td>\n",
       "      <td>0</td>\n",
       "      <td>175</td>\n",
       "      <td>低</td>\n",
       "      <td>低</td>\n",
       "      <td>低</td>\n",
       "    </tr>\n",
       "    <tr>\n",
       "      <th>3</th>\n",
       "      <td>106</td>\n",
       "      <td>0</td>\n",
       "      <td>0</td>\n",
       "      <td>0</td>\n",
       "      <td>97</td>\n",
       "      <td>低</td>\n",
       "      <td>低</td>\n",
       "      <td>低</td>\n",
       "    </tr>\n",
       "    <tr>\n",
       "      <th>4</th>\n",
       "      <td>107</td>\n",
       "      <td>0</td>\n",
       "      <td>0</td>\n",
       "      <td>1</td>\n",
       "      <td>43</td>\n",
       "      <td>低</td>\n",
       "      <td>低</td>\n",
       "      <td>低</td>\n",
       "    </tr>\n",
       "    <tr>\n",
       "      <th>5</th>\n",
       "      <td>108</td>\n",
       "      <td>0</td>\n",
       "      <td>8</td>\n",
       "      <td>0</td>\n",
       "      <td>14</td>\n",
       "      <td>低</td>\n",
       "      <td>高</td>\n",
       "      <td>中</td>\n",
       "    </tr>\n",
       "  </tbody>\n",
       "</table>\n",
       "</div>"
      ],
      "text/plain": [
       "   用户id  近30天下载次数  近30天登录次数  累计下载次数  最后一次登录距离今日 M评分 F评分 R评分\n",
       "0   101         0         0       0         144   低   低   低\n",
       "1   102         0         0       0         175   低   低   低\n",
       "3   106         0         0       0          97   低   低   低\n",
       "4   107         0         0       1          43   低   低   低\n",
       "5   108         0         8       0          14   低   高   中"
      ]
     },
     "execution_count": 39,
     "metadata": {},
     "output_type": "execute_result"
    }
   ],
   "source": [
    "data.head()"
   ]
  },
  {
   "cell_type": "code",
   "execution_count": 30,
   "id": "c678c57d",
   "metadata": {},
   "outputs": [
    {
     "data": {
      "text/html": [
       "<div>\n",
       "<style scoped>\n",
       "    .dataframe tbody tr th:only-of-type {\n",
       "        vertical-align: middle;\n",
       "    }\n",
       "\n",
       "    .dataframe tbody tr th {\n",
       "        vertical-align: top;\n",
       "    }\n",
       "\n",
       "    .dataframe thead th {\n",
       "        text-align: right;\n",
       "    }\n",
       "</style>\n",
       "<table border=\"1\" class=\"dataframe\">\n",
       "  <thead>\n",
       "    <tr style=\"text-align: right;\">\n",
       "      <th></th>\n",
       "      <th>M评分</th>\n",
       "      <th>F评分</th>\n",
       "      <th>R评分</th>\n",
       "    </tr>\n",
       "  </thead>\n",
       "  <tbody>\n",
       "    <tr>\n",
       "      <th>0</th>\n",
       "      <td>低</td>\n",
       "      <td>低</td>\n",
       "      <td>低</td>\n",
       "    </tr>\n",
       "    <tr>\n",
       "      <th>1</th>\n",
       "      <td>低</td>\n",
       "      <td>低</td>\n",
       "      <td>低</td>\n",
       "    </tr>\n",
       "    <tr>\n",
       "      <th>3</th>\n",
       "      <td>低</td>\n",
       "      <td>低</td>\n",
       "      <td>低</td>\n",
       "    </tr>\n",
       "    <tr>\n",
       "      <th>4</th>\n",
       "      <td>低</td>\n",
       "      <td>低</td>\n",
       "      <td>低</td>\n",
       "    </tr>\n",
       "    <tr>\n",
       "      <th>5</th>\n",
       "      <td>低</td>\n",
       "      <td>高</td>\n",
       "      <td>中</td>\n",
       "    </tr>\n",
       "  </tbody>\n",
       "</table>\n",
       "</div>"
      ],
      "text/plain": [
       "  M评分 F评分 R评分\n",
       "0   低   低   低\n",
       "1   低   低   低\n",
       "3   低   低   低\n",
       "4   低   低   低\n",
       "5   低   高   中"
      ]
     },
     "execution_count": 30,
     "metadata": {},
     "output_type": "execute_result"
    }
   ],
   "source": [
    "data_score = data[['M评分','F评分','R评分']]\n",
    "data_score.head()"
   ]
  },
  {
   "cell_type": "code",
   "execution_count": 33,
   "id": "116910f6",
   "metadata": {
    "scrolled": false
   },
   "outputs": [
    {
     "data": {
      "text/html": [
       "<div>\n",
       "<style scoped>\n",
       "    .dataframe tbody tr th:only-of-type {\n",
       "        vertical-align: middle;\n",
       "    }\n",
       "\n",
       "    .dataframe tbody tr th {\n",
       "        vertical-align: top;\n",
       "    }\n",
       "\n",
       "    .dataframe thead th {\n",
       "        text-align: right;\n",
       "    }\n",
       "</style>\n",
       "<table border=\"1\" class=\"dataframe\">\n",
       "  <thead>\n",
       "    <tr style=\"text-align: right;\">\n",
       "      <th></th>\n",
       "      <th></th>\n",
       "      <th></th>\n",
       "      <th>用户id</th>\n",
       "    </tr>\n",
       "    <tr>\n",
       "      <th>M评分</th>\n",
       "      <th>F评分</th>\n",
       "      <th>R评分</th>\n",
       "      <th></th>\n",
       "    </tr>\n",
       "  </thead>\n",
       "  <tbody>\n",
       "    <tr>\n",
       "      <th rowspan=\"7\" valign=\"top\">中</th>\n",
       "      <th rowspan=\"3\" valign=\"top\">中</th>\n",
       "      <th>中</th>\n",
       "      <td>2825</td>\n",
       "    </tr>\n",
       "    <tr>\n",
       "      <th>低</th>\n",
       "      <td>132</td>\n",
       "    </tr>\n",
       "    <tr>\n",
       "      <th>高</th>\n",
       "      <td>1223</td>\n",
       "    </tr>\n",
       "    <tr>\n",
       "      <th>低</th>\n",
       "      <th>低</th>\n",
       "      <td>351</td>\n",
       "    </tr>\n",
       "    <tr>\n",
       "      <th rowspan=\"3\" valign=\"top\">高</th>\n",
       "      <th>中</th>\n",
       "      <td>1023</td>\n",
       "    </tr>\n",
       "    <tr>\n",
       "      <th>低</th>\n",
       "      <td>3</td>\n",
       "    </tr>\n",
       "    <tr>\n",
       "      <th>高</th>\n",
       "      <td>1388</td>\n",
       "    </tr>\n",
       "    <tr>\n",
       "      <th rowspan=\"6\" valign=\"top\">低</th>\n",
       "      <th rowspan=\"3\" valign=\"top\">中</th>\n",
       "      <th>中</th>\n",
       "      <td>18731</td>\n",
       "    </tr>\n",
       "    <tr>\n",
       "      <th>低</th>\n",
       "      <td>558</td>\n",
       "    </tr>\n",
       "    <tr>\n",
       "      <th>高</th>\n",
       "      <td>7548</td>\n",
       "    </tr>\n",
       "    <tr>\n",
       "      <th>低</th>\n",
       "      <th>低</th>\n",
       "      <td>574335</td>\n",
       "    </tr>\n",
       "    <tr>\n",
       "      <th rowspan=\"2\" valign=\"top\">高</th>\n",
       "      <th>中</th>\n",
       "      <td>812</td>\n",
       "    </tr>\n",
       "    <tr>\n",
       "      <th>高</th>\n",
       "      <td>879</td>\n",
       "    </tr>\n",
       "    <tr>\n",
       "      <th rowspan=\"7\" valign=\"top\">高</th>\n",
       "      <th rowspan=\"3\" valign=\"top\">中</th>\n",
       "      <th>中</th>\n",
       "      <td>303</td>\n",
       "    </tr>\n",
       "    <tr>\n",
       "      <th>低</th>\n",
       "      <td>10</td>\n",
       "    </tr>\n",
       "    <tr>\n",
       "      <th>高</th>\n",
       "      <td>171</td>\n",
       "    </tr>\n",
       "    <tr>\n",
       "      <th>低</th>\n",
       "      <th>低</th>\n",
       "      <td>21</td>\n",
       "    </tr>\n",
       "    <tr>\n",
       "      <th rowspan=\"3\" valign=\"top\">高</th>\n",
       "      <th>中</th>\n",
       "      <td>795</td>\n",
       "    </tr>\n",
       "    <tr>\n",
       "      <th>低</th>\n",
       "      <td>1</td>\n",
       "    </tr>\n",
       "    <tr>\n",
       "      <th>高</th>\n",
       "      <td>2599</td>\n",
       "    </tr>\n",
       "  </tbody>\n",
       "</table>\n",
       "</div>"
      ],
      "text/plain": [
       "               用户id\n",
       "M评分 F评分 R评分        \n",
       "中   中   中      2825\n",
       "        低       132\n",
       "        高      1223\n",
       "    低   低       351\n",
       "    高   中      1023\n",
       "        低         3\n",
       "        高      1388\n",
       "低   中   中     18731\n",
       "        低       558\n",
       "        高      7548\n",
       "    低   低    574335\n",
       "    高   中       812\n",
       "        高       879\n",
       "高   中   中       303\n",
       "        低        10\n",
       "        高       171\n",
       "    低   低        21\n",
       "    高   中       795\n",
       "        低         1\n",
       "        高      2599"
      ]
     },
     "execution_count": 33,
     "metadata": {},
     "output_type": "execute_result"
    }
   ],
   "source": [
    "data_group = data.groupby(['M评分','F评分','R评分']).agg({'用户id':'nunique'})\n",
    "data_group"
   ]
  },
  {
   "cell_type": "markdown",
   "id": "d38bfbce",
   "metadata": {},
   "source": [
    "# 用户聚类"
   ]
  },
  {
   "cell_type": "code",
   "execution_count": 100,
   "id": "bde67c6d",
   "metadata": {},
   "outputs": [],
   "source": [
    "from sklearn.cluster import KMeans\n",
    "import matplotlib.cm as cm\n",
    "from sklearn.metrics import silhouette_samples,silhouette_score"
   ]
  },
  {
   "cell_type": "code",
   "execution_count": 103,
   "id": "daa8d8a8",
   "metadata": {},
   "outputs": [],
   "source": [
    "from sklearn.preprocessing import OneHotEncoder\n",
    "encoder = OneHotEncoder()"
   ]
  },
  {
   "cell_type": "code",
   "execution_count": 115,
   "id": "d09d6e63",
   "metadata": {},
   "outputs": [
    {
     "data": {
      "text/html": [
       "<div>\n",
       "<style scoped>\n",
       "    .dataframe tbody tr th:only-of-type {\n",
       "        vertical-align: middle;\n",
       "    }\n",
       "\n",
       "    .dataframe tbody tr th {\n",
       "        vertical-align: top;\n",
       "    }\n",
       "\n",
       "    .dataframe thead th {\n",
       "        text-align: right;\n",
       "    }\n",
       "</style>\n",
       "<table border=\"1\" class=\"dataframe\">\n",
       "  <thead>\n",
       "    <tr style=\"text-align: right;\">\n",
       "      <th></th>\n",
       "      <th>M评分</th>\n",
       "      <th>F评分</th>\n",
       "      <th>R评分</th>\n",
       "    </tr>\n",
       "  </thead>\n",
       "  <tbody>\n",
       "    <tr>\n",
       "      <th>0</th>\n",
       "      <td>0</td>\n",
       "      <td>0</td>\n",
       "      <td>0</td>\n",
       "    </tr>\n",
       "    <tr>\n",
       "      <th>1</th>\n",
       "      <td>0</td>\n",
       "      <td>0</td>\n",
       "      <td>0</td>\n",
       "    </tr>\n",
       "    <tr>\n",
       "      <th>3</th>\n",
       "      <td>0</td>\n",
       "      <td>0</td>\n",
       "      <td>0</td>\n",
       "    </tr>\n",
       "    <tr>\n",
       "      <th>4</th>\n",
       "      <td>0</td>\n",
       "      <td>0</td>\n",
       "      <td>0</td>\n",
       "    </tr>\n",
       "    <tr>\n",
       "      <th>5</th>\n",
       "      <td>0</td>\n",
       "      <td>2</td>\n",
       "      <td>1</td>\n",
       "    </tr>\n",
       "  </tbody>\n",
       "</table>\n",
       "</div>"
      ],
      "text/plain": [
       "   M评分  F评分  R评分\n",
       "0    0    0    0\n",
       "1    0    0    0\n",
       "3    0    0    0\n",
       "4    0    0    0\n",
       "5    0    2    1"
      ]
     },
     "execution_count": 115,
     "metadata": {},
     "output_type": "execute_result"
    }
   ],
   "source": [
    "data_scorea2 = data_score.replace({'低':0,'中':1,'高':2})    # 字符串转数据，才能进行聚类\n",
    "data_scorea2.head()"
   ]
  },
  {
   "cell_type": "code",
   "execution_count": 149,
   "id": "c853ac18",
   "metadata": {},
   "outputs": [
    {
     "data": {
      "text/plain": [
       "array([[0, 0, 0],\n",
       "       [0, 0, 0],\n",
       "       [0, 0, 0],\n",
       "       ...,\n",
       "       [0, 1, 1],\n",
       "       [0, 1, 1],\n",
       "       [0, 1, 1]], dtype=int64)"
      ]
     },
     "execution_count": 149,
     "metadata": {},
     "output_type": "execute_result"
    }
   ],
   "source": [
    "x = np.array(data_scorea2)\n",
    "x"
   ]
  },
  {
   "cell_type": "code",
   "execution_count": 123,
   "id": "8b250717",
   "metadata": {},
   "outputs": [],
   "source": []
  }
 ],
 "metadata": {
  "kernelspec": {
   "display_name": "Python 3 (ipykernel)",
   "language": "python",
   "name": "python3"
  },
  "language_info": {
   "codemirror_mode": {
    "name": "ipython",
    "version": 3
   },
   "file_extension": ".py",
   "mimetype": "text/x-python",
   "name": "python",
   "nbconvert_exporter": "python",
   "pygments_lexer": "ipython3",
   "version": "3.9.12"
  },
  "toc": {
   "base_numbering": 1,
   "nav_menu": {},
   "number_sections": true,
   "sideBar": true,
   "skip_h1_title": false,
   "title_cell": "Table of Contents",
   "title_sidebar": "Contents",
   "toc_cell": false,
   "toc_position": {},
   "toc_section_display": true,
   "toc_window_display": false
  }
 },
 "nbformat": 4,
 "nbformat_minor": 5
}
