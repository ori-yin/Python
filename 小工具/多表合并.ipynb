{
 "cells": [
  {
   "cell_type": "code",
   "execution_count": 10,
   "id": "b67a8ff0",
   "metadata": {},
   "outputs": [],
   "source": [
    "import os\n",
    "import pandas as pd"
   ]
  },
  {
   "cell_type": "code",
   "execution_count": 11,
   "id": "cc11f683",
   "metadata": {},
   "outputs": [],
   "source": [
    "# 定义文件夹路径\n",
    "folder_path = 'D:\\Ori\\数据处理\\批量数据清洗2'"
   ]
  },
  {
   "cell_type": "code",
   "execution_count": 12,
   "id": "6582b8ec",
   "metadata": {},
   "outputs": [],
   "source": [
    "# 获取文件夹中的所有CSV文件\n",
    "csv_files = [file for file in os.listdir(folder_path) if file.endswith('.csv')]"
   ]
  },
  {
   "cell_type": "code",
   "execution_count": 13,
   "id": "45b90378",
   "metadata": {},
   "outputs": [],
   "source": [
    "# 创建一个空的DataFrame用于存储合并后的数据\n",
    "merged_df = pd.DataFrame()"
   ]
  },
  {
   "cell_type": "code",
   "execution_count": 14,
   "id": "5b164fe4",
   "metadata": {
    "scrolled": false
   },
   "outputs": [],
   "source": [
    "# 遍历每个CSV文件\n",
    "for file in csv_files:\n",
    "    # 读取CSV文件\n",
    "    file_path = os.path.join(folder_path, file)\n",
    "    df = pd.read_csv(file_path)\n",
    "    \n",
    "    # 在DataFrame中添加一列，每个单元格的值为当前CSV文件的名称\n",
    "    df['文件名'] = file\n",
    "    \n",
    "    # 将当前CSV文件的数据添加到合并后的DataFrame中\n",
    "    merged_df = pd.concat([merged_df, df], ignore_index=True)\n",
    "\n",
    "# 保存合并后的DataFrame到新的CSV文件\n",
    "merged_file_path = os.path.join(folder_path, 'merged_data.csv')\n",
    "merged_df.to_csv(merged_file_path, index=False)"
   ]
  },
  {
   "cell_type": "code",
   "execution_count": null,
   "id": "f0985b88",
   "metadata": {},
   "outputs": [],
   "source": []
  }
 ],
 "metadata": {
  "kernelspec": {
   "display_name": "Python 3 (ipykernel)",
   "language": "python",
   "name": "python3"
  },
  "language_info": {
   "codemirror_mode": {
    "name": "ipython",
    "version": 3
   },
   "file_extension": ".py",
   "mimetype": "text/x-python",
   "name": "python",
   "nbconvert_exporter": "python",
   "pygments_lexer": "ipython3",
   "version": "3.9.16"
  },
  "toc": {
   "base_numbering": 1,
   "nav_menu": {},
   "number_sections": true,
   "sideBar": true,
   "skip_h1_title": false,
   "title_cell": "Table of Contents",
   "title_sidebar": "Contents",
   "toc_cell": false,
   "toc_position": {},
   "toc_section_display": true,
   "toc_window_display": false
  }
 },
 "nbformat": 4,
 "nbformat_minor": 5
}
