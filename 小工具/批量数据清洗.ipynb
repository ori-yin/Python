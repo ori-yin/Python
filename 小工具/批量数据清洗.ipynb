{
 "cells": [
  {
   "cell_type": "code",
   "execution_count": 1,
   "id": "d3ac512f",
   "metadata": {},
   "outputs": [],
   "source": [
    "import os\n",
    "import pandas as pd"
   ]
  },
  {
   "cell_type": "code",
   "execution_count": 2,
   "id": "14f72d7d",
   "metadata": {},
   "outputs": [],
   "source": [
    "# 定义数据清洗函数\n",
    "def process_data(df):\n",
    "    # 将非数值型转换为NaN，然后删除异常数据\n",
    "    df['点击UV数'] = pd.to_numeric(df['点击UV数'], errors='coerce')\n",
    "    df = df.dropna(subset=['点击UV数'])\n",
    "    \n",
    "    # 筛选出点击UV数>=3的行\n",
    "    df = df[df['点击UV数'] >= 3]\n",
    "    \n",
    "    # 按点击UV数降序排列\n",
    "    df = df.sort_values(by='点击UV数', ascending=False)\n",
    "    \n",
    "    return df"
   ]
  },
  {
   "cell_type": "code",
   "execution_count": 3,
   "id": "7e48caf8",
   "metadata": {},
   "outputs": [],
   "source": [
    "# 定义文件夹路径\n",
    "folder_path = 'D:\\Ori\\数据处理\\批量数据清洗'"
   ]
  },
  {
   "cell_type": "code",
   "execution_count": 4,
   "id": "e8ab0850",
   "metadata": {},
   "outputs": [],
   "source": [
    "# 获取文件夹中的所有CSV文件\n",
    "csv_files = [file for file in os.listdir(folder_path) if file.endswith('.csv')]"
   ]
  },
  {
   "cell_type": "code",
   "execution_count": 5,
   "id": "7db9e47a",
   "metadata": {},
   "outputs": [],
   "source": [
    "# 遍历每个CSV文件，调用清洗函数，处理结果保存在原来的位置\n",
    "for file in csv_files:\n",
    "    # 读取CSV文件\n",
    "    file_path = os.path.join(folder_path, file)\n",
    "    df = pd.read_csv(file_path,encoding='GBK')\n",
    "    \n",
    "    # 使用条件处理函数\n",
    "    df = process_data(df)\n",
    "    \n",
    "    # 保存结果为新的CSV文件\n",
    "    new_file_path = os.path.join(folder_path, f'processed_{file}')\n",
    "    df.to_csv(new_file_path, index=False)"
   ]
  },
  {
   "cell_type": "code",
   "execution_count": null,
   "id": "7bffac0d",
   "metadata": {},
   "outputs": [],
   "source": []
  }
 ],
 "metadata": {
  "kernelspec": {
   "display_name": "Python 3 (ipykernel)",
   "language": "python",
   "name": "python3"
  },
  "language_info": {
   "codemirror_mode": {
    "name": "ipython",
    "version": 3
   },
   "file_extension": ".py",
   "mimetype": "text/x-python",
   "name": "python",
   "nbconvert_exporter": "python",
   "pygments_lexer": "ipython3",
   "version": "3.9.16"
  },
  "toc": {
   "base_numbering": 1,
   "nav_menu": {},
   "number_sections": true,
   "sideBar": true,
   "skip_h1_title": false,
   "title_cell": "Table of Contents",
   "title_sidebar": "Contents",
   "toc_cell": false,
   "toc_position": {},
   "toc_section_display": true,
   "toc_window_display": false
  }
 },
 "nbformat": 4,
 "nbformat_minor": 5
}
