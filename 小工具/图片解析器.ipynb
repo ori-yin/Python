{
 "cells": [
  {
   "cell_type": "markdown",
   "id": "c8ca1f71",
   "metadata": {},
   "source": [
    "# 准备工作"
   ]
  },
  {
   "cell_type": "code",
   "execution_count": 1,
   "id": "bee423f6",
   "metadata": {
    "scrolled": true
   },
   "outputs": [
    {
     "name": "stderr",
     "output_type": "stream",
     "text": [
      "'nvidia-smi' 不是内部或外部命令，也不是可运行的程序\n",
      "或批处理文件。\n"
     ]
    }
   ],
   "source": [
    "#@检查GPU信息，电脑没显卡可以不用看\n",
    "!nvidia-smi -L"
   ]
  },
  {
   "cell_type": "code",
   "execution_count": 2,
   "id": "13c0ab4f",
   "metadata": {},
   "outputs": [],
   "source": [
    "import os, subprocess"
   ]
  },
  {
   "cell_type": "code",
   "execution_count": 2,
   "id": "b1e4a915",
   "metadata": {
    "scrolled": true
   },
   "outputs": [
    {
     "name": "stdout",
     "output_type": "stream",
     "text": [
      "Defaulting to user installation because normal site-packages is not writeable\n",
      "Requirement already satisfied: gradio in c:\\users\\hckj\\appdata\\roaming\\python\\python39\\site-packages (3.23.0)\n",
      "Requirement already satisfied: aiofiles in c:\\users\\hckj\\appdata\\roaming\\python\\python39\\site-packages (from gradio) (23.1.0)\n",
      "Requirement already satisfied: fsspec in d:\\anaconda3\\lib\\site-packages (from gradio) (2022.11.0)\n",
      "Requirement already satisfied: matplotlib in d:\\anaconda3\\lib\\site-packages (from gradio) (3.6.2)\n",
      "Requirement already satisfied: jinja2 in d:\\anaconda3\\lib\\site-packages (from gradio) (3.1.2)\n",
      "Requirement already satisfied: semantic-version in c:\\users\\hckj\\appdata\\roaming\\python\\python39\\site-packages (from gradio) (2.10.0)\n",
      "Requirement already satisfied: httpx in c:\\users\\hckj\\appdata\\roaming\\python\\python39\\site-packages (from gradio) (0.23.3)\n",
      "Requirement already satisfied: pydub in c:\\users\\hckj\\appdata\\roaming\\python\\python39\\site-packages (from gradio) (0.25.1)\n",
      "Requirement already satisfied: altair>=4.2.0 in c:\\users\\hckj\\appdata\\roaming\\python\\python39\\site-packages (from gradio) (4.2.2)\n",
      "Requirement already satisfied: orjson in c:\\users\\hckj\\appdata\\roaming\\python\\python39\\site-packages (from gradio) (3.8.8)\n",
      "Requirement already satisfied: pyyaml in d:\\anaconda3\\lib\\site-packages (from gradio) (6.0)\n",
      "Requirement already satisfied: mdit-py-plugins<=0.3.3 in c:\\users\\hckj\\appdata\\roaming\\python\\python39\\site-packages (from gradio) (0.3.3)\n",
      "Requirement already satisfied: pandas in d:\\anaconda3\\lib\\site-packages (from gradio) (1.5.2)\n",
      "Requirement already satisfied: pydantic in c:\\users\\hckj\\appdata\\roaming\\python\\python39\\site-packages (from gradio) (1.10.6)\n",
      "Requirement already satisfied: markupsafe in d:\\anaconda3\\lib\\site-packages (from gradio) (2.1.1)\n",
      "Requirement already satisfied: ffmpy in c:\\users\\hckj\\appdata\\roaming\\python\\python39\\site-packages (from gradio) (0.3.0)\n",
      "Requirement already satisfied: requests in d:\\anaconda3\\lib\\site-packages (from gradio) (2.28.1)\n",
      "Requirement already satisfied: huggingface-hub>=0.13.0 in c:\\users\\hckj\\appdata\\roaming\\python\\python39\\site-packages (from gradio) (0.13.3)\n",
      "Requirement already satisfied: aiohttp in c:\\users\\hckj\\appdata\\roaming\\python\\python39\\site-packages (from gradio) (3.8.4)\n",
      "Requirement already satisfied: websockets>=10.0 in c:\\users\\hckj\\appdata\\roaming\\python\\python39\\site-packages (from gradio) (10.4)\n",
      "Requirement already satisfied: uvicorn in c:\\users\\hckj\\appdata\\roaming\\python\\python39\\site-packages (from gradio) (0.21.1)\n",
      "Requirement already satisfied: numpy in d:\\anaconda3\\lib\\site-packages (from gradio) (1.23.5)\n",
      "Requirement already satisfied: python-multipart in c:\\users\\hckj\\appdata\\roaming\\python\\python39\\site-packages (from gradio) (0.0.6)\n",
      "Requirement already satisfied: pillow in d:\\anaconda3\\lib\\site-packages (from gradio) (9.3.0)\n",
      "Requirement already satisfied: fastapi in c:\\users\\hckj\\appdata\\roaming\\python\\python39\\site-packages (from gradio) (0.95.0)\n",
      "Requirement already satisfied: markdown-it-py[linkify]>=2.0.0 in c:\\users\\hckj\\appdata\\roaming\\python\\python39\\site-packages (from gradio) (2.2.0)\n",
      "Requirement already satisfied: typing-extensions in d:\\anaconda3\\lib\\site-packages (from gradio) (4.4.0)\n",
      "Requirement already satisfied: jsonschema>=3.0 in d:\\anaconda3\\lib\\site-packages (from altair>=4.2.0->gradio) (4.16.0)\n",
      "Requirement already satisfied: toolz in d:\\anaconda3\\lib\\site-packages (from altair>=4.2.0->gradio) (0.12.0)\n",
      "Requirement already satisfied: entrypoints in d:\\anaconda3\\lib\\site-packages (from altair>=4.2.0->gradio) (0.4)\n",
      "Requirement already satisfied: filelock in d:\\anaconda3\\lib\\site-packages (from huggingface-hub>=0.13.0->gradio) (3.9.0)\n",
      "Requirement already satisfied: packaging>=20.9 in d:\\anaconda3\\lib\\site-packages (from huggingface-hub>=0.13.0->gradio) (22.0)\n",
      "Requirement already satisfied: tqdm>=4.42.1 in d:\\anaconda3\\lib\\site-packages (from huggingface-hub>=0.13.0->gradio) (4.64.1)\n",
      "Requirement already satisfied: mdurl~=0.1 in c:\\users\\hckj\\appdata\\roaming\\python\\python39\\site-packages (from markdown-it-py[linkify]>=2.0.0->gradio) (0.1.2)\n",
      "Requirement already satisfied: linkify-it-py<3,>=1 in c:\\users\\hckj\\appdata\\roaming\\python\\python39\\site-packages (from markdown-it-py[linkify]>=2.0.0->gradio) (2.0.0)\n",
      "Requirement already satisfied: python-dateutil>=2.8.1 in d:\\anaconda3\\lib\\site-packages (from pandas->gradio) (2.8.2)\n",
      "Requirement already satisfied: pytz>=2020.1 in d:\\anaconda3\\lib\\site-packages (from pandas->gradio) (2022.7)\n",
      "Requirement already satisfied: yarl<2.0,>=1.0 in c:\\users\\hckj\\appdata\\roaming\\python\\python39\\site-packages (from aiohttp->gradio) (1.8.2)\n",
      "Requirement already satisfied: attrs>=17.3.0 in d:\\anaconda3\\lib\\site-packages (from aiohttp->gradio) (22.1.0)\n",
      "Requirement already satisfied: async-timeout<5.0,>=4.0.0a3 in c:\\users\\hckj\\appdata\\roaming\\python\\python39\\site-packages (from aiohttp->gradio) (4.0.2)\n",
      "Requirement already satisfied: aiosignal>=1.1.2 in c:\\users\\hckj\\appdata\\roaming\\python\\python39\\site-packages (from aiohttp->gradio) (1.3.1)\n",
      "Requirement already satisfied: frozenlist>=1.1.1 in c:\\users\\hckj\\appdata\\roaming\\python\\python39\\site-packages (from aiohttp->gradio) (1.3.3)\n",
      "Requirement already satisfied: multidict<7.0,>=4.5 in c:\\users\\hckj\\appdata\\roaming\\python\\python39\\site-packages (from aiohttp->gradio) (6.0.4)\n",
      "Requirement already satisfied: charset-normalizer<4.0,>=2.0 in d:\\anaconda3\\lib\\site-packages (from aiohttp->gradio) (2.0.4)\n",
      "Requirement already satisfied: starlette<0.27.0,>=0.26.1 in c:\\users\\hckj\\appdata\\roaming\\python\\python39\\site-packages (from fastapi->gradio) (0.26.1)\n",
      "Requirement already satisfied: sniffio in d:\\anaconda3\\lib\\site-packages (from httpx->gradio) (1.2.0)\n",
      "Requirement already satisfied: rfc3986[idna2008]<2,>=1.3 in c:\\users\\hckj\\appdata\\roaming\\python\\python39\\site-packages (from httpx->gradio) (1.5.0)\n",
      "Requirement already satisfied: certifi in d:\\anaconda3\\lib\\site-packages (from httpx->gradio) (2022.12.7)\n",
      "Requirement already satisfied: httpcore<0.17.0,>=0.15.0 in c:\\users\\hckj\\appdata\\roaming\\python\\python39\\site-packages (from httpx->gradio) (0.16.3)\n",
      "Requirement already satisfied: cycler>=0.10 in d:\\anaconda3\\lib\\site-packages (from matplotlib->gradio) (0.11.0)\n",
      "Requirement already satisfied: fonttools>=4.22.0 in d:\\anaconda3\\lib\\site-packages (from matplotlib->gradio) (4.25.0)\n",
      "Requirement already satisfied: pyparsing>=2.2.1 in d:\\anaconda3\\lib\\site-packages (from matplotlib->gradio) (3.0.9)\n",
      "Requirement already satisfied: kiwisolver>=1.0.1 in d:\\anaconda3\\lib\\site-packages (from matplotlib->gradio) (1.4.4)\n",
      "Requirement already satisfied: contourpy>=1.0.1 in d:\\anaconda3\\lib\\site-packages (from matplotlib->gradio) (1.0.5)\n",
      "Requirement already satisfied: urllib3<1.27,>=1.21.1 in d:\\anaconda3\\lib\\site-packages (from requests->gradio) (1.26.14)\n",
      "Requirement already satisfied: idna<4,>=2.5 in d:\\anaconda3\\lib\\site-packages (from requests->gradio) (3.4)\n",
      "Requirement already satisfied: h11>=0.8 in c:\\users\\hckj\\appdata\\roaming\\python\\python39\\site-packages (from uvicorn->gradio) (0.14.0)\n",
      "Requirement already satisfied: click>=7.0 in d:\\anaconda3\\lib\\site-packages (from uvicorn->gradio) (8.0.4)\n",
      "Requirement already satisfied: colorama in d:\\anaconda3\\lib\\site-packages (from click>=7.0->uvicorn->gradio) (0.4.6)\n",
      "Requirement already satisfied: anyio<5.0,>=3.0 in d:\\anaconda3\\lib\\site-packages (from httpcore<0.17.0,>=0.15.0->httpx->gradio) (3.5.0)\n",
      "Requirement already satisfied: pyrsistent!=0.17.0,!=0.17.1,!=0.17.2,>=0.14.0 in d:\\anaconda3\\lib\\site-packages (from jsonschema>=3.0->altair>=4.2.0->gradio) (0.18.0)\n",
      "Requirement already satisfied: uc-micro-py in c:\\users\\hckj\\appdata\\roaming\\python\\python39\\site-packages (from linkify-it-py<3,>=1->markdown-it-py[linkify]>=2.0.0->gradio) (1.0.1)\n",
      "Requirement already satisfied: six>=1.5 in d:\\anaconda3\\lib\\site-packages (from python-dateutil>=2.8.1->pandas->gradio) (1.16.0)\n",
      "\n",
      "Defaulting to user installation because normal site-packages is not writeable\n",
      "Requirement already satisfied: open_clip_torch in c:\\users\\hckj\\appdata\\roaming\\python\\python39\\site-packages (2.16.0)\n",
      "Requirement already satisfied: ftfy in c:\\users\\hckj\\appdata\\roaming\\python\\python39\\site-packages (from open_clip_torch) (6.1.1)\n",
      "Requirement already satisfied: timm in c:\\users\\hckj\\appdata\\roaming\\python\\python39\\site-packages (from open_clip_torch) (0.6.12)\n",
      "Requirement already satisfied: regex in d:\\anaconda3\\lib\\site-packages (from open_clip_torch) (2022.7.9)\n",
      "Requirement already satisfied: protobuf<4 in c:\\users\\hckj\\appdata\\roaming\\python\\python39\\site-packages (from open_clip_torch) (3.20.3)\n",
      "Requirement already satisfied: huggingface-hub in c:\\users\\hckj\\appdata\\roaming\\python\\python39\\site-packages (from open_clip_torch) (0.13.3)\n",
      "Requirement already satisfied: tqdm in d:\\anaconda3\\lib\\site-packages (from open_clip_torch) (4.64.1)\n",
      "Requirement already satisfied: sentencepiece in c:\\users\\hckj\\appdata\\roaming\\python\\python39\\site-packages (from open_clip_torch) (0.1.97)\n",
      "Requirement already satisfied: torchvision in c:\\users\\hckj\\appdata\\roaming\\python\\python39\\site-packages (from open_clip_torch) (0.15.1)\n",
      "Requirement already satisfied: torch>=1.9.0 in c:\\users\\hckj\\appdata\\roaming\\python\\python39\\site-packages (from open_clip_torch) (2.0.0)\n",
      "Requirement already satisfied: filelock in d:\\anaconda3\\lib\\site-packages (from torch>=1.9.0->open_clip_torch) (3.9.0)\n",
      "Requirement already satisfied: jinja2 in d:\\anaconda3\\lib\\site-packages (from torch>=1.9.0->open_clip_torch) (3.1.2)\n",
      "Requirement already satisfied: networkx in d:\\anaconda3\\lib\\site-packages (from torch>=1.9.0->open_clip_torch) (2.8.4)\n",
      "Requirement already satisfied: typing-extensions in d:\\anaconda3\\lib\\site-packages (from torch>=1.9.0->open_clip_torch) (4.4.0)\n",
      "Requirement already satisfied: sympy in d:\\anaconda3\\lib\\site-packages (from torch>=1.9.0->open_clip_torch) (1.11.1)\n",
      "Requirement already satisfied: wcwidth>=0.2.5 in d:\\anaconda3\\lib\\site-packages (from ftfy->open_clip_torch) (0.2.5)\n",
      "Requirement already satisfied: pyyaml>=5.1 in d:\\anaconda3\\lib\\site-packages (from huggingface-hub->open_clip_torch) (6.0)\n",
      "Requirement already satisfied: requests in d:\\anaconda3\\lib\\site-packages (from huggingface-hub->open_clip_torch) (2.28.1)\n",
      "Requirement already satisfied: packaging>=20.9 in d:\\anaconda3\\lib\\site-packages (from huggingface-hub->open_clip_torch) (22.0)\n",
      "Requirement already satisfied: colorama in d:\\anaconda3\\lib\\site-packages (from tqdm->open_clip_torch) (0.4.6)\n",
      "Requirement already satisfied: pillow!=8.3.*,>=5.3.0 in d:\\anaconda3\\lib\\site-packages (from torchvision->open_clip_torch) (9.3.0)\n",
      "Requirement already satisfied: numpy in d:\\anaconda3\\lib\\site-packages (from torchvision->open_clip_torch) (1.23.5)\n",
      "Requirement already satisfied: MarkupSafe>=2.0 in d:\\anaconda3\\lib\\site-packages (from jinja2->torch>=1.9.0->open_clip_torch) (2.1.1)\n",
      "Requirement already satisfied: idna<4,>=2.5 in d:\\anaconda3\\lib\\site-packages (from requests->huggingface-hub->open_clip_torch) (3.4)\n",
      "Requirement already satisfied: certifi>=2017.4.17 in d:\\anaconda3\\lib\\site-packages (from requests->huggingface-hub->open_clip_torch) (2022.12.7)\n",
      "Requirement already satisfied: charset-normalizer<3,>=2 in d:\\anaconda3\\lib\\site-packages (from requests->huggingface-hub->open_clip_torch) (2.0.4)\n",
      "Requirement already satisfied: urllib3<1.27,>=1.21.1 in d:\\anaconda3\\lib\\site-packages (from requests->huggingface-hub->open_clip_torch) (1.26.14)\n",
      "Requirement already satisfied: mpmath>=0.19 in d:\\anaconda3\\lib\\site-packages (from sympy->torch>=1.9.0->open_clip_torch) (1.2.1)\n",
      "\n",
      "Defaulting to user installation because normal site-packages is not writeable\r\n",
      "Requirement already satisfied: clip-interrogator in c:\\users\\hckj\\appdata\\roaming\\python\\python39\\site-packages (0.6.0)\r\n",
      "Requirement already satisfied: transformers>=4.27.1 in c:\\users\\hckj\\appdata\\roaming\\python\\python39\\site-packages (from clip-interrogator) (4.27.2)\r\n",
      "Requirement already satisfied: safetensors in c:\\users\\hckj\\appdata\\roaming\\python\\python39\\site-packages (from clip-interrogator) (0.3.0)\r\n",
      "Requirement already satisfied: tqdm in d:\\anaconda3\\lib\\site-packages (from clip-interrogator) (4.64.1)\r\n",
      "Requirement already satisfied: torch in c:\\users\\hckj\\appdata\\roaming\\python\\python39\\site-packages (from clip-interrogator) (2.0.0)\r\n",
      "Requirement already satisfied: torchvision in c:\\users\\hckj\\appdata\\roaming\\python\\python39\\site-packages (from clip-interrogator) (0.15.1)\r\n",
      "Requirement already satisfied: requests in d:\\anaconda3\\lib\\site-packages (from clip-interrogator) (2.28.1)\r\n",
      "Requirement already satisfied: open-clip-torch in c:\\users\\hckj\\appdata\\roaming\\python\\python39\\site-packages (from clip-interrogator) (2.16.0)\r\n",
      "Requirement already satisfied: accelerate in c:\\users\\hckj\\appdata\\roaming\\python\\python39\\site-packages (from clip-interrogator) (0.17.1)\r\n",
      "Requirement already satisfied: Pillow in d:\\anaconda3\\lib\\site-packages (from clip-interrogator) (9.3.0)\r\n",
      "Requirement already satisfied: regex!=2019.12.17 in d:\\anaconda3\\lib\\site-packages (from transformers>=4.27.1->clip-interrogator) (2022.7.9)\r\n",
      "Requirement already satisfied: numpy>=1.17 in d:\\anaconda3\\lib\\site-packages (from transformers>=4.27.1->clip-interrogator) (1.23.5)\r\n",
      "Requirement already satisfied: filelock in d:\\anaconda3\\lib\\site-packages (from transformers>=4.27.1->clip-interrogator) (3.9.0)\r\n",
      "Requirement already satisfied: huggingface-hub<1.0,>=0.11.0 in c:\\users\\hckj\\appdata\\roaming\\python\\python39\\site-packages (from transformers>=4.27.1->clip-interrogator) (0.13.3)\r\n",
      "Requirement already satisfied: pyyaml>=5.1 in d:\\anaconda3\\lib\\site-packages (from transformers>=4.27.1->clip-interrogator) (6.0)\r\n",
      "Requirement already satisfied: packaging>=20.0 in d:\\anaconda3\\lib\\site-packages (from transformers>=4.27.1->clip-interrogator) (22.0)\r\n",
      "Requirement already satisfied: tokenizers!=0.11.3,<0.14,>=0.11.1 in c:\\users\\hckj\\appdata\\roaming\\python\\python39\\site-packages (from transformers>=4.27.1->clip-interrogator) (0.13.2)\r\n",
      "Requirement already satisfied: colorama in d:\\anaconda3\\lib\\site-packages (from tqdm->clip-interrogator) (0.4.6)\r\n",
      "Requirement already satisfied: psutil in d:\\anaconda3\\lib\\site-packages (from accelerate->clip-interrogator) (5.9.0)\r\n",
      "Requirement already satisfied: jinja2 in d:\\anaconda3\\lib\\site-packages (from torch->clip-interrogator) (3.1.2)\r\n",
      "Requirement already satisfied: networkx in d:\\anaconda3\\lib\\site-packages (from torch->clip-interrogator) (2.8.4)\r\n",
      "Requirement already satisfied: sympy in d:\\anaconda3\\lib\\site-packages (from torch->clip-interrogator) (1.11.1)\r\n",
      "Requirement already satisfied: typing-extensions in d:\\anaconda3\\lib\\site-packages (from torch->clip-interrogator) (4.4.0)\r\n",
      "Requirement already satisfied: sentencepiece in c:\\users\\hckj\\appdata\\roaming\\python\\python39\\site-packages (from open-clip-torch->clip-interrogator) (0.1.97)\r\n",
      "Requirement already satisfied: timm in c:\\users\\hckj\\appdata\\roaming\\python\\python39\\site-packages (from open-clip-torch->clip-interrogator) (0.6.12)\r\n",
      "Requirement already satisfied: ftfy in c:\\users\\hckj\\appdata\\roaming\\python\\python39\\site-packages (from open-clip-torch->clip-interrogator) (6.1.1)\r\n",
      "Requirement already satisfied: protobuf<4 in c:\\users\\hckj\\appdata\\roaming\\python\\python39\\site-packages (from open-clip-torch->clip-interrogator) (3.20.3)\r\n",
      "Requirement already satisfied: urllib3<1.27,>=1.21.1 in d:\\anaconda3\\lib\\site-packages (from requests->clip-interrogator) (1.26.14)\r\n",
      "Requirement already satisfied: charset-normalizer<3,>=2 in d:\\anaconda3\\lib\\site-packages (from requests->clip-interrogator) (2.0.4)\r\n",
      "Requirement already satisfied: certifi>=2017.4.17 in d:\\anaconda3\\lib\\site-packages (from requests->clip-interrogator) (2022.12.7)\r\n",
      "Requirement already satisfied: idna<4,>=2.5 in d:\\anaconda3\\lib\\site-packages (from requests->clip-interrogator) (3.4)\r\n",
      "Requirement already satisfied: wcwidth>=0.2.5 in d:\\anaconda3\\lib\\site-packages (from ftfy->open-clip-torch->clip-interrogator) (0.2.5)\r\n",
      "Requirement already satisfied: MarkupSafe>=2.0 in d:\\anaconda3\\lib\\site-packages (from jinja2->torch->clip-interrogator) (2.1.1)\r\n",
      "Requirement already satisfied: mpmath>=0.19 in d:\\anaconda3\\lib\\site-packages (from sympy->torch->clip-interrogator) (1.2.1)\r\n",
      "\n"
     ]
    }
   ],
   "source": [
    "# 安装库，已经有库的可以不用运行\n",
    "def setup():\n",
    "    install_cmds = [\n",
    "        ['pip', 'install', 'gradio'],    # 安装 gradio 库\n",
    "        ['pip', 'install', 'open_clip_torch'],    # 安装 open_clip_torch 库\n",
    "        ['pip', 'install', 'clip-interrogator'],    # 安装 clip-interrogator 库\n",
    "    ]\n",
    "    # 遍历所有安装命令，并执行\n",
    "    for cmd in install_cmds:\n",
    "        print(subprocess.run(cmd, stdout=subprocess.PIPE).stdout.decode('utf-8'))\n",
    "\n",
    "# 调用函数以安装所需库\n",
    "setup()"
   ]
  },
  {
   "cell_type": "code",
   "execution_count": 3,
   "id": "8e48dc7b",
   "metadata": {},
   "outputs": [],
   "source": [
    "# 定义需要用到的 CLIP 和 caption 模型\n",
    "caption_model_name = 'blip-large' # @param [\"blip-base\", \"blip-large\", \"git-large-coco\"]\n",
    "clip_model_name = 'ViT-L-14/openai' # @param [\"ViT-L-14/openai\", \"ViT-H-14/laion2b_s32b_b79k\"]"
   ]
  },
  {
   "cell_type": "code",
   "execution_count": 4,
   "id": "5e3be109",
   "metadata": {},
   "outputs": [],
   "source": [
    "# 导入 Gradio 和 clip-interrogator 库\n",
    "import gradio as gr   # GUI库\n",
    "from clip_interrogator import Config, Interrogator"
   ]
  },
  {
   "cell_type": "code",
   "execution_count": 5,
   "id": "c2158485",
   "metadata": {},
   "outputs": [
    {
     "name": "stdout",
     "output_type": "stream",
     "text": [
      "Loading caption model blip-large...\n",
      "Loading CLIP model ViT-L-14/openai...\n",
      "Loaded CLIP model and data in 9.28 seconds.\n"
     ]
    }
   ],
   "source": [
    "# 配置 Interrogator\n",
    "config = Config()\n",
    "config.clip_model_name = clip_model_name\n",
    "config.caption_model_name = caption_model_name\n",
    "ci = Interrogator(config)"
   ]
  },
  {
   "cell_type": "code",
   "execution_count": 6,
   "id": "3dbc1d99",
   "metadata": {},
   "outputs": [],
   "source": [
    "# 对输入的图像进行分析\n",
    "def image_analysis(image):\n",
    "    image = image.convert('RGB')\n",
    "    # 将图像转换为特征向量\n",
    "    image_features = ci.image_to_features(image)\n",
    "    \n",
    "    # 获取与图像相似的前五个介质、艺术家、风格、流行趋势和口味\n",
    "    top_mediums = ci.mediums.rank(image_features, 5)\n",
    "    top_artists = ci.artists.rank(image_features, 5)\n",
    "    top_movements = ci.movements.rank(image_features, 5)\n",
    "    top_trendings = ci.trendings.rank(image_features, 5)\n",
    "    top_flavors = ci.flavors.rank(image_features, 5)\n",
    "\n",
    "    # 获取每个介质、艺术家、风格、流行趋势和口味的排名\n",
    "    medium_ranks = {medium: sim for medium, sim in zip(top_mediums, ci.similarities(image_features, top_mediums))}\n",
    "    artist_ranks = {artist: sim for artist, sim in zip(top_artists, ci.similarities(image_features, top_artists))}\n",
    "    movement_ranks = {movement: sim for movement, sim in zip(top_movements, ci.similarities(image_features, top_movements))}\n",
    "    trending_ranks = {trending: sim for trending, sim in zip(top_trendings, ci.similarities(image_features, top_trendings))}\n",
    "    flavor_ranks = {flavor: sim for flavor, sim in zip(top_flavors, ci.similarities(image_features, top_flavors))}\n",
    "    \n",
    "    return medium_ranks, artist_ranks, movement_ranks, trending_ranks, flavor_ranks"
   ]
  },
  {
   "cell_type": "code",
   "execution_count": 7,
   "id": "4a25d4ba",
   "metadata": {},
   "outputs": [],
   "source": [
    "# 将图像转换为提示文本\n",
    "def image_to_prompt(image, mode):\n",
    "    # 配置 Interrogator 的参数\n",
    "    ci.config.chunk_size = 2048 if ci.config.clip_model_name == \"ViT-L-14/openai\" else 1024\n",
    "    ci.config.flavor_intermediate_count = 2048 if ci.config.clip_model_name == \"ViT-L-14/openai\" else 1024\n",
    "    image = image.convert('RGB')\n",
    "    if mode == 'best':\n",
    "        return ci.interrogate(image)\n",
    "    elif mode == 'classic':\n",
    "        return ci.interrogate_classic(image)\n",
    "    elif mode == 'fast':\n",
    "        return ci.interrogate_fast(image)\n",
    "    elif mode == 'negative':\n",
    "        return ci.interrogate_negative(image)"
   ]
  },
  {
   "cell_type": "code",
   "execution_count": 8,
   "id": "78d66779",
   "metadata": {},
   "outputs": [],
   "source": [
    "# 避免没显卡的电脑报错\n",
    "import warnings\n",
    "warnings.filterwarnings(\"ignore\", message=\"User provided device_type of 'cuda', but CUDA is not available. Disabling\")"
   ]
  },
  {
   "cell_type": "markdown",
   "id": "4e3f6eb2",
   "metadata": {},
   "source": [
    "# 生成图片解析GUI"
   ]
  },
  {
   "cell_type": "code",
   "execution_count": 9,
   "id": "07abe2fc",
   "metadata": {
    "scrolled": false
   },
   "outputs": [
    {
     "name": "stdout",
     "output_type": "stream",
     "text": [
      "Running on local URL:  http://127.0.0.1:7860\n",
      "\n",
      "To create a public link, set `share=True` in `launch()`.\n"
     ]
    },
    {
     "data": {
      "text/html": [
       "<div><iframe src=\"http://127.0.0.1:7860/\" width=\"100%\" height=\"500\" allow=\"autoplay; camera; microphone; clipboard-read; clipboard-write;\" frameborder=\"0\" allowfullscreen></iframe></div>"
      ],
      "text/plain": [
       "<IPython.core.display.HTML object>"
      ]
     },
     "metadata": {},
     "output_type": "display_data"
    },
    {
     "data": {
      "text/plain": []
     },
     "execution_count": 9,
     "metadata": {},
     "output_type": "execute_result"
    },
    {
     "name": "stderr",
     "output_type": "stream",
     "text": [
      "100%|█| 6/6 [00:00<00:00, 12.03it/s]\n",
      "100%|█| 50/50 [00:01<00:00, 45.70it/\n"
     ]
    }
   ],
   "source": [
    "# 定义生成Prompt的函数\n",
    "def prompt_tab():\n",
    "    # 创建一个Column块\n",
    "    with gr.Column():\n",
    "        # 创建一个Row块\n",
    "        with gr.Row():\n",
    "            # 创建一个用于展示图像的Image控件\n",
    "            image = gr.Image(type='pil', label=\"Image\")\n",
    "            # 创建一个Column块\n",
    "            with gr.Column():\n",
    "                # 创建一个用于选择Prompt生成模式的Radio控件\n",
    "                mode = gr.Radio(['best', 'fast', 'classic', 'negative'], label='Mode', value='best')\n",
    "        # 创建一个用于输入Prompt的Textbox控件\n",
    "        prompt = gr.Textbox(label=\"Prompt\")\n",
    "    # 创建一个用于触发Prompt生成的Button控件\n",
    "    button = gr.Button(\"Generate prompt\")\n",
    "    # 绑定Button的点击事件，指定触发的函数为image_to_prompt，\n",
    "    # 并指定输入参数为image和mode，输出参数为prompt\n",
    "    button.click(image_to_prompt, inputs=[image, mode], outputs=prompt)\n",
    "\n",
    "# 定义图像分析的函数    \n",
    "def analyze_tab():\n",
    "    # 创建一个Column块\n",
    "    with gr.Column():\n",
    "        # 创建一个用于展示图像的Image控件\n",
    "        with gr.Row():\n",
    "            image = gr.Image(type='pil', label=\"Image\")\n",
    "        # 创建多个用于显示图像分析结果的Label控件\n",
    "        with gr.Row():\n",
    "            medium = gr.Label(label=\"Medium\", num_top_classes=5)\n",
    "            artist = gr.Label(label=\"Artist\", num_top_classes=5)        \n",
    "            movement = gr.Label(label=\"Movement\", num_top_classes=5)\n",
    "            trending = gr.Label(label=\"Trending\", num_top_classes=5)\n",
    "            flavor = gr.Label(label=\"Flavor\", num_top_classes=5)\n",
    "    # 创建一个用于触发图像分析的Button控件\n",
    "    button = gr.Button(\"Analyze\")\n",
    "    # 绑定Button的点击事件，指定触发的函数为image_analysis，\n",
    "    # 并指定输入参数为image，输出参数为medium、artist、movement、trending和flavor\n",
    "    button.click(image_analysis, inputs=image, outputs=[medium, artist, movement, trending, flavor])\n",
    "\n",
    "# 创建一个包含两个Tab的GUI界面    \n",
    "with gr.Blocks() as ui:\n",
    "    # 创建一个Tab，用于Prompt生成\n",
    "    with gr.Tab(\"Prompt\"):\n",
    "        prompt_tab()\n",
    "    # 创建一个Tab，用于图像分析\n",
    "    with gr.Tab(\"Analyze\"):\n",
    "        analyze_tab()\n",
    "\n",
    "# 启动GUI界面，show_api和debug参数分别控制是否显示API信息和是否开启调试模式\n",
    "ui.launch(show_api=False, debug=False)"
   ]
  },
  {
   "cell_type": "code",
   "execution_count": null,
   "id": "7b260aab",
   "metadata": {},
   "outputs": [],
   "source": []
  }
 ],
 "metadata": {
  "kernelspec": {
   "display_name": "Python 3 (ipykernel)",
   "language": "python",
   "name": "python3"
  },
  "language_info": {
   "codemirror_mode": {
    "name": "ipython",
    "version": 3
   },
   "file_extension": ".py",
   "mimetype": "text/x-python",
   "name": "python",
   "nbconvert_exporter": "python",
   "pygments_lexer": "ipython3",
   "version": "3.9.16"
  },
  "toc": {
   "base_numbering": 1,
   "nav_menu": {},
   "number_sections": true,
   "sideBar": true,
   "skip_h1_title": false,
   "title_cell": "Table of Contents",
   "title_sidebar": "Contents",
   "toc_cell": false,
   "toc_position": {},
   "toc_section_display": true,
   "toc_window_display": false
  }
 },
 "nbformat": 4,
 "nbformat_minor": 5
}
