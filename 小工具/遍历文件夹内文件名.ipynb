{
 "cells": [
  {
   "cell_type": "code",
   "execution_count": 1,
   "id": "a4c6bafd",
   "metadata": {},
   "outputs": [],
   "source": [
    "import os"
   ]
  },
  {
   "cell_type": "code",
   "execution_count": 2,
   "id": "8b27392f",
   "metadata": {},
   "outputs": [
    {
     "name": "stdout",
     "output_type": "stream",
     "text": [
      "文件名已保存到 file_names.txt。\n"
     ]
    }
   ],
   "source": [
    "def list_files_in_directory(directory):\n",
    "    # 检查目录是否存在\n",
    "    if not os.path.exists(directory):\n",
    "        print(f\"目录 '{directory}' 不存在。\")\n",
    "        return\n",
    "    \n",
    "    # 获取目录中的所有文件名\n",
    "    files = os.listdir(directory)\n",
    "    \n",
    "    # 构建文件路径，将文件名保存到遍历的文件夹内的file_names.txt文件中\n",
    "    file_names_path = os.path.join(directory, 'file_names.txt')\n",
    "    \n",
    "    # 将文件名写入本地文件\n",
    "    with open(file_names_path, 'w') as file:\n",
    "        for filename in files:\n",
    "            file.write(filename + '\\n')\n",
    "    \n",
    "    print(\"文件名已保存到 file_names.txt。\")\n",
    "\n",
    "# 指定要遍历的文件夹路径\n",
    "directory_path = r'C:\\Users\\HCKJ\\Desktop\\新建文件夹'\n",
    "\n",
    "# 调用函数列出文件夹中的所有文件名，并保存到本地文件夹中\n",
    "list_files_in_directory(directory_path)"
   ]
  },
  {
   "cell_type": "code",
   "execution_count": null,
   "id": "ee94959e",
   "metadata": {},
   "outputs": [],
   "source": []
  }
 ],
 "metadata": {
  "kernelspec": {
   "display_name": "Python 3 (ipykernel)",
   "language": "python",
   "name": "python3"
  },
  "language_info": {
   "codemirror_mode": {
    "name": "ipython",
    "version": 3
   },
   "file_extension": ".py",
   "mimetype": "text/x-python",
   "name": "python",
   "nbconvert_exporter": "python",
   "pygments_lexer": "ipython3",
   "version": "3.9.16"
  },
  "toc": {
   "base_numbering": 1,
   "nav_menu": {},
   "number_sections": true,
   "sideBar": true,
   "skip_h1_title": false,
   "title_cell": "Table of Contents",
   "title_sidebar": "Contents",
   "toc_cell": false,
   "toc_position": {},
   "toc_section_display": true,
   "toc_window_display": false
  }
 },
 "nbformat": 4,
 "nbformat_minor": 5
}
