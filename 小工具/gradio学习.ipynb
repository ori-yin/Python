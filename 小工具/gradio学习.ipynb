{
 "cells": [
  {
   "cell_type": "markdown",
   "id": "936712f0",
   "metadata": {},
   "source": [
    "# gradio"
   ]
  },
  {
   "cell_type": "markdown",
   "id": "95ac8a31",
   "metadata": {},
   "source": [
    "## hello world"
   ]
  },
  {
   "cell_type": "code",
   "execution_count": null,
   "id": "16b2a87b",
   "metadata": {},
   "outputs": [],
   "source": [
    "demo = gr.interface(fn = hello\n",
    "                   ,inputs = gr.textbox(lines=2,placeholder = 'name here ....')\n",
    "                   ,outputs ='text'\n",
    "                   ,titlte = \"hello world\")\n"
   ]
  },
  {
   "cell_type": "code",
   "execution_count": 1,
   "id": "c327e7b8",
   "metadata": {},
   "outputs": [],
   "source": [
    "import gradio as gr"
   ]
  },
  {
   "cell_type": "code",
   "execution_count": 2,
   "id": "d2d18308",
   "metadata": {},
   "outputs": [],
   "source": [
    "def hello(name):\n",
    "    return \"Hello \" + name + \" !\""
   ]
  },
  {
   "cell_type": "code",
   "execution_count": 3,
   "id": "456fc71b",
   "metadata": {},
   "outputs": [],
   "source": [
    "demo = gr.Interface(fn = hello\n",
    "                    ,inputs= gr.Textbox(lines=2, placeholder=\"Name Here...\")\n",
    "                    ,outputs=\"text\"\n",
    "                    ,title=\"hello world\")"
   ]
  },
  {
   "cell_type": "code",
   "execution_count": 4,
   "id": "ce7429c9",
   "metadata": {},
   "outputs": [
    {
     "name": "stdout",
     "output_type": "stream",
     "text": [
      "Running on local URL:  http://127.0.0.1:7860\n",
      "\n",
      "To create a public link, set `share=True` in `launch()`.\n"
     ]
    },
    {
     "data": {
      "text/html": [
       "<div><iframe src=\"http://127.0.0.1:7860/\" width=\"100%\" height=\"500\" allow=\"autoplay; camera; microphone; clipboard-read; clipboard-write;\" frameborder=\"0\" allowfullscreen></iframe></div>"
      ],
      "text/plain": [
       "<IPython.core.display.HTML object>"
      ]
     },
     "metadata": {},
     "output_type": "display_data"
    },
    {
     "data": {
      "text/plain": []
     },
     "execution_count": 4,
     "metadata": {},
     "output_type": "execute_result"
    }
   ],
   "source": [
    "demo.launch() # 括号内加share=True，可以分享给好友使用"
   ]
  },
  {
   "cell_type": "markdown",
   "id": "1e797b93",
   "metadata": {},
   "source": [
    "## 平方计算器"
   ]
  },
  {
   "cell_type": "code",
   "execution_count": 11,
   "id": "b1971fd6",
   "metadata": {},
   "outputs": [],
   "source": [
    "import gradio as gr"
   ]
  },
  {
   "cell_type": "code",
   "execution_count": 8,
   "id": "6b91f868",
   "metadata": {},
   "outputs": [],
   "source": [
    "def square(n):\n",
    "    return int(n) ** 2"
   ]
  },
  {
   "cell_type": "code",
   "execution_count": 16,
   "id": "9ceb8ec9",
   "metadata": {},
   "outputs": [],
   "source": [
    "demo2 = gr.Interface(fn = square\n",
    "                    ,inputs = 'number'\n",
    "                    ,outputs = 'number'\n",
    "                    ,title = '平方计算器')"
   ]
  },
  {
   "cell_type": "code",
   "execution_count": 17,
   "id": "4a6736a3",
   "metadata": {},
   "outputs": [
    {
     "name": "stdout",
     "output_type": "stream",
     "text": [
      "Running on local URL:  http://127.0.0.1:7861\n",
      "\n",
      "To create a public link, set `share=True` in `launch()`.\n"
     ]
    },
    {
     "data": {
      "text/html": [
       "<div><iframe src=\"http://127.0.0.1:7861/\" width=\"100%\" height=\"500\" allow=\"autoplay; camera; microphone; clipboard-read; clipboard-write;\" frameborder=\"0\" allowfullscreen></iframe></div>"
      ],
      "text/plain": [
       "<IPython.core.display.HTML object>"
      ]
     },
     "metadata": {},
     "output_type": "display_data"
    },
    {
     "data": {
      "text/plain": []
     },
     "execution_count": 17,
     "metadata": {},
     "output_type": "execute_result"
    }
   ],
   "source": [
    "demo2.launch()"
   ]
  },
  {
   "cell_type": "markdown",
   "id": "583e262a",
   "metadata": {},
   "source": [
    "## 词频统计"
   ]
  },
  {
   "cell_type": "markdown",
   "id": "27d49544",
   "metadata": {},
   "source": [
    "### 云端实时查看"
   ]
  },
  {
   "cell_type": "code",
   "execution_count": 62,
   "id": "259670a1",
   "metadata": {},
   "outputs": [],
   "source": [
    "# 导入所需的库\n",
    "import gradio as gr  # 用于创建交互式界面\n",
    "import jieba  # 中文分词库\n",
    "from collections import Counter  # 用于统计词频的库"
   ]
  },
  {
   "cell_type": "code",
   "execution_count": 63,
   "id": "2f2e977d",
   "metadata": {},
   "outputs": [],
   "source": [
    "# 定义词频统计的函数，该函数接收一个上传的文件\n",
    "def word_frequency_counter(file):\n",
    "    # 从上传的文件中读取文本内容，使用UTF-8编码\n",
    "    with open(file.name, 'r', encoding='utf-8') as f:\n",
    "        text = f.read()\n",
    "\n",
    "    # 使用jieba进行中文分词，返回一个词的列表\n",
    "    words = jieba.lcut(text)\n",
    "    \n",
    "    # 使用Counter统计词频，返回一个字典\n",
    "    word_counter = Counter(words)\n",
    "    \n",
    "    # 将词频结果格式化为字符串\n",
    "    result = \"\"\n",
    "    for word, count in word_counter.items():\n",
    "        result += f\"{word}: {count}\\n\"\n",
    "    \n",
    "    # 返回最终结果字符串\n",
    "    return result"
   ]
  },
  {
   "cell_type": "code",
   "execution_count": 64,
   "id": "6cbd6737",
   "metadata": {},
   "outputs": [],
   "source": [
    "# 创建Gradio界面，指定输入类型为文件上传，输出类型为文本\n",
    "iface = gr.Interface(\n",
    "    fn=word_frequency_counter,  # 指定处理函数为词频统计函数\n",
    "    inputs=\"file\",  # 指定输入类型为文件上传\n",
    "    outputs=\"text\",  # 指定输出类型为文本\n",
    "    live=True  # 实时更新界面\n",
    ")"
   ]
  },
  {
   "cell_type": "code",
   "execution_count": 65,
   "id": "1047c4db",
   "metadata": {},
   "outputs": [
    {
     "name": "stdout",
     "output_type": "stream",
     "text": [
      "Running on local URL:  http://127.0.0.1:7881\n",
      "\n",
      "To create a public link, set `share=True` in `launch()`.\n"
     ]
    },
    {
     "data": {
      "text/html": [
       "<div><iframe src=\"http://127.0.0.1:7881/\" width=\"100%\" height=\"500\" allow=\"autoplay; camera; microphone; clipboard-read; clipboard-write;\" frameborder=\"0\" allowfullscreen></iframe></div>"
      ],
      "text/plain": [
       "<IPython.core.display.HTML object>"
      ]
     },
     "metadata": {},
     "output_type": "display_data"
    },
    {
     "data": {
      "text/plain": []
     },
     "execution_count": 65,
     "metadata": {},
     "output_type": "execute_result"
    },
    {
     "name": "stderr",
     "output_type": "stream",
     "text": [
      "Traceback (most recent call last):\n",
      "  File \"C:\\Users\\HCKJ\\AppData\\Roaming\\Python\\Python39\\site-packages\\gradio\\routes.py\", line 394, in run_predict\n",
      "    output = await app.get_blocks().process_api(\n",
      "  File \"C:\\Users\\HCKJ\\AppData\\Roaming\\Python\\Python39\\site-packages\\gradio\\blocks.py\", line 1075, in process_api\n",
      "    result = await self.call_function(\n",
      "  File \"C:\\Users\\HCKJ\\AppData\\Roaming\\Python\\Python39\\site-packages\\gradio\\blocks.py\", line 884, in call_function\n",
      "    prediction = await anyio.to_thread.run_sync(\n",
      "  File \"D:\\Anaconda3\\lib\\site-packages\\anyio\\to_thread.py\", line 28, in run_sync\n",
      "    return await get_asynclib().run_sync_in_worker_thread(func, *args, cancellable=cancellable,\n",
      "  File \"D:\\Anaconda3\\lib\\site-packages\\anyio\\_backends\\_asyncio.py\", line 818, in run_sync_in_worker_thread\n",
      "    return await future\n",
      "  File \"D:\\Anaconda3\\lib\\site-packages\\anyio\\_backends\\_asyncio.py\", line 754, in run\n",
      "    result = context.run(func, *args)\n",
      "  File \"C:\\Users\\HCKJ\\AppData\\Local\\Temp\\ipykernel_8756\\3850614627.py\", line 4, in word_frequency_counter\n",
      "    with open(file.name, 'r', encoding='utf-8') as f:\n",
      "AttributeError: 'NoneType' object has no attribute 'name'\n"
     ]
    }
   ],
   "source": [
    "# 启动Gradio应用,并分享给其他人使用\n",
    "iface.launch()"
   ]
  },
  {
   "cell_type": "markdown",
   "id": "16ad840f",
   "metadata": {},
   "source": [
    "### 保存到本地"
   ]
  },
  {
   "cell_type": "code",
   "execution_count": null,
   "id": "f7b33c32",
   "metadata": {},
   "outputs": [],
   "source": [
    "import gradio as gr\n",
    "import jieba\n",
    "from collections import Counter\n",
    "import pandas as pd\n",
    "\n",
    "# 定义词频统计的函数，该函数接收一个上传的文件\n",
    "def word_frequency_counter(file):\n",
    "    # 从上传的文件中读取文本内容，使用UTF-8编码\n",
    "    with open(file.name, 'r', encoding='utf-8') as f:\n",
    "        text = f.read()\n",
    "\n",
    "    # 使用jieba进行中文分词，返回一个词的列表\n",
    "    words = jieba.lcut(text)\n",
    "    \n",
    "    # 使用Counter统计词频，返回一个字典\n",
    "    word_counter = Counter(words)\n",
    "    \n",
    "    # 将词频结果转换为DataFrame\n",
    "    df = pd.DataFrame(list(word_counter.items()), columns=['词语', '词频'])\n",
    "    \n",
    "    # 设置保存的路径为 C:\\Users\\HCKJ\\Desktop\n",
    "    desktop_path = r'C:\\Users\\HCKJ\\Desktop'\n",
    "    excel_file = desktop_path + '\\\\统计结果.xlsx'\n",
    "    \n",
    "    # 将DataFrame写入Excel文件\n",
    "    df.to_excel(excel_file, index=False)\n",
    "    \n",
    "    # 返回Excel文件名\n",
    "    return f\"统计结果已保存为Excel文件：{excel_file}\"\n",
    "\n",
    "# 创建Gradio界面，指定输入类型为文件上传，输出类型为文本\n",
    "iface = gr.Interface(\n",
    "    fn=word_frequency_counter,\n",
    "    inputs=\"file\",\n",
    "    outputs=\"text\",\n",
    "    live=True\n",
    ")\n",
    "\n",
    "# 启动Gradio应用\n",
    "iface.launch(share=True)"
   ]
  },
  {
   "cell_type": "markdown",
   "id": "7448a23a",
   "metadata": {},
   "source": [
    "## 多输入多输出"
   ]
  },
  {
   "cell_type": "code",
   "execution_count": 1,
   "id": "ff7c2323",
   "metadata": {},
   "outputs": [],
   "source": [
    "import gradio as gr"
   ]
  },
  {
   "cell_type": "code",
   "execution_count": null,
   "id": "be49e76e",
   "metadata": {},
   "outputs": [],
   "source": [
    "def multi(name,sunny,temperature):\n",
    "    salutation = \"Today is sunny day\" if sunny else \"Today is ranning day\"\n",
    "    getting = f{}"
   ]
  },
  {
   "cell_type": "markdown",
   "id": "2fa36212",
   "metadata": {},
   "source": []
  },
  {
   "cell_type": "markdown",
   "id": "6afca216",
   "metadata": {},
   "source": [
    "## 图像黑白处理"
   ]
  },
  {
   "cell_type": "code",
   "execution_count": 23,
   "id": "5c6519e3",
   "metadata": {},
   "outputs": [],
   "source": [
    "import numpy as np\n",
    "import gradio as gr"
   ]
  },
  {
   "cell_type": "code",
   "execution_count": 24,
   "id": "b3fed868",
   "metadata": {},
   "outputs": [],
   "source": [
    "def grayscale(input_img):\n",
    "\n",
    "    # 构建灰度滤波矩阵\n",
    "    grayscale_filter = np.array([\n",
    "        [0.2126, 0.7152, 0.0722],\n",
    "        [0.2126, 0.7152, 0.0722],\n",
    "        [0.2126, 0.7152, 0.0722]\n",
    "    ])\n",
    "    \n",
    "    # 和黑白效果类似,将滤波矩阵与原图相乘\n",
    "    grayscale_img = input_img.dot(grayscale_filter.T)  \n",
    "\n",
    "    # 归一化\n",
    "    grayscale_img /= grayscale_img.max() \n",
    "\n",
    "    return grayscale_img"
   ]
  },
  {
   "cell_type": "code",
   "execution_count": 25,
   "id": "d61ed00b",
   "metadata": {
    "collapsed": true
   },
   "outputs": [
    {
     "name": "stdout",
     "output_type": "stream",
     "text": [
      "Running on local URL:  http://127.0.0.1:7867\n",
      "\n",
      "To create a public link, set `share=True` in `launch()`.\n"
     ]
    },
    {
     "data": {
      "text/html": [
       "<div><iframe src=\"http://127.0.0.1:7867/\" width=\"100%\" height=\"500\" allow=\"autoplay; camera; microphone; clipboard-read; clipboard-write;\" frameborder=\"0\" allowfullscreen></iframe></div>"
      ],
      "text/plain": [
       "<IPython.core.display.HTML object>"
      ]
     },
     "metadata": {},
     "output_type": "display_data"
    },
    {
     "data": {
      "text/plain": []
     },
     "execution_count": 25,
     "metadata": {},
     "output_type": "execute_result"
    }
   ],
   "source": [
    "demo3 = gr.Interface(grayscale, gr.Image(shape=(200, 200)), \"image\")\n",
    "demo3.launch()"
   ]
  },
  {
   "cell_type": "markdown",
   "id": "7fc5f57d",
   "metadata": {},
   "source": [
    "## 四则运算计算器"
   ]
  },
  {
   "cell_type": "code",
   "execution_count": 29,
   "id": "5f53342f",
   "metadata": {},
   "outputs": [],
   "source": [
    "import gradio as gr"
   ]
  },
  {
   "cell_type": "code",
   "execution_count": 30,
   "id": "2cce502d",
   "metadata": {},
   "outputs": [],
   "source": [
    "#一个简单计算器，含实例说明\n",
    "def calculator(数字1, 运算, 数字2):\n",
    "    if 运算 == \"加\":\n",
    "        return 数字1 + 数字2\n",
    "    elif 运算 == \"减\":\n",
    "        return 数字1 - 数字2\n",
    "    elif 运算 == \"乘\":\n",
    "        return 数字1 * 数字2\n",
    "    elif 运算 == \"除\":\n",
    "        if 数字2 == 0:\n",
    "            # 设置报错弹窗\n",
    "            raise gr.Error(\"Cannot divide by zero!\")\n",
    "        return 数字1 / 数字2"
   ]
  },
  {
   "cell_type": "code",
   "execution_count": 33,
   "id": "68bd9b0e",
   "metadata": {
    "collapsed": true
   },
   "outputs": [
    {
     "name": "stdout",
     "output_type": "stream",
     "text": [
      "Running on local URL:  http://127.0.0.1:7872\n",
      "\n",
      "To create a public link, set `share=True` in `launch()`.\n"
     ]
    },
    {
     "data": {
      "text/html": [
       "<div><iframe src=\"http://127.0.0.1:7872/\" width=\"100%\" height=\"500\" allow=\"autoplay; camera; microphone; clipboard-read; clipboard-write;\" frameborder=\"0\" allowfullscreen></iframe></div>"
      ],
      "text/plain": [
       "<IPython.core.display.HTML object>"
      ]
     },
     "metadata": {},
     "output_type": "display_data"
    },
    {
     "data": {
      "text/plain": []
     },
     "execution_count": 33,
     "metadata": {},
     "output_type": "execute_result"
    }
   ],
   "source": [
    "demo4 = gr.Interface(\n",
    "    calculator,\n",
    "    # 设置输入\n",
    "    [\n",
    "        \"number\",\n",
    "        gr.Radio([\"加\", \"减\", \"乘\", \"除\"]),\n",
    "        \"number\"\n",
    "    ],\n",
    "    # 设置输出\n",
    "    \"number\",\n",
    "    # 设置输入参数示例\n",
    "    examples=[\n",
    "        [5, \"add\", 3],\n",
    "        [4, \"divide\", 2],\n",
    "        [-4, \"multiply\", 2.5],\n",
    "        [0, \"subtract\", 1.2],\n",
    "    ],\n",
    "    # 设置网页标题\n",
    "    title=\"四则运算\",\n",
    "    # 左上角的描述文字\n",
    "    description=\"这是基础功能计算器\",\n",
    "    # 左下角的文字\n",
    "    article = \"查看示例\",\n",
    ")\n",
    "demo4.launch()"
   ]
  },
  {
   "cell_type": "markdown",
   "id": "012c610c",
   "metadata": {},
   "source": [
    "## XX功能"
   ]
  },
  {
   "cell_type": "code",
   "execution_count": null,
   "id": "bfc9ce15",
   "metadata": {},
   "outputs": [],
   "source": []
  },
  {
   "cell_type": "markdown",
   "id": "6587883d",
   "metadata": {},
   "source": [
    "## XX功能"
   ]
  },
  {
   "cell_type": "markdown",
   "id": "001a37cd",
   "metadata": {},
   "source": [
    "## XX功能"
   ]
  },
  {
   "cell_type": "markdown",
   "id": "4a5e704a",
   "metadata": {},
   "source": [
    "## XX功能"
   ]
  },
  {
   "cell_type": "markdown",
   "id": "7fc74334",
   "metadata": {},
   "source": [
    "## XX功能"
   ]
  },
  {
   "cell_type": "markdown",
   "id": "57b3c40d",
   "metadata": {},
   "source": [
    "## 其他"
   ]
  },
  {
   "cell_type": "markdown",
   "id": "f35b65f2",
   "metadata": {},
   "source": [
    "gr.close_all():关闭所有正在运行的Gradio服务"
   ]
  },
  {
   "cell_type": "code",
   "execution_count": null,
   "id": "5f9a0a68",
   "metadata": {},
   "outputs": [],
   "source": []
  }
 ],
 "metadata": {
  "kernelspec": {
   "display_name": "Python 3 (ipykernel)",
   "language": "python",
   "name": "python3"
  },
  "language_info": {
   "codemirror_mode": {
    "name": "ipython",
    "version": 3
   },
   "file_extension": ".py",
   "mimetype": "text/x-python",
   "name": "python",
   "nbconvert_exporter": "python",
   "pygments_lexer": "ipython3",
   "version": "3.9.16"
  },
  "toc": {
   "base_numbering": 1,
   "nav_menu": {},
   "number_sections": true,
   "sideBar": true,
   "skip_h1_title": false,
   "title_cell": "Table of Contents",
   "title_sidebar": "Contents",
   "toc_cell": false,
   "toc_position": {
    "height": "calc(100% - 180px)",
    "left": "10px",
    "top": "150px",
    "width": "406.225px"
   },
   "toc_section_display": true,
   "toc_window_display": true
  }
 },
 "nbformat": 4,
 "nbformat_minor": 5
}
